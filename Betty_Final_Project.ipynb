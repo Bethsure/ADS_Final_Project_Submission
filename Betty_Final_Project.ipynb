{
 "cells": [
  {
   "cell_type": "markdown",
   "id": "ba8a3e72",
   "metadata": {},
   "source": [
    "##### Table of Contents\n",
    " 1. Introduction to Telecommunication Towers\n",
    " * Definition of a Telecommunication Tower\n",
    " * Types of Telecommunication Towers\n",
    " 2. ATC Kenya Sole Business\n",
    " * Site Acquisition\n",
    " * Leasing\n",
    " * Rent Payment\n",
    " * Permitting\n",
    " * Construction of the Telecommunication Tower and Maintenance\n",
    " \n",
    " 3. Benefits of hosting Telecommunication Towers on one's Property\n",
    " 4. Primary Focus of My Project\n",
    " 5. Data Exploration and Analysis\n",
    " 6. Conclusion\n",
    " 7. References"
   ]
  },
  {
   "cell_type": "markdown",
   "id": "36e43dd3",
   "metadata": {},
   "source": [
    "## 1. Introduction to Telecommunication Towers\n",
    "\n",
    "### * Definition of a Telecommunication Tower\n",
    "\n",
    "Telecommunication towers are crucial infrastructure for the modern world.\n",
    "They provide the necessary infrastructure for wireless communication, which has become an integral part of our daily lives.\n",
    "In Kenya, the use of telecommunication towers has increased rapidly in recent years, with the growth of mobile phone usage and other wireless communication technologies.\n",
    "This has resulted in the growth of companies which majorly specialize in construction and maintenance of telecommunication towers among them American Tower Corporation (ATC) Kenya."
   ]
  },
  {
   "cell_type": "markdown",
   "id": "7549d39a",
   "metadata": {},
   "source": [
    "### * Types of Telecommunication Towers\n",
    " \n",
    " These are most common types of Telecommunication masts:\n",
    " * Greenfield_Just as the name suggests, they are built from the ground. Normally occupy a space of 12m * 12m (144 sq. metres)\n",
    " * Rooftops-Are constructed on the rooftops of buildings. This is normally due to space constraints. Normally occupy a space of 6m * 6m (36 sq. meters)\n",
    " * Wallmounts- Are mounted on the walls of buildings to enhance network connectivity.\n",
    " * IBS (In-Building-Solutions)-Are installed in buildings to enhance network connectivity within the building itself. This normally applies to tall buildings."
   ]
  },
  {
   "cell_type": "markdown",
   "id": "ae47ec10",
   "metadata": {},
   "source": [
    "## 2.  ATC Kenya Sole Business\n",
    "\n",
    "\n",
    "ATC Kenya is a telecommunication company that specializes in construction and maintenance of telecommunication towers in Kenya. The towers support the networks of a wide range of customers such as Safaricom, Airtel, Telkom among others helping them increase their coverage and capacity.\n",
    "For ATC Kenya to construct a Telecommunication mast, there are various processes that have to take place:\n",
    "* Site Acquisition\n",
    "* Leasing\n",
    "* Permitting\n",
    "* Rent Payment\n",
    "* Construction of the Telecommunication Tower and Maintenance  "
   ]
  },
  {
   "cell_type": "markdown",
   "id": "3e206231",
   "metadata": {},
   "source": [
    "* a) Site Acquisition\n",
    "\n",
    "In this stage, the company identifies the best location of the telecommunication tower by use of other available towers in the regions. Basically, how the towers will communicate with each other thus improving network coverage in the process.\n",
    "A site acquisition agent is deployed to the ground with co-ordinates of the best possible location commonly referred to as the Nominal to analyze the location and communicate with the land owner commonly referred to as the Landlord.\n",
    "The discussion is normally centered around the space that the tower will occupy and the amount of compensation that the Landlord will receive in return for that space. The compensation in form of money (rent) is done on an annual basis."
   ]
  },
  {
   "cell_type": "markdown",
   "id": "06f3ff4c",
   "metadata": {},
   "source": [
    "b) Leasing\n",
    "\n",
    "After the acquisition stage is complete and the Landlord is agreeble to the terms of the company including the Rent and Space to be leased out, the terms are encompassed in a document known as a Lease, stating the terms and conditions of the contract.\n",
    "The terms normally include the space leased which is commonly 144 square meters for greenfields and 36 square meters for rooftops, the term of the lease in years and the amount to be paid to the Landlord annually.\n",
    "\n",
    "The Lease is executed by both parties (Landlord and the Company) before payments are made to the Landlord.\n",
    "\n",
    "ATC Kenya leases enters into lease agreements with landowners popularly known as Landlords for a period of time ranging from ten (10) to (15) years. A lease agreement specifies the terms of the contract among them the compensation in terms of money hence the development of the rent schedule which clearly spells out the lease term and money to be paid per annum."
   ]
  },
  {
   "cell_type": "markdown",
   "id": "50435e85",
   "metadata": {},
   "source": [
    "c) Rent Payment\n",
    "\n",
    "After rent has been paid to the Landlord, he/she can then surrender the leased space to the company for tower construction"
   ]
  },
  {
   "cell_type": "markdown",
   "id": "35289234",
   "metadata": {},
   "source": [
    "d) Permitting\n",
    "\n",
    "After the Landlord has surrendered their land to the company, the company seeks for various permits which include:\n",
    "\n",
    "  * Kenya Civil Aviation Approval (KCAA)- The KCAA permits states the allowable height of the telecommunication mast\n",
    "    \n",
    "  * National Environment Management Authority( NEMA)-NEMA Permit-Is issued in form of an Environmental Impact Assessment (EIA) License. An analysis is done by environmental experts before issuance of the license and issue the document outlining the conditions that have to be met when construction the telecommunication mast.\n",
    "    \n",
    " * Planning Permit-Physical Planners assess the proposed development based on the allowable land uses and if satisfactory, issue an approval in form of a PLUPA 2(Physical and Land Use Planning Act Form No. 2)."
   ]
  },
  {
   "cell_type": "markdown",
   "id": "7c01ee44",
   "metadata": {},
   "source": [
    "e) Construction of the Telecommunication Tower and Maintenance\n",
    "\n",
    "This is the final stage and involves the actual construction of the telecommunication tower, installation of customer equipment and maintenance on a need to need basis."
   ]
  },
  {
   "cell_type": "markdown",
   "id": "a70ccbbd",
   "metadata": {},
   "source": [
    "## 3. Benefits of hosting Telecommunication Towers on one's Property\n",
    "\n",
    "Hosting a telecommunication tower on one's property can offer many benefits including;\n",
    "\n",
    "a) Financial Rewards-One of the primary benefits of hosting a telecommunication tower is the financial rewards. Telecommunication companies are constantly looking for suitable locations to erect their towers, and they are often willing to pay property owners for the use of their land. The amount paid varies based on the size of the tower, location, and the terms of the agreement.\n",
    "\n",
    "b) Improved Mobile Network Coverage-Another benefit of hosting a telecommunication tower is that it can improve mobile network coverage in the surrounding area. Telecommunication companies are always looking to expand their coverage, and by hosting their tower on your property, you can help them achieve this goal. This can be particularly beneficial in rural areas where mobile network coverage can be limited. By improving network coverage, you can also attract more people to your area, thereby increasing the potential value of your property.\n",
    "\n",
    "c) Enhanced Connectivity-Hosting a telecommunication tower can also enhance connectivity in the surrounding area. With better network coverage, people in the area can access the internet more easily, making it easier for them to connect with each other and the rest of the world. This can be particularly beneficial for businesses in the area, as they can use the improved connectivity to expand their operations and reach new customers.\n",
    "\n",
    "In conclusion, hosting a telecommunication tower on your property can offer many benefits. Financial rewards, improved mobile network coverage, and enhanced connectivity are just a few of the benefits that come with hosting a telecommunication tower. If you have land in a strategic location, it may be worth considering offering it to a telecommunication company for the erection of a tower. However, it is important to ensure that you have a clear understanding of the terms of the agreement, including the rental cost, maintenance responsibilities, and liability issues.\n"
   ]
  },
  {
   "cell_type": "markdown",
   "id": "4f5ec795",
   "metadata": {},
   "source": [
    " ## 4. Primary Focus of My Project\n",
    " \n",
    " * One of the most sought after benefits of hosting a telecommunication tower on one's property is Financial Rewards.\n",
    " * Hence, my project primarily focuses on analysis of the location of the towers versus the amount of rent paid in terms of compensation. This will lead to development of a rent band that will guide future developments.\n",
    " * Further, this will demsytify claims of unfair compensation from various parties."
   ]
  },
  {
   "cell_type": "markdown",
   "id": "089e5503",
   "metadata": {},
   "source": [
    " ## 5. Data Exploration and Analysis"
   ]
  },
  {
   "cell_type": "code",
   "execution_count": 5,
   "id": "ab48a7aa",
   "metadata": {},
   "outputs": [
    {
     "name": "stdout",
     "output_type": "stream",
     "text": [
      "Requirement already satisfied: pandas in c:\\users\\betty.ogato\\.conda\\lib\\site-packages (1.5.3)\n",
      "Requirement already satisfied: numpy>=1.21.0 in c:\\users\\betty.ogato\\.conda\\lib\\site-packages (from pandas) (1.23.5)\n",
      "Requirement already satisfied: pytz>=2020.1 in c:\\users\\betty.ogato\\.conda\\lib\\site-packages (from pandas) (2022.7)\n",
      "Requirement already satisfied: python-dateutil>=2.8.1 in c:\\users\\betty.ogato\\.conda\\lib\\site-packages (from pandas) (2.8.2)\n",
      "Requirement already satisfied: six>=1.5 in c:\\users\\betty.ogato\\.conda\\lib\\site-packages (from python-dateutil>=2.8.1->pandas) (1.16.0)\n",
      "Could not fetch URL https://pypi.org/simple/pip/: There was a problem confirming the ssl certificate: HTTPSConnectionPool(host='pypi.org', port=443): Max retries exceeded with url: /simple/pip/ (Caused by SSLError(SSLCertVerificationError(1, '[SSL: CERTIFICATE_VERIFY_FAILED] certificate verify failed: unable to get local issuer certificate (_ssl.c:997)'))) - skipping\n"
     ]
    },
    {
     "name": "stderr",
     "output_type": "stream",
     "text": [
      "WARNING: There was an error checking the latest version of pip.\n"
     ]
    }
   ],
   "source": [
    "! pip install pandas"
   ]
  },
  {
   "cell_type": "markdown",
   "id": "d76b4f9c",
   "metadata": {},
   "source": [
    "* Importing Data from the file path to Jupyter in the format that the data was saved in"
   ]
  },
  {
   "cell_type": "code",
   "execution_count": 3,
   "id": "66861455",
   "metadata": {},
   "outputs": [],
   "source": [
    "import pandas as pd\n",
    "file_path = 'C:/Users/Betty.Ogato/OneDrive - American Tower/Betsy/Betty Ogato Files/Betsy Personal Work/Data Science Course/My_Final_Project.csv'"
   ]
  },
  {
   "cell_type": "code",
   "execution_count": 4,
   "id": "9e6ade95",
   "metadata": {},
   "outputs": [
    {
     "data": {
      "text/html": [
       "<div>\n",
       "<style scoped>\n",
       "    .dataframe tbody tr th:only-of-type {\n",
       "        vertical-align: middle;\n",
       "    }\n",
       "\n",
       "    .dataframe tbody tr th {\n",
       "        vertical-align: top;\n",
       "    }\n",
       "\n",
       "    .dataframe thead th {\n",
       "        text-align: right;\n",
       "    }\n",
       "</style>\n",
       "<table border=\"1\" class=\"dataframe\">\n",
       "  <thead>\n",
       "    <tr style=\"text-align: right;\">\n",
       "      <th></th>\n",
       "      <th>ATC ID</th>\n",
       "      <th>Site Name</th>\n",
       "      <th>Initial Rent</th>\n",
       "      <th>Latitude</th>\n",
       "      <th>Longitude</th>\n",
       "      <th>City</th>\n",
       "      <th>County</th>\n",
       "      <th>Street</th>\n",
       "    </tr>\n",
       "  </thead>\n",
       "  <tbody>\n",
       "    <tr>\n",
       "      <th>0</th>\n",
       "      <td>618001</td>\n",
       "      <td>Bungoma Stadium</td>\n",
       "      <td>120000.0</td>\n",
       "      <td>0.591345</td>\n",
       "      <td>34.552905</td>\n",
       "      <td>Bungoma</td>\n",
       "      <td>Bungoma</td>\n",
       "      <td>Mumias - Bungoma Rd</td>\n",
       "    </tr>\n",
       "    <tr>\n",
       "      <th>1</th>\n",
       "      <td>618002</td>\n",
       "      <td>Bungoma South</td>\n",
       "      <td>200000.0</td>\n",
       "      <td>0.558877</td>\n",
       "      <td>34.560273</td>\n",
       "      <td>Bungoma</td>\n",
       "      <td>Bungoma</td>\n",
       "      <td>Mumias - Bungoma Rd</td>\n",
       "    </tr>\n",
       "    <tr>\n",
       "      <th>2</th>\n",
       "      <td>618003</td>\n",
       "      <td>Busia Lwero</td>\n",
       "      <td>100000.0</td>\n",
       "      <td>0.459231</td>\n",
       "      <td>34.117860</td>\n",
       "      <td>Busia</td>\n",
       "      <td>Busia</td>\n",
       "      <td>Kisumu - Busia Rd</td>\n",
       "    </tr>\n",
       "    <tr>\n",
       "      <th>3</th>\n",
       "      <td>618004</td>\n",
       "      <td>Leisure Lodge</td>\n",
       "      <td>469003.0</td>\n",
       "      <td>-4.278270</td>\n",
       "      <td>39.590513</td>\n",
       "      <td>Mombasa</td>\n",
       "      <td>Mombasa</td>\n",
       "      <td>Diani Beach Road</td>\n",
       "    </tr>\n",
       "    <tr>\n",
       "      <th>4</th>\n",
       "      <td>618005</td>\n",
       "      <td>Diani Exchange</td>\n",
       "      <td>173522.0</td>\n",
       "      <td>-4.303082</td>\n",
       "      <td>39.579153</td>\n",
       "      <td>Mombasa</td>\n",
       "      <td>Mombasa</td>\n",
       "      <td>Diani Beach Road</td>\n",
       "    </tr>\n",
       "    <tr>\n",
       "      <th>...</th>\n",
       "      <td>...</td>\n",
       "      <td>...</td>\n",
       "      <td>...</td>\n",
       "      <td>...</td>\n",
       "      <td>...</td>\n",
       "      <td>...</td>\n",
       "      <td>...</td>\n",
       "      <td>...</td>\n",
       "    </tr>\n",
       "    <tr>\n",
       "      <th>3054</th>\n",
       "      <td>621988</td>\n",
       "      <td>Chemalal Farm-Moi Barracks</td>\n",
       "      <td>150000.0</td>\n",
       "      <td>0.644100</td>\n",
       "      <td>35.167910</td>\n",
       "      <td>NaN</td>\n",
       "      <td>Uasin Gishu</td>\n",
       "      <td>Eldoret-Kitale Road</td>\n",
       "    </tr>\n",
       "    <tr>\n",
       "      <th>3055</th>\n",
       "      <td>621996</td>\n",
       "      <td>MAUA Shopping Centre</td>\n",
       "      <td>250000.0</td>\n",
       "      <td>0.230040</td>\n",
       "      <td>37.940950</td>\n",
       "      <td>Maua</td>\n",
       "      <td>Meru</td>\n",
       "      <td>Meru-Maua Road</td>\n",
       "    </tr>\n",
       "    <tr>\n",
       "      <th>3056</th>\n",
       "      <td>622015</td>\n",
       "      <td>Malindi Majivuni</td>\n",
       "      <td>600000.0</td>\n",
       "      <td>-3.202510</td>\n",
       "      <td>40.098720</td>\n",
       "      <td>Malindi</td>\n",
       "      <td>Kilifi</td>\n",
       "      <td>Mombasa-Malindi Road</td>\n",
       "    </tr>\n",
       "    <tr>\n",
       "      <th>3057</th>\n",
       "      <td>622043</td>\n",
       "      <td>Eastleigh_Captain_Mungai Relocation</td>\n",
       "      <td>2522000.0</td>\n",
       "      <td>-1.271730</td>\n",
       "      <td>36.847818</td>\n",
       "      <td>Nairobi</td>\n",
       "      <td>Nairobi</td>\n",
       "      <td>Captain Mungai Street, Eastleigh</td>\n",
       "    </tr>\n",
       "    <tr>\n",
       "      <th>3058</th>\n",
       "      <td>622105</td>\n",
       "      <td>Likoni Vyemani</td>\n",
       "      <td>750000.0</td>\n",
       "      <td>-4.099350</td>\n",
       "      <td>39.636470</td>\n",
       "      <td>Mombasa</td>\n",
       "      <td>Kwale</td>\n",
       "      <td>Likoni-Ukunda Road</td>\n",
       "    </tr>\n",
       "  </tbody>\n",
       "</table>\n",
       "<p>3059 rows × 8 columns</p>\n",
       "</div>"
      ],
      "text/plain": [
       "      ATC ID                            Site Name  Initial Rent  Latitude  \\\n",
       "0     618001                      Bungoma Stadium      120000.0  0.591345   \n",
       "1     618002                        Bungoma South      200000.0  0.558877   \n",
       "2     618003                          Busia Lwero      100000.0  0.459231   \n",
       "3     618004                        Leisure Lodge      469003.0 -4.278270   \n",
       "4     618005                       Diani Exchange      173522.0 -4.303082   \n",
       "...      ...                                  ...           ...       ...   \n",
       "3054  621988       Chemalal Farm-Moi Barracks          150000.0  0.644100   \n",
       "3055  621996                 MAUA Shopping Centre      250000.0  0.230040   \n",
       "3056  622015                     Malindi Majivuni      600000.0 -3.202510   \n",
       "3057  622043  Eastleigh_Captain_Mungai Relocation     2522000.0 -1.271730   \n",
       "3058  622105                   Likoni Vyemani          750000.0 -4.099350   \n",
       "\n",
       "      Longitude     City       County                            Street  \n",
       "0     34.552905  Bungoma      Bungoma               Mumias - Bungoma Rd  \n",
       "1     34.560273  Bungoma      Bungoma               Mumias - Bungoma Rd  \n",
       "2     34.117860    Busia        Busia                 Kisumu - Busia Rd  \n",
       "3     39.590513  Mombasa      Mombasa                  Diani Beach Road  \n",
       "4     39.579153  Mombasa      Mombasa                  Diani Beach Road  \n",
       "...         ...      ...          ...                               ...  \n",
       "3054  35.167910      NaN  Uasin Gishu               Eldoret-Kitale Road  \n",
       "3055  37.940950     Maua         Meru                    Meru-Maua Road  \n",
       "3056  40.098720  Malindi       Kilifi              Mombasa-Malindi Road  \n",
       "3057  36.847818  Nairobi      Nairobi  Captain Mungai Street, Eastleigh  \n",
       "3058  39.636470  Mombasa        Kwale                Likoni-Ukunda Road  \n",
       "\n",
       "[3059 rows x 8 columns]"
      ]
     },
     "execution_count": 4,
     "metadata": {},
     "output_type": "execute_result"
    }
   ],
   "source": [
    "df = pd.read_csv(file_path)\n",
    "df"
   ]
  },
  {
   "cell_type": "markdown",
   "id": "48174e58",
   "metadata": {},
   "source": [
    "* ATC ID is a unique identifiable number which the company (ATC) uses to identify its sites. For instance, when I refer to 618001, one know that I am automatically referring to a site called Bungoma Stadium\n",
    "* Site Name is the name that the company allocates a site depending on where it is located geographically. The nearest landmark is often used to allocate the site name.\n",
    "* Initial Rent is the rent that the Landlord was offered at the beginning of the lease. Oftenly, the rent is subject to an escalation dependent on the location and land value.\n",
    "* Latitude and Longitude are the co-ordinates of the specific location where the telecommunication tower is located.\n",
    "* City refers to the nearest city from the telecommunication tower.\n",
    "* County is the specific county where the telecommunication mast is located and where permits are sought from.\n",
    "* Street is the nearest road that is used to access the etelecommunication mast."
   ]
  },
  {
   "cell_type": "markdown",
   "id": "950e8654",
   "metadata": {},
   "source": [
    "* To display the first 50 rows we use the following code:\n",
    "df.head (50)"
   ]
  },
  {
   "cell_type": "code",
   "execution_count": 55,
   "id": "58bf05d6",
   "metadata": {},
   "outputs": [
    {
     "data": {
      "text/html": [
       "<div>\n",
       "<style scoped>\n",
       "    .dataframe tbody tr th:only-of-type {\n",
       "        vertical-align: middle;\n",
       "    }\n",
       "\n",
       "    .dataframe tbody tr th {\n",
       "        vertical-align: top;\n",
       "    }\n",
       "\n",
       "    .dataframe thead th {\n",
       "        text-align: right;\n",
       "    }\n",
       "</style>\n",
       "<table border=\"1\" class=\"dataframe\">\n",
       "  <thead>\n",
       "    <tr style=\"text-align: right;\">\n",
       "      <th></th>\n",
       "      <th>ATC ID</th>\n",
       "      <th>Site Name</th>\n",
       "      <th>Initial Rent</th>\n",
       "      <th>Latitude</th>\n",
       "      <th>Longitude</th>\n",
       "      <th>City</th>\n",
       "      <th>County</th>\n",
       "      <th>Street</th>\n",
       "    </tr>\n",
       "  </thead>\n",
       "  <tbody>\n",
       "    <tr>\n",
       "      <th>0</th>\n",
       "      <td>618001</td>\n",
       "      <td>Bungoma Stadium</td>\n",
       "      <td>120000.0</td>\n",
       "      <td>0.591345</td>\n",
       "      <td>34.552905</td>\n",
       "      <td>Bungoma</td>\n",
       "      <td>Bungoma</td>\n",
       "      <td>Mumias - Bungoma Rd</td>\n",
       "    </tr>\n",
       "    <tr>\n",
       "      <th>1</th>\n",
       "      <td>618002</td>\n",
       "      <td>Bungoma South</td>\n",
       "      <td>200000.0</td>\n",
       "      <td>0.558877</td>\n",
       "      <td>34.560273</td>\n",
       "      <td>Bungoma</td>\n",
       "      <td>Bungoma</td>\n",
       "      <td>Mumias - Bungoma Rd</td>\n",
       "    </tr>\n",
       "    <tr>\n",
       "      <th>2</th>\n",
       "      <td>618003</td>\n",
       "      <td>Busia Lwero</td>\n",
       "      <td>100000.0</td>\n",
       "      <td>0.459231</td>\n",
       "      <td>34.117860</td>\n",
       "      <td>Busia</td>\n",
       "      <td>Busia</td>\n",
       "      <td>Kisumu - Busia Rd</td>\n",
       "    </tr>\n",
       "    <tr>\n",
       "      <th>3</th>\n",
       "      <td>618004</td>\n",
       "      <td>Leisure Lodge</td>\n",
       "      <td>469003.0</td>\n",
       "      <td>-4.278270</td>\n",
       "      <td>39.590513</td>\n",
       "      <td>Mombasa</td>\n",
       "      <td>Mombasa</td>\n",
       "      <td>Diani Beach Road</td>\n",
       "    </tr>\n",
       "    <tr>\n",
       "      <th>4</th>\n",
       "      <td>618005</td>\n",
       "      <td>Diani Exchange</td>\n",
       "      <td>173522.0</td>\n",
       "      <td>-4.303082</td>\n",
       "      <td>39.579153</td>\n",
       "      <td>Mombasa</td>\n",
       "      <td>Mombasa</td>\n",
       "      <td>Diani Beach Road</td>\n",
       "    </tr>\n",
       "    <tr>\n",
       "      <th>5</th>\n",
       "      <td>618006</td>\n",
       "      <td>Msambweni Exc</td>\n",
       "      <td>173522.0</td>\n",
       "      <td>-4.479872</td>\n",
       "      <td>39.482115</td>\n",
       "      <td>Msambweni</td>\n",
       "      <td>Kwale</td>\n",
       "      <td>Off Ukunda-Ramisi Road</td>\n",
       "    </tr>\n",
       "    <tr>\n",
       "      <th>6</th>\n",
       "      <td>618007</td>\n",
       "      <td>Lunga Lunga Eackelberg</td>\n",
       "      <td>120000.0</td>\n",
       "      <td>-4.559700</td>\n",
       "      <td>39.129315</td>\n",
       "      <td>Lunga Lunga</td>\n",
       "      <td>Kwale</td>\n",
       "      <td>Lungalunga-Mtandikeni Rd</td>\n",
       "    </tr>\n",
       "    <tr>\n",
       "      <th>7</th>\n",
       "      <td>618008</td>\n",
       "      <td>Reef Hotel</td>\n",
       "      <td>744638.0</td>\n",
       "      <td>-4.271608</td>\n",
       "      <td>39.594932</td>\n",
       "      <td>Diani</td>\n",
       "      <td>Kwale</td>\n",
       "      <td>Diani Beach Road</td>\n",
       "    </tr>\n",
       "    <tr>\n",
       "      <th>8</th>\n",
       "      <td>618009</td>\n",
       "      <td>Diani Sea Resort</td>\n",
       "      <td>300000.0</td>\n",
       "      <td>-4.315773</td>\n",
       "      <td>39.573173</td>\n",
       "      <td>Diani</td>\n",
       "      <td>Kwale</td>\n",
       "      <td>80401 Diani Beach Road</td>\n",
       "    </tr>\n",
       "    <tr>\n",
       "      <th>9</th>\n",
       "      <td>618010</td>\n",
       "      <td>Leisure Lodge2</td>\n",
       "      <td>570113.0</td>\n",
       "      <td>-4.281229</td>\n",
       "      <td>39.591964</td>\n",
       "      <td>Mombasa</td>\n",
       "      <td>Mombasa</td>\n",
       "      <td>Diani Beach Road</td>\n",
       "    </tr>\n",
       "    <tr>\n",
       "      <th>10</th>\n",
       "      <td>618011</td>\n",
       "      <td>Embu</td>\n",
       "      <td>175713.0</td>\n",
       "      <td>-0.534481</td>\n",
       "      <td>37.450065</td>\n",
       "      <td>Embu</td>\n",
       "      <td>Embu</td>\n",
       "      <td>Meru - Nairobi Hwy</td>\n",
       "    </tr>\n",
       "    <tr>\n",
       "      <th>11</th>\n",
       "      <td>618012</td>\n",
       "      <td>Kamugere</td>\n",
       "      <td>175713.0</td>\n",
       "      <td>-0.420284</td>\n",
       "      <td>37.524577</td>\n",
       "      <td>Kamugere</td>\n",
       "      <td>Nyeri</td>\n",
       "      <td>Unnamed Road</td>\n",
       "    </tr>\n",
       "    <tr>\n",
       "      <th>12</th>\n",
       "      <td>618013</td>\n",
       "      <td>Langas</td>\n",
       "      <td>180000.0</td>\n",
       "      <td>0.482392</td>\n",
       "      <td>35.255608</td>\n",
       "      <td>Eldoret</td>\n",
       "      <td>Uasin Gishu</td>\n",
       "      <td>Eldoret -Webuye - Malaba Rd</td>\n",
       "    </tr>\n",
       "    <tr>\n",
       "      <th>13</th>\n",
       "      <td>618014</td>\n",
       "      <td>Broadway Industries</td>\n",
       "      <td>350000.0</td>\n",
       "      <td>0.502002</td>\n",
       "      <td>35.300918</td>\n",
       "      <td>Eldoret</td>\n",
       "      <td>Uasin Gishu</td>\n",
       "      <td>Elijah Cheriyot St</td>\n",
       "    </tr>\n",
       "    <tr>\n",
       "      <th>14</th>\n",
       "      <td>618015</td>\n",
       "      <td>West Indies</td>\n",
       "      <td>250000.0</td>\n",
       "      <td>0.518013</td>\n",
       "      <td>35.257315</td>\n",
       "      <td>Eldoret</td>\n",
       "      <td>Uasin Gishu</td>\n",
       "      <td>A1</td>\n",
       "    </tr>\n",
       "    <tr>\n",
       "      <th>15</th>\n",
       "      <td>618016</td>\n",
       "      <td>Eldoret TKL HSE</td>\n",
       "      <td>339745.0</td>\n",
       "      <td>0.516572</td>\n",
       "      <td>35.275060</td>\n",
       "      <td>Eldoret</td>\n",
       "      <td>Uasin Gishu</td>\n",
       "      <td>Elijah Cheriyot St</td>\n",
       "    </tr>\n",
       "    <tr>\n",
       "      <th>16</th>\n",
       "      <td>618017</td>\n",
       "      <td>Eldoret Hill</td>\n",
       "      <td>339745.0</td>\n",
       "      <td>0.534255</td>\n",
       "      <td>35.281835</td>\n",
       "      <td>Eldoret</td>\n",
       "      <td>Uasin Gishu</td>\n",
       "      <td>Kitale - Cherangani Rd</td>\n",
       "    </tr>\n",
       "    <tr>\n",
       "      <th>17</th>\n",
       "      <td>618018</td>\n",
       "      <td>Mwitirithia</td>\n",
       "      <td>150000.0</td>\n",
       "      <td>0.533865</td>\n",
       "      <td>35.304002</td>\n",
       "      <td>Eldoret</td>\n",
       "      <td>Uasin Gishu</td>\n",
       "      <td>Eldoret -Webuye - Malaba Rd</td>\n",
       "    </tr>\n",
       "    <tr>\n",
       "      <th>18</th>\n",
       "      <td>618019</td>\n",
       "      <td>Kahoya</td>\n",
       "      <td>256551.0</td>\n",
       "      <td>0.548367</td>\n",
       "      <td>35.237095</td>\n",
       "      <td>Eldoret</td>\n",
       "      <td>Uasin Gishu</td>\n",
       "      <td>Eldoret -Webuye - Malaba Rd</td>\n",
       "    </tr>\n",
       "    <tr>\n",
       "      <th>19</th>\n",
       "      <td>618020</td>\n",
       "      <td>DC Office</td>\n",
       "      <td>300000.0</td>\n",
       "      <td>0.531458</td>\n",
       "      <td>35.243297</td>\n",
       "      <td>Eldoret</td>\n",
       "      <td>Uasin Gishu</td>\n",
       "      <td>Off Eldoret-Kitale Road</td>\n",
       "    </tr>\n",
       "    <tr>\n",
       "      <th>20</th>\n",
       "      <td>618021</td>\n",
       "      <td>KFS</td>\n",
       "      <td>262500.0</td>\n",
       "      <td>0.521698</td>\n",
       "      <td>35.264757</td>\n",
       "      <td>Eldoret</td>\n",
       "      <td>Uasin Gishu</td>\n",
       "      <td>Eldoret -Webuye - Malaba Rd</td>\n",
       "    </tr>\n",
       "    <tr>\n",
       "      <th>21</th>\n",
       "      <td>618022</td>\n",
       "      <td>Saleyard</td>\n",
       "      <td>150000.0</td>\n",
       "      <td>0.509877</td>\n",
       "      <td>35.266535</td>\n",
       "      <td>Eldoret</td>\n",
       "      <td>Uasin Gishu</td>\n",
       "      <td>Eldoret -Webuye - Malaba Rd</td>\n",
       "    </tr>\n",
       "    <tr>\n",
       "      <th>22</th>\n",
       "      <td>618023</td>\n",
       "      <td>Kipsona Estate</td>\n",
       "      <td>100000.0</td>\n",
       "      <td>0.568198</td>\n",
       "      <td>35.234947</td>\n",
       "      <td>Eldoret</td>\n",
       "      <td>Uasin Gishu</td>\n",
       "      <td>Eldoret -Webuye - Malaba Rd</td>\n",
       "    </tr>\n",
       "    <tr>\n",
       "      <th>23</th>\n",
       "      <td>618024</td>\n",
       "      <td>Eldoret West Campus</td>\n",
       "      <td>170000.0</td>\n",
       "      <td>0.559867</td>\n",
       "      <td>35.242030</td>\n",
       "      <td>Eldoret</td>\n",
       "      <td>Uasin Gishu</td>\n",
       "      <td>Eldoret -Webuye - Malaba Rd</td>\n",
       "    </tr>\n",
       "    <tr>\n",
       "      <th>24</th>\n",
       "      <td>618025</td>\n",
       "      <td>African Holy Ghost Church</td>\n",
       "      <td>200000.0</td>\n",
       "      <td>0.528998</td>\n",
       "      <td>35.252792</td>\n",
       "      <td>Eldoret</td>\n",
       "      <td>Uasin Gishu</td>\n",
       "      <td>Eldoret -Webuye - Malaba Rd</td>\n",
       "    </tr>\n",
       "    <tr>\n",
       "      <th>25</th>\n",
       "      <td>618026</td>\n",
       "      <td>Goodnews Kahoya</td>\n",
       "      <td>130000.0</td>\n",
       "      <td>0.541247</td>\n",
       "      <td>35.239255</td>\n",
       "      <td>Eldoret</td>\n",
       "      <td>Uasin Gishu</td>\n",
       "      <td>Eldoret -Webuye - Malaba Rd</td>\n",
       "    </tr>\n",
       "    <tr>\n",
       "      <th>26</th>\n",
       "      <td>618027</td>\n",
       "      <td>Kogo Plaza</td>\n",
       "      <td>1459600.0</td>\n",
       "      <td>0.518947</td>\n",
       "      <td>35.271212</td>\n",
       "      <td>Eldoret</td>\n",
       "      <td>Uasin Gishu</td>\n",
       "      <td>Eldoret -Webuye - Malaba Rd</td>\n",
       "    </tr>\n",
       "    <tr>\n",
       "      <th>27</th>\n",
       "      <td>618028</td>\n",
       "      <td>Road Block</td>\n",
       "      <td>200000.0</td>\n",
       "      <td>0.548983</td>\n",
       "      <td>35.245822</td>\n",
       "      <td>Eldoret</td>\n",
       "      <td>Uasin Gishu</td>\n",
       "      <td>Eldoret -Webuye - Malaba Rd</td>\n",
       "    </tr>\n",
       "    <tr>\n",
       "      <th>28</th>\n",
       "      <td>618029</td>\n",
       "      <td>Railways Eldoret</td>\n",
       "      <td>500000.0</td>\n",
       "      <td>0.522840</td>\n",
       "      <td>35.274582</td>\n",
       "      <td>Eldoret</td>\n",
       "      <td>Uasin Gishu</td>\n",
       "      <td>Station Rd</td>\n",
       "    </tr>\n",
       "    <tr>\n",
       "      <th>29</th>\n",
       "      <td>618030</td>\n",
       "      <td>Eldoret-R</td>\n",
       "      <td>200000.0</td>\n",
       "      <td>0.529227</td>\n",
       "      <td>35.261022</td>\n",
       "      <td>Eldoret</td>\n",
       "      <td>Uasin Gishu</td>\n",
       "      <td>145 Mitaa Rd</td>\n",
       "    </tr>\n",
       "    <tr>\n",
       "      <th>30</th>\n",
       "      <td>618031</td>\n",
       "      <td>IPCH church</td>\n",
       "      <td>180000.0</td>\n",
       "      <td>0.508125</td>\n",
       "      <td>35.309000</td>\n",
       "      <td>Eldoret</td>\n",
       "      <td>Uasin Gishu</td>\n",
       "      <td>Eldoret -Webuye - Malaba Rd</td>\n",
       "    </tr>\n",
       "    <tr>\n",
       "      <th>31</th>\n",
       "      <td>618032</td>\n",
       "      <td>Munyaka Police Station</td>\n",
       "      <td>180000.0</td>\n",
       "      <td>0.521365</td>\n",
       "      <td>35.311675</td>\n",
       "      <td>Eldoret</td>\n",
       "      <td>Uasin Gishu</td>\n",
       "      <td>Eldoret - Nakuru Rd</td>\n",
       "    </tr>\n",
       "    <tr>\n",
       "      <th>32</th>\n",
       "      <td>618034</td>\n",
       "      <td>Central Primary School</td>\n",
       "      <td>250000.0</td>\n",
       "      <td>0.519562</td>\n",
       "      <td>35.281368</td>\n",
       "      <td>Eldoret</td>\n",
       "      <td>Uasin Gishu</td>\n",
       "      <td>Eldoret -Webuye - Malaba Rd</td>\n",
       "    </tr>\n",
       "    <tr>\n",
       "      <th>33</th>\n",
       "      <td>618035</td>\n",
       "      <td>Elgon View Estate</td>\n",
       "      <td>160000.0</td>\n",
       "      <td>0.502697</td>\n",
       "      <td>35.275303</td>\n",
       "      <td>Eldoret</td>\n",
       "      <td>Uasin Gishu</td>\n",
       "      <td>Eldoret -Webuye - Malaba Rd</td>\n",
       "    </tr>\n",
       "    <tr>\n",
       "      <th>34</th>\n",
       "      <td>618036</td>\n",
       "      <td>Kisumu Road Garage</td>\n",
       "      <td>250000.0</td>\n",
       "      <td>0.509507</td>\n",
       "      <td>35.273562</td>\n",
       "      <td>Eldoret</td>\n",
       "      <td>Uasin Gishu</td>\n",
       "      <td>Unnamed Road</td>\n",
       "    </tr>\n",
       "    <tr>\n",
       "      <th>35</th>\n",
       "      <td>618037</td>\n",
       "      <td>Little Lambs School</td>\n",
       "      <td>200000.0</td>\n",
       "      <td>0.506360</td>\n",
       "      <td>35.294032</td>\n",
       "      <td>Eldoret</td>\n",
       "      <td>Uasin Gishu</td>\n",
       "      <td>Eldoret -Webuye - Malaba Rd</td>\n",
       "    </tr>\n",
       "    <tr>\n",
       "      <th>36</th>\n",
       "      <td>618038</td>\n",
       "      <td>Longonot Center</td>\n",
       "      <td>140000.0</td>\n",
       "      <td>0.482340</td>\n",
       "      <td>35.344123</td>\n",
       "      <td>Eldoret</td>\n",
       "      <td>Uasin Gishu</td>\n",
       "      <td>Eldoret -Webuye - Malaba Rd</td>\n",
       "    </tr>\n",
       "    <tr>\n",
       "      <th>37</th>\n",
       "      <td>618039</td>\n",
       "      <td>Moi University Annex-GF</td>\n",
       "      <td>335536.0</td>\n",
       "      <td>0.477217</td>\n",
       "      <td>35.301073</td>\n",
       "      <td>Eldoret</td>\n",
       "      <td>Uasin Gishu</td>\n",
       "      <td>Eldoret-Nakuru Road</td>\n",
       "    </tr>\n",
       "    <tr>\n",
       "      <th>38</th>\n",
       "      <td>618040</td>\n",
       "      <td>Church Of Jesus Eldoret</td>\n",
       "      <td>200000.0</td>\n",
       "      <td>0.483698</td>\n",
       "      <td>35.270158</td>\n",
       "      <td>Eldoret</td>\n",
       "      <td>Uasin Gishu</td>\n",
       "      <td>Unnamed Road</td>\n",
       "    </tr>\n",
       "    <tr>\n",
       "      <th>39</th>\n",
       "      <td>618041</td>\n",
       "      <td>Eldoret Langas 2</td>\n",
       "      <td>150000.0</td>\n",
       "      <td>0.473678</td>\n",
       "      <td>35.256287</td>\n",
       "      <td>Eldoret</td>\n",
       "      <td>Uasin Gishu</td>\n",
       "      <td>Unnamed Road</td>\n",
       "    </tr>\n",
       "    <tr>\n",
       "      <th>40</th>\n",
       "      <td>618042</td>\n",
       "      <td>Kapseret</td>\n",
       "      <td>182325.0</td>\n",
       "      <td>0.449162</td>\n",
       "      <td>35.240775</td>\n",
       "      <td>Eldoret</td>\n",
       "      <td>Uasin Gishu</td>\n",
       "      <td>Plateau Rd</td>\n",
       "    </tr>\n",
       "    <tr>\n",
       "      <th>41</th>\n",
       "      <td>618043</td>\n",
       "      <td>Kesses-GF1</td>\n",
       "      <td>130000.0</td>\n",
       "      <td>0.294455</td>\n",
       "      <td>35.326117</td>\n",
       "      <td>Eldoret</td>\n",
       "      <td>Uasin Gishu</td>\n",
       "      <td>Eldoret -Webuye - Malaba Rd</td>\n",
       "    </tr>\n",
       "    <tr>\n",
       "      <th>42</th>\n",
       "      <td>618044</td>\n",
       "      <td>Ngeria Shopping Center</td>\n",
       "      <td>170000.0</td>\n",
       "      <td>0.392970</td>\n",
       "      <td>35.329772</td>\n",
       "      <td>Eldoret</td>\n",
       "      <td>Uasin Gishu</td>\n",
       "      <td>Eldoret - Nakuru Rd</td>\n",
       "    </tr>\n",
       "    <tr>\n",
       "      <th>43</th>\n",
       "      <td>618045</td>\n",
       "      <td>Kamogich Plaza</td>\n",
       "      <td>160000.0</td>\n",
       "      <td>0.670830</td>\n",
       "      <td>35.509823</td>\n",
       "      <td>Iten</td>\n",
       "      <td>Elgeyo Marakwet</td>\n",
       "      <td>Off Kapshow Road</td>\n",
       "    </tr>\n",
       "    <tr>\n",
       "      <th>44</th>\n",
       "      <td>618046</td>\n",
       "      <td>Inabtich Primary School</td>\n",
       "      <td>250000.0</td>\n",
       "      <td>0.554910</td>\n",
       "      <td>35.321190</td>\n",
       "      <td>Eldoret</td>\n",
       "      <td>Uasin Gishu</td>\n",
       "      <td>Eldoret -Webuye - Malaba Rd</td>\n",
       "    </tr>\n",
       "    <tr>\n",
       "      <th>45</th>\n",
       "      <td>618047</td>\n",
       "      <td>Plateau</td>\n",
       "      <td>250000.0</td>\n",
       "      <td>0.488303</td>\n",
       "      <td>35.286480</td>\n",
       "      <td>Eldoret</td>\n",
       "      <td>Uasin Gishu</td>\n",
       "      <td>Elgeyo Rd</td>\n",
       "    </tr>\n",
       "    <tr>\n",
       "      <th>46</th>\n",
       "      <td>618048</td>\n",
       "      <td>Marigat</td>\n",
       "      <td>205218.0</td>\n",
       "      <td>0.470643</td>\n",
       "      <td>35.984632</td>\n",
       "      <td>Marigat</td>\n",
       "      <td>Baringo</td>\n",
       "      <td>C51</td>\n",
       "    </tr>\n",
       "    <tr>\n",
       "      <th>47</th>\n",
       "      <td>618049</td>\n",
       "      <td>Makutano UXD KEEP</td>\n",
       "      <td>166000.0</td>\n",
       "      <td>1.255858</td>\n",
       "      <td>35.092390</td>\n",
       "      <td>Makutano</td>\n",
       "      <td>West Pokot</td>\n",
       "      <td>Kitale to Kapenguria Road</td>\n",
       "    </tr>\n",
       "    <tr>\n",
       "      <th>48</th>\n",
       "      <td>618050</td>\n",
       "      <td>Sergoit</td>\n",
       "      <td>100000.0</td>\n",
       "      <td>0.642613</td>\n",
       "      <td>35.392450</td>\n",
       "      <td>Sergoit</td>\n",
       "      <td>Uasin Gishu</td>\n",
       "      <td>C50</td>\n",
       "    </tr>\n",
       "    <tr>\n",
       "      <th>49</th>\n",
       "      <td>618051</td>\n",
       "      <td>Kamorin</td>\n",
       "      <td>205218.0</td>\n",
       "      <td>0.658920</td>\n",
       "      <td>35.504137</td>\n",
       "      <td>Kamorin</td>\n",
       "      <td>Elgeyo Marakwet</td>\n",
       "      <td>Kapchigomet</td>\n",
       "    </tr>\n",
       "  </tbody>\n",
       "</table>\n",
       "</div>"
      ],
      "text/plain": [
       "    ATC ID                  Site Name  Initial Rent  Latitude  Longitude  \\\n",
       "0   618001            Bungoma Stadium      120000.0  0.591345  34.552905   \n",
       "1   618002              Bungoma South      200000.0  0.558877  34.560273   \n",
       "2   618003                Busia Lwero      100000.0  0.459231  34.117860   \n",
       "3   618004              Leisure Lodge      469003.0 -4.278270  39.590513   \n",
       "4   618005             Diani Exchange      173522.0 -4.303082  39.579153   \n",
       "5   618006              Msambweni Exc      173522.0 -4.479872  39.482115   \n",
       "6   618007     Lunga Lunga Eackelberg      120000.0 -4.559700  39.129315   \n",
       "7   618008                 Reef Hotel      744638.0 -4.271608  39.594932   \n",
       "8   618009           Diani Sea Resort      300000.0 -4.315773  39.573173   \n",
       "9   618010             Leisure Lodge2      570113.0 -4.281229  39.591964   \n",
       "10  618011                       Embu      175713.0 -0.534481  37.450065   \n",
       "11  618012                   Kamugere      175713.0 -0.420284  37.524577   \n",
       "12  618013                     Langas      180000.0  0.482392  35.255608   \n",
       "13  618014        Broadway Industries      350000.0  0.502002  35.300918   \n",
       "14  618015                West Indies      250000.0  0.518013  35.257315   \n",
       "15  618016            Eldoret TKL HSE      339745.0  0.516572  35.275060   \n",
       "16  618017               Eldoret Hill      339745.0  0.534255  35.281835   \n",
       "17  618018                Mwitirithia      150000.0  0.533865  35.304002   \n",
       "18  618019                     Kahoya      256551.0  0.548367  35.237095   \n",
       "19  618020                  DC Office      300000.0  0.531458  35.243297   \n",
       "20  618021                        KFS      262500.0  0.521698  35.264757   \n",
       "21  618022                   Saleyard      150000.0  0.509877  35.266535   \n",
       "22  618023             Kipsona Estate      100000.0  0.568198  35.234947   \n",
       "23  618024        Eldoret West Campus      170000.0  0.559867  35.242030   \n",
       "24  618025  African Holy Ghost Church      200000.0  0.528998  35.252792   \n",
       "25  618026            Goodnews Kahoya      130000.0  0.541247  35.239255   \n",
       "26  618027                 Kogo Plaza     1459600.0  0.518947  35.271212   \n",
       "27  618028                 Road Block      200000.0  0.548983  35.245822   \n",
       "28  618029           Railways Eldoret      500000.0  0.522840  35.274582   \n",
       "29  618030                  Eldoret-R      200000.0  0.529227  35.261022   \n",
       "30  618031                IPCH church      180000.0  0.508125  35.309000   \n",
       "31  618032     Munyaka Police Station      180000.0  0.521365  35.311675   \n",
       "32  618034     Central Primary School      250000.0  0.519562  35.281368   \n",
       "33  618035          Elgon View Estate      160000.0  0.502697  35.275303   \n",
       "34  618036         Kisumu Road Garage      250000.0  0.509507  35.273562   \n",
       "35  618037        Little Lambs School      200000.0  0.506360  35.294032   \n",
       "36  618038            Longonot Center      140000.0  0.482340  35.344123   \n",
       "37  618039    Moi University Annex-GF      335536.0  0.477217  35.301073   \n",
       "38  618040    Church Of Jesus Eldoret      200000.0  0.483698  35.270158   \n",
       "39  618041           Eldoret Langas 2      150000.0  0.473678  35.256287   \n",
       "40  618042                   Kapseret      182325.0  0.449162  35.240775   \n",
       "41  618043                 Kesses-GF1      130000.0  0.294455  35.326117   \n",
       "42  618044     Ngeria Shopping Center      170000.0  0.392970  35.329772   \n",
       "43  618045             Kamogich Plaza      160000.0  0.670830  35.509823   \n",
       "44  618046    Inabtich Primary School      250000.0  0.554910  35.321190   \n",
       "45  618047                    Plateau      250000.0  0.488303  35.286480   \n",
       "46  618048                    Marigat      205218.0  0.470643  35.984632   \n",
       "47  618049          Makutano UXD KEEP      166000.0  1.255858  35.092390   \n",
       "48  618050                    Sergoit      100000.0  0.642613  35.392450   \n",
       "49  618051                    Kamorin      205218.0  0.658920  35.504137   \n",
       "\n",
       "           City           County                       Street  \n",
       "0       Bungoma          Bungoma          Mumias - Bungoma Rd  \n",
       "1       Bungoma          Bungoma          Mumias - Bungoma Rd  \n",
       "2         Busia            Busia            Kisumu - Busia Rd  \n",
       "3       Mombasa          Mombasa             Diani Beach Road  \n",
       "4       Mombasa          Mombasa             Diani Beach Road  \n",
       "5     Msambweni            Kwale       Off Ukunda-Ramisi Road  \n",
       "6   Lunga Lunga            Kwale     Lungalunga-Mtandikeni Rd  \n",
       "7         Diani            Kwale             Diani Beach Road  \n",
       "8         Diani            Kwale       80401 Diani Beach Road  \n",
       "9       Mombasa          Mombasa             Diani Beach Road  \n",
       "10         Embu             Embu           Meru - Nairobi Hwy  \n",
       "11     Kamugere            Nyeri                 Unnamed Road  \n",
       "12      Eldoret      Uasin Gishu  Eldoret -Webuye - Malaba Rd  \n",
       "13      Eldoret      Uasin Gishu           Elijah Cheriyot St  \n",
       "14      Eldoret      Uasin Gishu                           A1  \n",
       "15      Eldoret      Uasin Gishu           Elijah Cheriyot St  \n",
       "16      Eldoret      Uasin Gishu       Kitale - Cherangani Rd  \n",
       "17      Eldoret      Uasin Gishu  Eldoret -Webuye - Malaba Rd  \n",
       "18      Eldoret      Uasin Gishu  Eldoret -Webuye - Malaba Rd  \n",
       "19      Eldoret      Uasin Gishu      Off Eldoret-Kitale Road  \n",
       "20      Eldoret      Uasin Gishu  Eldoret -Webuye - Malaba Rd  \n",
       "21      Eldoret      Uasin Gishu  Eldoret -Webuye - Malaba Rd  \n",
       "22      Eldoret      Uasin Gishu  Eldoret -Webuye - Malaba Rd  \n",
       "23      Eldoret      Uasin Gishu  Eldoret -Webuye - Malaba Rd  \n",
       "24      Eldoret      Uasin Gishu  Eldoret -Webuye - Malaba Rd  \n",
       "25      Eldoret      Uasin Gishu  Eldoret -Webuye - Malaba Rd  \n",
       "26      Eldoret      Uasin Gishu  Eldoret -Webuye - Malaba Rd  \n",
       "27      Eldoret      Uasin Gishu  Eldoret -Webuye - Malaba Rd  \n",
       "28      Eldoret      Uasin Gishu                   Station Rd  \n",
       "29      Eldoret      Uasin Gishu                 145 Mitaa Rd  \n",
       "30      Eldoret      Uasin Gishu  Eldoret -Webuye - Malaba Rd  \n",
       "31      Eldoret      Uasin Gishu          Eldoret - Nakuru Rd  \n",
       "32      Eldoret      Uasin Gishu  Eldoret -Webuye - Malaba Rd  \n",
       "33      Eldoret      Uasin Gishu  Eldoret -Webuye - Malaba Rd  \n",
       "34      Eldoret      Uasin Gishu                 Unnamed Road  \n",
       "35      Eldoret      Uasin Gishu  Eldoret -Webuye - Malaba Rd  \n",
       "36      Eldoret      Uasin Gishu  Eldoret -Webuye - Malaba Rd  \n",
       "37      Eldoret      Uasin Gishu          Eldoret-Nakuru Road  \n",
       "38      Eldoret      Uasin Gishu                 Unnamed Road  \n",
       "39      Eldoret      Uasin Gishu                 Unnamed Road  \n",
       "40      Eldoret      Uasin Gishu                   Plateau Rd  \n",
       "41      Eldoret      Uasin Gishu  Eldoret -Webuye - Malaba Rd  \n",
       "42      Eldoret      Uasin Gishu          Eldoret - Nakuru Rd  \n",
       "43         Iten  Elgeyo Marakwet             Off Kapshow Road  \n",
       "44      Eldoret      Uasin Gishu  Eldoret -Webuye - Malaba Rd  \n",
       "45      Eldoret      Uasin Gishu                    Elgeyo Rd  \n",
       "46      Marigat          Baringo                          C51  \n",
       "47     Makutano       West Pokot    Kitale to Kapenguria Road  \n",
       "48      Sergoit      Uasin Gishu                          C50  \n",
       "49      Kamorin  Elgeyo Marakwet                  Kapchigomet  "
      ]
     },
     "execution_count": 55,
     "metadata": {},
     "output_type": "execute_result"
    }
   ],
   "source": [
    "df.head (50)"
   ]
  },
  {
   "cell_type": "markdown",
   "id": "f6f3605d",
   "metadata": {},
   "source": [
    "* To display the last 50 rows we use the following code:\n",
    "df.tail (50)"
   ]
  },
  {
   "cell_type": "code",
   "execution_count": 56,
   "id": "6a891745",
   "metadata": {},
   "outputs": [
    {
     "data": {
      "text/html": [
       "<div>\n",
       "<style scoped>\n",
       "    .dataframe tbody tr th:only-of-type {\n",
       "        vertical-align: middle;\n",
       "    }\n",
       "\n",
       "    .dataframe tbody tr th {\n",
       "        vertical-align: top;\n",
       "    }\n",
       "\n",
       "    .dataframe thead th {\n",
       "        text-align: right;\n",
       "    }\n",
       "</style>\n",
       "<table border=\"1\" class=\"dataframe\">\n",
       "  <thead>\n",
       "    <tr style=\"text-align: right;\">\n",
       "      <th></th>\n",
       "      <th>ATC ID</th>\n",
       "      <th>Site Name</th>\n",
       "      <th>Initial Rent</th>\n",
       "      <th>Latitude</th>\n",
       "      <th>Longitude</th>\n",
       "      <th>City</th>\n",
       "      <th>County</th>\n",
       "      <th>Street</th>\n",
       "    </tr>\n",
       "  </thead>\n",
       "  <tbody>\n",
       "    <tr>\n",
       "      <th>3009</th>\n",
       "      <td>621409</td>\n",
       "      <td>Saika ATC</td>\n",
       "      <td>300000.0</td>\n",
       "      <td>-1.253100</td>\n",
       "      <td>36.911770</td>\n",
       "      <td>Nairobi</td>\n",
       "      <td>NaN</td>\n",
       "      <td>NaN</td>\n",
       "    </tr>\n",
       "    <tr>\n",
       "      <th>3010</th>\n",
       "      <td>621423</td>\n",
       "      <td>Githurai Mwihoko_2</td>\n",
       "      <td>900000.0</td>\n",
       "      <td>-1.226848</td>\n",
       "      <td>36.970318</td>\n",
       "      <td>Nairobi</td>\n",
       "      <td>Kiambu</td>\n",
       "      <td>Eastern By Pass</td>\n",
       "    </tr>\n",
       "    <tr>\n",
       "      <th>3011</th>\n",
       "      <td>621470</td>\n",
       "      <td>Kisumu_Nyamasaria ATC</td>\n",
       "      <td>750000.0</td>\n",
       "      <td>-0.106020</td>\n",
       "      <td>34.788830</td>\n",
       "      <td>Kisumu</td>\n",
       "      <td>Kisumu</td>\n",
       "      <td>Kisumu-Nairobi Road</td>\n",
       "    </tr>\n",
       "    <tr>\n",
       "      <th>3012</th>\n",
       "      <td>621472</td>\n",
       "      <td>Nakuru Mangu</td>\n",
       "      <td>500000.0</td>\n",
       "      <td>-0.218400</td>\n",
       "      <td>35.971690</td>\n",
       "      <td>Nakuru</td>\n",
       "      <td>Nakuru</td>\n",
       "      <td>Nakuru-Sigor Road</td>\n",
       "    </tr>\n",
       "    <tr>\n",
       "      <th>3013</th>\n",
       "      <td>621522</td>\n",
       "      <td>Kisii Jogoo</td>\n",
       "      <td>200000.0</td>\n",
       "      <td>-0.677450</td>\n",
       "      <td>34.783350</td>\n",
       "      <td>Kisii</td>\n",
       "      <td>Kisii</td>\n",
       "      <td>Kisii-Kemera Road</td>\n",
       "    </tr>\n",
       "    <tr>\n",
       "      <th>3014</th>\n",
       "      <td>621543</td>\n",
       "      <td>GTC_Towers_IBS</td>\n",
       "      <td>400000.0</td>\n",
       "      <td>-1.270825</td>\n",
       "      <td>36.808752</td>\n",
       "      <td>Nairobi</td>\n",
       "      <td>Nairobi</td>\n",
       "      <td>Waiyaki Way</td>\n",
       "    </tr>\n",
       "    <tr>\n",
       "      <th>3015</th>\n",
       "      <td>621551</td>\n",
       "      <td>Bungoma Cereals</td>\n",
       "      <td>460000.0</td>\n",
       "      <td>0.571940</td>\n",
       "      <td>34.562370</td>\n",
       "      <td>Bungoma</td>\n",
       "      <td>Bungoma</td>\n",
       "      <td>Mumias-Bungoma Road</td>\n",
       "    </tr>\n",
       "    <tr>\n",
       "      <th>3016</th>\n",
       "      <td>621554</td>\n",
       "      <td>Bibirioni ATC</td>\n",
       "      <td>300000.0</td>\n",
       "      <td>-1.077740</td>\n",
       "      <td>36.633950</td>\n",
       "      <td>Nairobi</td>\n",
       "      <td>Kiambu</td>\n",
       "      <td>Nakuru-Nairobi Highway</td>\n",
       "    </tr>\n",
       "    <tr>\n",
       "      <th>3017</th>\n",
       "      <td>621572</td>\n",
       "      <td>Kakamega_Matende</td>\n",
       "      <td>220000.0</td>\n",
       "      <td>0.262289</td>\n",
       "      <td>34.754912</td>\n",
       "      <td>Kakamega</td>\n",
       "      <td>Kakamega</td>\n",
       "      <td>Kisumu-Kakamega Road</td>\n",
       "    </tr>\n",
       "    <tr>\n",
       "      <th>3018</th>\n",
       "      <td>621590</td>\n",
       "      <td>Thika Emco Plaza</td>\n",
       "      <td>270000.0</td>\n",
       "      <td>-1.043260</td>\n",
       "      <td>37.066740</td>\n",
       "      <td>Thika</td>\n",
       "      <td>Kiambu</td>\n",
       "      <td>Thika-Garissa Road</td>\n",
       "    </tr>\n",
       "    <tr>\n",
       "      <th>3019</th>\n",
       "      <td>621628</td>\n",
       "      <td>Kilifi_Kiwandani</td>\n",
       "      <td>750000.0</td>\n",
       "      <td>-3.603090</td>\n",
       "      <td>39.856110</td>\n",
       "      <td>Kilifi</td>\n",
       "      <td>Kilifi</td>\n",
       "      <td>Mombasa-Malindi Road</td>\n",
       "    </tr>\n",
       "    <tr>\n",
       "      <th>3020</th>\n",
       "      <td>621878</td>\n",
       "      <td>Migori_Wasweta_Creadex</td>\n",
       "      <td>250000.0</td>\n",
       "      <td>-1.062465</td>\n",
       "      <td>34.474079</td>\n",
       "      <td>Migori</td>\n",
       "      <td>Migori</td>\n",
       "      <td>Rongo-Migori Road</td>\n",
       "    </tr>\n",
       "    <tr>\n",
       "      <th>3021</th>\n",
       "      <td>621879</td>\n",
       "      <td>Oriang ATC</td>\n",
       "      <td>150000.0</td>\n",
       "      <td>-0.403690</td>\n",
       "      <td>34.625830</td>\n",
       "      <td>Kendu Bay</td>\n",
       "      <td>Homa Bay</td>\n",
       "      <td>Kendu Bay-Homa Bay Road</td>\n",
       "    </tr>\n",
       "    <tr>\n",
       "      <th>3022</th>\n",
       "      <td>621880</td>\n",
       "      <td>Siaya Southlands</td>\n",
       "      <td>180000.0</td>\n",
       "      <td>0.048600</td>\n",
       "      <td>34.287210</td>\n",
       "      <td>Siaya</td>\n",
       "      <td>Siaya</td>\n",
       "      <td>Bondo-Siaya Road</td>\n",
       "    </tr>\n",
       "    <tr>\n",
       "      <th>3023</th>\n",
       "      <td>621881</td>\n",
       "      <td>Rotian ATC</td>\n",
       "      <td>150000.0</td>\n",
       "      <td>-0.967660</td>\n",
       "      <td>35.899590</td>\n",
       "      <td>Narok</td>\n",
       "      <td>Narok</td>\n",
       "      <td>Narok-Enangiperi Road</td>\n",
       "    </tr>\n",
       "    <tr>\n",
       "      <th>3024</th>\n",
       "      <td>621882</td>\n",
       "      <td>Kabianga_Market</td>\n",
       "      <td>200000.0</td>\n",
       "      <td>-0.446770</td>\n",
       "      <td>35.148280</td>\n",
       "      <td>Kericho</td>\n",
       "      <td>Kericho</td>\n",
       "      <td>Kabianga Road</td>\n",
       "    </tr>\n",
       "    <tr>\n",
       "      <th>3025</th>\n",
       "      <td>621884</td>\n",
       "      <td>Nakuru Rhonda Sewage</td>\n",
       "      <td>200000.0</td>\n",
       "      <td>-0.316907</td>\n",
       "      <td>36.054486</td>\n",
       "      <td>Nakuru</td>\n",
       "      <td>Nakuru</td>\n",
       "      <td>Off west Road</td>\n",
       "    </tr>\n",
       "    <tr>\n",
       "      <th>3026</th>\n",
       "      <td>621885</td>\n",
       "      <td>Kilifi_Charo_Wa_Mae</td>\n",
       "      <td>450000.0</td>\n",
       "      <td>-3.626300</td>\n",
       "      <td>39.850650</td>\n",
       "      <td>Kilifi</td>\n",
       "      <td>Kilifi</td>\n",
       "      <td>Kilifi-Malindi Road</td>\n",
       "    </tr>\n",
       "    <tr>\n",
       "      <th>3027</th>\n",
       "      <td>621886</td>\n",
       "      <td>Mombasa Makande ATC</td>\n",
       "      <td>900000.0</td>\n",
       "      <td>-4.039097</td>\n",
       "      <td>39.654154</td>\n",
       "      <td>Mombasa</td>\n",
       "      <td>Mombasa</td>\n",
       "      <td>Makande Road</td>\n",
       "    </tr>\n",
       "    <tr>\n",
       "      <th>3028</th>\n",
       "      <td>621888</td>\n",
       "      <td>RONGAI BROOKLAND SCHOOL</td>\n",
       "      <td>450000.0</td>\n",
       "      <td>-1.401756</td>\n",
       "      <td>36.765307</td>\n",
       "      <td>Nairobi</td>\n",
       "      <td>Kajiado</td>\n",
       "      <td>Ole Motondo Road</td>\n",
       "    </tr>\n",
       "    <tr>\n",
       "      <th>3029</th>\n",
       "      <td>621889</td>\n",
       "      <td>Githurai PCEA</td>\n",
       "      <td>300000.0</td>\n",
       "      <td>-1.218404</td>\n",
       "      <td>36.931306</td>\n",
       "      <td>Nairobi</td>\n",
       "      <td>Kiambu</td>\n",
       "      <td>Off Thika Road</td>\n",
       "    </tr>\n",
       "    <tr>\n",
       "      <th>3030</th>\n",
       "      <td>621891</td>\n",
       "      <td>Eastleigh Al-Kelem Heights</td>\n",
       "      <td>600000.0</td>\n",
       "      <td>-1.269896</td>\n",
       "      <td>36.846872</td>\n",
       "      <td>Nairobi</td>\n",
       "      <td>Nairobi</td>\n",
       "      <td>Major Kinyanjui Street</td>\n",
       "    </tr>\n",
       "    <tr>\n",
       "      <th>3031</th>\n",
       "      <td>621892</td>\n",
       "      <td>Roysambu Primary ATC</td>\n",
       "      <td>300000.0</td>\n",
       "      <td>-1.206277</td>\n",
       "      <td>36.896246</td>\n",
       "      <td>Nairobi</td>\n",
       "      <td>Nairobi</td>\n",
       "      <td>Off Kamiti Road</td>\n",
       "    </tr>\n",
       "    <tr>\n",
       "      <th>3032</th>\n",
       "      <td>621894</td>\n",
       "      <td>Dandora Phase III</td>\n",
       "      <td>300000.0</td>\n",
       "      <td>-1.248031</td>\n",
       "      <td>36.907078</td>\n",
       "      <td>Nairobi</td>\n",
       "      <td>Nairobi</td>\n",
       "      <td>Off Muigai Kenyatta Road</td>\n",
       "    </tr>\n",
       "    <tr>\n",
       "      <th>3033</th>\n",
       "      <td>621899</td>\n",
       "      <td>Njiru_Chokaa_View</td>\n",
       "      <td>290000.0</td>\n",
       "      <td>-1.256909</td>\n",
       "      <td>36.942733</td>\n",
       "      <td>Nairobi</td>\n",
       "      <td>Nairobi</td>\n",
       "      <td>Off Kangundo Road</td>\n",
       "    </tr>\n",
       "    <tr>\n",
       "      <th>3034</th>\n",
       "      <td>621900</td>\n",
       "      <td>Oyugis Town ATC</td>\n",
       "      <td>180000.0</td>\n",
       "      <td>-0.506388</td>\n",
       "      <td>34.734486</td>\n",
       "      <td>Oyugis</td>\n",
       "      <td>Homa Bay</td>\n",
       "      <td>Kisii-Kisumu Road</td>\n",
       "    </tr>\n",
       "    <tr>\n",
       "      <th>3035</th>\n",
       "      <td>621901</td>\n",
       "      <td>KAG University</td>\n",
       "      <td>280000.0</td>\n",
       "      <td>-1.589314</td>\n",
       "      <td>36.922385</td>\n",
       "      <td>Kitengela</td>\n",
       "      <td>Kajiado</td>\n",
       "      <td>Nairobi-Namanga Road</td>\n",
       "    </tr>\n",
       "    <tr>\n",
       "      <th>3036</th>\n",
       "      <td>621913</td>\n",
       "      <td>Kaptagat Road Strawberg</td>\n",
       "      <td>690000.0</td>\n",
       "      <td>0.441580</td>\n",
       "      <td>35.432090</td>\n",
       "      <td>Eldoret</td>\n",
       "      <td>Uasin Gishu</td>\n",
       "      <td>Eldoret-Kaptagat Road</td>\n",
       "    </tr>\n",
       "    <tr>\n",
       "      <th>3037</th>\n",
       "      <td>621915</td>\n",
       "      <td>Kimuchi ATC</td>\n",
       "      <td>150000.0</td>\n",
       "      <td>0.637218</td>\n",
       "      <td>35.453235</td>\n",
       "      <td>Eldoret</td>\n",
       "      <td>Elgeyo Marakwet</td>\n",
       "      <td>Kerio Valley Road</td>\n",
       "    </tr>\n",
       "    <tr>\n",
       "      <th>3038</th>\n",
       "      <td>621916</td>\n",
       "      <td>Kisumu_Nyalunya</td>\n",
       "      <td>220000.0</td>\n",
       "      <td>-0.118230</td>\n",
       "      <td>34.812230</td>\n",
       "      <td>Kisumu</td>\n",
       "      <td>Kisumu</td>\n",
       "      <td>Off Kibos Road</td>\n",
       "    </tr>\n",
       "    <tr>\n",
       "      <th>3039</th>\n",
       "      <td>621917</td>\n",
       "      <td>Bamburi Fisheries</td>\n",
       "      <td>250000.0</td>\n",
       "      <td>-4.000450</td>\n",
       "      <td>39.708640</td>\n",
       "      <td>Mombasa</td>\n",
       "      <td>Mombasa</td>\n",
       "      <td>Off Old Malindi Road</td>\n",
       "    </tr>\n",
       "    <tr>\n",
       "      <th>3040</th>\n",
       "      <td>621918</td>\n",
       "      <td>Mariakani Mkwajuni</td>\n",
       "      <td>200000.0</td>\n",
       "      <td>-3.877040</td>\n",
       "      <td>39.486760</td>\n",
       "      <td>Mombasa</td>\n",
       "      <td>Kilifi</td>\n",
       "      <td>Mombasa Road</td>\n",
       "    </tr>\n",
       "    <tr>\n",
       "      <th>3041</th>\n",
       "      <td>621919</td>\n",
       "      <td>Joska_3</td>\n",
       "      <td>250000.0</td>\n",
       "      <td>-1.300271</td>\n",
       "      <td>37.079318</td>\n",
       "      <td>Tala</td>\n",
       "      <td>Machakos</td>\n",
       "      <td>Off Kangundo Road</td>\n",
       "    </tr>\n",
       "    <tr>\n",
       "      <th>3042</th>\n",
       "      <td>621920</td>\n",
       "      <td>Kaumoni ATC</td>\n",
       "      <td>200000.0</td>\n",
       "      <td>-1.733254</td>\n",
       "      <td>37.573589</td>\n",
       "      <td>Wote</td>\n",
       "      <td>Makueni</td>\n",
       "      <td>Itangini-Mwaani Road</td>\n",
       "    </tr>\n",
       "    <tr>\n",
       "      <th>3043</th>\n",
       "      <td>621921</td>\n",
       "      <td>Kayole_5</td>\n",
       "      <td>400000.0</td>\n",
       "      <td>-1.270330</td>\n",
       "      <td>36.920910</td>\n",
       "      <td>Nairobi</td>\n",
       "      <td>Nairobi</td>\n",
       "      <td>Kayole Road</td>\n",
       "    </tr>\n",
       "    <tr>\n",
       "      <th>3044</th>\n",
       "      <td>621922</td>\n",
       "      <td>Kitale Matisi</td>\n",
       "      <td>360000.0</td>\n",
       "      <td>1.039056</td>\n",
       "      <td>34.981987</td>\n",
       "      <td>Kitale</td>\n",
       "      <td>Trans-Nzoia</td>\n",
       "      <td>Kitale-Suam Road</td>\n",
       "    </tr>\n",
       "    <tr>\n",
       "      <th>3045</th>\n",
       "      <td>621923</td>\n",
       "      <td>Oloitoktok_new</td>\n",
       "      <td>540000.0</td>\n",
       "      <td>-2.925690</td>\n",
       "      <td>37.512411</td>\n",
       "      <td>Oloitoktok</td>\n",
       "      <td>Kajiado</td>\n",
       "      <td>Oloitoktok Road</td>\n",
       "    </tr>\n",
       "    <tr>\n",
       "      <th>3046</th>\n",
       "      <td>621924</td>\n",
       "      <td>Amalemba ATC</td>\n",
       "      <td>200000.0</td>\n",
       "      <td>0.266499</td>\n",
       "      <td>34.760333</td>\n",
       "      <td>Kakamega</td>\n",
       "      <td>Kakamega</td>\n",
       "      <td>Off Kisumu-Kakamega Road</td>\n",
       "    </tr>\n",
       "    <tr>\n",
       "      <th>3047</th>\n",
       "      <td>621925</td>\n",
       "      <td>Gatundu Gituamba</td>\n",
       "      <td>150000.0</td>\n",
       "      <td>-0.905503</td>\n",
       "      <td>36.857638</td>\n",
       "      <td>Thika</td>\n",
       "      <td>Kiambu</td>\n",
       "      <td>Off Thika-Mang'u-Flyover Road</td>\n",
       "    </tr>\n",
       "    <tr>\n",
       "      <th>3048</th>\n",
       "      <td>621927</td>\n",
       "      <td>Ngondi_Naivasha</td>\n",
       "      <td>200000.0</td>\n",
       "      <td>-0.822698</td>\n",
       "      <td>36.204086</td>\n",
       "      <td>Naivasha</td>\n",
       "      <td>Nakuru</td>\n",
       "      <td>Naivasha-Kongoni Road</td>\n",
       "    </tr>\n",
       "    <tr>\n",
       "      <th>3049</th>\n",
       "      <td>621973</td>\n",
       "      <td>RIRUTA-KABIRIA_ATC</td>\n",
       "      <td>500000.0</td>\n",
       "      <td>-1.288150</td>\n",
       "      <td>36.737920</td>\n",
       "      <td>Nairobi</td>\n",
       "      <td>Nairobi</td>\n",
       "      <td>Off Naivasha Road</td>\n",
       "    </tr>\n",
       "    <tr>\n",
       "      <th>3050</th>\n",
       "      <td>621974</td>\n",
       "      <td>Kaplong New ATC</td>\n",
       "      <td>150000.0</td>\n",
       "      <td>-0.675860</td>\n",
       "      <td>35.138255</td>\n",
       "      <td>Bomet</td>\n",
       "      <td>Bomet</td>\n",
       "      <td>Kaplong-Litein Road</td>\n",
       "    </tr>\n",
       "    <tr>\n",
       "      <th>3051</th>\n",
       "      <td>621975</td>\n",
       "      <td>Lelaitich ATC</td>\n",
       "      <td>150000.0</td>\n",
       "      <td>-0.945256</td>\n",
       "      <td>35.331979</td>\n",
       "      <td>Bomet</td>\n",
       "      <td>Bomet</td>\n",
       "      <td>Sigor-Lelaitich Road</td>\n",
       "    </tr>\n",
       "    <tr>\n",
       "      <th>3052</th>\n",
       "      <td>621977</td>\n",
       "      <td>Kanyakwar_Riat</td>\n",
       "      <td>200000.0</td>\n",
       "      <td>-0.048260</td>\n",
       "      <td>34.753110</td>\n",
       "      <td>Kisumu</td>\n",
       "      <td>Kisumu</td>\n",
       "      <td>Riat University Street</td>\n",
       "    </tr>\n",
       "    <tr>\n",
       "      <th>3053</th>\n",
       "      <td>621979</td>\n",
       "      <td>Wiyumiririe ATC</td>\n",
       "      <td>120000.0</td>\n",
       "      <td>-0.097370</td>\n",
       "      <td>36.620550</td>\n",
       "      <td>Ndaragwa</td>\n",
       "      <td>Laikipia</td>\n",
       "      <td>Nyeri-Nyahururu Road</td>\n",
       "    </tr>\n",
       "    <tr>\n",
       "      <th>3054</th>\n",
       "      <td>621988</td>\n",
       "      <td>Chemalal Farm-Moi Barracks</td>\n",
       "      <td>150000.0</td>\n",
       "      <td>0.644100</td>\n",
       "      <td>35.167910</td>\n",
       "      <td>NaN</td>\n",
       "      <td>Uasin Gishu</td>\n",
       "      <td>Eldoret-Kitale Road</td>\n",
       "    </tr>\n",
       "    <tr>\n",
       "      <th>3055</th>\n",
       "      <td>621996</td>\n",
       "      <td>MAUA Shopping Centre</td>\n",
       "      <td>250000.0</td>\n",
       "      <td>0.230040</td>\n",
       "      <td>37.940950</td>\n",
       "      <td>Maua</td>\n",
       "      <td>Meru</td>\n",
       "      <td>Meru-Maua Road</td>\n",
       "    </tr>\n",
       "    <tr>\n",
       "      <th>3056</th>\n",
       "      <td>622015</td>\n",
       "      <td>Malindi Majivuni</td>\n",
       "      <td>600000.0</td>\n",
       "      <td>-3.202510</td>\n",
       "      <td>40.098720</td>\n",
       "      <td>Malindi</td>\n",
       "      <td>Kilifi</td>\n",
       "      <td>Mombasa-Malindi Road</td>\n",
       "    </tr>\n",
       "    <tr>\n",
       "      <th>3057</th>\n",
       "      <td>622043</td>\n",
       "      <td>Eastleigh_Captain_Mungai Relocation</td>\n",
       "      <td>2522000.0</td>\n",
       "      <td>-1.271730</td>\n",
       "      <td>36.847818</td>\n",
       "      <td>Nairobi</td>\n",
       "      <td>Nairobi</td>\n",
       "      <td>Captain Mungai Street, Eastleigh</td>\n",
       "    </tr>\n",
       "    <tr>\n",
       "      <th>3058</th>\n",
       "      <td>622105</td>\n",
       "      <td>Likoni Vyemani</td>\n",
       "      <td>750000.0</td>\n",
       "      <td>-4.099350</td>\n",
       "      <td>39.636470</td>\n",
       "      <td>Mombasa</td>\n",
       "      <td>Kwale</td>\n",
       "      <td>Likoni-Ukunda Road</td>\n",
       "    </tr>\n",
       "  </tbody>\n",
       "</table>\n",
       "</div>"
      ],
      "text/plain": [
       "      ATC ID                            Site Name  Initial Rent  Latitude  \\\n",
       "3009  621409                            Saika ATC      300000.0 -1.253100   \n",
       "3010  621423                   Githurai Mwihoko_2      900000.0 -1.226848   \n",
       "3011  621470                Kisumu_Nyamasaria ATC      750000.0 -0.106020   \n",
       "3012  621472                         Nakuru Mangu      500000.0 -0.218400   \n",
       "3013  621522                          Kisii Jogoo      200000.0 -0.677450   \n",
       "3014  621543                       GTC_Towers_IBS      400000.0 -1.270825   \n",
       "3015  621551                      Bungoma Cereals      460000.0  0.571940   \n",
       "3016  621554                        Bibirioni ATC      300000.0 -1.077740   \n",
       "3017  621572                     Kakamega_Matende      220000.0  0.262289   \n",
       "3018  621590                     Thika Emco Plaza      270000.0 -1.043260   \n",
       "3019  621628                     Kilifi_Kiwandani      750000.0 -3.603090   \n",
       "3020  621878               Migori_Wasweta_Creadex      250000.0 -1.062465   \n",
       "3021  621879                           Oriang ATC      150000.0 -0.403690   \n",
       "3022  621880                     Siaya Southlands      180000.0  0.048600   \n",
       "3023  621881                         Rotian ATC        150000.0 -0.967660   \n",
       "3024  621882                      Kabianga_Market      200000.0 -0.446770   \n",
       "3025  621884                Nakuru Rhonda Sewage       200000.0 -0.316907   \n",
       "3026  621885                  Kilifi_Charo_Wa_Mae      450000.0 -3.626300   \n",
       "3027  621886              Mombasa Makande ATC          900000.0 -4.039097   \n",
       "3028  621888             RONGAI BROOKLAND SCHOOL       450000.0 -1.401756   \n",
       "3029  621889                    Githurai PCEA          300000.0 -1.218404   \n",
       "3030  621891       Eastleigh Al-Kelem Heights          600000.0 -1.269896   \n",
       "3031  621892                 Roysambu Primary ATC      300000.0 -1.206277   \n",
       "3032  621894                    Dandora Phase III      300000.0 -1.248031   \n",
       "3033  621899                    Njiru_Chokaa_View      290000.0 -1.256909   \n",
       "3034  621900                    Oyugis Town ATC        180000.0 -0.506388   \n",
       "3035  621901                      KAG University       280000.0 -1.589314   \n",
       "3036  621913              Kaptagat Road Strawberg      690000.0  0.441580   \n",
       "3037  621915                      Kimuchi ATC          150000.0  0.637218   \n",
       "3038  621916                  Kisumu_Nyalunya          220000.0 -0.118230   \n",
       "3039  621917                 Bamburi Fisheries         250000.0 -4.000450   \n",
       "3040  621918                 Mariakani Mkwajuni        200000.0 -3.877040   \n",
       "3041  621919                              Joska_3      250000.0 -1.300271   \n",
       "3042  621920                          Kaumoni ATC      200000.0 -1.733254   \n",
       "3043  621921                             Kayole_5      400000.0 -1.270330   \n",
       "3044  621922                    Kitale Matisi          360000.0  1.039056   \n",
       "3045  621923                       Oloitoktok_new      540000.0 -2.925690   \n",
       "3046  621924                        Amalemba ATC       200000.0  0.266499   \n",
       "3047  621925                 Gatundu Gituamba          150000.0 -0.905503   \n",
       "3048  621927                    Ngondi_Naivasha        200000.0 -0.822698   \n",
       "3049  621973                   RIRUTA-KABIRIA_ATC      500000.0 -1.288150   \n",
       "3050  621974                   Kaplong New ATC         150000.0 -0.675860   \n",
       "3051  621975                    Lelaitich ATC          150000.0 -0.945256   \n",
       "3052  621977                     Kanyakwar_Riat        200000.0 -0.048260   \n",
       "3053  621979                   Wiyumiririe ATC         120000.0 -0.097370   \n",
       "3054  621988       Chemalal Farm-Moi Barracks          150000.0  0.644100   \n",
       "3055  621996                 MAUA Shopping Centre      250000.0  0.230040   \n",
       "3056  622015                     Malindi Majivuni      600000.0 -3.202510   \n",
       "3057  622043  Eastleigh_Captain_Mungai Relocation     2522000.0 -1.271730   \n",
       "3058  622105                   Likoni Vyemani          750000.0 -4.099350   \n",
       "\n",
       "      Longitude        City           County                            Street  \n",
       "3009  36.911770     Nairobi              NaN                               NaN  \n",
       "3010  36.970318     Nairobi           Kiambu                   Eastern By Pass  \n",
       "3011  34.788830      Kisumu           Kisumu               Kisumu-Nairobi Road  \n",
       "3012  35.971690      Nakuru           Nakuru                 Nakuru-Sigor Road  \n",
       "3013  34.783350       Kisii            Kisii                 Kisii-Kemera Road  \n",
       "3014  36.808752     Nairobi          Nairobi                       Waiyaki Way  \n",
       "3015  34.562370     Bungoma          Bungoma               Mumias-Bungoma Road  \n",
       "3016  36.633950     Nairobi           Kiambu            Nakuru-Nairobi Highway  \n",
       "3017  34.754912    Kakamega         Kakamega              Kisumu-Kakamega Road  \n",
       "3018  37.066740       Thika           Kiambu                Thika-Garissa Road  \n",
       "3019  39.856110      Kilifi           Kilifi              Mombasa-Malindi Road  \n",
       "3020  34.474079      Migori           Migori                 Rongo-Migori Road  \n",
       "3021  34.625830   Kendu Bay         Homa Bay           Kendu Bay-Homa Bay Road  \n",
       "3022  34.287210       Siaya            Siaya                  Bondo-Siaya Road  \n",
       "3023  35.899590       Narok            Narok             Narok-Enangiperi Road  \n",
       "3024  35.148280     Kericho          Kericho                     Kabianga Road  \n",
       "3025  36.054486      Nakuru           Nakuru                     Off west Road  \n",
       "3026  39.850650      Kilifi           Kilifi               Kilifi-Malindi Road  \n",
       "3027  39.654154     Mombasa          Mombasa                      Makande Road  \n",
       "3028  36.765307     Nairobi          Kajiado                  Ole Motondo Road  \n",
       "3029  36.931306     Nairobi           Kiambu                    Off Thika Road  \n",
       "3030  36.846872     Nairobi          Nairobi            Major Kinyanjui Street  \n",
       "3031  36.896246     Nairobi          Nairobi                   Off Kamiti Road  \n",
       "3032  36.907078     Nairobi          Nairobi          Off Muigai Kenyatta Road  \n",
       "3033  36.942733     Nairobi          Nairobi                 Off Kangundo Road  \n",
       "3034  34.734486      Oyugis         Homa Bay                 Kisii-Kisumu Road  \n",
       "3035  36.922385   Kitengela          Kajiado              Nairobi-Namanga Road  \n",
       "3036  35.432090     Eldoret      Uasin Gishu             Eldoret-Kaptagat Road  \n",
       "3037  35.453235     Eldoret  Elgeyo Marakwet                 Kerio Valley Road  \n",
       "3038  34.812230      Kisumu           Kisumu                    Off Kibos Road  \n",
       "3039  39.708640     Mombasa          Mombasa              Off Old Malindi Road  \n",
       "3040  39.486760     Mombasa           Kilifi                      Mombasa Road  \n",
       "3041  37.079318        Tala         Machakos                 Off Kangundo Road  \n",
       "3042  37.573589        Wote          Makueni              Itangini-Mwaani Road  \n",
       "3043  36.920910     Nairobi          Nairobi                       Kayole Road  \n",
       "3044  34.981987      Kitale      Trans-Nzoia                  Kitale-Suam Road  \n",
       "3045  37.512411  Oloitoktok          Kajiado                   Oloitoktok Road  \n",
       "3046  34.760333    Kakamega         Kakamega          Off Kisumu-Kakamega Road  \n",
       "3047  36.857638       Thika           Kiambu     Off Thika-Mang'u-Flyover Road  \n",
       "3048  36.204086    Naivasha           Nakuru             Naivasha-Kongoni Road  \n",
       "3049  36.737920     Nairobi          Nairobi                 Off Naivasha Road  \n",
       "3050  35.138255       Bomet            Bomet               Kaplong-Litein Road  \n",
       "3051  35.331979       Bomet            Bomet              Sigor-Lelaitich Road  \n",
       "3052  34.753110      Kisumu           Kisumu            Riat University Street  \n",
       "3053  36.620550    Ndaragwa         Laikipia              Nyeri-Nyahururu Road  \n",
       "3054  35.167910         NaN      Uasin Gishu               Eldoret-Kitale Road  \n",
       "3055  37.940950        Maua             Meru                    Meru-Maua Road  \n",
       "3056  40.098720     Malindi           Kilifi              Mombasa-Malindi Road  \n",
       "3057  36.847818     Nairobi          Nairobi  Captain Mungai Street, Eastleigh  \n",
       "3058  39.636470     Mombasa            Kwale                Likoni-Ukunda Road  "
      ]
     },
     "execution_count": 56,
     "metadata": {},
     "output_type": "execute_result"
    }
   ],
   "source": [
    "df.tail (50)"
   ]
  },
  {
   "cell_type": "markdown",
   "id": "12e58a64",
   "metadata": {},
   "source": [
    "To display specif rows, use\n",
    "df.loc-Rown index followed by column name\n",
    "df.shape-Shows the number of rows and colums"
   ]
  },
  {
   "cell_type": "code",
   "execution_count": 57,
   "id": "a6a4e712",
   "metadata": {},
   "outputs": [
    {
     "data": {
      "text/plain": [
       "(3059, 8)"
      ]
     },
     "execution_count": 57,
     "metadata": {},
     "output_type": "execute_result"
    }
   ],
   "source": [
    "df.shape"
   ]
  },
  {
   "cell_type": "code",
   "execution_count": 58,
   "id": "f573c734",
   "metadata": {},
   "outputs": [
    {
     "data": {
      "text/html": [
       "<div>\n",
       "<style scoped>\n",
       "    .dataframe tbody tr th:only-of-type {\n",
       "        vertical-align: middle;\n",
       "    }\n",
       "\n",
       "    .dataframe tbody tr th {\n",
       "        vertical-align: top;\n",
       "    }\n",
       "\n",
       "    .dataframe thead th {\n",
       "        text-align: right;\n",
       "    }\n",
       "</style>\n",
       "<table border=\"1\" class=\"dataframe\">\n",
       "  <thead>\n",
       "    <tr style=\"text-align: right;\">\n",
       "      <th></th>\n",
       "      <th>Initial Rent</th>\n",
       "    </tr>\n",
       "  </thead>\n",
       "  <tbody>\n",
       "    <tr>\n",
       "      <th>0</th>\n",
       "      <td>120000.0</td>\n",
       "    </tr>\n",
       "    <tr>\n",
       "      <th>1</th>\n",
       "      <td>200000.0</td>\n",
       "    </tr>\n",
       "    <tr>\n",
       "      <th>2</th>\n",
       "      <td>100000.0</td>\n",
       "    </tr>\n",
       "    <tr>\n",
       "      <th>3</th>\n",
       "      <td>469003.0</td>\n",
       "    </tr>\n",
       "    <tr>\n",
       "      <th>4</th>\n",
       "      <td>173522.0</td>\n",
       "    </tr>\n",
       "    <tr>\n",
       "      <th>...</th>\n",
       "      <td>...</td>\n",
       "    </tr>\n",
       "    <tr>\n",
       "      <th>3054</th>\n",
       "      <td>150000.0</td>\n",
       "    </tr>\n",
       "    <tr>\n",
       "      <th>3055</th>\n",
       "      <td>250000.0</td>\n",
       "    </tr>\n",
       "    <tr>\n",
       "      <th>3056</th>\n",
       "      <td>600000.0</td>\n",
       "    </tr>\n",
       "    <tr>\n",
       "      <th>3057</th>\n",
       "      <td>2522000.0</td>\n",
       "    </tr>\n",
       "    <tr>\n",
       "      <th>3058</th>\n",
       "      <td>750000.0</td>\n",
       "    </tr>\n",
       "  </tbody>\n",
       "</table>\n",
       "<p>3059 rows × 1 columns</p>\n",
       "</div>"
      ],
      "text/plain": [
       "      Initial Rent\n",
       "0         120000.0\n",
       "1         200000.0\n",
       "2         100000.0\n",
       "3         469003.0\n",
       "4         173522.0\n",
       "...            ...\n",
       "3054      150000.0\n",
       "3055      250000.0\n",
       "3056      600000.0\n",
       "3057     2522000.0\n",
       "3058      750000.0\n",
       "\n",
       "[3059 rows x 1 columns]"
      ]
     },
     "execution_count": 58,
     "metadata": {},
     "output_type": "execute_result"
    }
   ],
   "source": [
    "df.loc [:,[\"Initial Rent\"]]"
   ]
  },
  {
   "cell_type": "markdown",
   "id": "59cacf1a",
   "metadata": {},
   "source": [
    "df.dtypes to know the data types in your data"
   ]
  },
  {
   "cell_type": "code",
   "execution_count": 59,
   "id": "4c8c3706",
   "metadata": {},
   "outputs": [
    {
     "data": {
      "text/plain": [
       "ATC ID            int64\n",
       "Site Name        object\n",
       "Initial Rent    float64\n",
       "Latitude        float64\n",
       "Longitude       float64\n",
       "City             object\n",
       "County           object\n",
       "Street           object\n",
       "dtype: object"
      ]
     },
     "execution_count": 59,
     "metadata": {},
     "output_type": "execute_result"
    }
   ],
   "source": [
    "df.dtypes"
   ]
  },
  {
   "cell_type": "code",
   "execution_count": 60,
   "id": "1d651d38",
   "metadata": {},
   "outputs": [
    {
     "name": "stdout",
     "output_type": "stream",
     "text": [
      "<class 'pandas.core.frame.DataFrame'>\n",
      "RangeIndex: 3059 entries, 0 to 3058\n",
      "Data columns (total 8 columns):\n",
      " #   Column        Non-Null Count  Dtype  \n",
      "---  ------        --------------  -----  \n",
      " 0   ATC ID        3059 non-null   int64  \n",
      " 1   Site Name     3059 non-null   object \n",
      " 2   Initial Rent  3059 non-null   float64\n",
      " 3   Latitude      3059 non-null   float64\n",
      " 4   Longitude     3059 non-null   float64\n",
      " 5   City          3057 non-null   object \n",
      " 6   County        3058 non-null   object \n",
      " 7   Street        2668 non-null   object \n",
      "dtypes: float64(3), int64(1), object(4)\n",
      "memory usage: 191.3+ KB\n"
     ]
    }
   ],
   "source": [
    "df.info ()"
   ]
  },
  {
   "cell_type": "markdown",
   "id": "f7b2ce86",
   "metadata": {},
   "source": [
    "df.describe()-Descriptive Statistics"
   ]
  },
  {
   "cell_type": "markdown",
   "id": "a72a2a29",
   "metadata": {},
   "source": [
    "To retrieve all values for an entire column \n",
    "df['Initial Rent']"
   ]
  },
  {
   "cell_type": "code",
   "execution_count": 61,
   "id": "4008cdd6",
   "metadata": {},
   "outputs": [
    {
     "data": {
      "text/plain": [
       "0        120000.0\n",
       "1        200000.0\n",
       "2        100000.0\n",
       "3        469003.0\n",
       "4        173522.0\n",
       "          ...    \n",
       "3054     150000.0\n",
       "3055     250000.0\n",
       "3056     600000.0\n",
       "3057    2522000.0\n",
       "3058     750000.0\n",
       "Name: Initial Rent, Length: 3059, dtype: float64"
      ]
     },
     "execution_count": 61,
     "metadata": {},
     "output_type": "execute_result"
    }
   ],
   "source": [
    "df['Initial Rent']"
   ]
  },
  {
   "cell_type": "code",
   "execution_count": 62,
   "id": "7959eb6d",
   "metadata": {},
   "outputs": [],
   "source": [
    "df['Initial Rent'] = df['Initial Rent'].astype(int)"
   ]
  },
  {
   "cell_type": "code",
   "execution_count": 63,
   "id": "1f126c0c",
   "metadata": {},
   "outputs": [],
   "source": [
    "pd.set_option('display.float_format', lambda x: '%.9f' % x)"
   ]
  },
  {
   "cell_type": "code",
   "execution_count": 64,
   "id": "b24827bb",
   "metadata": {},
   "outputs": [
    {
     "data": {
      "text/html": [
       "<div>\n",
       "<style scoped>\n",
       "    .dataframe tbody tr th:only-of-type {\n",
       "        vertical-align: middle;\n",
       "    }\n",
       "\n",
       "    .dataframe tbody tr th {\n",
       "        vertical-align: top;\n",
       "    }\n",
       "\n",
       "    .dataframe thead th {\n",
       "        text-align: right;\n",
       "    }\n",
       "</style>\n",
       "<table border=\"1\" class=\"dataframe\">\n",
       "  <thead>\n",
       "    <tr style=\"text-align: right;\">\n",
       "      <th></th>\n",
       "      <th>ATC ID</th>\n",
       "      <th>Initial Rent</th>\n",
       "      <th>Latitude</th>\n",
       "      <th>Longitude</th>\n",
       "    </tr>\n",
       "  </thead>\n",
       "  <tbody>\n",
       "    <tr>\n",
       "      <th>count</th>\n",
       "      <td>3059.000000000</td>\n",
       "      <td>3059.000000000</td>\n",
       "      <td>3059.000000000</td>\n",
       "      <td>3059.000000000</td>\n",
       "    </tr>\n",
       "    <tr>\n",
       "      <th>mean</th>\n",
       "      <td>619696.518470088</td>\n",
       "      <td>351303.033344230</td>\n",
       "      <td>-0.826059550</td>\n",
       "      <td>36.671848317</td>\n",
       "    </tr>\n",
       "    <tr>\n",
       "      <th>std</th>\n",
       "      <td>1018.532703991</td>\n",
       "      <td>362678.184067139</td>\n",
       "      <td>1.419344821</td>\n",
       "      <td>1.586371564</td>\n",
       "    </tr>\n",
       "    <tr>\n",
       "      <th>min</th>\n",
       "      <td>618001.000000000</td>\n",
       "      <td>59400.000000000</td>\n",
       "      <td>-4.659480000</td>\n",
       "      <td>33.977251000</td>\n",
       "    </tr>\n",
       "    <tr>\n",
       "      <th>25%</th>\n",
       "      <td>618859.500000000</td>\n",
       "      <td>150000.000000000</td>\n",
       "      <td>-1.301454000</td>\n",
       "      <td>35.286543000</td>\n",
       "    </tr>\n",
       "    <tr>\n",
       "      <th>50%</th>\n",
       "      <td>619639.000000000</td>\n",
       "      <td>217800.000000000</td>\n",
       "      <td>-0.857513000</td>\n",
       "      <td>36.788762000</td>\n",
       "    </tr>\n",
       "    <tr>\n",
       "      <th>75%</th>\n",
       "      <td>620580.500000000</td>\n",
       "      <td>400000.000000000</td>\n",
       "      <td>-0.049131500</td>\n",
       "      <td>37.285040000</td>\n",
       "    </tr>\n",
       "    <tr>\n",
       "      <th>max</th>\n",
       "      <td>622105.000000000</td>\n",
       "      <td>3960000.000000000</td>\n",
       "      <td>4.642572000</td>\n",
       "      <td>41.859578000</td>\n",
       "    </tr>\n",
       "  </tbody>\n",
       "</table>\n",
       "</div>"
      ],
      "text/plain": [
       "                ATC ID      Initial Rent       Latitude      Longitude\n",
       "count   3059.000000000    3059.000000000 3059.000000000 3059.000000000\n",
       "mean  619696.518470088  351303.033344230   -0.826059550   36.671848317\n",
       "std     1018.532703991  362678.184067139    1.419344821    1.586371564\n",
       "min   618001.000000000   59400.000000000   -4.659480000   33.977251000\n",
       "25%   618859.500000000  150000.000000000   -1.301454000   35.286543000\n",
       "50%   619639.000000000  217800.000000000   -0.857513000   36.788762000\n",
       "75%   620580.500000000  400000.000000000   -0.049131500   37.285040000\n",
       "max   622105.000000000 3960000.000000000    4.642572000   41.859578000"
      ]
     },
     "execution_count": 64,
     "metadata": {},
     "output_type": "execute_result"
    }
   ],
   "source": [
    "df.describe()"
   ]
  },
  {
   "cell_type": "code",
   "execution_count": 65,
   "id": "ba9bd0bd",
   "metadata": {},
   "outputs": [
    {
     "data": {
      "text/html": [
       "<div>\n",
       "<style scoped>\n",
       "    .dataframe tbody tr th:only-of-type {\n",
       "        vertical-align: middle;\n",
       "    }\n",
       "\n",
       "    .dataframe tbody tr th {\n",
       "        vertical-align: top;\n",
       "    }\n",
       "\n",
       "    .dataframe thead th {\n",
       "        text-align: right;\n",
       "    }\n",
       "</style>\n",
       "<table border=\"1\" class=\"dataframe\">\n",
       "  <thead>\n",
       "    <tr style=\"text-align: right;\">\n",
       "      <th></th>\n",
       "      <th>ATC ID</th>\n",
       "      <th>Initial Rent</th>\n",
       "      <th>Latitude</th>\n",
       "      <th>Longitude</th>\n",
       "    </tr>\n",
       "  </thead>\n",
       "  <tbody>\n",
       "    <tr>\n",
       "      <th>count</th>\n",
       "      <td>3059.000000000</td>\n",
       "      <td>3059.000000000</td>\n",
       "      <td>3059.000000000</td>\n",
       "      <td>3059.000000000</td>\n",
       "    </tr>\n",
       "    <tr>\n",
       "      <th>mean</th>\n",
       "      <td>619696.518470088</td>\n",
       "      <td>351303.033344230</td>\n",
       "      <td>-0.826059550</td>\n",
       "      <td>36.671848317</td>\n",
       "    </tr>\n",
       "    <tr>\n",
       "      <th>std</th>\n",
       "      <td>1018.532703991</td>\n",
       "      <td>362678.184067139</td>\n",
       "      <td>1.419344821</td>\n",
       "      <td>1.586371564</td>\n",
       "    </tr>\n",
       "    <tr>\n",
       "      <th>min</th>\n",
       "      <td>618001.000000000</td>\n",
       "      <td>59400.000000000</td>\n",
       "      <td>-4.659480000</td>\n",
       "      <td>33.977251000</td>\n",
       "    </tr>\n",
       "    <tr>\n",
       "      <th>25%</th>\n",
       "      <td>618859.500000000</td>\n",
       "      <td>150000.000000000</td>\n",
       "      <td>-1.301454000</td>\n",
       "      <td>35.286543000</td>\n",
       "    </tr>\n",
       "    <tr>\n",
       "      <th>50%</th>\n",
       "      <td>619639.000000000</td>\n",
       "      <td>217800.000000000</td>\n",
       "      <td>-0.857513000</td>\n",
       "      <td>36.788762000</td>\n",
       "    </tr>\n",
       "    <tr>\n",
       "      <th>75%</th>\n",
       "      <td>620580.500000000</td>\n",
       "      <td>400000.000000000</td>\n",
       "      <td>-0.049131500</td>\n",
       "      <td>37.285040000</td>\n",
       "    </tr>\n",
       "    <tr>\n",
       "      <th>max</th>\n",
       "      <td>622105.000000000</td>\n",
       "      <td>3960000.000000000</td>\n",
       "      <td>4.642572000</td>\n",
       "      <td>41.859578000</td>\n",
       "    </tr>\n",
       "  </tbody>\n",
       "</table>\n",
       "</div>"
      ],
      "text/plain": [
       "                ATC ID      Initial Rent       Latitude      Longitude\n",
       "count   3059.000000000    3059.000000000 3059.000000000 3059.000000000\n",
       "mean  619696.518470088  351303.033344230   -0.826059550   36.671848317\n",
       "std     1018.532703991  362678.184067139    1.419344821    1.586371564\n",
       "min   618001.000000000   59400.000000000   -4.659480000   33.977251000\n",
       "25%   618859.500000000  150000.000000000   -1.301454000   35.286543000\n",
       "50%   619639.000000000  217800.000000000   -0.857513000   36.788762000\n",
       "75%   620580.500000000  400000.000000000   -0.049131500   37.285040000\n",
       "max   622105.000000000 3960000.000000000    4.642572000   41.859578000"
      ]
     },
     "execution_count": 65,
     "metadata": {},
     "output_type": "execute_result"
    }
   ],
   "source": [
    "df.describe()"
   ]
  },
  {
   "cell_type": "markdown",
   "id": "99d7632a",
   "metadata": {},
   "source": [
    "From the above statistics, the maximum rent is KES. 3,960,000. Upon review, the specific site is located within Nairobi CBD and the rent paid was for 4 years that means rent for one year is 3,960,000/4 which is KES. 990,000.\n",
    "\n",
    "On the other hand, the minimum rent is KES. 59,400 . This amount is paid for an easement and right of way to the company's  site which is located on a hill in the remote parts of Kisii County."
   ]
  },
  {
   "cell_type": "markdown",
   "id": "9301694b",
   "metadata": {},
   "source": [
    "### Analysis of Counties in order of Land Rents Paid to landlords"
   ]
  },
  {
   "cell_type": "code",
   "execution_count": 68,
   "id": "be77a437",
   "metadata": {},
   "outputs": [
    {
     "data": {
      "text/plain": [
       "County\n",
       "Baringo             10234787\n",
       "Bomet                4480066\n",
       "Bungoma             13895369\n",
       "Busia                9562899\n",
       "Elgeyo Marakwet      3582836\n",
       "Embu                16773713\n",
       "Garissa              7843944\n",
       "Homa Bay             7598443\n",
       "Isiolo               3573021\n",
       "Kajiado             21249465\n",
       "Kakamega            14936292\n",
       "Kericho             14044822\n",
       "Kiambu              60544076\n",
       "Kilifi              32025643\n",
       "Kirinyaga           10507627\n",
       "Kisii               16869714\n",
       "Kisumu              31492144\n",
       "Kitui               17244971\n",
       "Kwale               17216853\n",
       "Laikipia            13581242\n",
       "Lamu                 6060144\n",
       "Machakos            31109123\n",
       "Makueni             14950256\n",
       "Mandera              6545610\n",
       "Marsabit             5788097\n",
       "Meru                20479137\n",
       "Migori              12021658\n",
       "Mombasa             72469806\n",
       "Murang'a            15188834\n",
       "Nairobi            358737278\n",
       "Nakuru              52532732\n",
       "Nandi                6771228\n",
       "Narok               14456380\n",
       "Nyamira              3811175\n",
       "Nyandarua           10322950\n",
       "Nyeri               18689330\n",
       "Samburu              2888468\n",
       "Siaya                8815579\n",
       "Taita-Taveta        12000962\n",
       "Tana River           9085602\n",
       "Tharaka-Nithi        2076000\n",
       "Trans-Nzoia          7386881\n",
       "Turkana              5503467\n",
       "Uasin Gishu         38391998\n",
       "Vihiga               3244446\n",
       "Wajir                2180998\n",
       "West Pokot           5569913\n",
       "Name: Initial Rent, dtype: int32"
      ]
     },
     "execution_count": 68,
     "metadata": {},
     "output_type": "execute_result"
    }
   ],
   "source": [
    "df.groupby('County')['Initial Rent'].sum()"
   ]
  },
  {
   "cell_type": "markdown",
   "id": "c2da3862",
   "metadata": {},
   "source": [
    "Again, highest rent is paid in Nairobi City County due to the high land values"
   ]
  },
  {
   "cell_type": "code",
   "execution_count": 136,
   "id": "1593392e",
   "metadata": {},
   "outputs": [],
   "source": [
    "import matplotlib.pyplot as plt"
   ]
  },
  {
   "cell_type": "markdown",
   "id": "d78dd716",
   "metadata": {},
   "source": [
    "plt.bar(X,Y)-Bar Graph\n",
    "plt.plot(X,Y)-Line Graph\n",
    "plt.pie-Pie Chart"
   ]
  },
  {
   "cell_type": "code",
   "execution_count": 69,
   "id": "9295a6bf",
   "metadata": {},
   "outputs": [
    {
     "data": {
      "image/png": "[encoded data removed]",
      "text/plain": [
       "<Figure size 640x480 with 1 Axes>"
      ]
     },
     "metadata": {},
     "output_type": "display_data"
    }
   ],
   "source": [
    "df.groupby('County')['Initial Rent'].sum().plot (kind='bar')\n",
    "plt.xlabel ('Counties')\n",
    "plt.ylabel ('Sum of Rent Paid to Landlords in One Year (Billions)')\n",
    "plt.title ('Analysis of the total rent paid to Landlords in Various Counties per year', size=12)\n",
    "plt.savefig('Total Rent Paid to landlords in Various Counties Per Year')\n",
    "plt.xticks(size=5)\n",
    "plt.show()"
   ]
  },
  {
   "cell_type": "markdown",
   "id": "2f263576",
   "metadata": {},
   "source": [
    "From the above Bar Graph, we can clearly see that the amount of rent paid per County is highest is Nairobi City County. This is so because of the high land values in the city as opposed to other counties. Also, the population in Nairobi City is higher because of rural-urban migration as people search for better jobs and in turn better livelihood."
   ]
  },
  {
   "cell_type": "code",
   "execution_count": 70,
   "id": "031e3755",
   "metadata": {},
   "outputs": [
    {
     "data": {
      "text/plain": [
       "ATC ID            0\n",
       "Site Name         0\n",
       "Initial Rent      0\n",
       "Latitude          0\n",
       "Longitude         0\n",
       "City              2\n",
       "County            1\n",
       "Street          391\n",
       "dtype: int64"
      ]
     },
     "execution_count": 70,
     "metadata": {},
     "output_type": "execute_result"
    }
   ],
   "source": [
    "df.isna().sum()"
   ]
  },
  {
   "cell_type": "code",
   "execution_count": 111,
   "id": "360439b7",
   "metadata": {},
   "outputs": [],
   "source": [
    "import pandas as pd\n",
    "import os"
   ]
  },
  {
   "cell_type": "markdown",
   "id": "bd3697e8",
   "metadata": {},
   "source": [
    "Know missing values\n",
    "df.isna().sum()"
   ]
  },
  {
   "cell_type": "markdown",
   "id": "105eed4d",
   "metadata": {},
   "source": [
    "## To check number of telecommunication towers per county"
   ]
  },
  {
   "cell_type": "code",
   "execution_count": 31,
   "id": "3e869223",
   "metadata": {},
   "outputs": [
    {
     "data": {
      "text/plain": [
       "Nairobi            605\n",
       "Nakuru             196\n",
       "Kiambu             168\n",
       "Mombasa            131\n",
       "Uasin Gishu        117\n",
       "Kisumu             112\n",
       "Machakos            98\n",
       "Kilifi              90\n",
       "Meru                75\n",
       "Bungoma             73\n",
       "Kajiado             70\n",
       "Kakamega            68\n",
       "Nyeri               67\n",
       "Narok               65\n",
       "Makueni             62\n",
       "Kitui               61\n",
       "Kericho             58\n",
       "Kisii               56\n",
       "Murang'a            55\n",
       "Migori              53\n",
       "Siaya               48\n",
       "Laikipia            47\n",
       "Kwale               46\n",
       "Baringo             45\n",
       "Busia               44\n",
       "Homa Bay            41\n",
       "Garissa             38\n",
       "Nandi               36\n",
       "Turkana             35\n",
       "Tana River          33\n",
       "Trans-Nzoia         32\n",
       "Taita-Taveta        30\n",
       "Embu                30\n",
       "Kirinyaga           30\n",
       "Marsabit            28\n",
       "Nyandarua           28\n",
       "Bomet               28\n",
       "West Pokot          26\n",
       "Elgeyo Marakwet     20\n",
       "Nyamira             19\n",
       "Mandera             17\n",
       "Vihiga              16\n",
       "Lamu                15\n",
       "Isiolo              13\n",
       "Samburu             12\n",
       "Tharaka-Nithi       11\n",
       "Wajir               10\n",
       "Name: County, dtype: int64"
      ]
     },
     "execution_count": 31,
     "metadata": {},
     "output_type": "execute_result"
    }
   ],
   "source": [
    "import pandas as pd\n",
    "file_path = 'C:/Users/Betty.Ogato/OneDrive - American Tower/Betsy/Betty Ogato Files/Betsy Personal Work/Data Science Course/My_Final_Project.csv'\n",
    "df = pd.read_csv(file_path)\n",
    "df\n",
    "df['County'].value_counts()"
   ]
  },
  {
   "cell_type": "code",
   "execution_count": 71,
   "id": "8d17b15d",
   "metadata": {},
   "outputs": [
    {
     "data": {
      "text/html": [
       "<div>\n",
       "<style scoped>\n",
       "    .dataframe tbody tr th:only-of-type {\n",
       "        vertical-align: middle;\n",
       "    }\n",
       "\n",
       "    .dataframe tbody tr th {\n",
       "        vertical-align: top;\n",
       "    }\n",
       "\n",
       "    .dataframe thead th {\n",
       "        text-align: right;\n",
       "    }\n",
       "</style>\n",
       "<table border=\"1\" class=\"dataframe\">\n",
       "  <thead>\n",
       "    <tr style=\"text-align: right;\">\n",
       "      <th></th>\n",
       "      <th>County</th>\n",
       "      <th>ATC ID</th>\n",
       "      <th>Site Name</th>\n",
       "      <th>Initial Rent</th>\n",
       "      <th>Latitude</th>\n",
       "      <th>Longitude</th>\n",
       "      <th>City</th>\n",
       "      <th>Street</th>\n",
       "    </tr>\n",
       "  </thead>\n",
       "  <tbody>\n",
       "    <tr>\n",
       "      <th>0</th>\n",
       "      <td>Baringo</td>\n",
       "      <td>45</td>\n",
       "      <td>45</td>\n",
       "      <td>45</td>\n",
       "      <td>45</td>\n",
       "      <td>45</td>\n",
       "      <td>45</td>\n",
       "      <td>36</td>\n",
       "    </tr>\n",
       "    <tr>\n",
       "      <th>1</th>\n",
       "      <td>Bomet</td>\n",
       "      <td>28</td>\n",
       "      <td>28</td>\n",
       "      <td>28</td>\n",
       "      <td>28</td>\n",
       "      <td>28</td>\n",
       "      <td>28</td>\n",
       "      <td>28</td>\n",
       "    </tr>\n",
       "    <tr>\n",
       "      <th>2</th>\n",
       "      <td>Bungoma</td>\n",
       "      <td>73</td>\n",
       "      <td>73</td>\n",
       "      <td>73</td>\n",
       "      <td>73</td>\n",
       "      <td>73</td>\n",
       "      <td>73</td>\n",
       "      <td>65</td>\n",
       "    </tr>\n",
       "    <tr>\n",
       "      <th>3</th>\n",
       "      <td>Busia</td>\n",
       "      <td>44</td>\n",
       "      <td>44</td>\n",
       "      <td>44</td>\n",
       "      <td>44</td>\n",
       "      <td>44</td>\n",
       "      <td>44</td>\n",
       "      <td>40</td>\n",
       "    </tr>\n",
       "    <tr>\n",
       "      <th>4</th>\n",
       "      <td>Elgeyo Marakwet</td>\n",
       "      <td>20</td>\n",
       "      <td>20</td>\n",
       "      <td>20</td>\n",
       "      <td>20</td>\n",
       "      <td>20</td>\n",
       "      <td>20</td>\n",
       "      <td>17</td>\n",
       "    </tr>\n",
       "    <tr>\n",
       "      <th>5</th>\n",
       "      <td>Embu</td>\n",
       "      <td>30</td>\n",
       "      <td>30</td>\n",
       "      <td>30</td>\n",
       "      <td>30</td>\n",
       "      <td>30</td>\n",
       "      <td>30</td>\n",
       "      <td>25</td>\n",
       "    </tr>\n",
       "    <tr>\n",
       "      <th>6</th>\n",
       "      <td>Garissa</td>\n",
       "      <td>38</td>\n",
       "      <td>38</td>\n",
       "      <td>38</td>\n",
       "      <td>38</td>\n",
       "      <td>38</td>\n",
       "      <td>38</td>\n",
       "      <td>23</td>\n",
       "    </tr>\n",
       "    <tr>\n",
       "      <th>7</th>\n",
       "      <td>Homa Bay</td>\n",
       "      <td>41</td>\n",
       "      <td>41</td>\n",
       "      <td>41</td>\n",
       "      <td>41</td>\n",
       "      <td>41</td>\n",
       "      <td>41</td>\n",
       "      <td>37</td>\n",
       "    </tr>\n",
       "    <tr>\n",
       "      <th>8</th>\n",
       "      <td>Isiolo</td>\n",
       "      <td>13</td>\n",
       "      <td>13</td>\n",
       "      <td>13</td>\n",
       "      <td>13</td>\n",
       "      <td>13</td>\n",
       "      <td>13</td>\n",
       "      <td>10</td>\n",
       "    </tr>\n",
       "    <tr>\n",
       "      <th>9</th>\n",
       "      <td>Kajiado</td>\n",
       "      <td>70</td>\n",
       "      <td>70</td>\n",
       "      <td>70</td>\n",
       "      <td>70</td>\n",
       "      <td>70</td>\n",
       "      <td>70</td>\n",
       "      <td>55</td>\n",
       "    </tr>\n",
       "    <tr>\n",
       "      <th>10</th>\n",
       "      <td>Kakamega</td>\n",
       "      <td>68</td>\n",
       "      <td>68</td>\n",
       "      <td>68</td>\n",
       "      <td>68</td>\n",
       "      <td>68</td>\n",
       "      <td>68</td>\n",
       "      <td>63</td>\n",
       "    </tr>\n",
       "    <tr>\n",
       "      <th>11</th>\n",
       "      <td>Kericho</td>\n",
       "      <td>58</td>\n",
       "      <td>58</td>\n",
       "      <td>58</td>\n",
       "      <td>58</td>\n",
       "      <td>58</td>\n",
       "      <td>58</td>\n",
       "      <td>53</td>\n",
       "    </tr>\n",
       "    <tr>\n",
       "      <th>12</th>\n",
       "      <td>Kiambu</td>\n",
       "      <td>168</td>\n",
       "      <td>168</td>\n",
       "      <td>168</td>\n",
       "      <td>168</td>\n",
       "      <td>168</td>\n",
       "      <td>168</td>\n",
       "      <td>151</td>\n",
       "    </tr>\n",
       "    <tr>\n",
       "      <th>13</th>\n",
       "      <td>Kilifi</td>\n",
       "      <td>90</td>\n",
       "      <td>90</td>\n",
       "      <td>90</td>\n",
       "      <td>90</td>\n",
       "      <td>90</td>\n",
       "      <td>90</td>\n",
       "      <td>81</td>\n",
       "    </tr>\n",
       "    <tr>\n",
       "      <th>14</th>\n",
       "      <td>Kirinyaga</td>\n",
       "      <td>30</td>\n",
       "      <td>30</td>\n",
       "      <td>30</td>\n",
       "      <td>30</td>\n",
       "      <td>30</td>\n",
       "      <td>30</td>\n",
       "      <td>27</td>\n",
       "    </tr>\n",
       "    <tr>\n",
       "      <th>15</th>\n",
       "      <td>Kisii</td>\n",
       "      <td>56</td>\n",
       "      <td>56</td>\n",
       "      <td>56</td>\n",
       "      <td>56</td>\n",
       "      <td>56</td>\n",
       "      <td>56</td>\n",
       "      <td>48</td>\n",
       "    </tr>\n",
       "    <tr>\n",
       "      <th>16</th>\n",
       "      <td>Kisumu</td>\n",
       "      <td>112</td>\n",
       "      <td>112</td>\n",
       "      <td>112</td>\n",
       "      <td>112</td>\n",
       "      <td>112</td>\n",
       "      <td>112</td>\n",
       "      <td>105</td>\n",
       "    </tr>\n",
       "    <tr>\n",
       "      <th>17</th>\n",
       "      <td>Kitui</td>\n",
       "      <td>61</td>\n",
       "      <td>61</td>\n",
       "      <td>61</td>\n",
       "      <td>61</td>\n",
       "      <td>61</td>\n",
       "      <td>61</td>\n",
       "      <td>40</td>\n",
       "    </tr>\n",
       "    <tr>\n",
       "      <th>18</th>\n",
       "      <td>Kwale</td>\n",
       "      <td>46</td>\n",
       "      <td>46</td>\n",
       "      <td>46</td>\n",
       "      <td>46</td>\n",
       "      <td>46</td>\n",
       "      <td>46</td>\n",
       "      <td>40</td>\n",
       "    </tr>\n",
       "    <tr>\n",
       "      <th>19</th>\n",
       "      <td>Laikipia</td>\n",
       "      <td>47</td>\n",
       "      <td>47</td>\n",
       "      <td>47</td>\n",
       "      <td>47</td>\n",
       "      <td>47</td>\n",
       "      <td>47</td>\n",
       "      <td>47</td>\n",
       "    </tr>\n",
       "    <tr>\n",
       "      <th>20</th>\n",
       "      <td>Lamu</td>\n",
       "      <td>15</td>\n",
       "      <td>15</td>\n",
       "      <td>15</td>\n",
       "      <td>15</td>\n",
       "      <td>15</td>\n",
       "      <td>15</td>\n",
       "      <td>11</td>\n",
       "    </tr>\n",
       "    <tr>\n",
       "      <th>21</th>\n",
       "      <td>Machakos</td>\n",
       "      <td>98</td>\n",
       "      <td>98</td>\n",
       "      <td>98</td>\n",
       "      <td>98</td>\n",
       "      <td>98</td>\n",
       "      <td>97</td>\n",
       "      <td>85</td>\n",
       "    </tr>\n",
       "    <tr>\n",
       "      <th>22</th>\n",
       "      <td>Makueni</td>\n",
       "      <td>62</td>\n",
       "      <td>62</td>\n",
       "      <td>62</td>\n",
       "      <td>62</td>\n",
       "      <td>62</td>\n",
       "      <td>62</td>\n",
       "      <td>41</td>\n",
       "    </tr>\n",
       "    <tr>\n",
       "      <th>23</th>\n",
       "      <td>Mandera</td>\n",
       "      <td>17</td>\n",
       "      <td>17</td>\n",
       "      <td>17</td>\n",
       "      <td>17</td>\n",
       "      <td>17</td>\n",
       "      <td>17</td>\n",
       "      <td>16</td>\n",
       "    </tr>\n",
       "    <tr>\n",
       "      <th>24</th>\n",
       "      <td>Marsabit</td>\n",
       "      <td>28</td>\n",
       "      <td>28</td>\n",
       "      <td>28</td>\n",
       "      <td>28</td>\n",
       "      <td>28</td>\n",
       "      <td>28</td>\n",
       "      <td>23</td>\n",
       "    </tr>\n",
       "    <tr>\n",
       "      <th>25</th>\n",
       "      <td>Meru</td>\n",
       "      <td>75</td>\n",
       "      <td>75</td>\n",
       "      <td>75</td>\n",
       "      <td>75</td>\n",
       "      <td>75</td>\n",
       "      <td>75</td>\n",
       "      <td>68</td>\n",
       "    </tr>\n",
       "    <tr>\n",
       "      <th>26</th>\n",
       "      <td>Migori</td>\n",
       "      <td>53</td>\n",
       "      <td>53</td>\n",
       "      <td>53</td>\n",
       "      <td>53</td>\n",
       "      <td>53</td>\n",
       "      <td>53</td>\n",
       "      <td>36</td>\n",
       "    </tr>\n",
       "    <tr>\n",
       "      <th>27</th>\n",
       "      <td>Mombasa</td>\n",
       "      <td>131</td>\n",
       "      <td>131</td>\n",
       "      <td>131</td>\n",
       "      <td>131</td>\n",
       "      <td>131</td>\n",
       "      <td>131</td>\n",
       "      <td>122</td>\n",
       "    </tr>\n",
       "    <tr>\n",
       "      <th>28</th>\n",
       "      <td>Murang'a</td>\n",
       "      <td>55</td>\n",
       "      <td>55</td>\n",
       "      <td>55</td>\n",
       "      <td>55</td>\n",
       "      <td>55</td>\n",
       "      <td>55</td>\n",
       "      <td>50</td>\n",
       "    </tr>\n",
       "    <tr>\n",
       "      <th>29</th>\n",
       "      <td>Nairobi</td>\n",
       "      <td>605</td>\n",
       "      <td>605</td>\n",
       "      <td>605</td>\n",
       "      <td>605</td>\n",
       "      <td>605</td>\n",
       "      <td>605</td>\n",
       "      <td>567</td>\n",
       "    </tr>\n",
       "    <tr>\n",
       "      <th>30</th>\n",
       "      <td>Nakuru</td>\n",
       "      <td>196</td>\n",
       "      <td>196</td>\n",
       "      <td>196</td>\n",
       "      <td>196</td>\n",
       "      <td>196</td>\n",
       "      <td>196</td>\n",
       "      <td>173</td>\n",
       "    </tr>\n",
       "    <tr>\n",
       "      <th>31</th>\n",
       "      <td>Nandi</td>\n",
       "      <td>36</td>\n",
       "      <td>36</td>\n",
       "      <td>36</td>\n",
       "      <td>36</td>\n",
       "      <td>36</td>\n",
       "      <td>36</td>\n",
       "      <td>32</td>\n",
       "    </tr>\n",
       "    <tr>\n",
       "      <th>32</th>\n",
       "      <td>Narok</td>\n",
       "      <td>65</td>\n",
       "      <td>65</td>\n",
       "      <td>65</td>\n",
       "      <td>65</td>\n",
       "      <td>65</td>\n",
       "      <td>65</td>\n",
       "      <td>44</td>\n",
       "    </tr>\n",
       "    <tr>\n",
       "      <th>33</th>\n",
       "      <td>Nyamira</td>\n",
       "      <td>19</td>\n",
       "      <td>19</td>\n",
       "      <td>19</td>\n",
       "      <td>19</td>\n",
       "      <td>19</td>\n",
       "      <td>19</td>\n",
       "      <td>16</td>\n",
       "    </tr>\n",
       "    <tr>\n",
       "      <th>34</th>\n",
       "      <td>Nyandarua</td>\n",
       "      <td>28</td>\n",
       "      <td>28</td>\n",
       "      <td>28</td>\n",
       "      <td>28</td>\n",
       "      <td>28</td>\n",
       "      <td>28</td>\n",
       "      <td>25</td>\n",
       "    </tr>\n",
       "    <tr>\n",
       "      <th>35</th>\n",
       "      <td>Nyeri</td>\n",
       "      <td>67</td>\n",
       "      <td>67</td>\n",
       "      <td>67</td>\n",
       "      <td>67</td>\n",
       "      <td>67</td>\n",
       "      <td>67</td>\n",
       "      <td>63</td>\n",
       "    </tr>\n",
       "    <tr>\n",
       "      <th>36</th>\n",
       "      <td>Samburu</td>\n",
       "      <td>12</td>\n",
       "      <td>12</td>\n",
       "      <td>12</td>\n",
       "      <td>12</td>\n",
       "      <td>12</td>\n",
       "      <td>12</td>\n",
       "      <td>8</td>\n",
       "    </tr>\n",
       "    <tr>\n",
       "      <th>37</th>\n",
       "      <td>Siaya</td>\n",
       "      <td>48</td>\n",
       "      <td>48</td>\n",
       "      <td>48</td>\n",
       "      <td>48</td>\n",
       "      <td>48</td>\n",
       "      <td>48</td>\n",
       "      <td>44</td>\n",
       "    </tr>\n",
       "    <tr>\n",
       "      <th>38</th>\n",
       "      <td>Taita-Taveta</td>\n",
       "      <td>30</td>\n",
       "      <td>30</td>\n",
       "      <td>30</td>\n",
       "      <td>30</td>\n",
       "      <td>30</td>\n",
       "      <td>30</td>\n",
       "      <td>23</td>\n",
       "    </tr>\n",
       "    <tr>\n",
       "      <th>39</th>\n",
       "      <td>Tana River</td>\n",
       "      <td>33</td>\n",
       "      <td>33</td>\n",
       "      <td>33</td>\n",
       "      <td>33</td>\n",
       "      <td>33</td>\n",
       "      <td>33</td>\n",
       "      <td>19</td>\n",
       "    </tr>\n",
       "    <tr>\n",
       "      <th>40</th>\n",
       "      <td>Tharaka-Nithi</td>\n",
       "      <td>11</td>\n",
       "      <td>11</td>\n",
       "      <td>11</td>\n",
       "      <td>11</td>\n",
       "      <td>11</td>\n",
       "      <td>11</td>\n",
       "      <td>8</td>\n",
       "    </tr>\n",
       "    <tr>\n",
       "      <th>41</th>\n",
       "      <td>Trans-Nzoia</td>\n",
       "      <td>32</td>\n",
       "      <td>32</td>\n",
       "      <td>32</td>\n",
       "      <td>32</td>\n",
       "      <td>32</td>\n",
       "      <td>32</td>\n",
       "      <td>30</td>\n",
       "    </tr>\n",
       "    <tr>\n",
       "      <th>42</th>\n",
       "      <td>Turkana</td>\n",
       "      <td>35</td>\n",
       "      <td>35</td>\n",
       "      <td>35</td>\n",
       "      <td>35</td>\n",
       "      <td>35</td>\n",
       "      <td>35</td>\n",
       "      <td>22</td>\n",
       "    </tr>\n",
       "    <tr>\n",
       "      <th>43</th>\n",
       "      <td>Uasin Gishu</td>\n",
       "      <td>117</td>\n",
       "      <td>117</td>\n",
       "      <td>117</td>\n",
       "      <td>117</td>\n",
       "      <td>117</td>\n",
       "      <td>116</td>\n",
       "      <td>111</td>\n",
       "    </tr>\n",
       "    <tr>\n",
       "      <th>44</th>\n",
       "      <td>Vihiga</td>\n",
       "      <td>16</td>\n",
       "      <td>16</td>\n",
       "      <td>16</td>\n",
       "      <td>16</td>\n",
       "      <td>16</td>\n",
       "      <td>16</td>\n",
       "      <td>16</td>\n",
       "    </tr>\n",
       "    <tr>\n",
       "      <th>45</th>\n",
       "      <td>Wajir</td>\n",
       "      <td>10</td>\n",
       "      <td>10</td>\n",
       "      <td>10</td>\n",
       "      <td>10</td>\n",
       "      <td>10</td>\n",
       "      <td>10</td>\n",
       "      <td>6</td>\n",
       "    </tr>\n",
       "    <tr>\n",
       "      <th>46</th>\n",
       "      <td>West Pokot</td>\n",
       "      <td>26</td>\n",
       "      <td>26</td>\n",
       "      <td>26</td>\n",
       "      <td>26</td>\n",
       "      <td>26</td>\n",
       "      <td>26</td>\n",
       "      <td>18</td>\n",
       "    </tr>\n",
       "  </tbody>\n",
       "</table>\n",
       "</div>"
      ],
      "text/plain": [
       "             County  ATC ID  Site Name  Initial Rent  Latitude  Longitude  \\\n",
       "0           Baringo      45         45            45        45         45   \n",
       "1             Bomet      28         28            28        28         28   \n",
       "2           Bungoma      73         73            73        73         73   \n",
       "3             Busia      44         44            44        44         44   \n",
       "4   Elgeyo Marakwet      20         20            20        20         20   \n",
       "5              Embu      30         30            30        30         30   \n",
       "6           Garissa      38         38            38        38         38   \n",
       "7          Homa Bay      41         41            41        41         41   \n",
       "8            Isiolo      13         13            13        13         13   \n",
       "9           Kajiado      70         70            70        70         70   \n",
       "10         Kakamega      68         68            68        68         68   \n",
       "11          Kericho      58         58            58        58         58   \n",
       "12           Kiambu     168        168           168       168        168   \n",
       "13           Kilifi      90         90            90        90         90   \n",
       "14        Kirinyaga      30         30            30        30         30   \n",
       "15            Kisii      56         56            56        56         56   \n",
       "16           Kisumu     112        112           112       112        112   \n",
       "17            Kitui      61         61            61        61         61   \n",
       "18            Kwale      46         46            46        46         46   \n",
       "19         Laikipia      47         47            47        47         47   \n",
       "20             Lamu      15         15            15        15         15   \n",
       "21         Machakos      98         98            98        98         98   \n",
       "22          Makueni      62         62            62        62         62   \n",
       "23          Mandera      17         17            17        17         17   \n",
       "24         Marsabit      28         28            28        28         28   \n",
       "25             Meru      75         75            75        75         75   \n",
       "26           Migori      53         53            53        53         53   \n",
       "27          Mombasa     131        131           131       131        131   \n",
       "28         Murang'a      55         55            55        55         55   \n",
       "29          Nairobi     605        605           605       605        605   \n",
       "30           Nakuru     196        196           196       196        196   \n",
       "31            Nandi      36         36            36        36         36   \n",
       "32            Narok      65         65            65        65         65   \n",
       "33          Nyamira      19         19            19        19         19   \n",
       "34        Nyandarua      28         28            28        28         28   \n",
       "35            Nyeri      67         67            67        67         67   \n",
       "36          Samburu      12         12            12        12         12   \n",
       "37            Siaya      48         48            48        48         48   \n",
       "38     Taita-Taveta      30         30            30        30         30   \n",
       "39       Tana River      33         33            33        33         33   \n",
       "40    Tharaka-Nithi      11         11            11        11         11   \n",
       "41      Trans-Nzoia      32         32            32        32         32   \n",
       "42          Turkana      35         35            35        35         35   \n",
       "43      Uasin Gishu     117        117           117       117        117   \n",
       "44           Vihiga      16         16            16        16         16   \n",
       "45            Wajir      10         10            10        10         10   \n",
       "46       West Pokot      26         26            26        26         26   \n",
       "\n",
       "    City  Street  \n",
       "0     45      36  \n",
       "1     28      28  \n",
       "2     73      65  \n",
       "3     44      40  \n",
       "4     20      17  \n",
       "5     30      25  \n",
       "6     38      23  \n",
       "7     41      37  \n",
       "8     13      10  \n",
       "9     70      55  \n",
       "10    68      63  \n",
       "11    58      53  \n",
       "12   168     151  \n",
       "13    90      81  \n",
       "14    30      27  \n",
       "15    56      48  \n",
       "16   112     105  \n",
       "17    61      40  \n",
       "18    46      40  \n",
       "19    47      47  \n",
       "20    15      11  \n",
       "21    97      85  \n",
       "22    62      41  \n",
       "23    17      16  \n",
       "24    28      23  \n",
       "25    75      68  \n",
       "26    53      36  \n",
       "27   131     122  \n",
       "28    55      50  \n",
       "29   605     567  \n",
       "30   196     173  \n",
       "31    36      32  \n",
       "32    65      44  \n",
       "33    19      16  \n",
       "34    28      25  \n",
       "35    67      63  \n",
       "36    12       8  \n",
       "37    48      44  \n",
       "38    30      23  \n",
       "39    33      19  \n",
       "40    11       8  \n",
       "41    32      30  \n",
       "42    35      22  \n",
       "43   116     111  \n",
       "44    16      16  \n",
       "45    10       6  \n",
       "46    26      18  "
      ]
     },
     "execution_count": 71,
     "metadata": {},
     "output_type": "execute_result"
    }
   ],
   "source": [
    "df.groupby('County').count(). reset_index()"
   ]
  },
  {
   "cell_type": "code",
   "execution_count": 72,
   "id": "e76a3c69",
   "metadata": {},
   "outputs": [
    {
     "name": "stderr",
     "output_type": "stream",
     "text": [
      "C:\\Users\\Betty.Ogato\\AppData\\Local\\Temp\\ipykernel_16444\\1959668013.py:2: FutureWarning:\n",
      "\n",
      "In a future version of pandas, a length 1 tuple will be returned when iterating over a groupby with a grouper equal to a list of length 1. Don't supply a list with a single grouper to avoid this warning.\n",
      "\n"
     ]
    },
    {
     "data": {
      "image/png": "[encoded data removed]",
      "text/plain": [
       "<Figure size 640x480 with 1 Axes>"
      ]
     },
     "metadata": {},
     "output_type": "display_data"
    }
   ],
   "source": [
    "import matplotlib.pyplot as plt\n",
    "County=[County for County, df in df.groupby (['County'])]\n",
    "df.groupby('County')['Site Name'].count() .plot (kind='bar')\n",
    "plt.xlabel ('Counties')\n",
    "plt.ylabel ('Total Number of Telecommunication Towers')\n",
    "plt.title ('Analysis of the Total Number of Telecommunication Towers per County', size =12)\n",
    "plt.xticks(size=5)\n",
    "plt.savefig('Number of Telecommunication Towers Per County')\n",
    "\n",
    "plt.show()"
   ]
  },
  {
   "cell_type": "markdown",
   "id": "67e64fb4",
   "metadata": {},
   "source": [
    "The number of telecommunication Towers Per County is dependent on the population distribution in those Counties. That is to say, the higher the population, the more the numebr of Telecommunication Towers.\n",
    "Population Distribution Per County is shown below:"
   ]
  },
  {
   "cell_type": "code",
   "execution_count": 43,
   "id": "44ab016e",
   "metadata": {},
   "outputs": [
    {
     "data": {
      "text/html": [
       "<div>\n",
       "<style scoped>\n",
       "    .dataframe tbody tr th:only-of-type {\n",
       "        vertical-align: middle;\n",
       "    }\n",
       "\n",
       "    .dataframe tbody tr th {\n",
       "        vertical-align: top;\n",
       "    }\n",
       "\n",
       "    .dataframe thead th {\n",
       "        text-align: right;\n",
       "    }\n",
       "</style>\n",
       "<table border=\"1\" class=\"dataframe\">\n",
       "  <thead>\n",
       "    <tr style=\"text-align: right;\">\n",
       "      <th></th>\n",
       "      <th>Kenya Population 2019</th>\n",
       "      <th>Unnamed: 1</th>\n",
       "      <th>Unnamed: 2</th>\n",
       "    </tr>\n",
       "  </thead>\n",
       "  <tbody>\n",
       "    <tr>\n",
       "      <th>0</th>\n",
       "      <td>County</td>\n",
       "      <td>Total</td>\n",
       "      <td>Persons per Square Km</td>\n",
       "    </tr>\n",
       "    <tr>\n",
       "      <th>1</th>\n",
       "      <td>Mombasa</td>\n",
       "      <td>1,208,333</td>\n",
       "      <td>5,495</td>\n",
       "    </tr>\n",
       "    <tr>\n",
       "      <th>2</th>\n",
       "      <td>Kwale</td>\n",
       "      <td>866,820</td>\n",
       "      <td>105</td>\n",
       "    </tr>\n",
       "    <tr>\n",
       "      <th>3</th>\n",
       "      <td>Kilifi</td>\n",
       "      <td>1,453,787</td>\n",
       "      <td>116</td>\n",
       "    </tr>\n",
       "    <tr>\n",
       "      <th>4</th>\n",
       "      <td>Tana River</td>\n",
       "      <td>315,943</td>\n",
       "      <td>8</td>\n",
       "    </tr>\n",
       "    <tr>\n",
       "      <th>5</th>\n",
       "      <td>Lamu</td>\n",
       "      <td>143,920</td>\n",
       "      <td>23</td>\n",
       "    </tr>\n",
       "    <tr>\n",
       "      <th>6</th>\n",
       "      <td>Taita Taveta</td>\n",
       "      <td>340,671</td>\n",
       "      <td>20</td>\n",
       "    </tr>\n",
       "    <tr>\n",
       "      <th>7</th>\n",
       "      <td>Garissa</td>\n",
       "      <td>841,353</td>\n",
       "      <td>19</td>\n",
       "    </tr>\n",
       "    <tr>\n",
       "      <th>8</th>\n",
       "      <td>Wajir</td>\n",
       "      <td>781,263</td>\n",
       "      <td>14</td>\n",
       "    </tr>\n",
       "    <tr>\n",
       "      <th>9</th>\n",
       "      <td>Mandera</td>\n",
       "      <td>867,457</td>\n",
       "      <td>33</td>\n",
       "    </tr>\n",
       "    <tr>\n",
       "      <th>10</th>\n",
       "      <td>Marsabit</td>\n",
       "      <td>459,785</td>\n",
       "      <td>6</td>\n",
       "    </tr>\n",
       "    <tr>\n",
       "      <th>11</th>\n",
       "      <td>Isiolo</td>\n",
       "      <td>268,002</td>\n",
       "      <td>11</td>\n",
       "    </tr>\n",
       "    <tr>\n",
       "      <th>12</th>\n",
       "      <td>Meru</td>\n",
       "      <td>1,545,714</td>\n",
       "      <td>221</td>\n",
       "    </tr>\n",
       "    <tr>\n",
       "      <th>13</th>\n",
       "      <td>Tharaka-Nithi</td>\n",
       "      <td>393,177</td>\n",
       "      <td>153</td>\n",
       "    </tr>\n",
       "    <tr>\n",
       "      <th>14</th>\n",
       "      <td>Embu</td>\n",
       "      <td>608,599</td>\n",
       "      <td>216</td>\n",
       "    </tr>\n",
       "    <tr>\n",
       "      <th>15</th>\n",
       "      <td>Kitui</td>\n",
       "      <td>1,136,187</td>\n",
       "      <td>37</td>\n",
       "    </tr>\n",
       "    <tr>\n",
       "      <th>16</th>\n",
       "      <td>Machakos</td>\n",
       "      <td>1,421,932</td>\n",
       "      <td>235</td>\n",
       "    </tr>\n",
       "    <tr>\n",
       "      <th>17</th>\n",
       "      <td>Makueni</td>\n",
       "      <td>987,653</td>\n",
       "      <td>121</td>\n",
       "    </tr>\n",
       "    <tr>\n",
       "      <th>18</th>\n",
       "      <td>Nyandarua</td>\n",
       "      <td>638,289</td>\n",
       "      <td>194</td>\n",
       "    </tr>\n",
       "    <tr>\n",
       "      <th>19</th>\n",
       "      <td>Nyeri</td>\n",
       "      <td>759,164</td>\n",
       "      <td>228</td>\n",
       "    </tr>\n",
       "    <tr>\n",
       "      <th>20</th>\n",
       "      <td>Kirinyaga</td>\n",
       "      <td>610,411</td>\n",
       "      <td>413</td>\n",
       "    </tr>\n",
       "    <tr>\n",
       "      <th>21</th>\n",
       "      <td>Murang'a</td>\n",
       "      <td>1,056,640</td>\n",
       "      <td>419</td>\n",
       "    </tr>\n",
       "    <tr>\n",
       "      <th>22</th>\n",
       "      <td>Kiambu</td>\n",
       "      <td>2,417,735</td>\n",
       "      <td>952</td>\n",
       "    </tr>\n",
       "    <tr>\n",
       "      <th>23</th>\n",
       "      <td>Turkana</td>\n",
       "      <td>926,976</td>\n",
       "      <td>14</td>\n",
       "    </tr>\n",
       "    <tr>\n",
       "      <th>24</th>\n",
       "      <td>West Pokot</td>\n",
       "      <td>621,241</td>\n",
       "      <td>68</td>\n",
       "    </tr>\n",
       "    <tr>\n",
       "      <th>25</th>\n",
       "      <td>Samburu</td>\n",
       "      <td>310,327</td>\n",
       "      <td>15</td>\n",
       "    </tr>\n",
       "    <tr>\n",
       "      <th>26</th>\n",
       "      <td>Trans Nzoia</td>\n",
       "      <td>990,341</td>\n",
       "      <td>397</td>\n",
       "    </tr>\n",
       "    <tr>\n",
       "      <th>27</th>\n",
       "      <td>Uasin Gishu</td>\n",
       "      <td>1,163,186</td>\n",
       "      <td>343</td>\n",
       "    </tr>\n",
       "    <tr>\n",
       "      <th>28</th>\n",
       "      <td>Elgeyo Marakwet</td>\n",
       "      <td>454,480</td>\n",
       "      <td>150</td>\n",
       "    </tr>\n",
       "    <tr>\n",
       "      <th>29</th>\n",
       "      <td>Nandi</td>\n",
       "      <td>885,711</td>\n",
       "      <td>310</td>\n",
       "    </tr>\n",
       "    <tr>\n",
       "      <th>30</th>\n",
       "      <td>Baringo</td>\n",
       "      <td>666,763</td>\n",
       "      <td>61</td>\n",
       "    </tr>\n",
       "    <tr>\n",
       "      <th>31</th>\n",
       "      <td>Laikipia</td>\n",
       "      <td>518,560</td>\n",
       "      <td>54</td>\n",
       "    </tr>\n",
       "    <tr>\n",
       "      <th>32</th>\n",
       "      <td>Nakuru</td>\n",
       "      <td>2,162,202</td>\n",
       "      <td>290</td>\n",
       "    </tr>\n",
       "    <tr>\n",
       "      <th>33</th>\n",
       "      <td>Narok</td>\n",
       "      <td>1,157,873</td>\n",
       "      <td>65</td>\n",
       "    </tr>\n",
       "    <tr>\n",
       "      <th>34</th>\n",
       "      <td>Kajiado</td>\n",
       "      <td>1,117,840</td>\n",
       "      <td>51</td>\n",
       "    </tr>\n",
       "    <tr>\n",
       "      <th>35</th>\n",
       "      <td>Kericho</td>\n",
       "      <td>901,777</td>\n",
       "      <td>370</td>\n",
       "    </tr>\n",
       "    <tr>\n",
       "      <th>36</th>\n",
       "      <td>Bomet</td>\n",
       "      <td>875,689</td>\n",
       "      <td>346</td>\n",
       "    </tr>\n",
       "    <tr>\n",
       "      <th>37</th>\n",
       "      <td>Kakamega</td>\n",
       "      <td>1,867,579</td>\n",
       "      <td>618</td>\n",
       "    </tr>\n",
       "    <tr>\n",
       "      <th>38</th>\n",
       "      <td>Vihiga</td>\n",
       "      <td>590,013</td>\n",
       "      <td>1,047</td>\n",
       "    </tr>\n",
       "    <tr>\n",
       "      <th>39</th>\n",
       "      <td>Bungoma</td>\n",
       "      <td>1,670,570</td>\n",
       "      <td>552</td>\n",
       "    </tr>\n",
       "    <tr>\n",
       "      <th>40</th>\n",
       "      <td>Busia</td>\n",
       "      <td>893,681</td>\n",
       "      <td>527</td>\n",
       "    </tr>\n",
       "    <tr>\n",
       "      <th>41</th>\n",
       "      <td>Siaya</td>\n",
       "      <td>993,183</td>\n",
       "      <td>393</td>\n",
       "    </tr>\n",
       "    <tr>\n",
       "      <th>42</th>\n",
       "      <td>Kisumu</td>\n",
       "      <td>1,155,574</td>\n",
       "      <td>554</td>\n",
       "    </tr>\n",
       "    <tr>\n",
       "      <th>43</th>\n",
       "      <td>HomaBay</td>\n",
       "      <td>1,131,950</td>\n",
       "      <td>359</td>\n",
       "    </tr>\n",
       "    <tr>\n",
       "      <th>44</th>\n",
       "      <td>Migor</td>\n",
       "      <td>1,116,436</td>\n",
       "      <td>427</td>\n",
       "    </tr>\n",
       "    <tr>\n",
       "      <th>45</th>\n",
       "      <td>Kisii</td>\n",
       "      <td>1,266,860</td>\n",
       "      <td>958</td>\n",
       "    </tr>\n",
       "    <tr>\n",
       "      <th>46</th>\n",
       "      <td>Nyamira</td>\n",
       "      <td>605,576</td>\n",
       "      <td>675</td>\n",
       "    </tr>\n",
       "    <tr>\n",
       "      <th>47</th>\n",
       "      <td>Nairobi</td>\n",
       "      <td>4,397,073</td>\n",
       "      <td>6,247</td>\n",
       "    </tr>\n",
       "    <tr>\n",
       "      <th>48</th>\n",
       "      <td>Total</td>\n",
       "      <td>47,564,296</td>\n",
       "      <td>82</td>\n",
       "    </tr>\n",
       "  </tbody>\n",
       "</table>\n",
       "</div>"
      ],
      "text/plain": [
       "   Kenya Population 2019  Unnamed: 1             Unnamed: 2\n",
       "0                 County       Total  Persons per Square Km\n",
       "1                Mombasa   1,208,333                  5,495\n",
       "2                  Kwale     866,820                    105\n",
       "3                 Kilifi   1,453,787                    116\n",
       "4             Tana River     315,943                      8\n",
       "5                   Lamu     143,920                     23\n",
       "6           Taita Taveta     340,671                     20\n",
       "7                Garissa     841,353                     19\n",
       "8                  Wajir     781,263                     14\n",
       "9                Mandera     867,457                     33\n",
       "10              Marsabit     459,785                      6\n",
       "11                Isiolo     268,002                     11\n",
       "12                  Meru   1,545,714                    221\n",
       "13         Tharaka-Nithi     393,177                    153\n",
       "14                  Embu     608,599                    216\n",
       "15                 Kitui   1,136,187                     37\n",
       "16              Machakos   1,421,932                    235\n",
       "17               Makueni     987,653                    121\n",
       "18             Nyandarua     638,289                    194\n",
       "19                 Nyeri     759,164                    228\n",
       "20             Kirinyaga     610,411                    413\n",
       "21              Murang'a   1,056,640                    419\n",
       "22                Kiambu   2,417,735                    952\n",
       "23               Turkana     926,976                     14\n",
       "24            West Pokot     621,241                     68\n",
       "25               Samburu     310,327                     15\n",
       "26           Trans Nzoia     990,341                    397\n",
       "27           Uasin Gishu   1,163,186                    343\n",
       "28       Elgeyo Marakwet     454,480                    150\n",
       "29                 Nandi     885,711                    310\n",
       "30               Baringo     666,763                     61\n",
       "31              Laikipia     518,560                     54\n",
       "32                Nakuru   2,162,202                    290\n",
       "33                 Narok   1,157,873                     65\n",
       "34               Kajiado   1,117,840                     51\n",
       "35               Kericho     901,777                    370\n",
       "36                 Bomet     875,689                    346\n",
       "37              Kakamega   1,867,579                    618\n",
       "38                Vihiga     590,013                  1,047\n",
       "39               Bungoma   1,670,570                    552\n",
       "40                 Busia     893,681                    527\n",
       "41                 Siaya     993,183                    393\n",
       "42                Kisumu   1,155,574                    554\n",
       "43               HomaBay   1,131,950                    359\n",
       "44                 Migor   1,116,436                    427\n",
       "45                 Kisii   1,266,860                    958\n",
       "46               Nyamira     605,576                    675\n",
       "47               Nairobi   4,397,073                  6,247\n",
       "48                 Total  47,564,296                     82"
      ]
     },
     "execution_count": 43,
     "metadata": {},
     "output_type": "execute_result"
    }
   ],
   "source": [
    "import pandas as pd\n",
    "import plotly.express as px\n",
    "file_path = 'C:/Users/Betty.Ogato/OneDrive - American Tower/Betsy/Betty Ogato Files/Betsy Personal Work/Data Science Course/Kenya Population 2019.csv'\n",
    "df = pd.read_csv(file_path)\n",
    "df\n"
   ]
  },
  {
   "cell_type": "markdown",
   "id": "9487496c",
   "metadata": {},
   "source": [
    "### Analysis ot Total rent Paid to Counties Per Year Vs The Total No. of Telecommunication Towers"
   ]
  },
  {
   "cell_type": "code",
   "execution_count": 2,
   "id": "ae5d4d9a",
   "metadata": {},
   "outputs": [],
   "source": [
    "import matplotlib.pyplot as plt\n",
    "#  import matplotlib.img as mimg"
   ]
  },
  {
   "cell_type": "code",
   "execution_count": 73,
   "id": "b375f88d",
   "metadata": {},
   "outputs": [
    {
     "data": {
      "text/html": [
       "<div>\n",
       "<style scoped>\n",
       "    .dataframe tbody tr th:only-of-type {\n",
       "        vertical-align: middle;\n",
       "    }\n",
       "\n",
       "    .dataframe tbody tr th {\n",
       "        vertical-align: top;\n",
       "    }\n",
       "\n",
       "    .dataframe thead th {\n",
       "        text-align: right;\n",
       "    }\n",
       "</style>\n",
       "<table border=\"1\" class=\"dataframe\">\n",
       "  <thead>\n",
       "    <tr style=\"text-align: right;\">\n",
       "      <th></th>\n",
       "      <th>ATC ID</th>\n",
       "      <th>Site Name</th>\n",
       "      <th>Initial Rent</th>\n",
       "      <th>Latitude</th>\n",
       "      <th>Longitude</th>\n",
       "      <th>City</th>\n",
       "      <th>County</th>\n",
       "      <th>Street</th>\n",
       "    </tr>\n",
       "  </thead>\n",
       "  <tbody>\n",
       "    <tr>\n",
       "      <th>0</th>\n",
       "      <td>618001</td>\n",
       "      <td>Bungoma Stadium</td>\n",
       "      <td>120000.000000000</td>\n",
       "      <td>0.591345000</td>\n",
       "      <td>34.552905000</td>\n",
       "      <td>Bungoma</td>\n",
       "      <td>Bungoma</td>\n",
       "      <td>Mumias - Bungoma Rd</td>\n",
       "    </tr>\n",
       "    <tr>\n",
       "      <th>1</th>\n",
       "      <td>618002</td>\n",
       "      <td>Bungoma South</td>\n",
       "      <td>200000.000000000</td>\n",
       "      <td>0.558877000</td>\n",
       "      <td>34.560273000</td>\n",
       "      <td>Bungoma</td>\n",
       "      <td>Bungoma</td>\n",
       "      <td>Mumias - Bungoma Rd</td>\n",
       "    </tr>\n",
       "    <tr>\n",
       "      <th>2</th>\n",
       "      <td>618003</td>\n",
       "      <td>Busia Lwero</td>\n",
       "      <td>100000.000000000</td>\n",
       "      <td>0.459231000</td>\n",
       "      <td>34.117860000</td>\n",
       "      <td>Busia</td>\n",
       "      <td>Busia</td>\n",
       "      <td>Kisumu - Busia Rd</td>\n",
       "    </tr>\n",
       "    <tr>\n",
       "      <th>3</th>\n",
       "      <td>618004</td>\n",
       "      <td>Leisure Lodge</td>\n",
       "      <td>469003.000000000</td>\n",
       "      <td>-4.278270000</td>\n",
       "      <td>39.590513000</td>\n",
       "      <td>Mombasa</td>\n",
       "      <td>Mombasa</td>\n",
       "      <td>Diani Beach Road</td>\n",
       "    </tr>\n",
       "    <tr>\n",
       "      <th>4</th>\n",
       "      <td>618005</td>\n",
       "      <td>Diani Exchange</td>\n",
       "      <td>173522.000000000</td>\n",
       "      <td>-4.303082000</td>\n",
       "      <td>39.579153000</td>\n",
       "      <td>Mombasa</td>\n",
       "      <td>Mombasa</td>\n",
       "      <td>Diani Beach Road</td>\n",
       "    </tr>\n",
       "    <tr>\n",
       "      <th>...</th>\n",
       "      <td>...</td>\n",
       "      <td>...</td>\n",
       "      <td>...</td>\n",
       "      <td>...</td>\n",
       "      <td>...</td>\n",
       "      <td>...</td>\n",
       "      <td>...</td>\n",
       "      <td>...</td>\n",
       "    </tr>\n",
       "    <tr>\n",
       "      <th>3054</th>\n",
       "      <td>621988</td>\n",
       "      <td>Chemalal Farm-Moi Barracks</td>\n",
       "      <td>150000.000000000</td>\n",
       "      <td>0.644100000</td>\n",
       "      <td>35.167910000</td>\n",
       "      <td>NaN</td>\n",
       "      <td>Uasin Gishu</td>\n",
       "      <td>Eldoret-Kitale Road</td>\n",
       "    </tr>\n",
       "    <tr>\n",
       "      <th>3055</th>\n",
       "      <td>621996</td>\n",
       "      <td>MAUA Shopping Centre</td>\n",
       "      <td>250000.000000000</td>\n",
       "      <td>0.230040000</td>\n",
       "      <td>37.940950000</td>\n",
       "      <td>Maua</td>\n",
       "      <td>Meru</td>\n",
       "      <td>Meru-Maua Road</td>\n",
       "    </tr>\n",
       "    <tr>\n",
       "      <th>3056</th>\n",
       "      <td>622015</td>\n",
       "      <td>Malindi Majivuni</td>\n",
       "      <td>600000.000000000</td>\n",
       "      <td>-3.202510000</td>\n",
       "      <td>40.098720000</td>\n",
       "      <td>Malindi</td>\n",
       "      <td>Kilifi</td>\n",
       "      <td>Mombasa-Malindi Road</td>\n",
       "    </tr>\n",
       "    <tr>\n",
       "      <th>3057</th>\n",
       "      <td>622043</td>\n",
       "      <td>Eastleigh_Captain_Mungai Relocation</td>\n",
       "      <td>2522000.000000000</td>\n",
       "      <td>-1.271730000</td>\n",
       "      <td>36.847818000</td>\n",
       "      <td>Nairobi</td>\n",
       "      <td>Nairobi</td>\n",
       "      <td>Captain Mungai Street, Eastleigh</td>\n",
       "    </tr>\n",
       "    <tr>\n",
       "      <th>3058</th>\n",
       "      <td>622105</td>\n",
       "      <td>Likoni Vyemani</td>\n",
       "      <td>750000.000000000</td>\n",
       "      <td>-4.099350000</td>\n",
       "      <td>39.636470000</td>\n",
       "      <td>Mombasa</td>\n",
       "      <td>Kwale</td>\n",
       "      <td>Likoni-Ukunda Road</td>\n",
       "    </tr>\n",
       "  </tbody>\n",
       "</table>\n",
       "<p>3059 rows × 8 columns</p>\n",
       "</div>"
      ],
      "text/plain": [
       "      ATC ID                            Site Name      Initial Rent  \\\n",
       "0     618001                      Bungoma Stadium  120000.000000000   \n",
       "1     618002                        Bungoma South  200000.000000000   \n",
       "2     618003                          Busia Lwero  100000.000000000   \n",
       "3     618004                        Leisure Lodge  469003.000000000   \n",
       "4     618005                       Diani Exchange  173522.000000000   \n",
       "...      ...                                  ...               ...   \n",
       "3054  621988       Chemalal Farm-Moi Barracks      150000.000000000   \n",
       "3055  621996                 MAUA Shopping Centre  250000.000000000   \n",
       "3056  622015                     Malindi Majivuni  600000.000000000   \n",
       "3057  622043  Eastleigh_Captain_Mungai Relocation 2522000.000000000   \n",
       "3058  622105                   Likoni Vyemani      750000.000000000   \n",
       "\n",
       "         Latitude    Longitude     City       County  \\\n",
       "0     0.591345000 34.552905000  Bungoma      Bungoma   \n",
       "1     0.558877000 34.560273000  Bungoma      Bungoma   \n",
       "2     0.459231000 34.117860000    Busia        Busia   \n",
       "3    -4.278270000 39.590513000  Mombasa      Mombasa   \n",
       "4    -4.303082000 39.579153000  Mombasa      Mombasa   \n",
       "...           ...          ...      ...          ...   \n",
       "3054  0.644100000 35.167910000      NaN  Uasin Gishu   \n",
       "3055  0.230040000 37.940950000     Maua         Meru   \n",
       "3056 -3.202510000 40.098720000  Malindi       Kilifi   \n",
       "3057 -1.271730000 36.847818000  Nairobi      Nairobi   \n",
       "3058 -4.099350000 39.636470000  Mombasa        Kwale   \n",
       "\n",
       "                                Street  \n",
       "0                  Mumias - Bungoma Rd  \n",
       "1                  Mumias - Bungoma Rd  \n",
       "2                    Kisumu - Busia Rd  \n",
       "3                     Diani Beach Road  \n",
       "4                     Diani Beach Road  \n",
       "...                                ...  \n",
       "3054               Eldoret-Kitale Road  \n",
       "3055                    Meru-Maua Road  \n",
       "3056              Mombasa-Malindi Road  \n",
       "3057  Captain Mungai Street, Eastleigh  \n",
       "3058                Likoni-Ukunda Road  \n",
       "\n",
       "[3059 rows x 8 columns]"
      ]
     },
     "execution_count": 73,
     "metadata": {},
     "output_type": "execute_result"
    }
   ],
   "source": [
    "import pandas as pd\n",
    "import os\n",
    "file_path = 'C:/Users/Betty.Ogato/OneDrive - American Tower/Betsy/Betty Ogato Files/Betsy Personal Work/Data Science Course/My_Final_Project.csv'\n",
    "df = pd.read_csv(file_path)\n",
    "df"
   ]
  },
  {
   "cell_type": "markdown",
   "id": "93f8f1b0",
   "metadata": {},
   "source": [
    "### Analysis of Initial rent Distribution"
   ]
  },
  {
   "cell_type": "code",
   "execution_count": 74,
   "id": "3f786c09",
   "metadata": {},
   "outputs": [
    {
     "data": {
      "image/png": "[encoded data removed]",
      "text/plain": [
       "<Figure size 640x480 with 1 Axes>"
      ]
     },
     "metadata": {},
     "output_type": "display_data"
    }
   ],
   "source": [
    "import matplotlib.pyplot as plt\n",
    "Initial_rent= (df['Initial Rent'])\n",
    "Initial_rent\n",
    "plt.hist(Initial_rent)\n",
    "pd.set_option('display.float_format', lambda x: '%.9f' % x)"
   ]
  },
  {
   "cell_type": "markdown",
   "id": "3562e29e",
   "metadata": {},
   "source": [
    "### Identification of Outliers"
   ]
  },
  {
   "cell_type": "code",
   "execution_count": 75,
   "id": "c4eb53f8",
   "metadata": {},
   "outputs": [
    {
     "data": {
      "text/plain": [
       "count      3059.000000000\n",
       "mean     351303.033801896\n",
       "std      362678.184163516\n",
       "min       59400.000000000\n",
       "25%      150000.000000000\n",
       "50%      217800.000000000\n",
       "75%      400000.000000000\n",
       "max     3960000.000000000\n",
       "Name: Initial Rent, dtype: float64"
      ]
     },
     "execution_count": 75,
     "metadata": {},
     "output_type": "execute_result"
    }
   ],
   "source": [
    "Initial_rent= (df['Initial Rent'])\n",
    "Initial_rent\n",
    "Initial_rent.describe()\n"
   ]
  },
  {
   "cell_type": "code",
   "execution_count": 4,
   "id": "e4d42779",
   "metadata": {},
   "outputs": [
    {
     "data": {
      "image/png": "[encoded data removed]",
      "text/plain": [
       "<Figure size 640x480 with 1 Axes>"
      ]
     },
     "metadata": {},
     "output_type": "display_data"
    }
   ],
   "source": [
    "import pandas as pd\n",
    "import matplotlib.pyplot as plt\n",
    "file_path = 'C:/Users/Betty.Ogato/OneDrive - American Tower/Betsy/Betty Ogato Files/Betsy Personal Work/Data Science Course/My_Final_Project.csv'\n",
    "df = pd.read_csv(file_path)\n",
    "df\n",
    "Initial_rent= (df['Initial Rent'])\n",
    "Initial_rent\n",
    "Initial_rent.describe()\n",
    "plt.boxplot(Initial_rent)\n",
    "plt.show()"
   ]
  },
  {
   "cell_type": "code",
   "execution_count": 2,
   "id": "15498b08",
   "metadata": {},
   "outputs": [
    {
     "name": "stdout",
     "output_type": "stream",
     "text": [
      "Requirement already satisfied: plotly in c:\\users\\betty.ogato\\.conda\\lib\\site-packages (5.9.0)\n",
      "Requirement already satisfied: tenacity>=6.2.0 in c:\\users\\betty.ogato\\.conda\\lib\\site-packages (from plotly) (8.0.1)\n",
      "Could not fetch URL https://pypi.org/simple/pip/: There was a problem confirming the ssl certificate: HTTPSConnectionPool(host='pypi.org', port=443): Max retries exceeded with url: /simple/pip/ (Caused by SSLError(SSLCertVerificationError(1, '[SSL: CERTIFICATE_VERIFY_FAILED] certificate verify failed: unable to get local issuer certificate (_ssl.c:997)'))) - skipping\n"
     ]
    },
    {
     "name": "stderr",
     "output_type": "stream",
     "text": [
      "WARNING: There was an error checking the latest version of pip.\n"
     ]
    }
   ],
   "source": [
    "! pip install plotly"
   ]
  },
  {
   "cell_type": "code",
   "execution_count": 8,
   "id": "9fea327d",
   "metadata": {},
   "outputs": [],
   "source": [
    "import plotly.express as px"
   ]
  },
  {
   "cell_type": "markdown",
   "id": "5a9db7dc",
   "metadata": {},
   "source": [
    "### Plotly"
   ]
  },
  {
   "cell_type": "code",
   "execution_count": 3,
   "id": "c4cfab79",
   "metadata": {},
   "outputs": [
    {
     "name": "stdout",
     "output_type": "stream",
     "text": [
      "Requirement already satisfied: pycountry in c:\\users\\betty.ogato\\.conda\\lib\\site-packages (22.3.5)\n",
      "Requirement already satisfied: setuptools in c:\\users\\betty.ogato\\.conda\\lib\\site-packages (from pycountry) (65.6.3)\n"
     ]
    }
   ],
   "source": [
    "! pip install pycountry"
   ]
  },
  {
   "cell_type": "code",
   "execution_count": 24,
   "id": "5f2cd70b",
   "metadata": {},
   "outputs": [],
   "source": [
    "import pycountry"
   ]
  },
  {
   "cell_type": "code",
   "execution_count": 16,
   "id": "66c9d4ef",
   "metadata": {},
   "outputs": [
    {
     "data": {
      "text/plain": [
       "Country(alpha_2='KE', alpha_3='KEN', flag='🇰🇪', name='Kenya', numeric='404', official_name='Republic of Kenya')"
      ]
     },
     "execution_count": 16,
     "metadata": {},
     "output_type": "execute_result"
    }
   ],
   "source": [
    "pycountry.countries.get(name='Kenya')"
   ]
  },
  {
   "cell_type": "code",
   "execution_count": 37,
   "id": "3cea276d",
   "metadata": {},
   "outputs": [],
   "source": [
    "def get_iso3(iso2):\n",
    "   \n",
    "    return pycountry.countries.get(alpha_2=iso2).alpha_3"
   ]
  },
  {
   "cell_type": "code",
   "execution_count": 38,
   "id": "62984380",
   "metadata": {},
   "outputs": [
    {
     "name": "stdout",
     "output_type": "stream",
     "text": [
      "Country(alpha_2='KE', alpha_3='KEN', flag='🇰🇪', name='Kenya', numeric='404', official_name='Republic of Kenya')\n"
     ]
    }
   ],
   "source": [
    "res = pycountry.countries.get(name='Kenya')\n",
    "print(res)"
   ]
  },
  {
   "cell_type": "code",
   "execution_count": 40,
   "id": "7b5f2f5c",
   "metadata": {},
   "outputs": [],
   "source": [
    "def get_iso3(iso2):\n",
    "    #Function takes in iso_alpha2 country codes and returns the iso_alpha 3 codes\"\"\"\n",
    "    try:\n",
    "        return pycountry.countries.get(alpha_2=iso2).alpha_3\n",
    "    except:\n",
    "        #In case we have errors that row of data will be left out.\n",
    "        #Try except is a good way to handle possible errors that might occur while running a function\"\"\"\n",
    "        pass"
   ]
  },
  {
   "cell_type": "code",
   "execution_count": 44,
   "id": "be0ebab0",
   "metadata": {},
   "outputs": [],
   "source": [
    "import pycountry"
   ]
  },
  {
   "cell_type": "code",
   "execution_count": 72,
   "id": "0b48769b",
   "metadata": {},
   "outputs": [
    {
     "name": "stdout",
     "output_type": "stream",
     "text": [
      "Requirement already satisfied: folium in c:\\users\\betty.ogato\\.conda\\lib\\site-packages (0.14.0)\n",
      "Requirement already satisfied: branca>=0.6.0 in c:\\users\\betty.ogato\\.conda\\lib\\site-packages (from folium) (0.6.0)\n",
      "Requirement already satisfied: requests in c:\\users\\betty.ogato\\.conda\\lib\\site-packages (from folium) (2.28.1)\n",
      "Requirement already satisfied: jinja2>=2.9 in c:\\users\\betty.ogato\\.conda\\lib\\site-packages (from folium) (3.1.2)\n",
      "Requirement already satisfied: numpy in c:\\users\\betty.ogato\\.conda\\lib\\site-packages (from folium) (1.23.5)\n",
      "Requirement already satisfied: MarkupSafe>=2.0 in c:\\users\\betty.ogato\\.conda\\lib\\site-packages (from jinja2>=2.9->folium) (2.1.1)\n",
      "Requirement already satisfied: charset-normalizer<3,>=2 in c:\\users\\betty.ogato\\.conda\\lib\\site-packages (from requests->folium) (2.0.4)\n",
      "Requirement already satisfied: urllib3<1.27,>=1.21.1 in c:\\users\\betty.ogato\\.conda\\lib\\site-packages (from requests->folium) (1.26.14)\n",
      "Requirement already satisfied: certifi>=2017.4.17 in c:\\users\\betty.ogato\\.conda\\lib\\site-packages (from requests->folium) (2022.12.7)\n",
      "Requirement already satisfied: idna<4,>=2.5 in c:\\users\\betty.ogato\\.conda\\lib\\site-packages (from requests->folium) (3.4)\n"
     ]
    }
   ],
   "source": [
    "! pip install folium --trusted-host=pypi.python.org "
   ]
  },
  {
   "cell_type": "code",
   "execution_count": 50,
   "id": "4f889466",
   "metadata": {},
   "outputs": [],
   "source": [
    "import folium"
   ]
  },
  {
   "cell_type": "code",
   "execution_count": 99,
   "id": "48730034",
   "metadata": {},
   "outputs": [
    {
     "name": "stdout",
     "output_type": "stream",
     "text": [
      "Requirement already satisfied: geopandas in c:\\users\\betty.ogato\\.conda\\lib\\site-packages (0.14.0)\n",
      "Requirement already satisfied: shapely>=1.8.0 in c:\\users\\betty.ogato\\.conda\\lib\\site-packages (from geopandas) (2.0.1)\n",
      "Requirement already satisfied: packaging in c:\\users\\betty.ogato\\.conda\\lib\\site-packages (from geopandas) (22.0)\n",
      "Requirement already satisfied: fiona>=1.8.21 in c:\\users\\betty.ogato\\.conda\\lib\\site-packages (from geopandas) (1.9.4.post1)\n",
      "Requirement already satisfied: pandas>=1.4.0 in c:\\users\\betty.ogato\\.conda\\lib\\site-packages (from geopandas) (1.5.3)\n",
      "Requirement already satisfied: pyproj>=3.3.0 in c:\\users\\betty.ogato\\.conda\\lib\\site-packages (from geopandas) (3.6.1)\n",
      "Requirement already satisfied: attrs>=19.2.0 in c:\\users\\betty.ogato\\.conda\\lib\\site-packages (from fiona>=1.8.21->geopandas) (22.1.0)\n",
      "Requirement already satisfied: cligj>=0.5 in c:\\users\\betty.ogato\\.conda\\lib\\site-packages (from fiona>=1.8.21->geopandas) (0.7.2)\n",
      "Requirement already satisfied: click~=8.0 in c:\\users\\betty.ogato\\.conda\\lib\\site-packages (from fiona>=1.8.21->geopandas) (8.0.4)\n",
      "Requirement already satisfied: certifi in c:\\users\\betty.ogato\\.conda\\lib\\site-packages (from fiona>=1.8.21->geopandas) (2022.12.7)\n",
      "Requirement already satisfied: six in c:\\users\\betty.ogato\\.conda\\lib\\site-packages (from fiona>=1.8.21->geopandas) (1.16.0)\n",
      "Requirement already satisfied: click-plugins>=1.0 in c:\\users\\betty.ogato\\.conda\\lib\\site-packages (from fiona>=1.8.21->geopandas) (1.1.1)\n",
      "Requirement already satisfied: pytz>=2020.1 in c:\\users\\betty.ogato\\.conda\\lib\\site-packages (from pandas>=1.4.0->geopandas) (2022.7)\n",
      "Requirement already satisfied: python-dateutil>=2.8.1 in c:\\users\\betty.ogato\\.conda\\lib\\site-packages (from pandas>=1.4.0->geopandas) (2.8.2)\n",
      "Requirement already satisfied: numpy>=1.21.0 in c:\\users\\betty.ogato\\.conda\\lib\\site-packages (from pandas>=1.4.0->geopandas) (1.23.5)\n",
      "Requirement already satisfied: colorama in c:\\users\\betty.ogato\\.conda\\lib\\site-packages (from click~=8.0->fiona>=1.8.21->geopandas) (0.4.6)\n"
     ]
    }
   ],
   "source": [
    "! pip install geopandas "
   ]
  },
  {
   "cell_type": "code",
   "execution_count": 101,
   "id": "02d3b1bd",
   "metadata": {},
   "outputs": [],
   "source": [
    "import geopandas as gpd"
   ]
  },
  {
   "cell_type": "code",
   "execution_count": 55,
   "id": "0c5c805d",
   "metadata": {},
   "outputs": [],
   "source": [
    "import plotly.express as px\n",
    "# set the filepath and load in a shapefile\n",
    "fp = “datasets/geo-data/gis-boundaries-london/ESRI/London_Borough_Excluding_MHW.shp”\n",
    "map_df = gpd.read_file(fp)\n",
    "# check data type so we can see that this is not a normal dataframe, but a GEOdataframe\n",
    "map_df.head()"
   ]
  },
  {
   "cell_type": "code",
   "execution_count": null,
   "id": "97879cf7",
   "metadata": {},
   "outputs": [],
   "source": [
    "import pandas as pd\n",
    "file_path = 'C:/Users/Betty.Ogato/OneDrive - American Tower/Betsy/Betty Ogato Files/Betsy Personal Work/Data Science Course/My_Final_Project.csv'\n",
    "df = pd.read_csv(file_path)\n",
    "df"
   ]
  },
  {
   "cell_type": "markdown",
   "id": "2994af13",
   "metadata": {},
   "source": [
    "## Kenyan Map with Counties"
   ]
  },
  {
   "cell_type": "code",
   "execution_count": 74,
   "id": "84bc255e",
   "metadata": {},
   "outputs": [
    {
     "data": {
      "text/plain": [
       "{'type': 'Feature',\n",
       " 'geometry': {'type': 'Polygon',\n",
       "  'coordinates': [[[36.05060958836185, 4.456217766236989],\n",
       "    [35.94394683797623, 4.548029422619834],\n",
       "    [35.93885421734831, 4.584362507224],\n",
       "    [35.949348448572096, 4.628556251969485],\n",
       "    [35.81214523321597, 4.782410621852762],\n",
       "    [35.81184387219702, 5.095732688812575],\n",
       "    [35.82680892918876, 5.112345695897204],\n",
       "    [35.82852172759573, 5.117104529550431],\n",
       "    [35.83380508543638, 5.12191104885585],\n",
       "    [35.837898254400955, 5.12333869922162],\n",
       "    [35.846511840449125, 5.139614105306748],\n",
       "    [35.84993743906159, 5.143088341054124],\n",
       "    [35.85117721565604, 5.147181034277367],\n",
       "    [35.85769653336837, 5.149607658766513],\n",
       "    [35.858982086354274, 5.154176235444936],\n",
       "    [35.86193084733077, 5.157364845611198],\n",
       "    [35.86140823330339, 5.162361621891364],\n",
       "    [35.86492919962291, 5.171736716975943],\n",
       "    [35.864120483373654, 5.182539463325611],\n",
       "    [35.85469818107623, 5.202098846384729],\n",
       "    [35.85264968913191, 5.20366907077107],\n",
       "    [35.84537124558659, 5.204811573095697],\n",
       "    [35.83866119425875, 5.2113308908080285],\n",
       "    [35.83347320592378, 5.228463172737293],\n",
       "    [35.82818984988171, 5.236791134103612],\n",
       "    [35.827713012245795, 5.242216586626228],\n",
       "    [35.83023834272541, 5.262299061252747],\n",
       "    [35.836612701415106, 5.269865989323989],\n",
       "    [35.842658996415594, 5.272435665373735],\n",
       "    [35.84280014141342, 5.276195049162254],\n",
       "    [35.847988128849124, 5.279907226637249],\n",
       "    [35.85341262809038, 5.289805889030617],\n",
       "    [35.860172271633076, 5.291233539396387],\n",
       "    [35.859313964967555, 5.294421672921942],\n",
       "    [35.864097595627584, 5.301617145914577],\n",
       "    [35.86402511566661, 5.309079169867857],\n",
       "    [35.86202621503787, 5.3135528563792604],\n",
       "    [35.863216400316674, 5.320119857945144],\n",
       "    [35.85983657809567, 5.320881366981553],\n",
       "    [35.85583877593882, 5.318264007977632],\n",
       "    [35.85350799579743, 5.321976184553307],\n",
       "    [35.841419219821205, 5.328590869972743],\n",
       "    [35.840705871279, 5.334111213561698],\n",
       "    [35.830425262316055, 5.336014747382706],\n",
       "    [35.822383880711584, 5.335206032032772],\n",
       "    [35.81990814244688, 5.3372044560208565],\n",
       "    [35.81900405759126, 5.341630458678765],\n",
       "    [35.80872726355244, 5.343010425191039],\n",
       "    [35.80548858632926, 5.347103119313545],\n",
       "    [35.8016319273716, 5.344852924722773],\n",
       "    [35.79544830319668, 5.344485759410304],\n",
       "    [35.79330825757006, 5.346436977084863],\n",
       "    [35.79054641708353, 5.345389843366604],\n",
       "    [35.78521728644864, 5.353051663403619],\n",
       "    [35.782455444163475, 5.35486030615823],\n",
       "    [35.77964782728543, 5.355288505759972],\n",
       "    [35.777080536237804, 5.353337288085413],\n",
       "    [35.77493667568706, 5.356192588816953],\n",
       "    [35.77303314186605, 5.356192588816953],\n",
       "    [35.772319793323845, 5.353765487687156],\n",
       "    [35.7751770024168, 5.3482928279516955],\n",
       "    [35.77393722492303, 5.347150802267777],\n",
       "    [35.76951217644586, 5.350672245227997],\n",
       "    [35.761325835818695, 5.353194713165522],\n",
       "    [35.75904464699289, 5.356097698649933],\n",
       "    [35.75423812858679, 5.357572555329227],\n",
       "    [35.755283355742336, 5.361618042238888],\n",
       "    [35.7517127990065, 5.365853308583382],\n",
       "    [35.75514221164383, 5.366947651313126],\n",
       "    [35.75533294705792, 5.368185042905452],\n",
       "    [35.750858307265105, 5.373324870746217],\n",
       "    [35.7470016483075, 5.369136810715304],\n",
       "    [35.745719909346406, 5.373610496327387],\n",
       "    [35.73976898205291, 5.375608921214791],\n",
       "    [35.738628387190374, 5.375085353906002],\n",
       "    [35.73886489899593, 5.372467994902081],\n",
       "    [35.73733902017972, 5.3726367949522],\n",
       "    [35.73548507677492, 5.37808370619814],\n",
       "    [35.729396820307045, 5.373324870746217],\n",
       "    [35.72734832656408, 5.377607822742846],\n",
       "    [35.7249221814136, 5.372991562210871],\n",
       "    [35.72216033912838, 5.371849537426272],\n",
       "    [35.721401214194714, 5.373657704439552],\n",
       "    [35.723731994336106, 5.37898778925512],\n",
       "    [35.7224006649588, 5.386269092644568],\n",
       "    [35.72063827523624, 5.387696743010338],\n",
       "    [35.717212676623774, 5.3846511844046745],\n",
       "    [35.71559524502459, 5.385221958026989],\n",
       "    [35.716594695788615, 5.391170502117006],\n",
       "    [35.7122154237029, 5.38922166944451],\n",
       "    [35.70755004759667, 5.390123844140135],\n",
       "    [35.702316283769505, 5.3889341364013035],\n",
       "    [35.70103073078366, 5.391313552778286],\n",
       "    [35.69860458383454, 5.391456126798857],\n",
       "    [35.68941879244335, 5.385127067859969],\n",
       "    [35.687088012301956, 5.387649059156786],\n",
       "    [35.68204498298962, 5.385983467063397],\n",
       "    [35.679615021116376, 5.389504909124298],\n",
       "    [35.67699813875316, 5.385745525335778],\n",
       "    [35.67138290409781, 5.384365558823504],\n",
       "    [35.665912627565774, 5.387316227262147],\n",
       "    [35.655441284088056, 5.387316227262147],\n",
       "    [35.65449142463956, 5.388458252046746],\n",
       "    [35.655395507696596, 5.390932560389388],\n",
       "    [35.65372848478182, 5.393359662418561],\n",
       "    [35.65172958415303, 5.393645286201036],\n",
       "    [35.64825439422498, 5.389172077229603],\n",
       "    [35.64244842505485, 5.388743877627917],\n",
       "    [35.63888168324314, 5.386126518623996],\n",
       "    [35.63564300512064, 5.3856501576287314],\n",
       "    [35.632171631016035, 5.3823189734418975],\n",
       "    [35.62284469642566, 5.38317585018541],\n",
       "    [35.61803817712024, 5.380510807327937],\n",
       "    [35.61684799184138, 5.38265228287662],\n",
       "    [35.620273589554586, 5.392455577562885],\n",
       "    [35.6198921214243, 5.3937883377616345],\n",
       "    [35.61608505288291, 5.395215988127404],\n",
       "    [35.61803817712024, 5.401307106237994],\n",
       "    [35.61665725732661, 5.403924465241914],\n",
       "    [35.61360931371888, 5.40478134198537],\n",
       "    [35.60994720420018, 5.402544498729696],\n",
       "    [35.60552215572295, 5.4037818912213424],\n",
       "    [35.60499572767077, 5.398642063380578],\n",
       "    [35.600620269609806, 5.3983569144401145],\n",
       "    [35.594955445437506, 5.404210090823085],\n",
       "    [35.589912414326534, 5.406875133680501],\n",
       "    [35.59252929668975, 5.410777569029619],\n",
       "    [35.587532043768874, 5.415536403582223],\n",
       "    [35.55982971057273, 5.422921657808331],\n",
       "    [35.48496246324714, 5.429678917248282],\n",
       "    [35.29178619377785, 5.430648327058691],\n",
       "    [35.1946144107265, 5.276678561566428],\n",
       "    [34.36576461794283, 4.576629638946713],\n",
       "    [33.992813110636575, 4.222472667379748],\n",
       "    [34.03901290921846, 4.187450886049589],\n",
       "    [34.04856872576613, 4.178339005440819],\n",
       "    [34.06701660163492, 4.142167568578486],\n",
       "    [34.05084609966781, 4.120776176579341],\n",
       "    [34.06401443441865, 4.093217371584501],\n",
       "    [34.08179473903601, 4.084993838594812],\n",
       "    [34.09312820410338, 4.068714141844225],\n",
       "    [34.09312820410338, 4.047044754112164],\n",
       "    [34.09035110481966, 4.037599087427964],\n",
       "    [34.05979156522858, 4.027931213554723],\n",
       "    [34.061958312626075, 4.009373663563792],\n",
       "    [34.08146286042273, 4.003483772358265],\n",
       "    [34.095584870445464, 3.9865241054031912],\n",
       "    [34.10594940144375, 3.976925849848158],\n",
       "    [34.134387970028854, 3.961647510424314],\n",
       "    [34.13411331168004, 3.955768108011796],\n",
       "    [34.11943817183419, 3.9020481110315473],\n",
       "    [34.11551284783968, 3.897552490055432],\n",
       "    [34.091243744003634, 3.885571003199288],\n",
       "    [34.08845519994759, 3.861609936049774],\n",
       "    [34.092632293645465, 3.860227822855791],\n",
       "    [34.108886719446616, 3.868729114157361],\n",
       "    [34.1278381347222, 3.87222647687048],\n",
       "    [34.14947128337309, 3.868941784036167],\n",
       "    [34.16720581069967, 3.870301008584704],\n",
       "    [34.16954040486587, 3.8755636217637743],\n",
       "    [34.17537689342896, 3.879981756253073],\n",
       "    [34.20444488492353, 3.882287501966687],\n",
       "    [34.21555709878112, 3.881546259152572],\n",
       "    [34.225391387702416, 3.851372004414543],\n",
       "    [34.225391387702416, 3.830832004193667],\n",
       "    [34.21319198612133, 3.831966638349741],\n",
       "    [34.179515838784994, 3.831650256853891],\n",
       "    [34.1628189087657, 3.810412645327347],\n",
       "    [34.15316772541024, 3.807224989341819],\n",
       "    [34.15358352695824, 3.800336122214333],\n",
       "    [34.159221649359665, 3.801735162447812],\n",
       "    [34.1624679564311, 3.7977793217583553],\n",
       "    [34.17073821999293, 3.800517081997782],\n",
       "    [34.188636780063405, 3.795387268107959],\n",
       "    [34.18808364844165, 3.791872024174609],\n",
       "    [34.19036865219158, 3.783368109550679],\n",
       "    [34.165321349700605, 3.7739429474091253],\n",
       "    [34.17179870594555, 3.767684698390156],\n",
       "    [34.18848037716771, 3.771946906624464],\n",
       "    [34.22115707374002, 3.7844965455791453],\n",
       "    [34.225845336693, 3.783116579066927],\n",
       "    [34.22707748433851, 3.774195194652577],\n",
       "    [34.22898864710845, 3.774576425361772],\n",
       "    [34.23304367042908, 3.781140088644236],\n",
       "    [34.24554443392856, 3.78425598142843],\n",
       "    [34.259017944622485, 3.765066624425231],\n",
       "    [34.26724243179285, 3.747371196923268],\n",
       "    [34.28303909277997, 3.731447695554778],\n",
       "    [34.30775070173354, 3.712411880703769],\n",
       "    [34.306015014681236, 3.697040557675621],\n",
       "    [34.30257415727158, 3.6861114502832493],\n",
       "    [34.304786681959854, 3.685963631416485],\n",
       "    [34.3059997558841, 3.690121412173482],\n",
       "    [34.30827331576097, 3.690775156348423],\n",
       "    [34.31008911172319, 3.695887565658666],\n",
       "    [34.30898284937905, 3.698320626595716],\n",
       "    [34.31275558540199, 3.701525211419437],\n",
       "    [34.311527251781285, 3.7034740449912533],\n",
       "    [34.31431198091326, 3.713241100596349],\n",
       "    [34.31777954099306, 3.716392278281091],\n",
       "    [34.31713485658844, 3.719709396171766],\n",
       "    [34.32421493487141, 3.727408170250897],\n",
       "    [34.33597564715842, 3.731602191887703],\n",
       "    [34.35371017358568, 3.735324144094022],\n",
       "    [34.369922637919444, 3.735067130443781],\n",
       "    [34.37775039636375, 3.730671882801175],\n",
       "    [34.399776458816575, 3.706176757751223],\n",
       "    [34.403125763443256, 3.692867517222169],\n",
       "    [34.424877166648, 3.68797445255899],\n",
       "    [34.45478439288547, 3.6768729694120452],\n",
       "    [34.4630279537771, 3.669585704416761],\n",
       "    [34.453144074439535, 3.611759424557818],\n",
       "    [34.456489563242826, 3.578742504562967],\n",
       "    [34.450988769116464, 3.518797159361441],\n",
       "    [34.445365906411496, 3.5108487595626343],\n",
       "    [34.43500900256345, 3.500199556264533],\n",
       "    [34.42350006087918, 3.491519212641606],\n",
       "    [34.39648056042955, 3.488626003687159],\n",
       "    [34.39072799659982, 3.49274373043886],\n",
       "    [34.38876724341361, 3.4919226170351862],\n",
       "    [34.39109039280743, 3.482855796957494],\n",
       "    [34.40547943133072, 3.4677257539404422],\n",
       "    [34.4166717531989, 3.450518846267812],\n",
       "    [34.41897582977077, 3.4336876870371498],\n",
       "    [34.40968322769885, 3.417936324901518],\n",
       "    [34.401367187745564, 3.4140870565724413],\n",
       "    [34.40063095055797, 3.371311903321725],\n",
       "    [34.4292411808359, 3.343120336234563],\n",
       "    [34.43828582722921, 3.307920933404375],\n",
       "    [34.44773483309615, 3.282865047783787],\n",
       "    [34.45169830363386, 3.240974902969469],\n",
       "    [34.4516525272424, 3.227499245593776],\n",
       "    [34.45519256458522, 3.200739860556155],\n",
       "    [34.45543670623903, 3.182759761653699],\n",
       "    [34.460700988559836, 3.174293517831643],\n",
       "    [34.47055816612652, 3.173034668415255],\n",
       "    [34.4827461238346, 3.164781331892982],\n",
       "    [34.48922729500373, 3.154793976560825],\n",
       "    [34.49473571807897, 3.141456366018531],\n",
       "    [34.51328277567961, 3.151081800884469],\n",
       "    [34.54759216264824, 3.138805627777572],\n",
       "    [34.5592727660254, 3.112994193827035],\n",
       "    [34.575466155738525, 3.099249363067713],\n",
       "    [34.57794952385149, 3.069905519823919],\n",
       "    [34.57738876328085, 3.023319244787388],\n",
       "    [34.588268280256955, 3.004117964572458],\n",
       "    [34.58942031899255, 2.981979131631647],\n",
       "    [34.59907531727214, 2.926089525611189],\n",
       "    [34.64013671883458, 2.907622814341437],\n",
       "    [34.65346145558175, 2.867506980662654],\n",
       "    [34.66941070543976, 2.863589764056428],\n",
       "    [34.68518447868081, 2.864114284646575],\n",
       "    [34.69266891463877, 2.862925290969429],\n",
       "    [34.7022857663751, 2.878069161962287],\n",
       "    [34.7089309693888, 2.873942375440322],\n",
       "    [34.712322234583496, 2.86537337328258],\n",
       "    [34.73212051355091, 2.858238697158185],\n",
       "    [34.736980438196724, 2.855195760975619],\n",
       "    [34.7493247988005, 2.8257820601939443],\n",
       "    [34.75988769506114, 2.828789949796374],\n",
       "    [34.7666053771365, 2.822564363254799],\n",
       "    [34.7740516665512, 2.798676729347619],\n",
       "    [34.781223296717826, 2.768143892426735],\n",
       "    [34.783847808929295, 2.7499220368725332],\n",
       "    [34.78377532986764, 2.7428572173867],\n",
       "    [34.77489089859614, 2.697809695860826],\n",
       "    [34.78947830238178, 2.68399477014259],\n",
       "    [34.79853439444679, 2.655700206399445],\n",
       "    [34.830188751609626, 2.620690583903354],\n",
       "    [34.83763885504919, 2.60449719419023],\n",
       "    [34.85194015481437, 2.583547354027189],\n",
       "    [34.8673324581265, 2.570816516968705],\n",
       "    [34.878139496040944, 2.572740077792389],\n",
       "    [34.87939834635665, 2.589597940592512],\n",
       "    [34.89303588889521, 2.593235254003844],\n",
       "    [34.8969879146606, 2.588093996240957],\n",
       "    [34.90430068982505, 2.5491671562393208],\n",
       "    [34.91265869124567, 2.5167458059742103],\n",
       "    [34.93182373058073, 2.516605854376735],\n",
       "    [34.936965943423615, 2.498943566892137],\n",
       "    [34.947284698929764, 2.472677468990071],\n",
       "    [34.95268631042495, 2.472453832778228],\n",
       "    [34.951160430709365, 2.458174228258088],\n",
       "    [34.94277572661855, 2.455468893075022],\n",
       "    [34.94081878655783, 2.453110933622725],\n",
       "    [34.97117614776107, 2.436490774229867],\n",
       "    [35.00996780437072, 2.4034707542719502],\n",
       "    [35.01168441770176, 2.403591871367837],\n",
       "    [35.013347625692404, 2.407684802911376],\n",
       "    [35.00881195071099, 2.420028686874446],\n",
       "    [35.00870513913094, 2.424727201199403],\n",
       "    [35.01062393174908, 2.42724609343253],\n",
       "    [35.014884948381734, 2.428466558884622],\n",
       "    [35.021404266094066, 2.433785199827184],\n",
       "    [35.019886017126055, 2.440188646189142],\n",
       "    [35.02213287343341, 2.443327426719407],\n",
       "    [35.01612472497612, 2.454564810018041],\n",
       "    [35.00735855095644, 2.460813284305686],\n",
       "    [34.99967575063545, 2.470239400627861],\n",
       "    [34.997543334857085, 2.473959446271465],\n",
       "    [34.99701309188072, 2.4786577222761252],\n",
       "    [34.99807739275752, 2.488384247235274],\n",
       "    [35.00445175144722, 2.506867886443843],\n",
       "    [35.008693695257875, 2.550713777918588],\n",
       "    [35.01242446891416, 2.561806202194532],\n",
       "    [35.016136169748506, 2.567647694585503],\n",
       "    [35.02157211286277, 2.568258047371046],\n",
       "    [35.026626586947486, 2.564402341694745],\n",
       "    [35.029602050594235, 2.542983293744044],\n",
       "    [35.03160476704642, 2.537238359762569],\n",
       "    [35.04430770893367, 2.516884803391008],\n",
       "    [35.05778121962766, 2.489420652041531],\n",
       "    [35.06615066492128, 2.463690520401258],\n",
       "    [35.069156647061675, 2.462702512610917],\n",
       "    [35.0797424319677, 2.468156576165086],\n",
       "    [35.09334564198787, 2.478560924647013],\n",
       "    [35.10098266591734, 2.488296746797459],\n",
       "    [35.10749053975667, 2.505147218969],\n",
       "    [35.10740661592263, 2.510544299679736],\n",
       "    [35.11052322366788, 2.5205829145699],\n",
       "    [35.10921478293591, 2.525754451606701],\n",
       "    [35.11033630407724, 2.528946400056384],\n",
       "    [35.108070373149246, 2.534465075402977],\n",
       "    [35.10749053975667, 2.542195320357791],\n",
       "    [35.10451889013473, 2.547531366779197],\n",
       "    [35.104835509950874, 2.554755687325155],\n",
       "    [35.107631682955855, 2.560195446262867],\n",
       "    [35.10734939565816, 2.568942546561345],\n",
       "    [35.116115569677845, 2.6018788810055753],\n",
       "    [35.12240219140807, 2.610187530330336],\n",
       "    [35.127616882413236, 2.62301611919861],\n",
       "    [35.128120422719405, 2.634352207588336],\n",
       "    [35.132354736681805, 2.64891696014962],\n",
       "    [35.13440322862613, 2.651552915334833],\n",
       "    [35.13705444440711, 2.646023511975557],\n",
       "    [35.15169143681044, 2.64914727202904],\n",
       "    [35.160537719740034, 2.648239850688583],\n",
       "    [35.17438507141395, 2.636812210415201],\n",
       "    [35.198215485056664, 2.591847659441953],\n",
       "    [35.21286010730813, 2.550737619845336],\n",
       "    [35.224925994638966, 2.52991843228989],\n",
       "    [35.221992491560286, 2.516697644580688],\n",
       "    [35.22027206420444, 2.4874916080513],\n",
       "    [35.22256851182743, 2.462265491559208],\n",
       "    [35.23169708295404, 2.441385507135521],\n",
       "    [35.22664260886938, 2.432751417444024],\n",
       "    [35.223316192888035, 2.412045954557186],\n",
       "    [35.2366409314339, 2.378593445231388],\n",
       "    [35.23213195822336, 2.351218223342357],\n",
       "    [35.23897170977665, 2.34351396519736],\n",
       "    [35.24543380722446, 2.341523886018592],\n",
       "    [35.261260986705224, 2.331680774748008],\n",
       "    [35.27114486694211, 2.31973195036926],\n",
       "    [35.28555679321147, 2.297561169012795],\n",
       "    [35.29804229701443, 2.270692825713411],\n",
       "    [35.30882263225874, 2.234173298159249],\n",
       "    [35.31834411628796, 2.18942093862546],\n",
       "    [35.32486343400035, 2.166793584956054],\n",
       "    [35.340316773400446, 2.125034331968891],\n",
       "    [35.359649658604894, 2.057399034138143],\n",
       "    [35.36197662382216, 2.044225216220809],\n",
       "    [35.365795135337294, 2.036210775606833],\n",
       "    [35.374938965261094, 1.992175817859732],\n",
       "    [35.37336730915405, 1.9661899801835152],\n",
       "    [35.379173279223494, 1.948011040277322],\n",
       "    [35.37492751958939, 1.94693243478406],\n",
       "    [35.37185668913497, 1.943778394557285],\n",
       "    [35.369586944182174, 1.939859748028994],\n",
       "    [35.3689537054492, 1.9341095683020062],\n",
       "    [35.36502838055537, 1.928943514431694],\n",
       "    [35.441658020301475, 1.851899861889137],\n",
       "    [35.443557739198354, 1.853368640050746],\n",
       "    [35.445556640726466, 1.849298000002761],\n",
       "    [35.44918441772677, 1.850062727712782],\n",
       "    [35.44970321683002, 1.845054626270041],\n",
       "    [35.45162582437234, 1.845893382573593],\n",
       "    [35.45337677022184, 1.844413161438297],\n",
       "    [35.45881652826023, 1.846127748596757],\n",
       "    [35.46066665674084, 1.842772602873367],\n",
       "    [35.46365356426065, 1.842328430412806],\n",
       "    [35.46555328405685, 1.839664101617018],\n",
       "    [35.46625518782673, 1.833360671557784],\n",
       "    [35.46855163544967, 1.830844283037266],\n",
       "    [35.46712112434045, 1.828327895416066],\n",
       "    [35.468563080222054, 1.825823784440161],\n",
       "    [35.46437072772693, 1.821136355158728],\n",
       "    [35.46565246578871, 1.818126440283038],\n",
       "    [35.468585967968124, 1.8183238495660698],\n",
       "    [35.4693031314344, 1.8171149493954322],\n",
       "    [35.46717071565604, 1.81419146026775],\n",
       "    [35.46702194170928, 1.811181664102548],\n",
       "    [35.46366500813366, 1.810096144621411],\n",
       "    [35.463542938655735, 1.808171867937403],\n",
       "    [35.46633148181246, 1.808443188902118],\n",
       "    [35.46992111226956, 1.8037928341719862],\n",
       "    [35.4769897457802, 1.8034104109617601],\n",
       "    [35.47763061526075, 1.795565128328064],\n",
       "    [35.4813804626383, 1.79704535036268],\n",
       "    [35.48045349093593, 1.793431043407963],\n",
       "    [35.48173904392178, 1.7908899783898282],\n",
       "    [35.48553848261491, 1.7911120650697971],\n",
       "    [35.488571167425505, 1.788299560376458],\n",
       "    [35.49105072061434, 1.788903951556165],\n",
       "    [35.4922599796144, 1.78436458126049],\n",
       "    [35.500782012879654, 1.7771730419024152],\n",
       "    [35.505100250676094, 1.775396824204108],\n",
       "    [35.50992202787933, 1.7638878834191591],\n",
       "    [35.524097442343134, 1.7681682111940522],\n",
       "    [35.54217910797951, 1.766465901580148],\n",
       "    [35.55090332143118, 1.7619881627235832],\n",
       "    [35.55532836900909, 1.762370586833185],\n",
       "    [35.57215499835456, 1.753587841905414],\n",
       "    [35.575832366670454, 1.755314827117616],\n",
       "    [35.58304595920373, 1.751379847102328],\n",
       "    [35.5932998645971, 1.75247764592666],\n",
       "    [35.60182189966099, 1.7582383153460341],\n",
       "    [35.60519027710967, 1.755956173238872],\n",
       "    [35.60908889843398, 1.749196410086313],\n",
       "    [35.61376190169045, 1.7484192852218712],\n",
       "    [35.61726760831351, 1.745039463000865],\n",
       "    [35.6213493343044, 1.745421768399922],\n",
       "    [35.626556396360684, 1.743375182118996],\n",
       "    [35.627281188775896, 1.747111797771311],\n",
       "    [35.64029693555517, 1.74186921159486],\n",
       "    [35.65681457493275, 1.7380329366707201],\n",
       "    [35.66336441023941, 1.733703255900593],\n",
       "    [35.66983795156028, 1.724316001082627],\n",
       "    [35.68213653577254, 1.7189501520279582],\n",
       "    [35.69787597559582, 1.7081443084131251],\n",
       "    [35.7103233337549, 1.7054675815637101],\n",
       "    [35.716678619622655, 1.707774280558624],\n",
       "    [35.7200393681224, 1.7071002719600301],\n",
       "    [35.75432586644564, 1.676545859403916],\n",
       "    [35.762954712190265, 1.672106146581427],\n",
       "    [35.76240921041676, 1.670922279039985],\n",
       "    [35.76855468714916, 1.6685088871754492],\n",
       "    [35.77406692514853, 1.668190121576913],\n",
       "    [35.78419876106403, 1.663887023867119],\n",
       "    [35.79194259657362, 1.663618565444494],\n",
       "    [36.096591949758704, 1.169407605876359],\n",
       "    [36.17395782489376, 1.170861840201837],\n",
       "    [36.31688308738461, 0.9912613631214531],\n",
       "    [36.34036636361685, 0.9931250219023011],\n",
       "    [36.34170150791829, 0.9880031346369831],\n",
       "    [36.34524536108461, 0.9862492677895031],\n",
       "    [36.34595108067788, 0.974874913246708],\n",
       "    [36.350074768136096, 0.9661277535930141],\n",
       "    [36.35254287655255, 0.9661277535930141],\n",
       "    [36.354351043565885, 0.9637994169096371],\n",
       "    [36.357658385825914, 0.9648219946394081],\n",
       "    [36.36241149889162, 0.9634625911257331],\n",
       "    [36.36380386255826, 0.9588917490549991],\n",
       "    [36.366825102596465, 0.955890714984548],\n",
       "    [36.37347412143362, 0.956400811348431],\n",
       "    [36.37739181557987, 0.9539398552401511],\n",
       "    [36.38162994356708, 0.9545818569671951],\n",
       "    [36.38306045557562, 0.951260567121551],\n",
       "    [36.38783645638739, 0.94824761163801],\n",
       "    [36.38924789467467, 0.9412500263676981],\n",
       "    [36.386871338141816, 0.9402870539044561],\n",
       "    [36.387470245255656, 0.9337816837777381],\n",
       "    [36.38565063436931, 0.927854062415122],\n",
       "    [36.39206314140091, 0.918773829848419],\n",
       "    [36.40501403806746, 0.9260384436193481],\n",
       "    [36.41782379243415, 0.936908960180403],\n",
       "    [36.43645858789358, 0.9605910774163251],\n",
       "    [36.442668914738704, 0.9710733296705031],\n",
       "    [36.4453887937579, 0.9842731955515661],\n",
       "    [36.439563750866455, 1.002520084634227],\n",
       "    [36.44111633325224, 1.002908348941219],\n",
       "    [36.445777892635704, 0.9998024701079661],\n",
       "    [36.44849395763009, 0.98039084656034],\n",
       "    [36.45819854722521, 0.97728502708236],\n",
       "    [36.459365844758, 0.9784497021920521],\n",
       "    [36.457035064616605, 0.986214339919911],\n",
       "    [36.45858764610301, 0.9966965912747131],\n",
       "    [36.45315170298875, 0.9974730614326861],\n",
       "    [36.453514099196354, 1.01471245261763],\n",
       "    [36.44155502344563, 1.042865753551723],\n",
       "    [36.44130706776701, 1.04809773042598],\n",
       "    [36.443798064828854, 1.055322886442127],\n",
       "    [36.44055938760573, 1.067281722973178],\n",
       "    [36.4440498354316, 1.073261141688363],\n",
       "    [36.44130706776701, 1.0792406800134131],\n",
       "    [36.43881607070517, 1.080735444984839],\n",
       "    [36.43732070858391, 1.086465835130241],\n",
       "    [36.43881607070517, 1.101912737183113],\n",
       "    [36.44454574588951, 1.110134482320575],\n",
       "    [36.44479751559294, 1.113373279153564],\n",
       "    [36.44205474882767, 1.117359638336666],\n",
       "    [36.442802428988955, 1.119850993328726],\n",
       "    [36.43906402458509, 1.127325296625202],\n",
       "    [36.43881607070517, 1.132308244929618],\n",
       "    [36.43333435030007, 1.141526459578472],\n",
       "    [36.43557739258267, 1.143021345059083],\n",
       "    [36.43507766720063, 1.156225919790415],\n",
       "    [36.4400634762485, 1.16145801537516],\n",
       "    [36.44230270360691, 1.17291855824493],\n",
       "    [36.438568115026555, 1.177652359269018],\n",
       "    [36.43159103429883, 1.177901507448667],\n",
       "    [36.428852081558375, 1.181638598842312],\n",
       "    [36.42610931389379, 1.183133483423546],\n",
       "    [36.42386627161119, 1.182635187963626],\n",
       "    [36.41863632180883, 1.18662142843624],\n",
       "    [36.41564559936495, 1.184628367105518],\n",
       "    [36.41464996442437, 1.181638598842312],\n",
       "    [36.407920837576626, 1.179645418801101],\n",
       "    [36.398952484269785, 1.173666000085859],\n",
       "    [36.39222717324549, 1.1731677064245791],\n",
       "    [36.39023208574224, 1.175659180127127],\n",
       "    [36.389984130962944, 1.178897976960116],\n",
       "    [36.3917274478635, 1.181389450662664],\n",
       "    [36.391479492184885, 1.184379219825189],\n",
       "    [36.38699340941838, 1.18662142843624],\n",
       "    [36.394718170307385, 1.190109491260046],\n",
       "    [36.396411895892356, 1.193984389368097],\n",
       "    [36.39496612508668, 1.198082089117179],\n",
       "    [36.397956848429885, 1.206802129714561],\n",
       "    [36.393970489246726, 1.21377813755106],\n",
       "    [36.393970489246726, 1.220006704445893],\n",
       "    [36.397956848429885, 1.223992944019187],\n",
       "    [36.39870452859117, 1.226733565002064],\n",
       "    [36.40343856793561, 1.227231859562721],\n",
       "    [36.40617752067607, 1.229972481444918],\n",
       "    [36.40941619879857, 1.228975892323604],\n",
       "    [36.41240692124245, 1.232463836436978],\n",
       "    [36.41415023814301, 1.226484417721736],\n",
       "    [36.41813659642685, 1.226982713181712],\n",
       "    [36.421627044252716, 1.236699342900408],\n",
       "    [36.41340255708241, 1.246665001188887],\n",
       "    [36.41340255708241, 1.259620547350437],\n",
       "    [36.40966796940131, 1.260118841911094],\n",
       "    [36.40717315741534, 1.256879924568921],\n",
       "    [36.40617752067607, 1.252395391334289],\n",
       "    [36.40393447839352, 1.251398802212975],\n",
       "    [36.40069580117034, 1.2548867463263491],\n",
       "    [36.396461487207944, 1.255385040886949],\n",
       "    [36.3917274478635, 1.262610196903097],\n",
       "    [36.38774108868034, 1.263357639643402],\n",
       "    [36.38774108868034, 1.265599966065622],\n",
       "    [36.39097976680284, 1.269586205638916],\n",
       "    [36.3959617618259, 1.269586205638916],\n",
       "    [36.39496612508668, 1.276811361655064],\n",
       "    [36.39745712304784, 1.2773096562157211],\n",
       "    [36.40418624899627, 1.2725759748014411],\n",
       "    [36.40817260728005, 1.279053688077283],\n",
       "    [36.41589355504357, 1.274818301223661],\n",
       "    [36.42287063577129, 1.267094850646913],\n",
       "    [36.43009567217757, 1.267343997927185],\n",
       "    [36.43183898907813, 1.264852524224636],\n",
       "    [36.438568115026555, 1.261364459602191],\n",
       "    [36.4408111573091, 1.256630778187912],\n",
       "    [36.44628906279007, 1.251149654033327],\n",
       "    [36.453514099196354, 1.254388451765692],\n",
       "    [36.453514099196354, 1.26161360778184],\n",
       "    [36.45002746539524, 1.266098260626279],\n",
       "    [36.45077514555658, 1.2725759748014411],\n",
       "    [36.4440498354316, 1.277807950776378],\n",
       "    [36.43806838964451, 1.288770317795979],\n",
       "    [36.43557739258267, 1.289517761435604],\n",
       "    [36.434581756742716, 1.293005704649602],\n",
       "    [36.43756866426247, 1.297490358393361],\n",
       "    [36.437820434865216, 1.302722335267617],\n",
       "    [36.43258667013879, 1.304217218949532],\n",
       "    [36.430595397559614, 1.301227450686326],\n",
       "    [36.42586135821517, 1.3002308606657489],\n",
       "    [36.41938400286949, 1.2945005892308359],\n",
       "    [36.41589355504357, 1.298486948413995],\n",
       "    [36.40767288189801, 1.301227450686326],\n",
       "    [36.404682158554806, 1.299732566105092],\n",
       "    [36.40343856793561, 1.300480007946078],\n",
       "    [36.40194320671367, 1.308203459422145],\n",
       "    [36.395713806147285, 1.307954311242497],\n",
       "    [36.39048385634493, 1.312937260446233],\n",
       "    [36.39447021462877, 1.316923499120264],\n",
       "    [36.40393447839352, 1.317172646400536],\n",
       "    [36.40568161021821, 1.318916678262156],\n",
       "    [36.40617752067607, 1.322404623274792],\n",
       "    [36.40991592418061, 1.324148655136355],\n",
       "    [36.41016387895991, 1.328633307980851],\n",
       "    [36.41614532474699, 1.331373811152503],\n",
       "    [36.41738891626551, 1.33411443213538],\n",
       "    [36.41963195764879, 1.334612727595356],\n",
       "    [36.42112731977005, 1.336854934407768],\n",
       "    [36.42062759438801, 1.345824122285478],\n",
       "    [36.42237091038925, 1.347817301427369],\n",
       "    [36.42610931389379, 1.347817301427369],\n",
       "    [36.428852081558375, 1.350557923309566],\n",
       "    [36.43507766720063, 1.352052688280992],\n",
       "    [36.43756866426247, 1.360025287037388],\n",
       "    [36.44878005985191, 1.365008235341861],\n",
       "    [36.45326614441706, 1.369243622195484],\n",
       "    [36.455757140579635, 1.367748737614193],\n",
       "    [36.458248139440116, 1.368745326735507],\n",
       "    [36.4657249446505, 1.387431144331913],\n",
       "    [36.46422958342856, 1.393659711226746],\n",
       "    [36.46647262571116, 1.398642539921354],\n",
       "    [36.46298217788524, 1.402878046384785],\n",
       "    [36.46099090620538, 1.403376340945442],\n",
       "    [36.455009460418296, 1.398144245360697],\n",
       "    [36.453514099196354, 1.401881456364151],\n",
       "    [36.449279785233955, 1.406116843217774],\n",
       "    [36.4472885135541, 1.412096261933016],\n",
       "    [36.441059112987716, 1.409604906940956],\n",
       "    [36.43831634532313, 1.412096261933016],\n",
       "    [36.43682479902532, 1.410103202400933],\n",
       "    [36.43159103429883, 1.410103202400933],\n",
       "    [36.42760467511573, 1.408110022359665],\n",
       "    [36.426609039275775, 1.409854054221285],\n",
       "    [36.428104399598396, 1.41359114741357],\n",
       "    [36.42685699495439, 1.415086031095484],\n",
       "    [36.42361831683189, 1.41732835841708],\n",
       "    [36.42112731977005, 1.4155843256561411],\n",
       "    [36.41714096058689, 1.417577504798032],\n",
       "    [36.41539764368633, 1.421563744371326],\n",
       "    [36.41215896556389, 1.422062038931983],\n",
       "    [36.40892028834071, 1.428290605826874],\n",
       "    [36.401195526552385, 1.432526111390985],\n",
       "    [36.39546584956935, 1.440000414687461],\n",
       "    [36.3894844055809, 1.444983244281332],\n",
       "    [36.380268096595444, 1.441495299268695],\n",
       "    [36.37229538002782, 1.440997004708038],\n",
       "    [36.368808746226705, 1.439003825566147],\n",
       "    [36.36282730133894, 1.438007236444832],\n",
       "    [36.358341216773795, 1.4395021201268041],\n",
       "    [36.3558502197119, 1.436014056403621],\n",
       "    [36.351116180367455, 1.438754677386498],\n",
       "    [36.34787750224501, 1.438754677386498],\n",
       "    [36.322715759224934, 1.46790444873136],\n",
       "    [36.31822967555911, 1.469897627873252],\n",
       "    [36.31050872779559, 1.469897627873252],\n",
       "    [36.30527496306917, 1.468901037852675],\n",
       "    [36.294063568379045, 1.463419914597409],\n",
       "    [36.288581847973944, 1.463918209158066],\n",
       "    [36.28633880659072, 1.466907858710783],\n",
       "    [36.28659057629409, 1.469897627873252],\n",
       "    [36.28982925441659, 1.473634720166274],\n",
       "    [36.29157257041783, 1.48160731802335],\n",
       "    [36.29755020128084, 1.488334178579521],\n",
       "    [36.29630660976227, 1.497054219176903],\n",
       "    [36.29381561270043, 1.502037048770831],\n",
       "    [36.29605865498297, 1.506023407054613],\n",
       "    [36.29481124943965, 1.512750267610784],\n",
       "    [36.29605865498297, 1.5331799983582641],\n",
       "    [36.29804992666283, 1.5346748829395551],\n",
       "    [36.299793243563386, 1.542149186236031],\n",
       "    [36.31200027499273, 1.5506200786537652],\n",
       "    [36.32097244232443, 1.5595892674307952],\n",
       "    [36.32545471196545, 1.566565275267294],\n",
       "    [36.33118438714979, 1.571049809401245],\n",
       "    [36.33691787725826, 1.5715481039619021],\n",
       "    [36.33990478477807, 1.578025818137064],\n",
       "    [36.34090423644142, 1.570800662120917],\n",
       "    [36.351116180367455, 1.572295546702151],\n",
       "    [36.35784530631588, 1.570800662120917],\n",
       "    [36.36008834859848, 1.5720463994218221],\n",
       "    [36.36183166459972, 1.575285315864676],\n",
       "    [36.359836577995736, 1.578274965417393],\n",
       "    [36.36058425905634, 1.583507061002138],\n",
       "    [36.35784530631588, 1.58774244785576],\n",
       "    [36.35958862321644, 1.590233921558308],\n",
       "    [36.36332702672098, 1.591230511578885],\n",
       "    [36.36681365962272, 1.595715045712836],\n",
       "    [36.36930465668462, 1.595216751152179],\n",
       "    [36.37229538002782, 1.592227101599519],\n",
       "    [36.37478637708966, 1.5847527983030432],\n",
       "    [36.37403869602906, 1.578025818137064],\n",
       "    [36.36930465668462, 1.563575506104769],\n",
       "    [36.369552612363236, 1.559340119251146],\n",
       "    [36.372047424349205, 1.553858995096618],\n",
       "    [36.372047424349205, 1.547879457670888],\n",
       "    [36.37752532983018, 1.5404051543744122],\n",
       "    [36.37927246075549, 1.5331799983582641],\n",
       "    [36.383506774717944, 1.531186937926918],\n",
       "    [36.385002135939885, 1.5227160464084482],\n",
       "    [36.39347076386474, 1.5227160464084482],\n",
       "    [36.39546584956935, 1.524210930090419],\n",
       "    [36.39845657381187, 1.5346748829395551],\n",
       "    [36.40269088777433, 1.54289662807696],\n",
       "    [36.40568161021821, 1.545388102678828],\n",
       "    [36.40991592418061, 1.5610841511127092],\n",
       "    [36.41315460230311, 1.566066980706637],\n",
       "    [36.417640685968934, 1.566316127986966],\n",
       "    [36.41987991332741, 1.5715481039619021],\n",
       "    [36.42237091038925, 1.5715481039619021],\n",
       "    [36.42436599699323, 1.573541284003113],\n",
       "    [36.42635726957241, 1.583257913721809],\n",
       "    [36.431343078620216, 1.584503651022715],\n",
       "    [36.43109130891685, 1.597957373034376],\n",
       "    [36.43682479902532, 1.602940201728984],\n",
       "    [36.43682479902532, 1.609417915004826],\n",
       "    [36.440311431927114, 1.61564648189966],\n",
       "    [36.44255447420966, 1.618137955602208],\n",
       "    [36.446788788172114, 1.618387102882537],\n",
       "    [36.44878005985191, 1.617888808321879],\n",
       "    [36.453514099196354, 1.612407684167351],\n",
       "    [36.45550918580034, 1.613902568748586],\n",
       "    [36.463977813725194, 1.6131551269076572],\n",
       "    [36.465473174947135, 1.6146500105895711],\n",
       "    [36.4657249446505, 1.616892218301302],\n",
       "    [36.46198654204534, 1.619134545622842],\n",
       "    [36.46198654204534, 1.622373462065696],\n",
       "    [36.4657249446505, 1.62635970073967],\n",
       "    [36.465473174947135, 1.629100322621866],\n",
       "    [36.46771621722968, 1.6313425303335412],\n",
       "    [36.46597290032912, 1.635578035897709],\n",
       "    [36.468963622773, 1.63831853906936],\n",
       "    [36.470458983994945, 1.6433014873737761],\n",
       "    [36.46846389739102, 1.6525197029220071],\n",
       "    [36.46995925861296, 1.6582500930674091],\n",
       "    [36.471950531192135, 1.66323292266128],\n",
       "    [36.475440979018, 1.66323292266128],\n",
       "    [36.4789276119198, 1.668464898636216],\n",
       "    [36.476936340239945, 1.675440907372035],\n",
       "    [36.4779319760799, 1.677434087413246],\n",
       "    [36.4854049681648, 1.682915210668511],\n",
       "    [36.48366165126424, 1.688645601713176],\n",
       "    [36.48366165126424, 1.6921335458265498],\n",
       "    [36.485656737868226, 1.694625020428418],\n",
       "    [36.484161376646284, 1.702846765565823],\n",
       "    [36.48640441892883, 1.704341650147057],\n",
       "    [36.498859405137466, 1.706085562398812],\n",
       "    [36.50085449174145, 1.7085770370006799],\n",
       "    [36.50160217280211, 1.710570216142628],\n",
       "    [36.49935913141883, 1.717546224878447],\n",
       "    [36.50484085092461, 1.7215324635524212],\n",
       "    [36.50484085092461, 1.725767970015852],\n",
       "    [36.50633239722242, 1.7277611491577431],\n",
       "    [36.50558853108589, 1.73124909417038],\n",
       "    [36.513557435427344, 1.739969134767819],\n",
       "    [36.51854324357589, 1.7409657238890761],\n",
       "    [36.519039154033806, 1.745948552583684],\n",
       "    [36.51380920423145, 1.748440027185552],\n",
       "    [36.52053451525575, 1.7504330876169552],\n",
       "    [36.52526855460019, 1.754917739562075],\n",
       "    [36.524024963081615, 1.765630840590859],\n",
       "    [36.52153015109565, 1.766627430611493],\n",
       "    [36.519290923737174, 1.766627430611493],\n",
       "    [36.51879119835519, 1.759402274595345],\n",
       "    [36.51330947884941, 1.7561634777623572],\n",
       "    [36.51306152317079, 1.758405684574711],\n",
       "    [36.515052795749966, 1.7606480118963082],\n",
       "    [36.51380920423145, 1.763139485598856],\n",
       "    [36.510318756405525, 1.763637781058776],\n",
       "    [36.50882720920839, 1.765630840590859],\n",
       "    [36.50757980366507, 1.7713612316355811],\n",
       "    [36.511066436566864, 1.766627430611493],\n",
       "    [36.51654815697191, 1.765132665640067],\n",
       "    [36.51779556341455, 1.773354292066983],\n",
       "    [36.513557435427344, 1.7768423557901092],\n",
       "    [36.514305114689364, 1.778586387651728],\n",
       "    [36.51953887941579, 1.778586387651728],\n",
       "    [36.520786284959115, 1.785064100927571],\n",
       "    [36.522277832156306, 1.786060690948204],\n",
       "    [36.51854324357589, 1.791292667822404],\n",
       "    [36.525516510278806, 1.791790962383061],\n",
       "    [36.52476882921815, 1.797272087436909],\n",
       "    [36.52925491288397, 1.799763560240137],\n",
       "    [36.52950286856259, 1.805244684394722],\n",
       "    [36.527263641204115, 1.807736158097271],\n",
       "    [36.519290923737174, 1.805992126235708],\n",
       "    [36.513557435427344, 1.815957904133995],\n",
       "    [36.51405715901075, 1.822435617409838],\n",
       "    [36.51131820716955, 1.8259235624225312],\n",
       "    [36.511814117627466, 1.826920152443108],\n",
       "    [36.51804351819385, 1.823432207430471],\n",
       "    [36.519290923737174, 1.824927092011762],\n",
       "    [36.51879119835519, 1.827916741564422],\n",
       "    [36.52153015109565, 1.829411626145657],\n",
       "    [36.52153015109565, 1.831903099848205],\n",
       "    [36.517543792811864, 1.835391044860899],\n",
       "    [36.52302551231759, 1.8463534118805],\n",
       "    [36.52003860479783, 1.852083683315357],\n",
       "    [36.51804351819385, 1.853080272436671],\n",
       "    [36.51206588733089, 1.849592208713489],\n",
       "    [36.51281356839149, 1.8558207747090592],\n",
       "    [36.50982284504829, 1.859557986611833],\n",
       "    [36.51231384300951, 1.868527173590223],\n",
       "    [36.51156616194885, 1.876499772346676],\n",
       "    [36.51206588733089, 1.879489421899336],\n",
       "    [36.517543792811864, 1.8792402746190082],\n",
       "    [36.51953887941579, 1.8807351592002992],\n",
       "    [36.519290923737174, 1.882230043781533],\n",
       "    [36.52327728292033, 1.883226632902847],\n",
       "    [36.52452087443885, 1.886714577915484],\n",
       "    [36.524024963081615, 1.892195820780557],\n",
       "    [36.52651596104283, 1.8909500825802752],\n",
       "    [36.528011322264774, 1.8936905857519832],\n",
       "    [36.53523635867106, 1.894936323052889],\n",
       "    [36.53647995018963, 1.8986735340564],\n",
       "    [36.53523635867106, 1.900417565917962],\n",
       "    [36.535984039731716, 1.9046529527715852],\n",
       "    [36.53398895222841, 1.906646132812853],\n",
       "    [36.53747558602953, 1.9133729933690231],\n",
       "    [36.53647995018963, 1.9171100856619891],\n",
       "    [36.53822326619081, 1.918604970243223],\n",
       "    [36.53947067263351, 1.926577568100356],\n",
       "    [36.535984039731716, 1.931560396794907],\n",
       "    [36.53797531141157, 1.936792493278972],\n",
       "    [36.53822326619081, 1.942771911994214],\n",
       "    [36.53498458896763, 1.946259856107531],\n",
       "    [36.535484314349674, 1.950993657131619],\n",
       "    [36.53847503679356, 1.956973075846804],\n",
       "    [36.53623199541033, 1.963699937302295],\n",
       "    [36.534488677610454, 1.963450789122646],\n",
       "    [36.52875518840125, 1.952239394432581],\n",
       "    [36.52651596104283, 1.9534851308341672],\n",
       "    [36.52950286856259, 1.963949084582623],\n",
       "    [36.537727355732954, 1.971174239699451],\n",
       "    [36.537727355732954, 1.977901101154941],\n",
       "    [36.541961669695354, 1.988863468174543],\n",
       "    [36.53913497909605, 2.001913309151917],\n",
       "    [36.5401916501246, 2.006739616240338],\n",
       "    [36.54611587564722, 2.007101059166587],\n",
       "    [36.546478271854824, 2.017189502793372],\n",
       "    [36.543457030917295, 2.022659301785382],\n",
       "    [36.54468154871455, 2.024863481664397],\n",
       "    [36.54778289766267, 2.025353431415795],\n",
       "    [36.54484558055913, 2.030496598439299],\n",
       "    [36.54688644355457, 2.032619237687697],\n",
       "    [36.549251556214415, 2.031476497942094],\n",
       "    [36.555049896435605, 2.04298758540881],\n",
       "    [36.55565643339776, 2.048841953393492],\n",
       "    [36.558071135574494, 2.05074334143211],\n",
       "    [36.55994796762468, 2.049845219081647],\n",
       "    [36.568111419606396, 2.05800914770407],\n",
       "    [36.56509017956819, 2.079071997574658],\n",
       "    [36.56680679289923, 2.089603662179286],\n",
       "    [36.56354141210653, 2.098583936899217],\n",
       "    [36.56354141210653, 2.103808880175734],\n",
       "    [36.57910919203562, 2.120795488121303],\n",
       "    [36.58395004296017, 2.140709876759445],\n",
       "    [36.58786773710642, 2.146506310417919],\n",
       "    [36.59448242162648, 2.146506310417919],\n",
       "    [36.5986442574266, 2.153527260075066],\n",
       "    [36.610889433600505, 2.163242340261831],\n",
       "    [36.61244201688561, 2.162180900128476],\n",
       "    [36.60990905655774, 2.156139612553147],\n",
       "    [36.61938095107007, 2.161283016098366],\n",
       "    [36.636199950567345, 2.163895368576448],\n",
       "    [36.65628051773177, 2.17336559304772],\n",
       "    [36.67035293643892, 2.186440229233256],\n",
       "    [36.68175506564381, 2.193367242904003],\n",
       "    [36.68656921389817, 2.195734739666534],\n",
       "    [36.70077514685562, 2.198837041896013],\n",
       "    [36.70240783725194, 2.203490495689891],\n",
       "    [36.70053100610113, 2.208796977798329],\n",
       "    [36.69987869274752, 2.218267202269601],\n",
       "    [36.71130752642125, 2.224390029576227],\n",
       "    [36.71195983887554, 2.230757951818077],\n",
       "    [36.70910263068191, 2.2376699450119872],\n",
       "    [36.71342849742729, 2.245534658397787],\n",
       "    [36.71375656111644, 2.252310753238703],\n",
       "    [36.71244812038452, 2.255576372351754],\n",
       "    [36.70730590844096, 2.259739874595596],\n",
       "    [36.70657348617749, 2.261944293694228],\n",
       "    [36.710655212168376, 2.266271114620281],\n",
       "    [36.71448898337991, 2.266515970335831],\n",
       "    [36.72281646720626, 2.275006532725342],\n",
       "    [36.721103667900024, 2.286027908761014],\n",
       "    [36.7234153743201, 2.292131900666732],\n",
       "    [36.722164153852646, 2.296396017262452],\n",
       "    [36.7237129213143, 2.300974130351904],\n",
       "    [36.60096359279561, 2.360014199995362],\n",
       "    [36.60089492775876, 2.40573596933956],\n",
       "    [36.59072494530005, 2.414102793109464],\n",
       "    [36.58489990240861, 2.40738606431546],\n",
       "    [36.577499389385366, 2.4071462151257492],\n",
       "    [36.574481964271286, 2.404370546663472],\n",
       "    [36.566463470412884, 2.404884576661914],\n",
       "    [36.5648193361435, 2.4004638197495183],\n",
       "    [36.55909728990804, 2.397071361154417],\n",
       "    [36.55128479026092, 2.399264573801076],\n",
       "    [36.54672622663412, 2.403102636577444],\n",
       "    [36.54035186794442, 2.40457606333473],\n",
       "    [36.53767776531669, 2.407763004359197],\n",
       "    [36.53075790395417, 2.431476593370121],\n",
       "    [36.522705077577314, 2.4483709335717663],\n",
       "    [36.52461624124658, 2.465378284380392],\n",
       "    [36.52764129620891, 2.47438669169253],\n",
       "    [36.52551269535468, 2.4844346046733112],\n",
       "    [36.52651977506764, 2.493751048671982],\n",
       "    [36.529266357656354, 2.500156164175678],\n",
       "    [36.52786254921733, 2.5079829693386273],\n",
       "    [36.52846908528011, 2.522221325553801],\n",
       "    [36.522834777802814, 2.526705503556173],\n",
       "    [36.522281647080376, 2.533310413344964],\n",
       "    [36.51297760023613, 2.560693979143878],\n",
       "    [36.49232483042664, 2.575029134786803],\n",
       "    [36.47304534876389, 2.600510835906391],\n",
       "    [36.47092056283378, 2.6094164848829],\n",
       "    [36.46227264426716, 2.6093015668138833],\n",
       "    [36.451766967371725, 2.612199068232485],\n",
       "    [36.44589996301295, 2.620936393799582],\n",
       "    [36.44141769427125, 2.6248722065870993],\n",
       "    [36.44041061365897, 2.629411220751308],\n",
       "    [36.436763763836666, 2.633548021224271],\n",
       "    [36.4364471431212, 2.6427123547913993],\n",
       "    [36.43328857390861, 2.651790380421744],\n",
       "    [36.43475341843555, 2.669917583229903],\n",
       "    [36.43239593472464, 2.677903890352297],\n",
       "    [36.435260772766526, 2.687600850998535],\n",
       "    [36.445159911800545, 2.701802254070799],\n",
       "    [36.44587707526688, 2.7051544194409303],\n",
       "    [36.430770874176574, 2.714045047940658],\n",
       "    [36.42705535931742, 2.7196667190439143],\n",
       "    [36.41983795186002, 2.735918283202238],\n",
       "    [36.420124054081896, 2.745481014637164],\n",
       "    [36.41754150423708, 2.761990548425103],\n",
       "    [36.411823272925744, 2.76885604756859],\n",
       "    [36.41004562440611, 2.774380921942054],\n",
       "    [36.39453887966562, 2.79974293678714],\n",
       "    [36.385974884033715, 2.8184332851679983],\n",
       "    [36.3850555421796, 2.827188730275736],\n",
       "    [36.378898620674875, 2.838319062774588],\n",
       "    [36.36568451043189, 2.850983858118582],\n",
       "    [36.35877227801825, 2.860773324829154],\n",
       "    [36.34457397490905, 2.862792491680182],\n",
       "    [36.319049834782106, 2.874762773882935],\n",
       "    [36.298316955163386, 2.887051344144254],\n",
       "    [36.289810180695326, 2.8876214028055642],\n",
       "    [36.28163528484055, 2.891207694979187],\n",
       "    [36.26896286144694, 2.907795429315684],\n",
       "    [36.26548004167063, 2.923257350946017],\n",
       "    [36.26057052570923, 2.933741569118183],\n",
       "    [36.25968170144944, 2.947117090581287],\n",
       "    [36.256935119760044, 2.960476635588293],\n",
       "    [36.25370407058642, 2.9651613237361403],\n",
       "    [36.25278472873231, 2.964385986723983],\n",
       "    [36.25452804563287, 2.958861112350519],\n",
       "    [36.25359344498156, 2.954451084350126],\n",
       "    [36.25202560379864, 2.951882600801412],\n",
       "    [36.246578216811315, 2.949122666877599],\n",
       "    [36.23378753706521, 2.956906557291859],\n",
       "    [36.23015213021671, 2.956438063565827],\n",
       "    [36.22415924055656, 2.958570480243509],\n",
       "    [36.223907470853135, 2.955530643124746],\n",
       "    [36.222206115419965, 2.954871176563586],\n",
       "    [36.21666336072559, 2.958667277872621],\n",
       "    [36.201122284365965, 2.961688279590476],\n",
       "    [36.19133377093681, 2.968343734875532],\n",
       "    [36.178749085402046, 2.966162920282613],\n",
       "    [36.1703491207154, 2.968392133690088],\n",
       "    [36.163726806347086, 2.966696024002374],\n",
       "    [36.15212631187984, 2.969006061280766],\n",
       "    [36.13839721655836, 2.9693453314219482],\n",
       "    [36.133644104391976, 2.966978787940775],\n",
       "    [36.132678985247026, 2.968553781431922],\n",
       "    [36.135196685878384, 2.972559929297347],\n",
       "    [36.136734008567714, 2.979166984868527],\n",
       "    [36.13204956143818, 2.97751927399537],\n",
       "    [36.129043579297786, 2.9739654059787313],\n",
       "    [36.129333496443735, 2.980766296027809],\n",
       "    [36.12398910521307, 2.979522227868586],\n",
       "    [36.12405395532585, 2.987340927441892],\n",
       "    [36.127639770858764, 3.00278425199167],\n",
       "    [36.13259887723643, 3.011313676784823],\n",
       "    [36.136909485184674, 3.014625310609631],\n",
       "    [36.137378692972334, 3.029551744417518],\n",
       "    [36.14132308978884, 3.037009001064575],\n",
       "    [36.14284133875685, 3.056047200917646],\n",
       "    [36.14203262340692, 3.060772657132475],\n",
       "    [36.13971710206266, 3.063766717859778],\n",
       "    [36.141300201143395, 3.072980165202523],\n",
       "    [36.14297485390642, 3.074677944031919],\n",
       "    [36.14881515469568, 3.075764656014087],\n",
       "    [36.15323257422398, 3.085838316585068],\n",
       "    [36.153411864865745, 3.091452361437405],\n",
       "    [36.15051269520478, 3.095957279604818],\n",
       "    [36.15293502812909, 3.115855931905799],\n",
       "    [36.15241622902579, 3.131588936180492],\n",
       "    [36.14786529524724, 3.1434965131535932],\n",
       "    [36.14352416970473, 3.148870706118259],\n",
       "    [36.14403533895978, 3.146170139140679],\n",
       "    [36.141822815170826, 3.148408889858445],\n",
       "    [36.14080429068554, 3.153751373627017],\n",
       "    [36.152576446845615, 3.189881086443052],\n",
       "    [36.15437698401064, 3.211205959187737],\n",
       "    [36.153549194040124, 3.216910363422585],\n",
       "    [36.15157699608153, 3.221392631264962],\n",
       "    [36.147663116859405, 3.224041223723532],\n",
       "    [36.14225387641534, 3.216140508677597],\n",
       "    [36.14474105855305, 3.21269965216726],\n",
       "    [36.143405914251616, 3.210141659210251],\n",
       "    [36.14080429068554, 3.2092814441833752],\n",
       "    [36.13170242312839, 3.211115122265142],\n",
       "    [36.122852325274664, 3.213990211678947],\n",
       "    [36.11757659908085, 3.219242095946015],\n",
       "    [36.11329650872693, 3.221347332413529],\n",
       "    [36.10351944007016, 3.221324682088436],\n",
       "    [36.088146209579975, 3.226237058793288],\n",
       "    [36.07495117215893, 3.227255821598931],\n",
       "    [36.05208587676185, 3.240566730370347],\n",
       "    [36.04981613180911, 4.056620121021808],\n",
       "    [36.05060958836185, 4.456217766236989]]]},\n",
       " 'properties': {'shapeName': 'Turkana',\n",
       "  'Shape_Leng': 15.0468376927,\n",
       "  'Shape_Area': 5.67698506967,\n",
       "  'Level': 'ADM1',\n",
       "  'shapeISO': 'KE-43',\n",
       "  'shapeID': 'KEN-ADM1-32016919B29792609',\n",
       "  'shapeGroup': 'KEN',\n",
       "  'shapeType': 'ADM1'}}"
      ]
     },
     "execution_count": 74,
     "metadata": {},
     "output_type": "execute_result"
    }
   ],
   "source": [
    "import pandas as pd\n",
    "file_path = 'C:/Users/Betty.Ogato/OneDrive - American Tower/Betsy/Betty Ogato Files/Betsy Personal Work/Data Science Course/kenya-counties-simplified.geojson'\n",
    "Counties = pd.read_json(file_path)\n",
    "Counties[\"features\"][0]\n"
   ]
  },
  {
   "cell_type": "code",
   "execution_count": 77,
   "id": "48d1ea0d",
   "metadata": {},
   "outputs": [
    {
     "name": "stdout",
     "output_type": "stream",
     "text": [
      "Requirement already satisfied: mapboxgl in c:\\users\\betty.ogato\\.conda\\lib\\site-packages (0.10.2)\n",
      "Requirement already satisfied: jinja2 in c:\\users\\betty.ogato\\.conda\\lib\\site-packages (from mapboxgl) (3.1.2)\n",
      "Requirement already satisfied: geojson in c:\\users\\betty.ogato\\.conda\\lib\\site-packages (from mapboxgl) (3.0.1)\n",
      "Requirement already satisfied: chroma-py in c:\\users\\betty.ogato\\.conda\\lib\\site-packages (from mapboxgl) (0.1.0.dev1)\n",
      "Requirement already satisfied: matplotlib in c:\\users\\betty.ogato\\.conda\\lib\\site-packages (from mapboxgl) (3.7.0)\n",
      "Requirement already satisfied: colour in c:\\users\\betty.ogato\\.conda\\lib\\site-packages (from mapboxgl) (0.1.5)\n",
      "Requirement already satisfied: MarkupSafe>=2.0 in c:\\users\\betty.ogato\\.conda\\lib\\site-packages (from jinja2->mapboxgl) (2.1.1)\n",
      "Requirement already satisfied: python-dateutil>=2.7 in c:\\users\\betty.ogato\\.conda\\lib\\site-packages (from matplotlib->mapboxgl) (2.8.2)\n",
      "Requirement already satisfied: kiwisolver>=1.0.1 in c:\\users\\betty.ogato\\.conda\\lib\\site-packages (from matplotlib->mapboxgl) (1.4.4)\n",
      "Requirement already satisfied: fonttools>=4.22.0 in c:\\users\\betty.ogato\\.conda\\lib\\site-packages (from matplotlib->mapboxgl) (4.25.0)\n",
      "Requirement already satisfied: packaging>=20.0 in c:\\users\\betty.ogato\\.conda\\lib\\site-packages (from matplotlib->mapboxgl) (22.0)\n",
      "Requirement already satisfied: pillow>=6.2.0 in c:\\users\\betty.ogato\\.conda\\lib\\site-packages (from matplotlib->mapboxgl) (9.4.0)\n",
      "Requirement already satisfied: numpy>=1.20 in c:\\users\\betty.ogato\\.conda\\lib\\site-packages (from matplotlib->mapboxgl) (1.23.5)\n",
      "Requirement already satisfied: pyparsing>=2.3.1 in c:\\users\\betty.ogato\\.conda\\lib\\site-packages (from matplotlib->mapboxgl) (3.0.9)\n",
      "Requirement already satisfied: contourpy>=1.0.1 in c:\\users\\betty.ogato\\.conda\\lib\\site-packages (from matplotlib->mapboxgl) (1.0.5)\n",
      "Requirement already satisfied: cycler>=0.10 in c:\\users\\betty.ogato\\.conda\\lib\\site-packages (from matplotlib->mapboxgl) (0.11.0)\n",
      "Requirement already satisfied: six>=1.5 in c:\\users\\betty.ogato\\.conda\\lib\\site-packages (from python-dateutil>=2.7->matplotlib->mapboxgl) (1.16.0)\n"
     ]
    },
    {
     "data": {
      "text/plain": [
       "<Axes: >"
      ]
     },
     "execution_count": 77,
     "metadata": {},
     "output_type": "execute_result"
    },
    {
     "data": {
      "image/png": "[encoded data removed]",
      "text/plain": [
       "<Figure size 640x480 with 1 Axes>"
      ]
     },
     "metadata": {},
     "output_type": "display_data"
    }
   ],
   "source": [
    "import plotly.express as px\n",
    "! pip install mapboxgl\n",
    "file_path = 'C:/Users/Betty.Ogato/OneDrive - American Tower/Betsy/Betty Ogato Files/Betsy Personal Work/Data Science Course/kenya-counties-simplified.geojson'\n",
    "map_df = gpd.read_file (file_path)\n",
    "map_df\n",
    "map_df.plot(color=\"grey\")"
   ]
  },
  {
   "cell_type": "code",
   "execution_count": 47,
   "id": "31be67ec",
   "metadata": {},
   "outputs": [
    {
     "name": "stdout",
     "output_type": "stream",
     "text": [
      "Requirement already satisfied: folium in c:\\users\\betty.ogato\\.conda\\lib\\site-packages (0.14.0)\n",
      "Requirement already satisfied: branca>=0.6.0 in c:\\users\\betty.ogato\\.conda\\lib\\site-packages (from folium) (0.6.0)\n",
      "Requirement already satisfied: requests in c:\\users\\betty.ogato\\.conda\\lib\\site-packages (from folium) (2.28.1)\n",
      "Requirement already satisfied: numpy in c:\\users\\betty.ogato\\.conda\\lib\\site-packages (from folium) (1.23.5)\n",
      "Requirement already satisfied: jinja2>=2.9 in c:\\users\\betty.ogato\\.conda\\lib\\site-packages (from folium) (3.1.2)\n",
      "Requirement already satisfied: MarkupSafe>=2.0 in c:\\users\\betty.ogato\\.conda\\lib\\site-packages (from jinja2>=2.9->folium) (2.1.1)\n",
      "Requirement already satisfied: idna<4,>=2.5 in c:\\users\\betty.ogato\\.conda\\lib\\site-packages (from requests->folium) (3.4)\n",
      "Requirement already satisfied: urllib3<1.27,>=1.21.1 in c:\\users\\betty.ogato\\.conda\\lib\\site-packages (from requests->folium) (1.26.14)\n",
      "Requirement already satisfied: certifi>=2017.4.17 in c:\\users\\betty.ogato\\.conda\\lib\\site-packages (from requests->folium) (2022.12.7)\n",
      "Requirement already satisfied: charset-normalizer<3,>=2 in c:\\users\\betty.ogato\\.conda\\lib\\site-packages (from requests->folium) (2.0.4)\n"
     ]
    }
   ],
   "source": [
    "! pip install folium"
   ]
  },
  {
   "cell_type": "code",
   "execution_count": 48,
   "id": "1ade10d1",
   "metadata": {},
   "outputs": [],
   "source": [
    "import folium"
   ]
  },
  {
   "cell_type": "code",
   "execution_count": 7,
   "id": "0340fbec",
   "metadata": {},
   "outputs": [
    {
     "data": {
      "text/html": [
       "<div>\n",
       "<style scoped>\n",
       "    .dataframe tbody tr th:only-of-type {\n",
       "        vertical-align: middle;\n",
       "    }\n",
       "\n",
       "    .dataframe tbody tr th {\n",
       "        vertical-align: top;\n",
       "    }\n",
       "\n",
       "    .dataframe thead th {\n",
       "        text-align: right;\n",
       "    }\n",
       "</style>\n",
       "<table border=\"1\" class=\"dataframe\">\n",
       "  <thead>\n",
       "    <tr style=\"text-align: right;\">\n",
       "      <th></th>\n",
       "      <th>ATC ID</th>\n",
       "      <th>Site Name</th>\n",
       "      <th>Initial Rent</th>\n",
       "      <th>Latitude</th>\n",
       "      <th>Longitude</th>\n",
       "      <th>City</th>\n",
       "      <th>County</th>\n",
       "      <th>Street</th>\n",
       "    </tr>\n",
       "  </thead>\n",
       "  <tbody>\n",
       "    <tr>\n",
       "      <th>0</th>\n",
       "      <td>618001</td>\n",
       "      <td>Bungoma Stadium</td>\n",
       "      <td>120000.0</td>\n",
       "      <td>0.591345</td>\n",
       "      <td>34.552905</td>\n",
       "      <td>Bungoma</td>\n",
       "      <td>Bungoma</td>\n",
       "      <td>Mumias - Bungoma Rd</td>\n",
       "    </tr>\n",
       "    <tr>\n",
       "      <th>1</th>\n",
       "      <td>618002</td>\n",
       "      <td>Bungoma South</td>\n",
       "      <td>200000.0</td>\n",
       "      <td>0.558877</td>\n",
       "      <td>34.560273</td>\n",
       "      <td>Bungoma</td>\n",
       "      <td>Bungoma</td>\n",
       "      <td>Mumias - Bungoma Rd</td>\n",
       "    </tr>\n",
       "    <tr>\n",
       "      <th>2</th>\n",
       "      <td>618003</td>\n",
       "      <td>Busia Lwero</td>\n",
       "      <td>100000.0</td>\n",
       "      <td>0.459231</td>\n",
       "      <td>34.117860</td>\n",
       "      <td>Busia</td>\n",
       "      <td>Busia</td>\n",
       "      <td>Kisumu - Busia Rd</td>\n",
       "    </tr>\n",
       "    <tr>\n",
       "      <th>3</th>\n",
       "      <td>618004</td>\n",
       "      <td>Leisure Lodge</td>\n",
       "      <td>469003.0</td>\n",
       "      <td>-4.278270</td>\n",
       "      <td>39.590513</td>\n",
       "      <td>Mombasa</td>\n",
       "      <td>Mombasa</td>\n",
       "      <td>Diani Beach Road</td>\n",
       "    </tr>\n",
       "    <tr>\n",
       "      <th>4</th>\n",
       "      <td>618005</td>\n",
       "      <td>Diani Exchange</td>\n",
       "      <td>173522.0</td>\n",
       "      <td>-4.303082</td>\n",
       "      <td>39.579153</td>\n",
       "      <td>Mombasa</td>\n",
       "      <td>Mombasa</td>\n",
       "      <td>Diani Beach Road</td>\n",
       "    </tr>\n",
       "    <tr>\n",
       "      <th>...</th>\n",
       "      <td>...</td>\n",
       "      <td>...</td>\n",
       "      <td>...</td>\n",
       "      <td>...</td>\n",
       "      <td>...</td>\n",
       "      <td>...</td>\n",
       "      <td>...</td>\n",
       "      <td>...</td>\n",
       "    </tr>\n",
       "    <tr>\n",
       "      <th>3054</th>\n",
       "      <td>621988</td>\n",
       "      <td>Chemalal Farm-Moi Barracks</td>\n",
       "      <td>150000.0</td>\n",
       "      <td>0.644100</td>\n",
       "      <td>35.167910</td>\n",
       "      <td>NaN</td>\n",
       "      <td>Uasin Gishu</td>\n",
       "      <td>Eldoret-Kitale Road</td>\n",
       "    </tr>\n",
       "    <tr>\n",
       "      <th>3055</th>\n",
       "      <td>621996</td>\n",
       "      <td>MAUA Shopping Centre</td>\n",
       "      <td>250000.0</td>\n",
       "      <td>0.230040</td>\n",
       "      <td>37.940950</td>\n",
       "      <td>Maua</td>\n",
       "      <td>Meru</td>\n",
       "      <td>Meru-Maua Road</td>\n",
       "    </tr>\n",
       "    <tr>\n",
       "      <th>3056</th>\n",
       "      <td>622015</td>\n",
       "      <td>Malindi Majivuni</td>\n",
       "      <td>600000.0</td>\n",
       "      <td>-3.202510</td>\n",
       "      <td>40.098720</td>\n",
       "      <td>Malindi</td>\n",
       "      <td>Kilifi</td>\n",
       "      <td>Mombasa-Malindi Road</td>\n",
       "    </tr>\n",
       "    <tr>\n",
       "      <th>3057</th>\n",
       "      <td>622043</td>\n",
       "      <td>Eastleigh_Captain_Mungai Relocation</td>\n",
       "      <td>2522000.0</td>\n",
       "      <td>-1.271730</td>\n",
       "      <td>36.847818</td>\n",
       "      <td>Nairobi</td>\n",
       "      <td>Nairobi</td>\n",
       "      <td>Captain Mungai Street, Eastleigh</td>\n",
       "    </tr>\n",
       "    <tr>\n",
       "      <th>3058</th>\n",
       "      <td>622105</td>\n",
       "      <td>Likoni Vyemani</td>\n",
       "      <td>750000.0</td>\n",
       "      <td>-4.099350</td>\n",
       "      <td>39.636470</td>\n",
       "      <td>Mombasa</td>\n",
       "      <td>Kwale</td>\n",
       "      <td>Likoni-Ukunda Road</td>\n",
       "    </tr>\n",
       "  </tbody>\n",
       "</table>\n",
       "<p>3059 rows × 8 columns</p>\n",
       "</div>"
      ],
      "text/plain": [
       "      ATC ID                            Site Name  Initial Rent  Latitude  \\\n",
       "0     618001                      Bungoma Stadium      120000.0  0.591345   \n",
       "1     618002                        Bungoma South      200000.0  0.558877   \n",
       "2     618003                          Busia Lwero      100000.0  0.459231   \n",
       "3     618004                        Leisure Lodge      469003.0 -4.278270   \n",
       "4     618005                       Diani Exchange      173522.0 -4.303082   \n",
       "...      ...                                  ...           ...       ...   \n",
       "3054  621988       Chemalal Farm-Moi Barracks          150000.0  0.644100   \n",
       "3055  621996                 MAUA Shopping Centre      250000.0  0.230040   \n",
       "3056  622015                     Malindi Majivuni      600000.0 -3.202510   \n",
       "3057  622043  Eastleigh_Captain_Mungai Relocation     2522000.0 -1.271730   \n",
       "3058  622105                   Likoni Vyemani          750000.0 -4.099350   \n",
       "\n",
       "      Longitude     City       County                            Street  \n",
       "0     34.552905  Bungoma      Bungoma               Mumias - Bungoma Rd  \n",
       "1     34.560273  Bungoma      Bungoma               Mumias - Bungoma Rd  \n",
       "2     34.117860    Busia        Busia                 Kisumu - Busia Rd  \n",
       "3     39.590513  Mombasa      Mombasa                  Diani Beach Road  \n",
       "4     39.579153  Mombasa      Mombasa                  Diani Beach Road  \n",
       "...         ...      ...          ...                               ...  \n",
       "3054  35.167910      NaN  Uasin Gishu               Eldoret-Kitale Road  \n",
       "3055  37.940950     Maua         Meru                    Meru-Maua Road  \n",
       "3056  40.098720  Malindi       Kilifi              Mombasa-Malindi Road  \n",
       "3057  36.847818  Nairobi      Nairobi  Captain Mungai Street, Eastleigh  \n",
       "3058  39.636470  Mombasa        Kwale                Likoni-Ukunda Road  \n",
       "\n",
       "[3059 rows x 8 columns]"
      ]
     },
     "execution_count": 7,
     "metadata": {},
     "output_type": "execute_result"
    }
   ],
   "source": [
    "import plotly.express as px \n",
    "import pandas as pd\n",
    "file_path = 'C:/Users/Betty.Ogato/OneDrive - American Tower/Betsy/Betty Ogato Files/Betsy Personal Work/Data Science Course/My_Final_Project.csv'\n",
    "df = pd.read_csv(file_path)\n",
    "df"
   ]
  },
  {
   "cell_type": "code",
   "execution_count": 29,
   "id": "e015f2c2",
   "metadata": {},
   "outputs": [
    {
     "data": {
      "text/html": [
       "<div>\n",
       "<style scoped>\n",
       "    .dataframe tbody tr th:only-of-type {\n",
       "        vertical-align: middle;\n",
       "    }\n",
       "\n",
       "    .dataframe tbody tr th {\n",
       "        vertical-align: top;\n",
       "    }\n",
       "\n",
       "    .dataframe thead th {\n",
       "        text-align: right;\n",
       "    }\n",
       "</style>\n",
       "<table border=\"1\" class=\"dataframe\">\n",
       "  <thead>\n",
       "    <tr style=\"text-align: right;\">\n",
       "      <th></th>\n",
       "      <th>Latitude</th>\n",
       "      <th>Longitude</th>\n",
       "    </tr>\n",
       "  </thead>\n",
       "  <tbody>\n",
       "    <tr>\n",
       "      <th>0</th>\n",
       "      <td>0.591345</td>\n",
       "      <td>34.552905</td>\n",
       "    </tr>\n",
       "    <tr>\n",
       "      <th>1</th>\n",
       "      <td>0.558877</td>\n",
       "      <td>34.560273</td>\n",
       "    </tr>\n",
       "    <tr>\n",
       "      <th>2</th>\n",
       "      <td>0.459231</td>\n",
       "      <td>34.117860</td>\n",
       "    </tr>\n",
       "    <tr>\n",
       "      <th>3</th>\n",
       "      <td>-4.278270</td>\n",
       "      <td>39.590513</td>\n",
       "    </tr>\n",
       "    <tr>\n",
       "      <th>4</th>\n",
       "      <td>-4.303082</td>\n",
       "      <td>39.579153</td>\n",
       "    </tr>\n",
       "    <tr>\n",
       "      <th>...</th>\n",
       "      <td>...</td>\n",
       "      <td>...</td>\n",
       "    </tr>\n",
       "    <tr>\n",
       "      <th>3054</th>\n",
       "      <td>0.644100</td>\n",
       "      <td>35.167910</td>\n",
       "    </tr>\n",
       "    <tr>\n",
       "      <th>3055</th>\n",
       "      <td>0.230040</td>\n",
       "      <td>37.940950</td>\n",
       "    </tr>\n",
       "    <tr>\n",
       "      <th>3056</th>\n",
       "      <td>-3.202510</td>\n",
       "      <td>40.098720</td>\n",
       "    </tr>\n",
       "    <tr>\n",
       "      <th>3057</th>\n",
       "      <td>-1.271730</td>\n",
       "      <td>36.847818</td>\n",
       "    </tr>\n",
       "    <tr>\n",
       "      <th>3058</th>\n",
       "      <td>-4.099350</td>\n",
       "      <td>39.636470</td>\n",
       "    </tr>\n",
       "  </tbody>\n",
       "</table>\n",
       "<p>3059 rows × 2 columns</p>\n",
       "</div>"
      ],
      "text/plain": [
       "      Latitude  Longitude\n",
       "0     0.591345  34.552905\n",
       "1     0.558877  34.560273\n",
       "2     0.459231  34.117860\n",
       "3    -4.278270  39.590513\n",
       "4    -4.303082  39.579153\n",
       "...        ...        ...\n",
       "3054  0.644100  35.167910\n",
       "3055  0.230040  37.940950\n",
       "3056 -3.202510  40.098720\n",
       "3057 -1.271730  36.847818\n",
       "3058 -4.099350  39.636470\n",
       "\n",
       "[3059 rows x 2 columns]"
      ]
     },
     "execution_count": 29,
     "metadata": {},
     "output_type": "execute_result"
    }
   ],
   "source": [
    "df [['Latitude', 'Longitude']]"
   ]
  },
  {
   "cell_type": "code",
   "execution_count": 72,
   "id": "2c0cc5c0",
   "metadata": {},
   "outputs": [
    {
     "data": {
      "application/vnd.plotly.v1+json": {
       "config": {
        "plotlyServerURL": "https://plot.ly"
       },
       "data": [
        {
         "customdata": [
          [
           "Bungoma Stadium"
          ],
          [
           "Bungoma South"
          ],
          [
           "Busia Lwero"
          ],
          [
           "Leisure Lodge"
          ],
          [
           "Diani Exchange"
          ],
          [
           "Msambweni Exc"
          ],
          [
           "Lunga Lunga Eackelberg"
          ],
          [
           "Reef Hotel"
          ],
          [
           "Diani Sea Resort"
          ],
          [
           "Leisure Lodge2"
          ],
          [
           "Embu"
          ],
          [
           "Kamugere"
          ],
          [
           "Langas"
          ],
          [
           "Broadway Industries"
          ],
          [
           "West Indies"
          ],
          [
           "Eldoret TKL HSE"
          ],
          [
           "Eldoret Hill"
          ],
          [
           "Mwitirithia"
          ],
          [
           "Kahoya"
          ],
          [
           "DC Office"
          ],
          [
           "KFS"
          ],
          [
           "Saleyard"
          ],
          [
           "Kipsona Estate"
          ],
          [
           "Eldoret West Campus"
          ],
          [
           "African Holy Ghost Church"
          ],
          [
           "Goodnews Kahoya"
          ],
          [
           "Kogo Plaza"
          ],
          [
           "Road Block"
          ],
          [
           "Railways Eldoret"
          ],
          [
           "Eldoret-R"
          ],
          [
           "IPCH church"
          ],
          [
           "Munyaka Police Station"
          ],
          [
           "Central Primary School"
          ],
          [
           "Elgon View Estate"
          ],
          [
           "Kisumu Road Garage"
          ],
          [
           "Little Lambs School"
          ],
          [
           "Longonot Center"
          ],
          [
           "Moi University Annex-GF"
          ],
          [
           "Church Of Jesus Eldoret"
          ],
          [
           "Eldoret Langas 2"
          ],
          [
           "Kapseret"
          ],
          [
           "Kesses-GF1"
          ],
          [
           "Ngeria Shopping Center"
          ],
          [
           "Kamogich Plaza"
          ],
          [
           "Inabtich Primary School"
          ],
          [
           "Plateau"
          ],
          [
           "Marigat"
          ],
          [
           "Makutano UXD KEEP"
          ],
          [
           "Sergoit"
          ],
          [
           "Kamorin"
          ],
          [
           "Kapsowar"
          ],
          [
           "Kabarnet"
          ],
          [
           "Kabartonjo"
          ],
          [
           "Kuinet"
          ],
          [
           "Webuye"
          ],
          [
           "Cherubei"
          ],
          [
           "Kapsokwony"
          ],
          [
           "Kimilili"
          ],
          [
           "Sirungai"
          ],
          [
           "Soy"
          ],
          [
           "Kongoni"
          ],
          [
           "Heys Bridge"
          ],
          [
           "Turbo"
          ],
          [
           "Myanga"
          ],
          [
           "Bungoma town"
          ],
          [
           "Malaba Customs"
          ],
          [
           "Malaba"
          ],
          [
           "Kocholya"
          ],
          [
           "Sikhendu"
          ],
          [
           "Lokichar"
          ],
          [
           "Kapsabet"
          ],
          [
           "Nandi hills"
          ],
          [
           "Lessos Hilltop"
          ],
          [
           "Shinyalu"
          ],
          [
           "Chebunaywa"
          ],
          [
           "Baraton University"
          ],
          [
           "Serem"
          ],
          [
           "Ndalat"
          ],
          [
           "Lodwar Hill"
          ],
          [
           "Lokichogio"
          ],
          [
           "Timboroa Hill"
          ],
          [
           "Nabkoi forest"
          ],
          [
           "Burnt Forest"
          ],
          [
           "Moi University"
          ],
          [
           "Eldoret Outspan"
          ],
          [
           "Matharu"
          ],
          [
           "Tarakwa"
          ],
          [
           "Kipsarman"
          ],
          [
           "Nakobothan"
          ],
          [
           "Peleketch"
          ],
          [
           "Mnagei"
          ],
          [
           "Garitei"
          ],
          [
           "Luterere"
          ],
          [
           "Morua Dou"
          ],
          [
           "Songot Hill"
          ],
          [
           "Lokwamur"
          ],
          [
           "Marichipass"
          ],
          [
           "Soy CDMA"
          ],
          [
           "Elburgon CDMA"
          ],
          [
           "Modicar_TKL"
          ],
          [
           "Garissa province estate"
          ],
          [
           "Garissa Provincial Hospital"
          ],
          [
           "Mbuvu"
          ],
          [
           "Katumba"
          ],
          [
           "Madogo"
          ],
          [
           "Alangor Arbu"
          ],
          [
           "Dadaab"
          ],
          [
           "Bura TKL"
          ],
          [
           "HolaTown"
          ],
          [
           "Tula"
          ],
          [
           "Kabarnet Hill"
          ],
          [
           "Kericho_Hospital"
          ],
          [
           "TeaLand"
          ],
          [
           "Kisii Town"
          ],
          [
           "Kisii Milimani"
          ],
          [
           "Kisii Vet clinic"
          ],
          [
           "Kisii Exchange"
          ],
          [
           "Kakamega_South"
          ],
          [
           "Muliro Gardens"
          ],
          [
           "Kakamega west"
          ],
          [
           "Police Line"
          ],
          [
           "Masaba Estate"
          ],
          [
           "Kiminini"
          ],
          [
           "Nyalenda"
          ],
          [
           "Kassagem"
          ],
          [
           "Kisumu TKL hse"
          ],
          [
           "Auji"
          ],
          [
           "Kisumu Mosque"
          ],
          [
           "Kondele"
          ],
          [
           "Manyatta"
          ],
          [
           "KSM Nyamasaria"
          ],
          [
           "Kisumu Hospital"
          ],
          [
           "Kisumu police line"
          ],
          [
           "Statehouse KR"
          ],
          [
           "Tom Mboya Estate"
          ],
          [
           "Kisumu Ring"
          ],
          [
           "Ubinju"
          ],
          [
           "Grace Ogot"
          ],
          [
           "Maseno College Campus"
          ],
          [
           "Maseno Magistrates Court"
          ],
          [
           "East of Maseno University"
          ],
          [
           "Kisumu Polytechnic"
          ],
          [
           "Maseno"
          ],
          [
           "Wagai"
          ],
          [
           "Siaya"
          ],
          [
           "Luanda"
          ],
          [
           "Mutumbu"
          ],
          [
           "Samia Hill"
          ],
          [
           "Busia"
          ],
          [
           "Butula Kalalani"
          ],
          [
           "Mumias"
          ],
          [
           "Sabatia Lunza"
          ],
          [
           "Shianda-After"
          ],
          [
           "Kakamega"
          ],
          [
           "Kiboswa"
          ],
          [
           "Maragoli forest"
          ],
          [
           "Lunganyiro"
          ],
          [
           "Shikusa"
          ],
          [
           "KSM Mambolelo"
          ],
          [
           "Butere"
          ],
          [
           "Nyanchwa HILL"
          ],
          [
           "Tombe"
          ],
          [
           "Nyamira"
          ],
          [
           "Sameta Hills"
          ],
          [
           "Kisii_Road"
          ],
          [
           "Kibiringo"
          ],
          [
           "Cheromit"
          ],
          [
           "Gembe Hill"
          ],
          [
           "Nyambunwa"
          ],
          [
           "Kamagambo"
          ],
          [
           "Homabay show"
          ],
          [
           "Onapo"
          ],
          [
           "Mosocho"
          ],
          [
           "Doho kosele"
          ],
          [
           "Oyugis"
          ],
          [
           "Kindu bay"
          ],
          [
           "Ruga"
          ],
          [
           "Migori - Exchange"
          ],
          [
           "Ranen Highway"
          ],
          [
           "Rongo"
          ],
          [
           "Sondu"
          ],
          [
           "Kadongo"
          ],
          [
           "Ober"
          ],
          [
           "Kisii Gesonso"
          ],
          [
           "Nyangusu"
          ],
          [
           "Nyacheki"
          ],
          [
           "Nyamasimba"
          ],
          [
           "United mall"
          ],
          [
           "Nakumatt"
          ],
          [
           "Maseno CDMA"
          ],
          [
           "Ahero"
          ],
          [
           "Homa Bay UXD"
          ],
          [
           "Lamu"
          ],
          [
           "Faza"
          ],
          [
           "Lamu CBD"
          ],
          [
           "Milhoi"
          ],
          [
           "Witu"
          ],
          [
           "Hindi"
          ],
          [
           "Lokichogio centre"
          ],
          [
           "Machakos"
          ],
          [
           "Machakos Eastliegh"
          ],
          [
           "Machakos Mutituni"
          ],
          [
           "Kikambuani"
          ],
          [
           "Katangi- CDMA"
          ],
          [
           "Kitui TKL Exchange"
          ],
          [
           "Mwanashungi"
          ],
          [
           "Muyeye"
          ],
          [
           "Malindi TKL hse"
          ],
          [
           "Kisumu Ndogo (Malindi) port)"
          ],
          [
           "Kibokoni"
          ],
          [
           "Tropical Village"
          ],
          [
           "White Elephant"
          ],
          [
           "Garsen"
          ],
          [
           "Msumarini"
          ],
          [
           "Mambrui Radio Station"
          ],
          [
           "Karengethe"
          ],
          [
           "Meru Exchange"
          ],
          [
           "Meru Timber"
          ],
          [
           "Gatimbine"
          ],
          [
           "Nkubu"
          ],
          [
           "Kionyo"
          ],
          [
           "Chuka"
          ],
          [
           "Isiolo"
          ],
          [
           "Nyambene"
          ],
          [
           "Laare"
          ],
          [
           "Nkuene"
          ],
          [
           "Maua TKL"
          ],
          [
           "Shika Adabu Likoni"
          ],
          [
           "Likoni"
          ],
          [
           "Baraki"
          ],
          [
           "Ganjoni"
          ],
          [
           "MSA TKL House"
          ],
          [
           "KPA mombasa"
          ],
          [
           "Majengo"
          ],
          [
           "KIDUNGUNI-MT. SINAI"
          ],
          [
           "Tudor"
          ],
          [
           "Kongowea Market"
          ],
          [
           "Nyali Link farm"
          ],
          [
           "Changamwe SDA"
          ],
          [
           "Mshomoroni Kisauni"
          ],
          [
           "V.O.K Kisauni"
          ],
          [
           "Miritini Vikombani"
          ],
          [
           "Mbungoni Kisauni"
          ],
          [
           "Bamburi Utange"
          ],
          [
           "Bamburi"
          ],
          [
           "Shimo La Tewa"
          ],
          [
           "Mtongwe_2"
          ],
          [
           "OLD Mombasa town"
          ],
          [
           "Old Mombasa Town 2"
          ],
          [
           "Madaraka"
          ],
          [
           "Mnazini"
          ],
          [
           "Swami"
          ],
          [
           "Mombasa Jomo Kenyatta"
          ],
          [
           "Lumumba"
          ],
          [
           "Shimanzi"
          ],
          [
           "Mombasa stadium"
          ],
          [
           "Mombasa Tudor"
          ],
          [
           "Mombasa magongo 1"
          ],
          [
           "Mombasa magongo 2"
          ],
          [
           "Jomvi"
          ],
          [
           "Nakumatt Nyali 2 RT Building"
          ],
          [
           "Mwandoni bamburi"
          ],
          [
           "Mbaraki"
          ],
          [
           "Kizingo white wall"
          ],
          [
           "Pirates Beach"
          ],
          [
           "Nakumat Nyali Cinemax"
          ],
          [
           "West Changamwe"
          ],
          [
           "Makupa"
          ],
          [
           "Shimba Hills"
          ],
          [
           "Mtwapa GSM"
          ],
          [
           "Kikambala TKLexch"
          ],
          [
           "Kilifi TKLexch"
          ],
          [
           "Tezo"
          ],
          [
           "Uyombo"
          ],
          [
           "Gede junction"
          ],
          [
           "Hemingways Resort"
          ],
          [
           "Kokotoni"
          ],
          [
           "Kenani"
          ],
          [
           "Manyani"
          ],
          [
           "Ndi Tsavo"
          ],
          [
           "Voi hill"
          ],
          [
           "Maungu (CDMA)"
          ],
          [
           "Taru"
          ],
          [
           "Samburu"
          ],
          [
           "Mazeras (CDMA)"
          ],
          [
           "Manyani Rd"
          ],
          [
           "Nyali Exchange"
          ],
          [
           "Mwatate/Chawia"
          ],
          [
           "Kidong"
          ],
          [
           "Taveta_TKL"
          ],
          [
           "Sarova Whitesands Hotel"
          ],
          [
           "Mbuni Road"
          ],
          [
           "Chumvini"
          ],
          [
           "Ngong Exchange"
          ],
          [
           "Kikuyu"
          ],
          [
           "Karen Rhino park"
          ],
          [
           "Muthiga"
          ],
          [
           "Kahuho"
          ],
          [
           "Kiserian"
          ],
          [
           "Karen Accacia"
          ],
          [
           "Kirigu Waithaka"
          ],
          [
           "Karen Miotoni"
          ],
          [
           "Nkoroi"
          ],
          [
           "Kabiria"
          ],
          [
           "Lower Kabete"
          ],
          [
           "Karura"
          ],
          [
           "Riruta"
          ],
          [
           "Kangemi"
          ],
          [
           "Gathiga"
          ],
          [
           "Langata"
          ],
          [
           "Karuri"
          ],
          [
           "Ngong_Sport_Club"
          ],
          [
           "Ongata_Rongai"
          ],
          [
           "Kawangware"
          ],
          [
           "Rowallan camp"
          ],
          [
           "Lavington"
          ],
          [
           "Gachie"
          ],
          [
           "Muthangari"
          ],
          [
           "Jamhuri"
          ],
          [
           "Kilimani Galana"
          ],
          [
           "Peponi Rd"
          ],
          [
           "Mucatha"
          ],
          [
           "Karen Hospital"
          ],
          [
           "Westlands Exch"
          ],
          [
           "Kibera Malezi Sch"
          ],
          [
           "Reliance Centre"
          ],
          [
           "KTTC Gigiri"
          ],
          [
           "Parklands_Exchange"
          ],
          [
           "Nairobi_West"
          ],
          [
           "South_Hill"
          ],
          [
           "South B"
          ],
          [
           "Parklands"
          ],
          [
           "Runda"
          ],
          [
           "Ngara"
          ],
          [
           "Muthurwa"
          ],
          [
           "Major_Works"
          ],
          [
           "Eastleigh_THse"
          ],
          [
           "Mogandishu rd"
          ],
          [
           "Highway Exchange"
          ],
          [
           "Kimathi Estate"
          ],
          [
           "Thome Muthaiga north"
          ],
          [
           "Kariobangi"
          ],
          [
           "Embakasi mukuru"
          ],
          [
           "Kariobangi South"
          ],
          [
           "Mugomo"
          ],
          [
           "Steel Makers"
          ],
          [
           "Tena Estate"
          ],
          [
           "Lucky Summer"
          ],
          [
           "Kiamumbi"
          ],
          [
           "Embakasi"
          ],
          [
           "Komarock Infill"
          ],
          [
           "Kasarani Clayworks"
          ],
          [
           "Dandora"
          ],
          [
           "Kahawa barracks"
          ],
          [
           "Syokimau"
          ],
          [
           "Githurai langata"
          ],
          [
           "Ruiru membley"
          ],
          [
           "Njiru"
          ],
          [
           "Kahawa Sukari"
          ],
          [
           "Ruiru"
          ],
          [
           "Mavoko"
          ],
          [
           "Athi_River"
          ],
          [
           "TKL Ruai Club"
          ],
          [
           "Kayole phase 1"
          ],
          [
           "Mowlem"
          ],
          [
           "Ngong hills"
          ],
          [
           "Umoja innercore"
          ],
          [
           "Karen Exchange"
          ],
          [
           "Buru Buru Phase 3"
          ],
          [
           "Tassia Estate"
          ],
          [
           "Landmark Plaza"
          ],
          [
           "St.Ellis House"
          ],
          [
           "Loita house"
          ],
          [
           "Hirani Building"
          ],
          [
           "Rura Urban Credit Finance"
          ],
          [
           "Ukulima Co-op Hse"
          ],
          [
           "RELI CO-OP HSE"
          ],
          [
           "Pangani Bujumbura Rd"
          ],
          [
           "Panari"
          ],
          [
           "Yaya Center"
          ],
          [
           "KIRONGOTHI STREET"
          ],
          [
           "Huruma"
          ],
          [
           "BRUNEI HSE"
          ],
          [
           "Kayole Phase III"
          ],
          [
           "Lungalunga"
          ],
          [
           "Paramount Plaza"
          ],
          [
           "Church Rd"
          ],
          [
           "ABC Place"
          ],
          [
           "Plainsview"
          ],
          [
           "Kayole Juakali"
          ],
          [
           "Carnivore"
          ],
          [
           "Spring valley"
          ],
          [
           "NHIF Building"
          ],
          [
           "Limuru Town"
          ],
          [
           "Nyari Estate"
          ],
          [
           "Likoni Rd"
          ],
          [
           "Nairobi TKL hse"
          ],
          [
           "CFC - Building"
          ],
          [
           "Riara Road"
          ],
          [
           "Pumwani"
          ],
          [
           "KICC Macro"
          ],
          [
           "Hughes House"
          ],
          [
           "Nakumatt lifestyle"
          ],
          [
           "Keiyo road"
          ],
          [
           "Mwihoko GF"
          ],
          [
           "kahawa Wendani"
          ],
          [
           "Zimmerman"
          ],
          [
           "Lenana Rd"
          ],
          [
           "Githunguri CDMA"
          ],
          [
           "TKL Pemba Road"
          ],
          [
           "Nazarene University"
          ],
          [
           "Savanna"
          ],
          [
           "Sunrays"
          ],
          [
           "Kamukunji Trade Center"
          ],
          [
           "Kahawa west"
          ],
          [
           "Mukoma road"
          ],
          [
           "Lusiget"
          ],
          [
           "Kinoo"
          ],
          [
           "Gitaru"
          ],
          [
           "Thigio"
          ],
          [
           "Kabuku"
          ],
          [
           "Kiambu North"
          ],
          [
           "Kanunga"
          ],
          [
           "Kawaida"
          ],
          [
           "Tinganga"
          ],
          [
           "Ikinu"
          ],
          [
           "Eden Square"
          ],
          [
           "Ngumo"
          ],
          [
           "Dandora Phase 1"
          ],
          [
           "Andrews Apartments"
          ],
          [
           "Gigiri Exchange"
          ],
          [
           "Loresho South"
          ],
          [
           "Industrial Area - RT Building"
          ],
          [
           "Ngong View"
          ],
          [
           "Karen mother land"
          ],
          [
           "Near Hillcrest Road"
          ],
          [
           "Magadi Road"
          ],
          [
           "Siaya Road"
          ],
          [
           "Umoja Phase 2 Plot No J185"
          ],
          [
           "Nanyuki Road"
          ],
          [
           "Donholm Road"
          ],
          [
           "Muteero Drop"
          ],
          [
           "British American Insurance"
          ],
          [
           "Karen Warai Road"
          ],
          [
           "Magadi Road Greenfield"
          ],
          [
           "Homestead Hosting Tower"
          ],
          [
           "Muringa Road"
          ],
          [
           "Pumwani Road"
          ],
          [
           "K. Manyimbu"
          ],
          [
           "Mandera OAD"
          ],
          [
           "Iran Embassy"
          ],
          [
           "Haridge INN"
          ],
          [
           "Kiddyvilla Kindergaten"
          ],
          [
           "Umoja 1N"
          ],
          [
           "Riverside KR"
          ],
          [
           "Brookside Drive"
          ],
          [
           "Busia Road"
          ],
          [
           "KWS Nairobi National Park"
          ],
          [
           "weights and measures gf"
          ],
          [
           "Niamey Lane"
          ],
          [
           "Sunrise Estate 2"
          ],
          [
           "KMTC"
          ],
          [
           "Marak Limited"
          ],
          [
           "Theke"
          ],
          [
           "Kiou"
          ],
          [
           "Kinyunyini"
          ],
          [
           "Simba"
          ],
          [
           "Mbui Nzau"
          ],
          [
           "Kibwezi"
          ],
          [
           "Kambu"
          ],
          [
           "Nthawe"
          ],
          [
           "Mtito Andei"
          ],
          [
           "Diamond Estate GF"
          ],
          [
           "Fedha Godowns"
          ],
          [
           "Sultan Hamud"
          ],
          [
           "Mtito Andei EXCH"
          ],
          [
           "Magadi Radio"
          ],
          [
           "Kayole5"
          ],
          [
           "Githurai Akida Bakery"
          ],
          [
           "Oloitoktok"
          ],
          [
           "Namanga_Town"
          ],
          [
           "Namanga Road"
          ],
          [
           "Maparasha Hill"
          ],
          [
           "Makueni Hill - TKL CMDA"
          ],
          [
           "Isinya Polytechnic"
          ],
          [
           "Ruiru Mahetero"
          ],
          [
           "JKUAT Kiongo Hostel"
          ],
          [
           "KU Central Stores"
          ],
          [
           "Gitithia"
          ],
          [
           "Lari/Kijabe"
          ],
          [
           "Susian"
          ],
          [
           "Karangita"
          ],
          [
           "United Nations Gigiri"
          ],
          [
           "Windsor Golf Club"
          ],
          [
           "Upper Kabete Campus Entrance"
          ],
          [
           "Cool Breeze Gardens"
          ],
          [
           "Karen Country Club - Forest Road GF"
          ],
          [
           "Ruaraka Exch"
          ],
          [
           "Jogoo kimakia"
          ],
          [
           "Otiende_GF"
          ],
          [
           "6th Street Eastleigh"
          ],
          [
           "Kibutu 1"
          ],
          [
           "Gathanga"
          ],
          [
           "Kwa Gathoni Mui-Muto"
          ],
          [
           "Kangemi Hinga drive"
          ],
          [
           "Crosby Shelters"
          ],
          [
           "Oleserewa"
          ],
          [
           "Fairmile School"
          ],
          [
           "Mutomo"
          ],
          [
           "Iremito"
          ],
          [
           "Kencom House"
          ],
          [
           "Thomson falls"
          ],
          [
           "Nyahururu Hill"
          ],
          [
           "Menengai"
          ],
          [
           "Bangladesh"
          ],
          [
           "Nakuru TKL hse"
          ],
          [
           "Nakuru Celtel Highway"
          ],
          [
           "Lanet"
          ],
          [
           "Stima_Line"
          ],
          [
           "Nakuru PC"
          ],
          [
           "Nakuru TC"
          ],
          [
           "Le rhino hotel"
          ],
          [
           "Nwarik Farm"
          ],
          [
           "Nakuru Eden"
          ],
          [
           "Kipsigis Tugen"
          ],
          [
           "Nakuru Shabab"
          ],
          [
           "Ngala Flats"
          ],
          [
           "Kasarani Police Line"
          ],
          [
           "Mother Teresa Hotel"
          ],
          [
           "Langa Langa"
          ],
          [
           "Marshalls Garage"
          ],
          [
           "Nakuru East"
          ],
          [
           "Mawanga"
          ],
          [
           "Highway"
          ],
          [
           "Umoja Nakuru"
          ],
          [
           "Kiamunyeki"
          ],
          [
           "Mbaruk Road"
          ],
          [
           "ACK Bondeni"
          ],
          [
           "Naivas1"
          ],
          [
           "Maasai Road"
          ],
          [
           "Victonel Milimani"
          ],
          [
           "KMTC Nakuru"
          ],
          [
           "Shabaab Friend Church Quakers"
          ],
          [
           "Nakuru_Rhonda"
          ],
          [
           "Industrial Zone Naks"
          ],
          [
           "PCEA Nakuru West Parish"
          ],
          [
           "Pipeline"
          ],
          [
           "Kabarak University"
          ],
          [
           "Olorien"
          ],
          [
           "Enengetia"
          ],
          [
           "Narok TKL hse"
          ],
          [
           "Narok Majengo"
          ],
          [
           "Kenya Farmers Ass"
          ],
          [
           "Naivasha"
          ],
          [
           "IIKek"
          ],
          [
           "Eburru(TKL Site)"
          ],
          [
           "Gilgil Town"
          ],
          [
           "Mbaruku"
          ],
          [
           "Oserian"
          ],
          [
           "Ol Kalou"
          ],
          [
           "North kinangop"
          ],
          [
           "Salgaa"
          ],
          [
           "Londiani hill"
          ],
          [
           "Makutano"
          ],
          [
           "Londiani junction"
          ],
          [
           "Kedowa"
          ],
          [
           "Chepsir"
          ],
          [
           "Kericho TKL HSE"
          ],
          [
           "Sitotwet"
          ],
          [
           "Kericho Kipsitet"
          ],
          [
           "Nyando_Wangaya"
          ],
          [
           "Nyando Kochieng"
          ],
          [
           "Saosa"
          ],
          [
           "Merigi"
          ],
          [
           "Bosta hill"
          ],
          [
           "Eldama Ravine"
          ],
          [
           "Koiwa"
          ],
          [
           "Mutarakwa Hill"
          ],
          [
           "Kiboko Farm"
          ],
          [
           "Molo town"
          ],
          [
           "Londiani Town"
          ],
          [
           "Koituiy"
          ],
          [
           "Kamureito"
          ],
          [
           "Sigowet"
          ],
          [
           "Longonot Earth Station"
          ],
          [
           "Mau Suswa"
          ],
          [
           "Naire Enkare/Olasiti"
          ],
          [
           "Ntulele"
          ],
          [
           "Eorkule"
          ],
          [
           "IL Mashariani"
          ],
          [
           "Koitiko"
          ],
          [
           "Bogoria"
          ],
          [
           "Kiamaina"
          ],
          [
           "Nyandundo"
          ],
          [
           "Oldonyo Rasha"
          ],
          [
           "Ngoswani"
          ],
          [
           "Kaitapini"
          ],
          [
           "Ngama hill"
          ],
          [
           "Keekorok Hotel"
          ],
          [
           "Lenganishu"
          ],
          [
           "Talek market"
          ],
          [
           "Mara bridge"
          ],
          [
           "Mara Serena Lodge"
          ],
          [
           "Governor Camp"
          ],
          [
           "Marariada"
          ],
          [
           "Aerosport Nanyuki"
          ],
          [
           "Lolgorian"
          ],
          [
           "Mulot"
          ],
          [
           "Laikipia university"
          ],
          [
           "Olesituo"
          ],
          [
           "Olenguruone"
          ],
          [
           "Olkuruk TKL"
          ],
          [
           "Fig mara station"
          ],
          [
           "Naivasha Flower farm"
          ],
          [
           "Naivasha Military"
          ],
          [
           "Kedong Ranch"
          ],
          [
           "Skuta Trading Centre"
          ],
          [
           "Nyeri Exchange"
          ],
          [
           "Paresia"
          ],
          [
           "Nyeri hills"
          ],
          [
           "Pamki"
          ],
          [
           "Kiganjo Post office"
          ],
          [
           "Othaya Exchange"
          ],
          [
           "Muranga_2"
          ],
          [
           "Aerosport Nanyuki"
          ],
          [
           "Gatundu"
          ],
          [
           "Juja"
          ],
          [
           "Thika"
          ],
          [
           "Kenol"
          ],
          [
           "Makuyu"
          ],
          [
           "Merila Barrage"
          ],
          [
           "Sagana Exch"
          ],
          [
           "Kibingoti"
          ],
          [
           "Karatina"
          ],
          [
           "Wambugu farm"
          ],
          [
           "Mwirua"
          ],
          [
           "Kanunga"
          ],
          [
           "Othaya"
          ],
          [
           "Mukurweni"
          ],
          [
           "Ol Donyo Sabuk"
          ],
          [
           "Gatunyu"
          ],
          [
           "Naromoru"
          ],
          [
           "Kerugoya"
          ],
          [
           "Maragwa"
          ],
          [
           "Muranga"
          ],
          [
           "Wanguru"
          ],
          [
           "Kirirwa"
          ],
          [
           "Kangari"
          ],
          [
           "Karatu"
          ],
          [
           "Moyale Hill"
          ],
          [
           "Marsabit RPT"
          ],
          [
           "Mandera"
          ],
          [
           "Wajir Town"
          ],
          [
           "Marallal KWS"
          ],
          [
           "Wamba"
          ],
          [
           "Laisamis"
          ],
          [
           "Loldaika Hill"
          ],
          [
           "Mt Kulal"
          ],
          [
           "Turbi"
          ],
          [
           "Baricho CDMA"
          ],
          [
           "Madogashe"
          ],
          [
           "Rhamu"
          ],
          [
           "Elwak"
          ],
          [
           "Sukela Tinfu"
          ],
          [
           "Karo"
          ],
          [
           "Tarbaj"
          ],
          [
           "Wargadud"
          ],
          [
           "Dida Galgalo"
          ],
          [
           "Eldera"
          ],
          [
           "Moyale Town"
          ],
          [
           "Shimbiri"
          ],
          [
           "Kanchara"
          ],
          [
           "Boji Plains"
          ],
          [
           "Affat"
          ],
          [
           "Awal Abdulla"
          ],
          [
           "Afwein KEEP"
          ],
          [
           "Stema Relax"
          ],
          [
           "Thika Makongeni"
          ],
          [
           "Kiganjo Thika"
          ],
          [
           "Thika Landless"
          ],
          [
           "Upatia/Mbondoni"
          ],
          [
           "Mwingi"
          ],
          [
           "Voi TKL hse"
          ],
          [
           "Garbatulla"
          ],
          [
           "Telkom_Ol_Donyo_Sabach_Hill"
          ],
          [
           "Telkom_Bartolimo"
          ],
          [
           "Orange_Ololulunga"
          ],
          [
           "Nyayo Embakasi"
          ],
          [
           "Wathorego"
          ],
          [
           "Bungoma Musikoma"
          ],
          [
           "Musese"
          ],
          [
           "Kaborok"
          ],
          [
           "Bungoma Kewa"
          ],
          [
           "Ligosi"
          ],
          [
           "Amoni"
          ],
          [
           "Nyilima Market"
          ],
          [
           "Gisambai"
          ],
          [
           "Sirisia"
          ],
          [
           "Webuye Matisi"
          ],
          [
           "Chemalal"
          ],
          [
           "Tulienge"
          ],
          [
           "Kibisi"
          ],
          [
           "Busembe"
          ],
          [
           "Ahero Junction"
          ],
          [
           "Nyamasaria Dubai Complex"
          ],
          [
           "Kisumu Nanga"
          ],
          [
           "Mabera Town"
          ],
          [
           "Mbale South"
          ],
          [
           "Ngao"
          ],
          [
           "Bura"
          ],
          [
           "Garsen"
          ],
          [
           "Masalani"
          ],
          [
           "Hola"
          ],
          [
           "Kamor Jila"
          ],
          [
           "Vipingo"
          ],
          [
           "Mariakani"
          ],
          [
           "Roka"
          ],
          [
           "Kinarani"
          ],
          [
           "Kanamai_Majengo"
          ],
          [
           "Jaribuni"
          ],
          [
           "Tezo"
          ],
          [
           "Chonyi"
          ],
          [
           "Ganze"
          ],
          [
           "Kilifi_Beach_Area"
          ],
          [
           "Mtwapa"
          ],
          [
           "Kikambala"
          ],
          [
           "Kilifi_Ruruma"
          ],
          [
           "Kaloleni"
          ],
          [
           "Kibaoni"
          ],
          [
           "Tsangatsini"
          ],
          [
           "Kilifi_Town"
          ],
          [
           "Kilifi_Bofa"
          ],
          [
           "Bamba"
          ],
          [
           "Sokoke"
          ],
          [
           "Mwangea"
          ],
          [
           "Kilifi_Town_2"
          ],
          [
           "Bamba Zowerani"
          ],
          [
           "Vanga_Town"
          ],
          [
           "Msambweni"
          ],
          [
           "Tiwi"
          ],
          [
           "Shimoni"
          ],
          [
           "Ramisi"
          ],
          [
           "Ngombeni"
          ],
          [
           "Kwale_Town"
          ],
          [
           "Diani_South"
          ],
          [
           "Lunga_Lunga"
          ],
          [
           "Shimba_Hills"
          ],
          [
           "Kwale_Ukunda"
          ],
          [
           "Kwale_Makongeni"
          ],
          [
           "Mwangulu_Town"
          ],
          [
           "Diani_Center"
          ],
          [
           "Mombasa_Diani_North"
          ],
          [
           "Kinango"
          ],
          [
           "Baobab Beach Resort"
          ],
          [
           "Mpeketoni"
          ],
          [
           "Lamu_Town"
          ],
          [
           "Ngomeni"
          ],
          [
           "Malindi_Casaurina"
          ],
          [
           "Malindi Cbd"
          ],
          [
           "Watamu_East"
          ],
          [
           "Madunguni"
          ],
          [
           "Malindi_Chembe"
          ],
          [
           "Gede"
          ],
          [
           "Msabaha"
          ],
          [
           "Shella"
          ],
          [
           "Malindi_Tourist_Market"
          ],
          [
           "Kibokoni"
          ],
          [
           "Mambrui"
          ],
          [
           "Marafa"
          ],
          [
           "Mwenda_Pole"
          ],
          [
           "Malindi Kisumu Ndogo"
          ],
          [
           "Malindi_Airport_2"
          ],
          [
           "Malindi_Complex"
          ],
          [
           "Tudor Sea View Academy"
          ],
          [
           "Mombasa_Makaburini"
          ],
          [
           "Mombasa_Nyali_Beach"
          ],
          [
           "Mtongwe"
          ],
          [
           "Kongowea"
          ],
          [
           "Mombasa_Miritini"
          ],
          [
           "Mombasa_Shelly_Beach"
          ],
          [
           "Mombasa_Jomvu"
          ],
          [
           "Mombasa_Changamwe"
          ],
          [
           "Mombasa_Nasser"
          ],
          [
           "Mombasa_Magongo"
          ],
          [
           "Mombasa_Bamburi_Cement"
          ],
          [
           "Mombasa_Polytechnic"
          ],
          [
           "Mombasa_Utangu"
          ],
          [
           "Mombasa_Voyager"
          ],
          [
           "Mombasa_Sabasaba"
          ],
          [
           "Mombasa_Mbaraki_Sports_Club"
          ],
          [
           "Mombasa_Nyali_Centre"
          ],
          [
           "Mombasa_Chaani"
          ],
          [
           "Mombasa_Bombolulu"
          ],
          [
           "Mombasa_Mto_Panga"
          ],
          [
           "Mombasa_Bamburi"
          ],
          [
           "Mombasa_Shanzu"
          ],
          [
           "Mtwapa_Mtomodoni"
          ],
          [
           "Nyali-Links"
          ],
          [
           "Aldina_Mkindani"
          ],
          [
           "Likoni_346"
          ],
          [
           "English_Point"
          ],
          [
           "Mombasa Mtopanga 2"
          ],
          [
           "Mombasa_Shelly_Beach_2"
          ],
          [
           "Kilifi_Kiwanjani"
          ],
          [
           "Mombasa_Likoni_New"
          ],
          [
           "Mombasa_Mnazi"
          ],
          [
           "Mombasa_Nyali_South"
          ],
          [
           "Mombasa_Lumumba"
          ],
          [
           "Mombasa_Kilindini_New"
          ],
          [
           "Mombasa_Jomo_Kenyatta"
          ],
          [
           "Mombasa_Ganjoni"
          ],
          [
           "Mombasa_Majengo"
          ],
          [
           "Kizingo"
          ],
          [
           "Mombasa_Old_Town"
          ],
          [
           "Mombasa_Digo"
          ],
          [
           "Mombasa_Industrial_Area"
          ],
          [
           "Mombasa_Stadium"
          ],
          [
           "Mombasa_Shimanzi_Port_Gate"
          ],
          [
           "Mombasa_Makupa"
          ],
          [
           "Mombasa_Tudor"
          ],
          [
           "Mombasa_Kipevu"
          ],
          [
           "Mombasa_Mwandoni"
          ],
          [
           "Mombasa_Makadara_New"
          ],
          [
           "Mombasa_Mwembe_Tayari"
          ],
          [
           "Mombasa_City_Mall"
          ],
          [
           "Mlaleo_Kisauni"
          ],
          [
           "Kiembeni Blue Estate"
          ],
          [
           "Kiun"
          ],
          [
           "TSS"
          ],
          [
           "Athi River"
          ],
          [
           "Ilbsil"
          ],
          [
           "Ilmasin"
          ],
          [
           "Iltoroto"
          ],
          [
           "Iltoroto_Easement and Right of Access"
          ],
          [
           "Isinya"
          ],
          [
           "Isinya New"
          ],
          [
           "Kajiado_Town"
          ],
          [
           "Emali Makutano"
          ],
          [
           "Kisaju"
          ],
          [
           "Kitengela"
          ],
          [
           "Kitengela_Muigai"
          ],
          [
           "Kitengela_Prisons"
          ],
          [
           "Kitengela_Town"
          ],
          [
           "Lukuny"
          ],
          [
           "Magadi_Town"
          ],
          [
           "Mpayeei_Stage"
          ],
          [
           "Namanga"
          ],
          [
           "Nkoroi"
          ],
          [
           "Oloitokitok"
          ],
          [
           "Olsirua_Hill"
          ],
          [
           "Ostrich_Farm"
          ],
          [
           "Pcea_Kitengela"
          ],
          [
           "Rombo"
          ],
          [
           "Tata Kajiado"
          ],
          [
           "Wilson_Kilima_Kiu"
          ],
          [
           "Kisasi"
          ],
          [
           "Ikutha"
          ],
          [
           "Katulani"
          ],
          [
           "Kitui Muslim"
          ],
          [
           "Kitui_Majengo"
          ],
          [
           "Kitui_Town"
          ],
          [
           "Ksyusiani"
          ],
          [
           "Kyangwithya"
          ],
          [
           "Mbitini"
          ],
          [
           "Mui"
          ],
          [
           "Mutito"
          ],
          [
           "Mutomo"
          ],
          [
           "Nthongoni"
          ],
          [
           "Tulia"
          ],
          [
           "Taru"
          ],
          [
           "Athi_River_Kmc"
          ],
          [
           "Athi_River_Ngei"
          ],
          [
           "Athi_River_Portland"
          ],
          [
           "Daystar_Athi_River"
          ],
          [
           "Ekalakala"
          ],
          [
           "Simba Cement"
          ],
          [
           "Ikalaasa"
          ],
          [
           "Ikombe"
          ],
          [
           "Kaani"
          ],
          [
           "Kabaa"
          ],
          [
           "Kakuyuni"
          ],
          [
           "Kalukuni"
          ],
          [
           "Kamburu"
          ],
          [
           "Kangundo"
          ],
          [
           "Katangi"
          ],
          [
           "Kathekani"
          ],
          [
           "Katutu"
          ],
          [
           "Kithimani"
          ],
          [
           "Kongoni"
          ],
          [
           "Lita"
          ],
          [
           "Machakos Garden Hotel"
          ],
          [
           "Machakos_Centre"
          ],
          [
           "Machakos_Kathiani"
          ],
          [
           "Machakos_Market"
          ],
          [
           "Machakos_Masii"
          ],
          [
           "Machakos_Miwani_Estate"
          ],
          [
           "Machakos_St.Valentines"
          ],
          [
           "Machakos_Town"
          ],
          [
           "Matuu"
          ],
          [
           "Mitaboni"
          ],
          [
           "Mbevo Hill"
          ],
          [
           "Mlolongo"
          ],
          [
           "Muthetheni"
          ],
          [
           "Mutuobane_Market"
          ],
          [
           "Ngelani"
          ],
          [
           "Nguluni"
          ],
          [
           "Ngungi"
          ],
          [
           "Ol_Donyo_Sabuk"
          ],
          [
           "Syokimau"
          ],
          [
           "Tala"
          ],
          [
           "Theke_Hill"
          ],
          [
           "Ulutya_Hill"
          ],
          [
           "Wamunyu"
          ],
          [
           "Kalawa"
          ],
          [
           "Kalawani"
          ],
          [
           "Kambu"
          ],
          [
           "Kathonzweni"
          ],
          [
           "Kathyaka"
          ],
          [
           "Kibwezi_2"
          ],
          [
           "Kinyunyini"
          ],
          [
           "Kitise"
          ],
          [
           "Kyakituku"
          ],
          [
           "Machinery"
          ],
          [
           "Makindu"
          ],
          [
           "Makueni_Kiboko"
          ],
          [
           "Makueni_Mbui _Nzau"
          ],
          [
           "Makuyuni"
          ],
          [
           "Malooi_Hills"
          ],
          [
           "Masue_Hill"
          ],
          [
           "Matiliku"
          ],
          [
           "Mavindini"
          ],
          [
           "Mbooni"
          ],
          [
           "Nthawe"
          ],
          [
           "Kikoko_Hill"
          ],
          [
           "Salama"
          ],
          [
           "Sultan Hamud 1"
          ],
          [
           "Kilanguni_New"
          ],
          [
           "Mtito Andei"
          ],
          [
           "Kairungu"
          ],
          [
           "Kyuso"
          ],
          [
           "Mbondoni"
          ],
          [
           "Mbuvu"
          ],
          [
           "Migwani"
          ],
          [
           "Musavani"
          ],
          [
           "Mutwangombe"
          ],
          [
           "Mwingi_Pcea"
          ],
          [
           "Mwingi_Town"
          ],
          [
           "Ngiluni"
          ],
          [
           "Nguni"
          ],
          [
           "Nguutani"
          ],
          [
           "Nuu"
          ],
          [
           "Ukasi"
          ],
          [
           "Waita"
          ],
          [
           "Ilbisil_Centre"
          ],
          [
           "Ghazi"
          ],
          [
           "Grogon_Hill"
          ],
          [
           "Kyulu_Hill"
          ],
          [
           "Manyani"
          ],
          [
           "Maungu"
          ],
          [
           "Mgange_Mwanda"
          ],
          [
           "Mwatongo_Hill"
          ],
          [
           "Taveta_Town"
          ],
          [
           "Voi"
          ],
          [
           "Wundanyi"
          ],
          [
           "Mwea Wanguru"
          ],
          [
           "Kiamutugu"
          ],
          [
           "Kutus"
          ],
          [
           "Kiamutugu_Shopping_Centre"
          ],
          [
           "Kimunye"
          ],
          [
           "Kagumo"
          ],
          [
           "Karumandi"
          ],
          [
           "Kimbimbi"
          ],
          [
           "Kerogoya_Town"
          ],
          [
           "Ihwagi"
          ],
          [
           "Kiangai"
          ],
          [
           "Kutus_Market"
          ],
          [
           "Kiagatha"
          ],
          [
           "Kianyaga"
          ],
          [
           "Murinduko"
          ],
          [
           "Baricho_Ndia"
          ],
          [
           "Kerugoya_Kongo_Estate"
          ],
          [
           "Mwea Town"
          ],
          [
           "Kutus Mjini"
          ],
          [
           "Tigoni"
          ],
          [
           "Kwamaiko"
          ],
          [
           "Nazareth"
          ],
          [
           "Thogoto"
          ],
          [
           "Kinoo"
          ],
          [
           "Kiratina"
          ],
          [
           "Kamae"
          ],
          [
           "Karai"
          ],
          [
           "Kahuho"
          ],
          [
           "Ruaka"
          ],
          [
           "Gichuru"
          ],
          [
           "Thigio_Kiambu"
          ],
          [
           "Gitaru"
          ],
          [
           "Ndeiya"
          ],
          [
           "Ikinu"
          ],
          [
           "Kambaa"
          ],
          [
           "Gakoe"
          ],
          [
           "Tinganga_Safcom"
          ],
          [
           "Rukuma"
          ],
          [
           "Kagwe"
          ],
          [
           "Kibichoi"
          ],
          [
           "Nyathuna"
          ],
          [
           "Muchatha_Village_Safcom"
          ],
          [
           "Kinale"
          ],
          [
           "Ting'ang'a"
          ],
          [
           "Kiambaa_Centre"
          ],
          [
           "Karura"
          ],
          [
           "Kiambu_Kamiti"
          ],
          [
           "Kikuyu_2"
          ],
          [
           "Wangige"
          ],
          [
           "Nairobi_UNEP"
          ],
          [
           "Kihara_Redhill_Road"
          ],
          [
           "Nairobi_Runda_Police"
          ],
          [
           "Wangige_Market"
          ],
          [
           "Nairobi_Runda"
          ],
          [
           "Muguga"
          ],
          [
           "Kiambaa"
          ],
          [
           "Kianjogu"
          ],
          [
           "Kanunga_Kiambu"
          ],
          [
           "Kiambu_Town"
          ],
          [
           "Limuru"
          ],
          [
           "Githunguri"
          ],
          [
           "Gitithia"
          ],
          [
           "Lari"
          ],
          [
           "Nairobi_Ridgeways_New"
          ],
          [
           "Kiambu_Thembigua"
          ],
          [
           "Ruiru_Mow"
          ],
          [
           "Ruiru Kimbo"
          ],
          [
           "Ruiru Kamakis"
          ],
          [
           "Banana Hills"
          ],
          [
           "Wangige_Kibichiko"
          ],
          [
           "Membley"
          ],
          [
           "Kiambu_Kasarini"
          ],
          [
           "Kihara_Gachie Area"
          ],
          [
           "Ridgeways"
          ],
          [
           "Ruiru _Murera Area"
          ],
          [
           "Tigoni_2"
          ],
          [
           "Ku Teaching Refferal"
          ],
          [
           "Kiambu Ruabai"
          ],
          [
           "Ngarariga"
          ],
          [
           "Kagwe_New"
          ],
          [
           "Wanguthu_Banana"
          ],
          [
           "Kiambu_Rumenye"
          ],
          [
           "Giraru Rikubi"
          ],
          [
           "Water Tower (Cow)"
          ],
          [
           "Tatu Industrial Cow"
          ],
          [
           "Windsor Marurui"
          ],
          [
           "Brackenhurst"
          ],
          [
           "Limuru_2"
          ],
          [
           "Kiambu_Law_Courts"
          ],
          [
           "Juja Mucatha"
          ],
          [
           "Crystal Spring Apartments"
          ],
          [
           "Ndumberi"
          ],
          [
           "Reymark Hotel(Kiambu Town)"
          ],
          [
           "Kiambu-Mapa House"
          ],
          [
           "Thika Arcade"
          ],
          [
           "Murang'A_Town"
          ],
          [
           "Kibirigwi"
          ],
          [
           "Kangema"
          ],
          [
           "Gatuya"
          ],
          [
           "Mugoiri"
          ],
          [
           "Ngonda"
          ],
          [
           "Kiambugi"
          ],
          [
           "Mugeka"
          ],
          [
           "Nyakianga"
          ],
          [
           "Gatara"
          ],
          [
           "Gikoe"
          ],
          [
           "Muriranja"
          ],
          [
           "Githumu"
          ],
          [
           "Kenol"
          ],
          [
           "Kandara"
          ],
          [
           "Gatura"
          ],
          [
           "Gakuyu"
          ],
          [
           "Gacharage"
          ],
          [
           "Kimorori_North"
          ],
          [
           "Ciumbu"
          ],
          [
           "Kirere"
          ],
          [
           "Sabasaba"
          ],
          [
           "Kakuzi"
          ],
          [
           "Maragua_Town"
          ],
          [
           "Kangare"
          ],
          [
           "Muranga_North"
          ],
          [
           "Sagana"
          ],
          [
           "Gichichi"
          ],
          [
           "Ruiru"
          ],
          [
           "Juja"
          ],
          [
           "Gatundu"
          ],
          [
           "Zena_Roses"
          ],
          [
           "Mangu"
          ],
          [
           "Juja_Farm"
          ],
          [
           "Thika_Landless_Estate"
          ],
          [
           "Thika_Kyanjau"
          ],
          [
           "Kiganjo_Gatundu"
          ],
          [
           "Githurai_Mwihoko"
          ],
          [
           "Gatukuyu"
          ],
          [
           "Thika_Highlevel"
          ],
          [
           "Thika_Makongeni"
          ],
          [
           "Ruiru_Mills"
          ],
          [
           "Kahawa"
          ],
          [
           "Murera"
          ],
          [
           "Kalimoni_Kenyatta_Road"
          ],
          [
           "Thika_Industrial_Area"
          ],
          [
           "Thika_Town"
          ],
          [
           "Gatundu_North"
          ],
          [
           "Gatanga"
          ],
          [
           "Mururia"
          ],
          [
           "Thare_Kandara"
          ],
          [
           "Thika_Riverside"
          ],
          [
           "Thika_Makongeni_2"
          ],
          [
           "Thika_Maki"
          ],
          [
           "Thika_Haile_Selassie"
          ],
          [
           "Sabuk 2"
          ],
          [
           "Thika Cemetry"
          ],
          [
           "Thika_Kilifi"
          ],
          [
           "Kamugere"
          ],
          [
           "Embu_Kimathi"
          ],
          [
           "Siakago"
          ],
          [
           "Ishiara"
          ],
          [
           "Kanyuambora"
          ],
          [
           "Kianjiru_Hills"
          ],
          [
           "Githimu"
          ],
          [
           "Makutano"
          ],
          [
           "Embu_Town"
          ],
          [
           "Embu_Kari"
          ],
          [
           "Runyenjes_Improvement"
          ],
          [
           "Kianjokoma"
          ],
          [
           "Mufu"
          ],
          [
           "Embu_Nguviu"
          ],
          [
           "Manyata"
          ],
          [
           "Nkarue_Hill"
          ],
          [
           "Gachoka"
          ],
          [
           "Embu_Ngariama"
          ],
          [
           "Naningi"
          ],
          [
           "Liboi"
          ],
          [
           "Daadab"
          ],
          [
           "Modicar"
          ],
          [
           "Haraa"
          ],
          [
           "Abed_Samwet"
          ],
          [
           "Dertu"
          ],
          [
           "Tula"
          ],
          [
           "Madogo"
          ],
          [
           "Shimbiri"
          ],
          [
           "Madogo Town"
          ],
          [
           "Garissa Iftin"
          ],
          [
           "Garissa_Technical"
          ],
          [
           "Isiolo_Town"
          ],
          [
           "Archers_Post"
          ],
          [
           "Elwak"
          ],
          [
           "Rhamu"
          ],
          [
           "Kutulo"
          ],
          [
           "Mandera_Town"
          ],
          [
           "Elhache"
          ],
          [
           "Derkale"
          ],
          [
           "Al Yusra Hotel Moyale"
          ],
          [
           "Timau"
          ],
          [
           "Nkoriga"
          ],
          [
           "Nkubu"
          ],
          [
           "Mwimbi"
          ],
          [
           "Githongo"
          ],
          [
           "Katimbi"
          ],
          [
           "Nthumburi"
          ],
          [
           "Chogoria"
          ],
          [
           "Thuura"
          ],
          [
           "Kianjai"
          ],
          [
           "Maua"
          ],
          [
           "Mutuati"
          ],
          [
           "Laare"
          ],
          [
           "Kirindine"
          ],
          [
           "Athiru"
          ],
          [
           "Meru_Makutano"
          ],
          [
           "Ntunyai"
          ],
          [
           "Mikinduri"
          ],
          [
           "Kinoro_Mugae"
          ],
          [
           "Kiathandi_Hill"
          ],
          [
           "Laare_Town"
          ],
          [
           "Nkubu_Town"
          ],
          [
           "Mpuri"
          ],
          [
           "Sheki"
          ],
          [
           "Karema_Maili_Tatu"
          ],
          [
           "Kithiru"
          ],
          [
           "Mitunguu_Kiija"
          ],
          [
           "Magutuni"
          ],
          [
           "Marimanti"
          ],
          [
           "Meru_Kiriine"
          ],
          [
           "Meru_Gikoromone"
          ],
          [
           "Meru_Timber"
          ],
          [
           "Kathangacini"
          ],
          [
           "Kangeta"
          ],
          [
           "Kawiru"
          ],
          [
           "Kathelwa"
          ],
          [
           "Chera"
          ],
          [
           "Ikuu"
          ],
          [
           "Kajiampau"
          ],
          [
           "Kenyakine"
          ],
          [
           "Rubiri"
          ],
          [
           "Gikumeene"
          ],
          [
           "Meru_Town"
          ],
          [
           "Ruiri"
          ],
          [
           "Anchenge"
          ],
          [
           "Meru_East"
          ],
          [
           "Chuka"
          ],
          [
           "Nanyuki"
          ],
          [
           "Doldol"
          ],
          [
           "Berguret"
          ],
          [
           "Mount_Kenya_Safari_Club"
          ],
          [
           "Chaka_Muthaiga"
          ],
          [
           "Kagongo"
          ],
          [
           "Endarasha"
          ],
          [
           "Gatitu"
          ],
          [
           "Nyeri_Sikuta"
          ],
          [
           "Nyeri_Ruringu"
          ],
          [
           "Muthinga"
          ],
          [
           "Watuka"
          ],
          [
           "Nyeri_St_Marys"
          ],
          [
           "Nyeri_Gichanga"
          ],
          [
           "Kangurwe"
          ],
          [
           "Kanunga"
          ],
          [
           "Munyange"
          ],
          [
           "Karatina"
          ],
          [
           "Gathumbi"
          ],
          [
           "Nyeri_East"
          ],
          [
           "Nyeri_North"
          ],
          [
           "Kingongo"
          ],
          [
           "Nyeri_Hill"
          ],
          [
           "Ngandu"
          ],
          [
           "Mweiga"
          ],
          [
           "Kimahuri"
          ],
          [
           "Loisoi"
          ],
          [
           "Naru_Moru"
          ],
          [
           "Nyeri Thegenge"
          ],
          [
           "Nyeri Provincial_Hospital"
          ],
          [
           "Othaya _Town"
          ],
          [
           "Karatina_Minju_Plaza"
          ],
          [
           "Nyeri _Cbd"
          ],
          [
           "Moda_Gashe"
          ],
          [
           "Habaswein"
          ],
          [
           "Kampi_Ya_Samaki"
          ],
          [
           "Marigat"
          ],
          [
           "Maji_Moto"
          ],
          [
           "Kiptere"
          ],
          [
           "Sigowet"
          ],
          [
           "Kedowa"
          ],
          [
           "Kericho_Town_Improvement"
          ],
          [
           "James_Finlay"
          ],
          [
           "Kericho_Kapsuser"
          ],
          [
           "Kapsoit"
          ],
          [
           "Cheptalal"
          ],
          [
           "Kiptiget"
          ],
          [
           "Roret"
          ],
          [
           "Chebowen"
          ],
          [
           "Kericho_Town"
          ],
          [
           "Kipchimchim"
          ],
          [
           "Sitotwet"
          ],
          [
           "Koyabei"
          ],
          [
           "Londiani"
          ],
          [
           "Naivasha Crater Lake"
          ],
          [
           "Enashipae Karagita"
          ],
          [
           "Mogotio"
          ],
          [
           "Elburgon"
          ],
          [
           "Njoro"
          ],
          [
           "Kabarak"
          ],
          [
           "Thigio"
          ],
          [
           "Kerisoi"
          ],
          [
           "Turi"
          ],
          [
           "Nakuru_Stima_Line"
          ],
          [
           "Nakuru_Kaptembwa"
          ],
          [
           "Likia"
          ],
          [
           "Nakuru_Bondeni"
          ],
          [
           "Nakuru_Pangani"
          ],
          [
           "Nakuru_Unga_Estate"
          ],
          [
           "Naivasha_Kenyatta_Avenue"
          ],
          [
           "Nakuru_Wei_Wei"
          ],
          [
           "Nakuru_Rhonda_West"
          ],
          [
           "Esageri"
          ],
          [
           "Naivasha"
          ],
          [
           "Nakuru_Koinange"
          ],
          [
           "Nakuru_Naka"
          ],
          [
           "Mau_Summit"
          ],
          [
           "Naivasha_South"
          ],
          [
           "Menengai"
          ],
          [
           "Oserian"
          ],
          [
           "Olenguruone"
          ],
          [
           "Naivasha_North_Lake_Road"
          ],
          [
           "Nakuru_Mawaka"
          ],
          [
           "Nakuru_Fifty_Eight"
          ],
          [
           "Solai_Arutani"
          ],
          [
           "Nakuru_Bahati"
          ],
          [
           "Nakuru_Ngata"
          ],
          [
           "Njoro_Campus"
          ],
          [
           "Nakuru_Racetrack"
          ],
          [
           "Rongai_Salgaa"
          ],
          [
           "Nakuru Ttc/Industries"
          ],
          [
           "Naivasha_Kabati"
          ],
          [
           "Subukia_Moro/Oljoro_Orok_2"
          ],
          [
           "Nakuru_Ngei_Estate"
          ],
          [
           "Nakuru_Rhonda_East"
          ],
          [
           "Heshima_ Centre"
          ],
          [
           "Engoshura_ Jandu"
          ],
          [
           "Enengetia"
          ],
          [
           "Macha"
          ],
          [
           "Gilgil"
          ],
          [
           "Elementaita"
          ],
          [
           "Keringet_North_Olen"
          ],
          [
           "Mbaruk"
          ],
          [
           "Nakuru_Pipeline"
          ],
          [
           "Nakuru_Lanet"
          ],
          [
           "Nakuru_Railway_Station"
          ],
          [
           "Nakuru_Milimani"
          ],
          [
           "Nakuru_Barracks"
          ],
          [
           "Molo"
          ],
          [
           "Dundori"
          ],
          [
           "Londiani_Hill"
          ],
          [
           "Dundori_Primary"
          ],
          [
           "Mogotio_2"
          ],
          [
           "Nakuru_ Bahati_ Road"
          ],
          [
           "Nakuru_Golf"
          ],
          [
           "Nakuru_Kapkures"
          ],
          [
           "Soko Mjinga "
          ],
          [
           "Mbaruku_2"
          ],
          [
           "Njoro Road"
          ],
          [
           "Sobea"
          ],
          [
           "Salgaa"
          ],
          [
           "Nakuru_Gusii_Road"
          ],
          [
           "Rumuruti"
          ],
          [
           "Mairo_Inya"
          ],
          [
           "Marmanet_Ol_Jabet"
          ],
          [
           "Ndindika"
          ],
          [
           "Nyahururu"
          ],
          [
           "North_Kinangop"
          ],
          [
           "Olkalou"
          ],
          [
           "Laikipia_Campus"
          ],
          [
           "Njabini"
          ],
          [
           "Kipipiri"
          ],
          [
           "Ndaragwa"
          ],
          [
           "Aberdare_Mikeu"
          ],
          [
           "Oljoroorok"
          ],
          [
           "Ngano"
          ],
          [
           "Tumaini"
          ],
          [
           "South_Kinangop"
          ],
          [
           "Ndemi"
          ],
          [
           "Shamata"
          ],
          [
           "Turasha"
          ],
          [
           "Suguta_Marmar"
          ],
          [
           "Ndunyu_Njeru"
          ],
          [
           "Mairo_Inya_Ziwani"
          ],
          [
           "Ngarua"
          ],
          [
           "Cokereria"
          ],
          [
           "Olkalau"
          ],
          [
           "Nyandundo"
          ],
          [
           "Nyahururu_Muthaiga"
          ],
          [
           "Primarosa"
          ],
          [
           "Kimalewa"
          ],
          [
           "Lwakhakha"
          ],
          [
           "Samitsi"
          ],
          [
           "Kapsakwony"
          ],
          [
           "Kapkateny"
          ],
          [
           "Kamukuywa"
          ],
          [
           "Sirisia"
          ],
          [
           "Kimilili_Town"
          ],
          [
           "Cheptais"
          ],
          [
           "Misikhu"
          ],
          [
           "Machewa"
          ],
          [
           "Eldoret_Kimumu"
          ],
          [
           "Elgeyo_Border_Centre"
          ],
          [
           "Kaptagat_Cheptigit"
          ],
          [
           "Chepkoilel"
          ],
          [
           "Matunda"
          ],
          [
           "Leseru"
          ],
          [
           "Eldoret_Polytechnic"
          ],
          [
           "Soy"
          ],
          [
           "Eldoret_Cheptiret"
          ],
          [
           "Sirungai_Hill"
          ],
          [
           "Eldoret_Airport"
          ],
          [
           "Eldoret_East"
          ],
          [
           "Eldoret_Testmony"
          ],
          [
           "Eldoret_Raymond"
          ],
          [
           "Eldoret_Sosiani"
          ],
          [
           "Eldoret_Rail_Station"
          ],
          [
           "Moi_University"
          ],
          [
           "Eldoret_Annex"
          ],
          [
           "Eldoret_Langas"
          ],
          [
           "Eldoret Eatech"
          ],
          [
           "Eldoret_West_Indies"
          ],
          [
           "Eldoret_Kapsoya"
          ],
          [
           "Eldoret_Kidiwa"
          ],
          [
           "Eldoret_Huruma"
          ],
          [
           "Eldoret_Hill"
          ],
          [
           "Webuye_Paper_Mills"
          ],
          [
           "Timboroa_2"
          ],
          [
           "Kondoo"
          ],
          [
           "Eldoret North West"
          ],
          [
           "Eldoret-Langas"
          ],
          [
           "Yamumbi"
          ],
          [
           "Ainamoi"
          ],
          [
           "Eldoret Nandi Road"
          ],
          [
           "Eldoret_Huruma_King'Ong'O"
          ],
          [
           "Eldoret Outspan"
          ],
          [
           "Ndalu"
          ],
          [
           "Eldoret_Bus_Park"
          ],
          [
           "Rupa_Mall_Ibs"
          ],
          [
           "Eldoret-Kvda Plaza"
          ],
          [
           "Kabartonjo"
          ],
          [
           "Tenges"
          ],
          [
           "Iten"
          ],
          [
           "Chepkorio"
          ],
          [
           "Flax_Koibarak"
          ],
          [
           "Kapsowar"
          ],
          [
           "Tot"
          ],
          [
           "Chelingwa"
          ],
          [
           "Timboiwo"
          ],
          [
           "Ngarua_Kinamba_1"
          ],
          [
           "Kuserua_Hills"
          ],
          [
           "Kamwosor"
          ],
          [
           "Moiben"
          ],
          [
           "Kapsabet"
          ],
          [
           "Baraton"
          ],
          [
           "Tindinya"
          ],
          [
           "Musoriot"
          ],
          [
           "Koisagat"
          ],
          [
           "Kaptumo"
          ],
          [
           "Kobujoi"
          ],
          [
           "Kapkoriot"
          ],
          [
           "Kipchekwen"
          ],
          [
           "Nandi_Hills"
          ],
          [
           "Kabiyet"
          ],
          [
           "Kapkoros"
          ],
          [
           "Diguna"
          ],
          [
           "Lesos"
          ],
          [
           "Cheptulel"
          ],
          [
           "Sigor_West_Pokot"
          ],
          [
           "Lomut"
          ],
          [
           "Chesoi"
          ],
          [
           "Kacheliba"
          ],
          [
           "Chepnyal"
          ],
          [
           "Chebara"
          ],
          [
           "Chepkono"
          ],
          [
           "Ortum"
          ],
          [
           "Kiminini"
          ],
          [
           "Endebess"
          ],
          [
           "Cheranganyi"
          ],
          [
           "Ziwa Sirikwa"
          ],
          [
           "Saboti"
          ],
          [
           "Tongareni"
          ],
          [
           "Chepararia"
          ],
          [
           "Kitale_Waitaluk"
          ],
          [
           "Sitatunga"
          ],
          [
           "Matisi"
          ],
          [
           "Mount_Elgon_Orchards"
          ],
          [
           "Kitale_East"
          ],
          [
           "Kitale_Wamuini"
          ],
          [
           "Kitale_Namawanga"
          ],
          [
           "Kipsaina"
          ],
          [
           "Kwanza"
          ],
          [
           "Kitale_Cbd"
          ],
          [
           "Kapenguria County Offices"
          ],
          [
           "Lukuyani"
          ],
          [
           "Kakuma"
          ],
          [
           "By_Kwen"
          ],
          [
           "Eldama_Ravine"
          ],
          [
           "Chepilat"
          ],
          [
           "Bomet_Town"
          ],
          [
           "Kaboson"
          ],
          [
           "Silibwet"
          ],
          [
           "Kapnariet"
          ],
          [
           "Siongiroi"
          ],
          [
           "Litein"
          ],
          [
           "Sotik"
          ],
          [
           "Koiwa"
          ],
          [
           "Ndanai"
          ],
          [
           "Chebango"
          ],
          [
           "Sigor"
          ],
          [
           "Gorgor"
          ],
          [
           "Kapkatet"
          ],
          [
           "Longisa"
          ],
          [
           "Ibencho"
          ],
          [
           "Igorera"
          ],
          [
           "Nyamondo"
          ],
          [
           "Nyaronge"
          ],
          [
           "Homabay_Town"
          ],
          [
           "Rodi"
          ],
          [
           "Asumbi"
          ],
          [
           "Olare"
          ],
          [
           "Mikumi_Hills"
          ],
          [
           "Ruma"
          ],
          [
           "Kadongo_New"
          ],
          [
           "Kehancha"
          ],
          [
           "Luoro"
          ],
          [
           "Ntimaru"
          ],
          [
           "Getambwega"
          ],
          [
           "Mabera_Thagare"
          ],
          [
           "Kisii_Hill"
          ],
          [
           "Keroka"
          ],
          [
           "Kiogoro"
          ],
          [
           "Nyansiongor"
          ],
          [
           "Mosocho"
          ],
          [
           "Nyamira_Manga"
          ],
          [
           "Bobaracho"
          ],
          [
           "Nyamarambe"
          ],
          [
           "Etago"
          ],
          [
           "Kamagambo"
          ],
          [
           "Ranen"
          ],
          [
           "Rongo"
          ],
          [
           "Muhuru_Bay"
          ],
          [
           "Sori"
          ],
          [
           "Kawere"
          ],
          [
           "Awendo"
          ],
          [
           "Migori_Ombo"
          ],
          [
           "Tombe"
          ],
          [
           "Gikendu"
          ],
          [
           "Nyamaiya"
          ],
          [
           "Manga"
          ],
          [
           "Menyenya_Hills"
          ],
          [
           "Kionyomo"
          ],
          [
           "Pap_Onditi"
          ],
          [
           "Oyugis"
          ],
          [
           "Kadongo"
          ],
          [
           "Kosele"
          ],
          [
           "Ongalo"
          ],
          [
           "Mawego"
          ],
          [
           "Ndhiwa"
          ],
          [
           "Kilgoris_Shartuka"
          ],
          [
           "Kilgoris"
          ],
          [
           "Kanyamwa_Komungu"
          ],
          [
           "Rusinga_Kaswanga"
          ],
          [
           "Gembe_Hill"
          ],
          [
           "Masaba_Getonganya"
          ],
          [
           "Kisii_Milimani"
          ],
          [
           "Kisii_Nyakongo"
          ],
          [
           "Kisii_Nyamataro"
          ],
          [
           "Emenwa"
          ],
          [
           "Gogo"
          ],
          [
           "Kibirigo"
          ],
          [
           "Mokwerero"
          ],
          [
           "Isebania"
          ],
          [
           "Nyasoko_Hill"
          ],
          [
           "Migori_Town"
          ],
          [
           "Endoinyo-Nkopit"
          ],
          [
           "Uriri"
          ],
          [
           "Nyacheki"
          ],
          [
           "Kiomiti"
          ],
          [
           "Kiobegi"
          ],
          [
           "Kiamokama"
          ],
          [
           "Ogembo"
          ],
          [
           "Keumbu"
          ],
          [
           "Suneka_Nyangiti"
          ],
          [
           "Kisaku"
          ],
          [
           "Omwari "
          ],
          [
           "Mokomoni"
          ],
          [
           "Nyamira_Town"
          ],
          [
           "Komala"
          ],
          [
           "Kiwegi"
          ],
          [
           "Nyabondo"
          ],
          [
           "Sondu"
          ],
          [
           "Kusa"
          ],
          [
           "Kisii Univerity"
          ],
          [
           "Isebania_2"
          ],
          [
           "Katito"
          ],
          [
           "Keroka_Town"
          ],
          [
           "Suneka"
          ],
          [
           "Migori_Namba"
          ],
          [
           "Ikerege"
          ],
          [
           "Wst_New_Site(Kenyago)"
          ],
          [
           "Kandienge"
          ],
          [
           "Homaline Market"
          ],
          [
           "Gesima"
          ],
          [
           "Magwagwa"
          ],
          [
           "Nyawita"
          ],
          [
           "Oyombe"
          ],
          [
           "Ndege Oriedo"
          ],
          [
           "Kisii-Ekerore"
          ],
          [
           "Kisii_Town"
          ],
          [
           "Mulot"
          ],
          [
           "Oloolaimutia"
          ],
          [
           "Aitong"
          ],
          [
           "Ololulunga"
          ],
          [
           "Naroosura"
          ],
          [
           "Keekorok_Lodge"
          ],
          [
           "Lolgorian_1"
          ],
          [
           "Olkurruk"
          ],
          [
           "London__Estate"
          ],
          [
           "Talek"
          ],
          [
           "Kaitapini"
          ],
          [
           "Ewaso_Ngiro"
          ],
          [
           "Ntulelei"
          ],
          [
           "Narok_Town"
          ],
          [
           "Nairegenkare"
          ],
          [
           "Mpata_Club"
          ],
          [
           "Merigi"
          ],
          [
           "Mara_ Serena"
          ],
          [
           "Mara_Musiara"
          ],
          [
           "Maji_Moto_Hill"
          ],
          [
           "Mara_Intrepid"
          ],
          [
           "Sikusi"
          ],
          [
           "Bungoma_Town"
          ],
          [
           "Chwele "
          ],
          [
           "Chebukwa"
          ],
          [
           "Tulukuyi"
          ],
          [
           "Kanduyi"
          ],
          [
           "Khachonge"
          ],
          [
           "Kibisi"
          ],
          [
           "Mabanga"
          ],
          [
           "Bokoli"
          ],
          [
           "Sangalo"
          ],
          [
           "Angurai"
          ],
          [
           "Malaba"
          ],
          [
           "Alupe"
          ],
          [
           "Amagoro"
          ],
          [
           "Malakisi"
          ],
          [
           "Kiboochi_Centre"
          ],
          [
           "Ejinja"
          ],
          [
           "Mundika"
          ],
          [
           "Mutomolo_Centre"
          ],
          [
           "Bumula"
          ],
          [
           "Bungoma_Hill"
          ],
          [
           "Amukura"
          ],
          [
           "Kolanya"
          ],
          [
           "Kibabil_University"
          ],
          [
           "Busia_Town"
          ],
          [
           "Nambale"
          ],
          [
           "Ruambwa"
          ],
          [
           "Busibwabo"
          ],
          [
           "Murumba"
          ],
          [
           "Matayos"
          ],
          [
           "Port_Victoria"
          ],
          [
           "Andungosi"
          ],
          [
           "Funyula"
          ],
          [
           "Bumala"
          ],
          [
           "Busia Town Improvement"
          ],
          [
           "Budalangi"
          ],
          [
           "Sio_Port"
          ],
          [
           "Ruambwa_2"
          ],
          [
           "Namasoli"
          ],
          [
           "Malava"
          ],
          [
           "Bukura"
          ],
          [
           "Khayega"
          ],
          [
           "Musoli"
          ],
          [
           "Bukhaywa"
          ],
          [
           "Shimanyiro"
          ],
          [
           "Shikomari"
          ],
          [
           "Eshironyangah"
          ],
          [
           "Lugari"
          ],
          [
           "Lumakanda"
          ],
          [
           "Eshisiru_Centre"
          ],
          [
           "Shinyalu"
          ],
          [
           "Malava_2"
          ],
          [
           "Khwisero_2"
          ],
          [
           "Kambiri"
          ],
          [
           "Chekalini"
          ],
          [
           "Kakamega_Cannon_Awori_Street"
          ],
          [
           "Banja"
          ],
          [
           "Kipsitet"
          ],
          [
           "Kipkelion"
          ],
          [
           "Kisumu_Mountain_View"
          ],
          [
           "Kisumu_Tom_Mboya_College"
          ],
          [
           "Akala"
          ],
          [
           "Daraja Mbili"
          ],
          [
           "Kajulu_Got_Nyabondo"
          ],
          [
           "Kisumu_Kemri"
          ],
          [
           "Kisumu_Dunga_Beach_1"
          ],
          [
           "Lihanda_West_Gem"
          ],
          [
           "Kisumu_Manyatta_Skyway"
          ],
          [
           "Kisumu_Auji"
          ],
          [
           "Emuhaya"
          ],
          [
           "Luanda"
          ],
          [
           "Mbale"
          ],
          [
           "Serem"
          ],
          [
           "Kaimosi"
          ],
          [
           "Majengo"
          ],
          [
           "Tamu"
          ],
          [
           "Miwani"
          ],
          [
           "Rabour"
          ],
          [
           "Ombeyi"
          ],
          [
           "Kisumu_Airport"
          ],
          [
           "Kisumu_Industrial_Area"
          ],
          [
           "Maragoli_Forest"
          ],
          [
           "Kisumu_Stadium"
          ],
          [
           "Kisumu_Nyawita"
          ],
          [
           "Kisumu_Elgons_Estate"
          ],
          [
           "Pau_Akuche"
          ],
          [
           "Ksm_Patel_Junction"
          ],
          [
           "Kisumu_Kiboswa"
          ],
          [
           "Kisumu_Nyalenda"
          ],
          [
           "Kisumu_Chiga"
          ],
          [
           "Ndere"
          ],
          [
           "Kandege"
          ],
          [
           "Nyawanga"
          ],
          [
           "Fort_Tenan"
          ],
          [
           "Ahero"
          ],
          [
           "Kisumu_Mowlem"
          ],
          [
           "Kisumu_Milimani"
          ],
          [
           "Migosi"
          ],
          [
           "Kisumu_Mamboleo"
          ],
          [
           "Maseno"
          ],
          [
           "Viyalo"
          ],
          [
           "Kisumu_Manyatta_2"
          ],
          [
           "Wathorego"
          ],
          [
           "Nyalenda_B"
          ],
          [
           "Kisumu_Kolwa"
          ],
          [
           "Kisumu_Manyatta _B"
          ],
          [
           "Awasi"
          ],
          [
           "Kajulu_Osiepe"
          ],
          [
           "Kisumu_Tido"
          ],
          [
           "Kisumu_Al_Miran_Plaza"
          ],
          [
           "Kisumu_Swami_Center"
          ],
          [
           "Ahero New"
          ],
          [
           "Kisumu_Obwolo_Junction"
          ],
          [
           "Musanda"
          ],
          [
           "Lunza"
          ],
          [
           "Khwisero"
          ],
          [
           "Shianda"
          ],
          [
           "Bulimbo"
          ],
          [
           "Khumusalaba"
          ],
          [
           "Buhuru"
          ],
          [
           "Mumias_Town"
          ],
          [
           "Kabula_Market"
          ],
          [
           "Butula"
          ],
          [
           "Mumias_Sugar"
          ],
          [
           "Mumias_West"
          ],
          [
           "Butere"
          ],
          [
           "Ngere"
          ],
          [
           "Nyilima_Kandaria"
          ],
          [
           "Got_Kachieng"
          ],
          [
           "Nyamonye"
          ],
          [
           "Ragegni"
          ],
          [
           "Bondo_TTC"
          ],
          [
           "Muhanda"
          ],
          [
           "Ugunja"
          ],
          [
           "Ukwala"
          ],
          [
           "Sidindi"
          ],
          [
           "Kandindi/Kalandini"
          ],
          [
           "Ting'Wang'I"
          ],
          [
           "Unyolo"
          ],
          [
           "Ng'iya"
          ],
          [
           "Madiany"
          ],
          [
           "Nyangoma"
          ],
          [
           "Gobei"
          ],
          [
           "Bondo_Town"
          ],
          [
           "Usenge"
          ],
          [
           "Siaya_East"
          ],
          [
           "Yala_Town"
          ],
          [
           "Kombewa_2"
          ],
          [
           "Bondo_Guba"
          ],
          [
           "Kadenge"
          ],
          [
           "Mai_Mahiu"
          ],
          [
           "Susian_Hill"
          ],
          [
           "Nairobi_Kawangware"
          ],
          [
           "Nairobi_Parkview"
          ],
          [
           "Nairobi_Bogani"
          ],
          [
           "Nairobi_Innercore"
          ],
          [
           "Nairobi_Outerring"
          ],
          [
           "Nairobi_Otiende_Estate"
          ],
          [
           "Nairobi_Kim_South_C"
          ],
          [
           "Nairobi_Ole_Odume_Kilimani"
          ],
          [
           "Nairobi_Kileleshwa_Suguta_Road"
          ],
          [
           "Nairobi_Kikuyu_Road"
          ],
          [
           "Nairobi_Githunguri_Ruai"
          ],
          [
           "Nairobi_Mamba_Village"
          ],
          [
           "Nairobi_Arboretum"
          ],
          [
           "Nairobi_Railways_Headquarters"
          ],
          [
           "Nairobi_Dandora_Phase_Ii"
          ],
          [
           "Nairobi_Mwiki"
          ],
          [
           "Nairobi_Shaurimoyo"
          ],
          [
           "Nairobi_Kiwanja"
          ],
          [
           "Nairobi_Kibera_Kampi_Muru"
          ],
          [
           "Nairobi_Ndege_Road"
          ],
          [
           "Nairobi_Kasarani_Warren"
          ],
          [
           "Nairobi_Mirema_Drive"
          ],
          [
           "Nairobi_Golden_Gate_Close"
          ],
          [
           "Kijabe"
          ],
          [
           "Ngong_Olkeri"
          ],
          [
           "Ngong_Bulbul"
          ],
          [
           "Ongata_Rongai_Quarry"
          ],
          [
           "Rongai_Ole_Road"
          ],
          [
           "Katani"
          ],
          [
           "Nairobi_Komarock"
          ],
          [
           "Nairobi_Hurlinghum"
          ],
          [
           "Nairobi_Ngummo"
          ],
          [
           "Nairobi_Brookside"
          ],
          [
           "Nairobi_Dandora"
          ],
          [
           "Nairobi_Umoja"
          ],
          [
           "Nairobi_Jerusalem"
          ],
          [
           "Nairobi_Loresho_Kcct"
          ],
          [
           "Nairobi_Njiru"
          ],
          [
           "Nairobi_Mountain_View"
          ],
          [
           "Nairobi_Airport_North_Road"
          ],
          [
           "Nairobi_Nyerere_Road"
          ],
          [
           "Nairobi_Mathare"
          ],
          [
           "Nairobi_Bobmil"
          ],
          [
           "Nairobi_Mutuini"
          ],
          [
           "Nairobi_Mwitu_Estate"
          ],
          [
           "Nairobi_Kahawa_West"
          ],
          [
           "Nairobi_Njathaini_Road"
          ],
          [
           "Nairobi_Baptist_Peponi_Close"
          ],
          [
           "Nairobi_St_Mary'S_Hospital"
          ],
          [
           "Nairobi_Waithaka"
          ],
          [
           "Nairobi_Karen_Bible_School"
          ],
          [
           "Nairobi_Jkuat_Karen_Campus"
          ],
          [
           "Nairobi_Githurai_Kimbo"
          ],
          [
           "Nairobi_Nanyuki_Road"
          ],
          [
           "Kiserian"
          ],
          [
           "Ongata_Rongai"
          ],
          [
           "Rongai_Laser_Academy"
          ],
          [
           "Mayor_Road_Ongata_Rongai"
          ],
          [
           "Nairobi_Corperative_College"
          ],
          [
           "Ngong"
          ],
          [
           "Nairobi_Karen_Club"
          ],
          [
           "Nairobi_Kephis"
          ],
          [
           "Nairobi_Kuwinda"
          ],
          [
           "Tuala Market"
          ],
          [
           "Nairobi_Rubia_Estate"
          ],
          [
           "Nairobi_Sameer"
          ],
          [
           "Githurai 44"
          ],
          [
           "Utawala_Shopping_Centre"
          ],
          [
           "Nairobi_Tel_Aviv"
          ],
          [
           "Nairobi_Express"
          ],
          [
           "Mololongo_Ngata"
          ],
          [
           "Nairobi_Kampala_Rd"
          ],
          [
           "Nairobi_Embakasi"
          ],
          [
           "Nairobi_Racecourse"
          ],
          [
           "Kapa"
          ],
          [
           "Nairobi_Jamhuri_Showground"
          ],
          [
           "Nairobi_Moi_Girls_Kibera"
          ],
          [
           "Nairobi_Machakos_Road"
          ],
          [
           "Nairobi_Kilimanjaro_Road"
          ],
          [
           "Nairobi_Dagoretti_Corner"
          ],
          [
           "Nairobi_Marcus_Gavey_Road"
          ],
          [
           "Nairobi_Greenfield"
          ],
          [
           "Nairobi_Thomsons"
          ],
          [
           "Nairobi_Milimani"
          ],
          [
           "Nairobi_Amboseli_Road"
          ],
          [
           "Nairobi_Jabavu_Road"
          ],
          [
           "Nairobi_Sameer_Park"
          ],
          [
           "Nairobi_Kileleshwa"
          ],
          [
           "Nairobi_Jacaranda_Mental"
          ],
          [
           "Nairobi_Kijabe_Street"
          ],
          [
           "Nairobi _Industrial Area"
          ],
          [
           "Nairobi_Museum_Hill"
          ],
          [
           "Nairobi_Kariobangi"
          ],
          [
           "Nairobi_Urban_Ring_Rd_Westlands"
          ],
          [
           "Nairobi_Uthiru"
          ],
          [
           "Nairobi_Ruai"
          ],
          [
           "Nairobi_School"
          ],
          [
           "Nairobi_Utalii"
          ],
          [
           "Nairobi_Parklands"
          ],
          [
           "Nairobi_Forestry_Hq"
          ],
          [
           "Nairobi_Ruaraka"
          ],
          [
           "Nairobi_Ngumba"
          ],
          [
           "Nairobi_Kitisuru"
          ],
          [
           "Nairobi_Safari_Park_Thika_Road"
          ],
          [
           "Nairobi_Githurai"
          ],
          [
           "Nairobi_Zimmerman"
          ],
          [
           "Nairobi_Aga_Khan_Premises"
          ],
          [
           "Nairobi_Forest_Rd_New"
          ],
          [
           "Nairobi_Lunga_Lunga_New"
          ],
          [
           "Nairobi_Pangani_New"
          ],
          [
           "Nairobi_Loresho_New"
          ],
          [
           "Kayole_Juakali"
          ],
          [
           "Nairobi_Njiru_Maji_Mazuri"
          ],
          [
           "Nairobi_Komarock_Imp"
          ],
          [
           "Ngong_Kibiko"
          ],
          [
           "Nairobi_Githurai_Market"
          ],
          [
           "Nairobi_Ngando_Estate"
          ],
          [
           "Sinai Slums"
          ],
          [
           "Mathare_River"
          ],
          [
           "Beijing Rd"
          ],
          [
           "Kahawa Sukari"
          ],
          [
           "Utawala Maisha Bora"
          ],
          [
           "Utawala_Mihango"
          ],
          [
           "Ruai_Pcea"
          ],
          [
           "Kangemi"
          ],
          [
           "Ngong_Cherry Hill"
          ],
          [
           "Ongata_Rongai_Olekasasi"
          ],
          [
           "Ongata_Rongai_Catholic"
          ],
          [
           "Karen_Kuwinda Rd"
          ],
          [
           "Waithaka_Kibiria"
          ],
          [
           "Ngong_Gichagi"
          ],
          [
           "Pangani_Park Road"
          ],
          [
           "Moi Air Base"
          ],
          [
           "Karen_Forest View"
          ],
          [
           "Nairobi_Upper_Riverside"
          ],
          [
           "Uthiru_Area"
          ],
          [
           "Dagoretti Boys"
          ],
          [
           "Syokimau Katani"
          ],
          [
           "Thogoto_Gikambura"
          ],
          [
           "Matasia"
          ],
          [
           "Ngong Ololua"
          ],
          [
           "Kayole African Church"
          ],
          [
           "Umoja 2 Muchai"
          ],
          [
           "Kayole Soweto"
          ],
          [
           "Outering Faith Homes"
          ],
          [
           "Public Service Club Knh"
          ],
          [
           "Sda Ea Limited-Likoni Road"
          ],
          [
           "Lavington Amecea"
          ],
          [
           "Westlands"
          ],
          [
           "Satelite Off Kabiria Road"
          ],
          [
           "Kawangware Gitau"
          ],
          [
           "Peter Kiberu-Kayole Soweto"
          ],
          [
           "Githurai 45 Railway"
          ],
          [
           "Bendera Lane"
          ],
          [
           "Ruai Area"
          ],
          [
           "Buruburu Farm Njiru"
          ],
          [
           "Kahawa_West_Market"
          ],
          [
           "Nairobi_Forces _Memorial"
          ],
          [
           "Waverly"
          ],
          [
           "Tassia Kware"
          ],
          [
           "Mukuru Kwa Ruben"
          ],
          [
           "Nairobi_Mpaka Road"
          ],
          [
           "Mukuru Ricky Road"
          ],
          [
           "Nairobi_Garden_New"
          ],
          [
           "Gitaru_New"
          ],
          [
           "Kahawa Sukari"
          ],
          [
           "Rimpa_Road"
          ],
          [
           "Nairobi_New_Site_1(Muthaiga Getrudes)"
          ],
          [
           "Dandora Shilanga"
          ],
          [
           "Karen_Homesteads"
          ],
          [
           "Olepolos_1"
          ],
          [
           "Ngong Kibiko"
          ],
          [
           "Uthiru_Kagondo"
          ],
          [
           "Ngong Lemiso Road"
          ],
          [
           "Kayole Soweto_2"
          ],
          [
           "Kahawa Sukari/Barracks_2"
          ],
          [
           "Aacc"
          ],
          [
           "Kabete Springs"
          ],
          [
           "Tate-Close Kitisuru"
          ],
          [
           "Triad"
          ],
          [
           "World Vision"
          ],
          [
           "Nairobi_Eastleigh"
          ],
          [
           "Nairobi_Lumumba"
          ],
          [
           "Nairobi_Mab_Eastleigh"
          ],
          [
           "Nairobi_Tena"
          ],
          [
           "Nairobi_Desai_Estate"
          ],
          [
           "Nairobi_Electricity_House"
          ],
          [
           "Nairobi_Gikomba"
          ],
          [
           "Nairobi_Archives"
          ],
          [
           "Nairobi_Harambee"
          ],
          [
           "Nairobi_Wabera"
          ],
          [
           "Nairobi_Corner_Plaza"
          ],
          [
           "Nairobi_Huruma"
          ],
          [
           "Nairobi_South_B"
          ],
          [
           "Nairobi_Muranga_Road"
          ],
          [
           "Nairobi_Likoni_Road"
          ],
          [
           "Nairobi_Muthithi"
          ],
          [
           "Nairobi_Eastleigh_Section_2"
          ],
          [
           "Nairobi_Pumwani_Estate"
          ],
          [
           "Nairobi_Zimmerman_Base"
          ],
          [
           "Nairobi_3Rd_Ngong_Avenue"
          ],
          [
           "Nairobi Maassai Village"
          ],
          [
           "Nairobi_Imara_Daima"
          ],
          [
           "Nairobi_Jonathan_Ngeno"
          ],
          [
           "Nairobi_Sirikwa _House"
          ],
          [
           "Nairobi_Kenya_Airways_Hq"
          ],
          [
           "Nairobi_Madaraka"
          ],
          [
           "Nrb_Madaraka_Shopping_Centre"
          ],
          [
           "Nairobi_Kibera"
          ],
          [
           "Nairobi_Nyayo_Stadium"
          ],
          [
           "Nairobi_Doonholm_Caltex"
          ],
          [
           "Nairobi_Upperhill"
          ],
          [
           "Nairobi_Kma_Plaza"
          ],
          [
           "Nairobi_Mbotela"
          ],
          [
           "Nairobi_Factory"
          ],
          [
           "Nairobi_Community"
          ],
          [
           "Nairobi_Ukulima_House"
          ],
          [
           "Nairobi_Sda_Valley_Road"
          ],
          [
           "Nairobi_Intercontinental"
          ],
          [
           "Nairobi_Temples"
          ],
          [
           "Nairobi_Buruburu_Phase_Ii"
          ],
          [
           "Nairobi_California"
          ],
          [
           "Nairobi_Buruburu"
          ],
          [
           "Nairobi_Barclays_Plaza"
          ],
          [
           "Nairobi_Loita"
          ],
          [
           "Nairobi_Kimathi_House"
          ],
          [
           "Nairobi_Ngala"
          ],
          [
           "Nairobi_Market_2"
          ],
          [
           "Nairobi_Meridian"
          ],
          [
           "Nairobi_Keekorok_Road"
          ],
          [
           "Nairobi_Ngara"
          ],
          [
           "Nairobi_Westlands"
          ],
          [
           "Nairobi_Waiyaki_Way"
          ],
          [
           "Nairobi_Highridge"
          ],
          [
           "Nbi_Old_Donholm"
          ],
          [
           "Nairobi_Umoja_Improvement_2"
          ],
          [
           "Nairobi_Kma_Garrisa__Lodge"
          ],
          [
           "Masai_Fedha_Estate"
          ],
          [
           "Nairobi_Saika_Estate"
          ],
          [
           "Nairobi_West"
          ],
          [
           "Embakasi_Kirinyaga"
          ],
          [
           "Kasarani_Sportsview"
          ],
          [
           "Sixth Parklands"
          ],
          [
           "Radisson Blue"
          ],
          [
           "Umoja 2-B-Centre_Kayole"
          ],
          [
           "Wilson Airport"
          ],
          [
           "Dandora_Mowlem"
          ],
          [
           "Guru Nanak"
          ],
          [
           "Buruburu Phase V"
          ],
          [
           "Luthuli_House"
          ],
          [
           "Nairobi_Sunripe"
          ],
          [
           "North_Airport_ Road"
          ],
          [
           "Langata Old Uchumi"
          ],
          [
           "Outering Road"
          ],
          [
           "Hilton Garden Inn Hotel_Ibs"
          ],
          [
           "Nairobi_Highway_Estate"
          ],
          [
           "Four Seasons Plaza_Ibs"
          ],
          [
           "Baba Dogo Lucky Summer"
          ],
          [
           "Juja Road"
          ],
          [
           "Mater Hospital"
          ],
          [
           "Ridgeview"
          ],
          [
           "Catholic_Mission_Waiyaki_Way"
          ],
          [
           "Likoni_Road"
          ],
          [
           "Jamel_Future_College"
          ],
          [
           "Embakasi River Bank"
          ],
          [
           "Parklands 3Rd Avenue"
          ],
          [
           "Mtindwa Micro New"
          ],
          [
           "South Field Mall _Ibs"
          ],
          [
           "Britam Towers"
          ],
          [
           "Koinange_New"
          ],
          [
           "Pullmans Hotel(Ibs)"
          ],
          [
           "Jamuhuri_South"
          ],
          [
           "Utawala_2"
          ],
          [
           "Eastleigh"
          ],
          [
           "Barclays Plaza"
          ],
          [
           "Braeburn College"
          ],
          [
           "Braeburn School"
          ],
          [
           "Coopers Kenya"
          ],
          [
           "Kagina"
          ],
          [
           "Liberty Plaza"
          ],
          [
           "Unga-Farm Care Ltd"
          ],
          [
           "Sarit Centre"
          ],
          [
           "Nairobi_Daphton_Court"
          ],
          [
           "Nairobi_Usiu"
          ],
          [
           "Times Tower (Kra) "
          ],
          [
           "Kawangware Bethel"
          ],
          [
           "Gendia"
          ],
          [
           "Kisii Getare"
          ],
          [
           "Nairobi_Ojijo_2"
          ],
          [
           "Nairobi_Yaya_Ushuru"
          ],
          [
           "Signature Mall"
          ],
          [
           "Huruma Ngei"
          ],
          [
           "Kayole_Juakali_2"
          ],
          [
           "Maraba_Witheithie"
          ],
          [
           "Malaa_Kamulu"
          ],
          [
           "Cheplaskei"
          ],
          [
           "Kayole_phase_1"
          ],
          [
           "Igane"
          ],
          [
           "Murera_new"
          ],
          [
           "Pipeline Micro_2"
          ],
          [
           "Solidarity Street"
          ],
          [
           "KABATI_KENOL"
          ],
          [
           "Matinyani"
          ],
          [
           "Lughulu"
          ],
          [
           "Merewet"
          ],
          [
           "Mlolongo_East"
          ],
          [
           "Kiundani Musamba"
          ],
          [
           "Mageta Road-Lavington Kauria Close"
          ],
          [
           "Naivasha Maroro"
          ],
          [
           "Eldoret West_ATC"
          ],
          [
           "Githurai Mosque"
          ],
          [
           "Tassia_Pines_Makuti"
          ],
          [
           "Kariobangi South_New"
          ],
          [
           "Nakuru Kivumbini"
          ],
          [
           "Bungoma South_ATC"
          ],
          [
           "Mwiki Maji Mazuri"
          ],
          [
           "Kayole Matopeni"
          ],
          [
           "JKUAT_Kiongo_Hostel_New"
          ],
          [
           "Nakuru Satellite"
          ],
          [
           "Kabiria_ATC"
          ],
          [
           "KIBERA _CATHOLIC_ATC"
          ],
          [
           "DANDORA PHASE 4"
          ],
          [
           "Babadogo ATC"
          ],
          [
           "Nakuru_Bangladesh_New"
          ],
          [
           "Gachie New"
          ],
          [
           "Bungoma Marrel"
          ],
          [
           "KAPSOYA_ESTATE"
          ],
          [
           "Juja Menja"
          ],
          [
           "Nakuru Gikomba"
          ],
          [
           "Gatongora"
          ],
          [
           "Harambee Estate"
          ],
          [
           "Kajulu_Mwembe_Mmoja"
          ],
          [
           "Witeithie_Center"
          ],
          [
           "Molo Tembea Na Yesu"
          ],
          [
           "Rongai Olekasasi"
          ],
          [
           "Ruaka Murugu Groove"
          ],
          [
           "Mumias_Ekero Market"
          ],
          [
           "THIKA STADIUM"
          ],
          [
           "Rangau - Ongata Rongai SGR Station"
          ],
          [
           "Kitengela Ashutosh"
          ],
          [
           "Gatuanyaga_Garissa Road"
          ],
          [
           "Kamangu ATC"
          ],
          [
           "Nakuru Mercy Njeri"
          ],
          [
           "Webuye GSM Hub"
          ],
          [
           "Nakuru_ Rhonda Primary"
          ],
          [
           "Kangoya"
          ],
          [
           "Kisumu Day"
          ],
          [
           "Kisumu CBD"
          ],
          [
           "Donholm Savanna"
          ],
          [
           "Eastleigh 1st street 2"
          ],
          [
           "Soweto_Zimmerman"
          ],
          [
           "Dandora New_Phase V"
          ],
          [
           "Nakuru_Resma"
          ],
          [
           "Kiamumbi New"
          ],
          [
           "Utawala Fagilia"
          ],
          [
           "Kalimoni Kenyatta Rd"
          ],
          [
           "Kisii Estate Thika"
          ],
          [
           "Murera 2"
          ],
          [
           "Ngara Road"
          ],
          [
           "Thika Primerose"
          ],
          [
           "Kiandutu Slums"
          ],
          [
           "Kahawa West New"
          ],
          [
           "Kiti Nakuru"
          ],
          [
           "Kakamega_Lurambi"
          ],
          [
           "Riara Springs Imara Daima"
          ],
          [
           "Zimmerman Kiwanjani"
          ],
          [
           "Kisumu_Carwash_Migosi"
          ],
          [
           "Mariakani Estate South B"
          ],
          [
           "Wangapala Road-Concorde"
          ],
          [
           "Nairobi_City Square"
          ],
          [
           "GSU HQ_Thika Road"
          ],
          [
           "Gakuyu ATC"
          ],
          [
           "Leshau Pondo"
          ],
          [
           "Kapten"
          ],
          [
           "Gwathukia_Weru"
          ],
          [
           "Kamburaini Primary"
          ],
          [
           "Sekerr"
          ],
          [
           "Nyairobi"
          ],
          [
           "Kasuku"
          ],
          [
           "Sosiot Girls"
          ],
          [
           "Malinya"
          ],
          [
           "Amagoro_ATC"
          ],
          [
           "Itigo ATC"
          ],
          [
           "Matunda_Binyenya"
          ],
          [
           "Kathaana Market"
          ],
          [
           "Kapsait"
          ],
          [
           "Kimwaga"
          ],
          [
           "Siaya Awelo"
          ],
          [
           "Nanyuki Equator Road_ATC"
          ],
          [
           "Kyeleni"
          ],
          [
           "Kigogoini_Tetu"
          ],
          [
           "Tongaren Primary"
          ],
          [
           "Kabatini Nakuru"
          ],
          [
           "Nambale ATC"
          ],
          [
           "Gitinga_ATC"
          ],
          [
           "Esageri Town Center"
          ],
          [
           "Lutacho 2"
          ],
          [
           "Kitengela Kyang'ombe"
          ],
          [
           "Nandarasi"
          ],
          [
           "Kakoth"
          ],
          [
           "Asumbi ATC"
          ],
          [
           "Endarasha ATC"
          ],
          [
           "Ragati ATC"
          ],
          [
           "Miriu Nyakwere"
          ],
          [
           "Misango Hill"
          ],
          [
           "Sirimon"
          ],
          [
           "Ambira ATC"
          ],
          [
           "Murungaru"
          ],
          [
           "Marima ATC"
          ],
          [
           "Wamagana_ATC"
          ],
          [
           "Rang'ala ATC"
          ],
          [
           "Ngubereti"
          ],
          [
           "Kenegut"
          ],
          [
           "Nairobi_Bolore"
          ],
          [
           "Pumwani_Gikomba"
          ],
          [
           "Kisumu Nzoia Road"
          ],
          [
           "Chebororwa ATC"
          ],
          [
           "Kapkiam"
          ],
          [
           "Nanyuki Jua kali"
          ],
          [
           "Ndurio"
          ],
          [
           "Molo Bygum"
          ],
          [
           "Ewaso Kedong"
          ],
          [
           "Chemelil Sugar_new"
          ],
          [
           "Buhuyi Secondary School"
          ],
          [
           "Kipsigak_ATC"
          ],
          [
           "Lorghum"
          ],
          [
           "Murelum Irrigation Scheme."
          ],
          [
           "Balesa"
          ],
          [
           "God Puro"
          ],
          [
           "Walda"
          ],
          [
           "Kabimoi"
          ],
          [
           "Wamba_Samburu"
          ],
          [
           "Boito"
          ],
          [
           "Kamukabi"
          ],
          [
           "Kwa Mwaura"
          ],
          [
           "Kembu"
          ],
          [
           "Gatanga ATC"
          ],
          [
           "Subuiga"
          ],
          [
           "Kairu"
          ],
          [
           "Umande"
          ],
          [
           "Cheptantan Kostoi"
          ],
          [
           "Miendo"
          ],
          [
           "Segero New"
          ],
          [
           "Sitian"
          ],
          [
           "Wango"
          ],
          [
           "Yikithuki"
          ],
          [
           "ACK St.James Saika"
          ],
          [
           "Wote_Slaughter"
          ],
          [
           "Uthiru_Muthua"
          ],
          [
           "Tswaka"
          ],
          [
           "Ruaka Kahingo"
          ],
          [
           "Imaroro_Town_Center"
          ],
          [
           "Kamulu_Deliverance"
          ],
          [
           "Kangundo Kikambuani"
          ],
          [
           "Katheka Kai"
          ],
          [
           "Kitui Kanzau"
          ],
          [
           "Kibra Soweto Academy"
          ],
          [
           "Riabai"
          ],
          [
           "Kajiado_Majengo"
          ],
          [
           "Kariobangi Baptist"
          ],
          [
           "Tulila"
          ],
          [
           "Kilembwa"
          ],
          [
           "Olengape"
          ],
          [
           "Mutara"
          ],
          [
           "Seguton"
          ],
          [
           "Kahiga"
          ],
          [
           "Lwandeti"
          ],
          [
           "Chimoi"
          ],
          [
           "Kimang'eti"
          ],
          [
           "God Oyaro"
          ],
          [
           "Pasenga"
          ],
          [
           "Muthwani"
          ],
          [
           "Kimutwa"
          ],
          [
           "Iani Market"
          ],
          [
           "Waunifor"
          ],
          [
           "Birunda"
          ],
          [
           "Tebesonik"
          ],
          [
           "Gichaka"
          ],
          [
           "Kinyona"
          ],
          [
           "Ombo Market"
          ],
          [
           "Ndigwa"
          ],
          [
           "Kiminini Ndalu"
          ],
          [
           "Kagaene"
          ],
          [
           "Pemwai"
          ],
          [
           "Kaplamai Nukiat"
          ],
          [
           "Ol Manyatta"
          ],
          [
           "Kiptagich"
          ],
          [
           "Songhol Hill"
          ],
          [
           "Chebirbelek ATC"
          ],
          [
           "Bodi Hill"
          ],
          [
           "Lemoru"
          ],
          [
           "Dorofu"
          ],
          [
           "Segero"
          ],
          [
           "Tembwo"
          ],
          [
           "KANYAGIA"
          ],
          [
           "God Oloo"
          ],
          [
           "Usigu"
          ],
          [
           "Tendwet"
          ],
          [
           "Kuinet ATC"
          ],
          [
           "Kaisungur ATC"
          ],
          [
           "Barsiele"
          ],
          [
           "GWA KUNG’U"
          ],
          [
           "Makimenyi"
          ],
          [
           "Kipkabus"
          ],
          [
           "Riwo Milimani"
          ],
          [
           "Koinange Nyandarua"
          ],
          [
           "Laciathuriu"
          ],
          [
           "Gakuri ATC"
          ],
          [
           "Kirathimo"
          ],
          [
           "Kimwondo"
          ],
          [
           "Buyofu"
          ],
          [
           "Kolongolo Market"
          ],
          [
           "Thatha"
          ],
          [
           "Ikatini"
          ],
          [
           "Kimalel"
          ],
          [
           "Kabenes"
          ],
          [
           "Mlango Mmoja Market"
          ],
          [
           "Kiptoror"
          ],
          [
           "Kabel"
          ],
          [
           "Kabulwo  ATC"
          ],
          [
           "Kiptangwany"
          ],
          [
           "Kahuho New ATC"
          ],
          [
           "Lokare"
          ],
          [
           "Lower Pesi"
          ],
          [
           "Ol Moran"
          ],
          [
           "Emining"
          ],
          [
           "Lokadule"
          ],
          [
           "SOLOLO Town"
          ],
          [
           "KORR"
          ],
          [
           "Koksen"
          ],
          [
           "Kairor"
          ],
          [
           "KALACHA"
          ],
          [
           "NORTH HORR"
          ],
          [
           "Shamakhokho"
          ],
          [
           "Chavakali ATC"
          ],
          [
           "Mwala ATC"
          ],
          [
           "Shitsitswi"
          ],
          [
           "Maragima"
          ],
          [
           "Imbo Hill"
          ],
          [
           "Gombe"
          ],
          [
           "Karatina University"
          ],
          [
           "Shiatsala"
          ],
          [
           "Lukume"
          ],
          [
           "Malaha Market"
          ],
          [
           "Butali"
          ],
          [
           "Machakha"
          ],
          [
           "Isikhi"
          ],
          [
           "Makunga"
          ],
          [
           "Chesamisi"
          ],
          [
           "Ivonda"
          ],
          [
           "Mungatsi"
          ],
          [
           "Kimatuni"
          ],
          [
           "Webuye_Milo"
          ],
          [
           "Kongoni"
          ],
          [
           "Turbo_Endebess Road"
          ],
          [
           "Mua Radar"
          ],
          [
           "SOFIA ATC"
          ],
          [
           "Yathui ATC"
          ],
          [
           "Mua Kathimani"
          ],
          [
           "Mung'ala"
          ],
          [
           "Kivaani"
          ],
          [
           "Vota"
          ],
          [
           "MILAANI"
          ],
          [
           "Makutano Mwala"
          ],
          [
           "Kadongu"
          ],
          [
           "Kiaihuru"
          ],
          [
           "Difathas ATC"
          ],
          [
           "Karii ATC"
          ],
          [
           "Ngaatho"
          ],
          [
           "KAMIRURI"
          ],
          [
           "Kiawara"
          ],
          [
           "Kanyotu Estate"
          ],
          [
           "Kambiti ATC"
          ],
          [
           "Riandira Rukanga"
          ],
          [
           "Gakawa_Kiririshwa"
          ],
          [
           "Marua_ATC"
          ],
          [
           "Kanunga_Hub_ATC"
          ],
          [
           "IHURIRIO"
          ],
          [
           "Gikono"
          ],
          [
           "Mogogosiek"
          ],
          [
           "Big Tree"
          ],
          [
           "Kabianga"
          ],
          [
           "Chemasit"
          ],
          [
           "Motigo ATC"
          ],
          [
           "Kimng'oror"
          ],
          [
           "Kono"
          ],
          [
           "Wiyumiririe"
          ],
          [
           "Molo Kimugul-Sachangwany"
          ],
          [
           "Suswa ATC"
          ],
          [
           "Kamara Primary School"
          ],
          [
           "Kapkwen"
          ],
          [
           "Olongonot Satelite"
          ],
          [
           "Chelilis"
          ],
          [
           "Mzee wa Nyama"
          ],
          [
           "Nyagacho ATC"
          ],
          [
           "Thingithu Nanyuki ATC"
          ],
          [
           "Kitale Lessos"
          ],
          [
           "Songoliet"
          ],
          [
           "Maraba_Hill"
          ],
          [
           "POROR ARAMA"
          ],
          [
           "Rare-Naishi"
          ],
          [
           "Kericho_Chagaik"
          ],
          [
           "Kerita"
          ],
          [
           "Tepkutwet"
          ],
          [
           "Kaitui"
          ],
          [
           "Sidundo"
          ],
          [
           "Madungu ATC"
          ],
          [
           "Abom"
          ],
          [
           "Madede"
          ],
          [
           "DIENYA"
          ],
          [
           "Busia Airstrip"
          ],
          [
           "Nyakwakwa"
          ],
          [
           "Netima_Musakasa"
          ],
          [
           "Busibi"
          ],
          [
           "Cheptais_Chepkube"
          ],
          [
           "Mahira"
          ],
          [
           "Indangalasia"
          ],
          [
           "Aludeka"
          ],
          [
           "Marakusi_Makutano"
          ],
          [
           "GK Mwea Prison"
          ],
          [
           "Kanamba"
          ],
          [
           "Kahuruko Centre"
          ],
          [
           "Mascani"
          ],
          [
           "Kirua Hill_ATC"
          ],
          [
           "Mukothima Market"
          ],
          [
           "Isiolo Checheles"
          ],
          [
           "Nyairoko"
          ],
          [
           "Poro Lamaret"
          ],
          [
           "Kapkoi ATC"
          ],
          [
           "Mutithi"
          ],
          [
           "Matuu Ma Mwiitu"
          ],
          [
           "Riakanau ATC"
          ],
          [
           "Kinna"
          ],
          [
           "Loosuk Market"
          ],
          [
           "Marti Primary School"
          ],
          [
           "SOLOLO MAKUTANO"
          ],
          [
           "LOIYANGALANI"
          ],
          [
           "GAS Primary School"
          ],
          [
           "Ndulele Farm"
          ],
          [
           "Sigot ATC"
          ],
          [
           "Makunga Forest"
          ],
          [
           "Chepkunyuk"
          ],
          [
           "Mimosa ATC"
          ],
          [
           "Cheptil ATC"
          ],
          [
           "Kiramrok"
          ],
          [
           "TIMBOROA_ATC"
          ],
          [
           "Oldoldol _Kipsergech"
          ],
          [
           "Cheptonon"
          ],
          [
           "Saos ATC"
          ],
          [
           "Kipkaren Salient"
          ],
          [
           "Cheptebo"
          ],
          [
           "Yatya"
          ],
          [
           "Nukiat_Baraton"
          ],
          [
           "Londiani Forest"
          ],
          [
           "Nakuru Rongai ATC/Gogar Farms"
          ],
          [
           "Kebulonik"
          ],
          [
           "Kericho Shivling"
          ],
          [
           "Makutano Kapenguria_ATC"
          ],
          [
           "Ololoitikosh Birika"
          ],
          [
           "KIMARGIS_KAPKOROS"
          ],
          [
           "MAJI MAZURI"
          ],
          [
           "Matharu new"
          ],
          [
           "Nakuru Baraka"
          ],
          [
           "Katolo"
          ],
          [
           "Kajwang Okok"
          ],
          [
           "Bitobo"
          ],
          [
           "Mitumbiri"
          ],
          [
           "Gikiro"
          ],
          [
           "Kangaita ATC"
          ],
          [
           "Ithanga ATC"
          ],
          [
           "Nyandarua Runda"
          ],
          [
           "Muranga Town ATC"
          ],
          [
           "Maragua Ridge ATC"
          ],
          [
           "Kigumo ATC"
          ],
          [
           "Kithangaini"
          ],
          [
           "Ngusishi"
          ],
          [
           "Rwika"
          ],
          [
           "KDF School Of Infantry"
          ],
          [
           "KIWANJA ISIOLO"
          ],
          [
           "Gatunduri ATC"
          ],
          [
           "Kivaa Hill"
          ],
          [
           "Sarova Shaba"
          ],
          [
           "Isiolo Keracha"
          ],
          [
           "Syokimau Wazuli Suites"
          ],
          [
           "Embu_Matakari"
          ],
          [
           "Mukulusu ATC"
          ],
          [
           "Bubisa"
          ],
          [
           "CITAM Parklands"
          ],
          [
           "Canin Aluminium"
          ],
          [
           "Likoni_Inuka_Grounds"
          ],
          [
           "Shamu"
          ],
          [
           "Mlolongo South"
          ],
          [
           "Sunton_Mradi"
          ],
          [
           "Zimmerman_PCEA"
          ],
          [
           "Riverside Oaks"
          ],
          [
           "Kawangware Muslim"
          ],
          [
           "Monabel Apartments"
          ],
          [
           "Kandisi_Fifth_Avenue"
          ],
          [
           "Kuku"
          ],
          [
           "St Elizabeth Utange"
          ],
          [
           "Singore"
          ],
          [
           "Sinonin"
          ],
          [
           "Muchorwi"
          ],
          [
           "Barao ATC"
          ],
          [
           "Kaptarakwa"
          ],
          [
           "Kebeneti"
          ],
          [
           "Kapsita"
          ],
          [
           "Kihingo ATC"
          ],
          [
           "Kibuline"
          ],
          [
           "Konza Malili ATC"
          ],
          [
           "Igoji new ATC"
          ],
          [
           "Gantari"
          ],
          [
           "Uhendo"
          ],
          [
           "Kokwiri"
          ],
          [
           "Wanjohi Center"
          ],
          [
           "Makuyu Town ATC"
          ],
          [
           "Kitalale"
          ],
          [
           "Kangundo Matetani"
          ],
          [
           "Ruai_Gituamba"
          ],
          [
           "Mavuno Great Wall Gardens"
          ],
          [
           "Kuranze"
          ],
          [
           "Ezra Gumbe"
          ],
          [
           "KAMAGUTA"
          ],
          [
           "Kiriaini ATC"
          ],
          [
           "Gituamba"
          ],
          [
           "Gitugi Girls Secondary"
          ],
          [
           "PCEA TumuTumu"
          ],
          [
           "Camp ya Chumvi"
          ],
          [
           "Isiolo KULA MAWE"
          ],
          [
           "MULIKA MARKET"
          ],
          [
           "Morijo Catholic Church"
          ],
          [
           "Makutano Junction ATC"
          ],
          [
           "Baragoi ATC"
          ],
          [
           "Kaaling"
          ],
          [
           "TURBI KAMPI NYOKA"
          ],
          [
           "KAKONG"
          ],
          [
           "Kakuma 2 Refugee camp"
          ],
          [
           "Bagaria ATC"
          ],
          [
           "Karuna"
          ],
          [
           "Kitale Kaptega"
          ],
          [
           "Sarova Lion Hill game lodge"
          ],
          [
           "Kitale Chetoto Primary"
          ],
          [
           "KARUNGA"
          ],
          [
           "Karen Blixen Museum"
          ],
          [
           "Kajiado South"
          ],
          [
           "Mnazini"
          ],
          [
           "LIKONI_ISTQAMA"
          ],
          [
           "Malindi_Vofea"
          ],
          [
           "Likoni_Maweni"
          ],
          [
           "Mtopanga_ATC"
          ],
          [
           "Coral Key"
          ],
          [
           "Mafisini_Mtopanga"
          ],
          [
           "Mombasa Tudor ATC"
          ],
          [
           "Mtwapa Town GSM"
          ],
          [
           "Old Mombasa Town ATC"
          ],
          [
           "Gede_Junction"
          ],
          [
           "MWIJO"
          ],
          [
           "Mwaluphamba"
          ],
          [
           "TIRIBE"
          ],
          [
           "KIREWE"
          ],
          [
           "PALAKUMI"
          ],
          [
           "BOFU"
          ],
          [
           "KIKONENI"
          ],
          [
           "Marereni"
          ],
          [
           "LANGOBAYA"
          ],
          [
           "MIRITINI KILIFI"
          ],
          [
           "DAKACHA"
          ],
          [
           "MENZAMWENYE"
          ],
          [
           "KINARANI"
          ],
          [
           "JILORE"
          ],
          [
           "Busho"
          ],
          [
           "VITENGENI"
          ],
          [
           "Mareje Bando"
          ],
          [
           "Malindi Marine Park"
          ],
          [
           "Mariakani-School of Rifles"
          ],
          [
           "GONGONI"
          ],
          [
           "Chivarai"
          ],
          [
           "Mavueni Majajani"
          ],
          [
           "Lunga Lunga Mpakani"
          ],
          [
           "Dambala Fachana"
          ],
          [
           "Nanyinyirokwe_Hill"
          ],
          [
           "LogoLogo"
          ],
          [
           "Konyao"
          ],
          [
           "Alale_Kalapata"
          ],
          [
           "Iriaini_Karatina"
          ],
          [
           "Sango_Mawe tatu"
          ],
          [
           "Mtwapa Mzambarauni"
          ],
          [
           "Westpark Suites"
          ],
          [
           "Mitchel_Junda"
          ],
          [
           "Chakama"
          ],
          [
           "Kaptuli"
          ],
          [
           "Tugen Estate"
          ],
          [
           "Ndonyongaria"
          ],
          [
           "Kasarani Mwirigo"
          ],
          [
           "Imara Easy Plaza"
          ],
          [
           "Bamburi Naivas"
          ],
          [
           "Denel House"
          ],
          [
           "Kasarani PCEA"
          ],
          [
           "Mwananyamala"
          ],
          [
           "Donholm phase 8"
          ],
          [
           "Umoja kwa chief"
          ],
          [
           "Athi River Zillion Plaza"
          ],
          [
           "Fedha Bilson"
          ],
          [
           "Eastleigh_Sgt_Kahande_St"
          ],
          [
           "Kibera Mashimoni Primary"
          ],
          [
           "Fedha Dawn Apartments"
          ],
          [
           "Kasarani Springs Estate"
          ],
          [
           "Tassia Hill"
          ],
          [
           "Tassia Kijiji"
          ],
          [
           "Tassia Kwa Ndege"
          ],
          [
           "Miritini-Jomvu"
          ],
          [
           "Lokitaung_Nakalale"
          ],
          [
           "Agan_khan"
          ],
          [
           "Kainuk"
          ],
          [
           "Siron-Thiiru"
          ],
          [
           "Hurr Hill"
          ],
          [
           "KOTIENO-NAYA"
          ],
          [
           "Mombasa Corronet"
          ],
          [
           "Nairobi_Gigiri_New  "
          ],
          [
           "Kamae_road"
          ],
          [
           "Rongai_Kanari_Apartments"
          ],
          [
           "Muthaiga Police Station"
          ],
          [
           "South B Mubiru"
          ],
          [
           "Kilifi Ngala"
          ],
          [
           "Marsabit Hill"
          ],
          [
           "Oldonyo_Sabach"
          ],
          [
           "Kayole_Walletshop"
          ],
          [
           "Utawala Corner Stone "
          ],
          [
           "Aga Khan(Msa Golf) (Inactive)"
          ],
          [
           "Kitusuru County Homes"
          ],
          [
           "Chuka_University"
          ],
          [
           "Naivasha Viwandani"
          ],
          [
           "Sondu_Town"
          ],
          [
           "Sogon"
          ],
          [
           "Kipsarman"
          ],
          [
           "Kambi Moto Morop"
          ],
          [
           "Mundere"
          ],
          [
           "Ganga_Rumbiye"
          ],
          [
           "Sigoti"
          ],
          [
           "Mombasa_Show Ground"
          ],
          [
           "Mombasa_Show Ground"
          ],
          [
           "Kipyego"
          ],
          [
           "VIPINGO_RIDGE"
          ],
          [
           "Two rivers"
          ],
          [
           "Mawingu Relocation"
          ],
          [
           "Gategi"
          ],
          [
           "Sacho"
          ],
          [
           "Baruti-kigonori"
          ],
          [
           "Karen Forest View Relocation"
          ],
          [
           "Makutano Mwea Relocation"
          ],
          [
           "Amboseli N.P.Serena"
          ],
          [
           "Kikubi"
          ],
          [
           "Gede Town USF"
          ],
          [
           "Kasarani Naivasha"
          ],
          [
           "Kasarani Naivasha"
          ],
          [
           "Maiella"
          ],
          [
           "IRIAITUNE"
          ],
          [
           "Kongowea ATC"
          ],
          [
           "Mwembe Legeza New"
          ],
          [
           "Kargi"
          ],
          [
           "Galili primary school"
          ],
          [
           "Thindigua Laureate"
          ],
          [
           "Theophilus_Church_Njathaini"
          ],
          [
           "ACK Ithookwe"
          ],
          [
           "Uviluni Primary School"
          ],
          [
           "Kisii Nyaura"
          ],
          [
           "Kisii_Nyaura_MGF"
          ],
          [
           "Amabuko"
          ],
          [
           "Thindigua_Laureate"
          ],
          [
           "Engineer_Kwa_Waithaka"
          ],
          [
           "Kapsuser_Market"
          ],
          [
           "Nakuru_Dominion"
          ],
          [
           "Nakuru Hilton"
          ],
          [
           "Abore_Primary"
          ],
          [
           "Hargaderra_X"
          ],
          [
           "USF_Kiwawa "
          ],
          [
           "USF_Meshau "
          ],
          [
           "USF_Amaler"
          ],
          [
           "USF_Kases "
          ],
          [
           "USF_Akiramet "
          ],
          [
           "Kilungu_Lawcourts"
          ],
          [
           "Kanyongonyo"
          ],
          [
           "Kakeani"
          ],
          [
           "Kalamba_Market"
          ],
          [
           "Mui_Secondary_School"
          ],
          [
           "Kiamariga"
          ],
          [
           "Aberdares_Kihara"
          ],
          [
           "Darasha"
          ],
          [
           "Heshima-Macro"
          ],
          [
           "Mirema Rosemark"
          ],
          [
           "Roysambu_Primary_School"
          ],
          [
           "ATC_Landmark_Luckysummer_MRT"
          ],
          [
           "Devine_Estate_Kamakis_MGF"
          ],
          [
           "Kingeero_Whitehouse_MGF"
          ],
          [
           "ATC_Kiambu_Uhai_Sanctuary_MRT"
          ],
          [
           "Moyale_Sessi"
          ],
          [
           "Mandera_Busli_B"
          ],
          [
           "Ifo_Central"
          ],
          [
           "Hargaderra_Y"
          ],
          [
           "Ifo_X"
          ],
          [
           "Pangani Mambosasa"
          ],
          [
           "Kidongo"
          ],
          [
           "Kanani_Road_Watamu"
          ],
          [
           "Kinyaata"
          ],
          [
           "Daystar Monique court"
          ],
          [
           "Empakasi"
          ],
          [
           "Mumberes"
          ],
          [
           "Bahati_Kwa_Amos"
          ],
          [
           "Mathare_Tetu/Kahiga"
          ],
          [
           "Barnabas_Baraka"
          ],
          [
           "Kiamunyi_Baraka/Bahati_Nyathuna"
          ],
          [
           "Njokerio"
          ],
          [
           "Limuru_ECD_College"
          ],
          [
           "Simbara_Kwa_Mika "
          ],
          [
           "ATC _Kabasis"
          ],
          [
           "Kitengela_Olerai"
          ],
          [
           "Eldoret_Unclekim"
          ],
          [
           "Basi Primary"
          ],
          [
           "Bokole Magongo"
          ],
          [
           "Thindigua_Dainty"
          ],
          [
           "Samburu Loruko"
          ],
          [
           "Posta"
          ],
          [
           "Mandera_Sunnah_Mosque"
          ],
          [
           "Moyale_Boys_Secondary"
          ],
          [
           "Loibor_Ngare"
          ],
          [
           "Moyale_Girls_Secondary"
          ],
          [
           "Hareri"
          ],
          [
           "Gitaru Mlango Soko"
          ],
          [
           "Zambezi Kwa Msikiti"
          ],
          [
           "Kikuyu_Township_Secondary_MGF"
          ],
          [
           "Lodwar Napur"
          ],
          [
           "Kamugunda"
          ],
          [
           "kibwezi _Masaku_Ndogo"
          ],
          [
           "Mtsanganyiko"
          ],
          [
           "Kadzodzo Ndogo"
          ],
          [
           "Songoroi"
          ],
          [
           "Kilili Wee"
          ],
          [
           "Kibiko Forest ATC"
          ],
          [
           "Naivasha Site Service"
          ],
          [
           "GARISSA BULLA MADINA"
          ],
          [
           "Sabuli"
          ],
          [
           "Hargaderra B3"
          ],
          [
           "Hargaderra G3"
          ],
          [
           "Garissa Bulla Mzuri"
          ],
          [
           "GOREALE ATC"
          ],
          [
           "Kimana"
          ],
          [
           "Kajiado Kwa DC"
          ],
          [
           "MAJAONI_MSIKITINI"
          ],
          [
           "KILIFI_MDZONGOLONI"
          ],
          [
           "Barahoyo"
          ],
          [
           "GETUNO ATC"
          ],
          [
           "Kisii_Masjid"
          ],
          [
           "Nyanchwa ATC"
          ],
          [
           "Meyinkwa ATC"
          ],
          [
           "Kangondi ATC"
          ],
          [
           "Masimbani ATC"
          ],
          [
           "Museve ATC"
          ],
          [
           "Kathivo ATC"
          ],
          [
           "Muthue_Hill ATC"
          ],
          [
           "Kyoani ATC"
          ],
          [
           "IIANI_ATC"
          ],
          [
           "IKANGA ATC"
          ],
          [
           "MIHONGANI ATC"
          ],
          [
           "MWABUNGO ATC"
          ],
          [
           "FAZA ATC"
          ],
          [
           "Kipini ATC"
          ],
          [
           "Kalawa ATC"
          ],
          [
           "Salama ATC"
          ],
          [
           "MISUUNI ATC"
          ],
          [
           "KATANGINI ATC"
          ],
          [
           "KIANGINI ATC-"
          ],
          [
           "KWALULI ATC"
          ],
          [
           "WASWETA  ATC"
          ],
          [
           "ANEKO_NYATHIKA"
          ],
          [
           "KEGONGA ATC"
          ],
          [
           "TARANGANYA ATC"
          ],
          [
           "Kojonga ATC"
          ],
          [
           "Eroret ATC"
          ],
          [
           "Angata Barrikoi Primary"
          ],
          [
           "Olasisiti ATC"
          ],
          [
           "Ng’aram ATC"
          ],
          [
           "Tikako ATC"
          ],
          [
           "Olkurto ATC"
          ],
          [
           "Sogoo Primary "
          ],
          [
           "Sekenani Gate ATC"
          ],
          [
           "SOIN ATC"
          ],
          [
           "Wundanyi Mghambonyi"
          ],
          [
           "SAGALLA ATC"
          ],
          [
           "CHALLA ATC"
          ],
          [
           "Wenje ATC"
          ],
          [
           "Sankuri ATC"
          ],
          [
           "Abakore ATC"
          ],
          [
           "Kilonito_Kajiado"
          ],
          [
           "Kabarnet_Kapsesat"
          ],
          [
           "Nakuru Lakeview"
          ],
          [
           "Naivasha_Kayole_Roho_Safi "
          ],
          [
           "Nakumatt_Nyali_Relocation"
          ],
          [
           "Vikwatani_Store"
          ],
          [
           "Kisii_KARI"
          ],
          [
           "Katani_Brighton_School"
          ],
          [
           "Adega"
          ],
          [
           "Otacho"
          ],
          [
           "Kilifi_CBD_New"
          ],
          [
           "MKUNUBI ATC"
          ],
          [
           "MRABENYI ATC"
          ],
          [
           "UKUNDA_GOMBATO_ATC"
          ],
          [
           "KASYALA ATC"
          ],
          [
           "Njukini ATC"
          ],
          [
           "Mbooni_ Ngunduni Forest"
          ],
          [
           "ITHUMBA HILL ATC"
          ],
          [
           "MBA ATC"
          ],
          [
           "Migori_County_Referral_Hospital "
          ],
          [
           "Tiwi_Swamp"
          ],
          [
           "ROTU_Primary_School"
          ],
          [
           "KAMUGE"
          ],
          [
           "Harehare"
          ],
          [
           "Emurua Dikirr ATC"
          ],
          [
           "Laset-ATC"
          ],
          [
           "KAVISUNI"
          ],
          [
           "ELDORO ATC"
          ],
          [
           "Lamu CBD_ATC"
          ],
          [
           "Makuli forest ATC"
          ],
          [
           "Mokowe ATC"
          ],
          [
           "Narok-Bomet Road (New)"
          ],
          [
           "NTHONGONI ATC"
          ],
          [
           "ONGER ATC"
          ],
          [
           "NZEVENI ATC"
          ],
          [
           "ORUBA ATC"
          ],
          [
           "Vui Shopping Centre"
          ],
          [
           "Voo ATC"
          ],
          [
           "Wafoo (New)"
          ],
          [
           "Narok Pulonga"
          ],
          [
           "Ololulunga_New"
          ],
          [
           "ROTIRI"
          ],
          [
           "Ukunda Village ATC"
          ],
          [
           "Mtepeni ATC"
          ],
          [
           "Dadajabulla"
          ],
          [
           "Ochuna ATC"
          ],
          [
           "Masara ATC"
          ],
          [
           "Laaqi_School"
          ],
          [
           "Garissa_Bulla_Quba"
          ],
          [
           "Ifo D2"
          ],
          [
           "Dagahaley C1"
          ],
          [
           "Dagahaley Health Post 4"
          ],
          [
           "Bartimaro"
          ],
          [
           "Chumani Kibwezi ATC"
          ],
          [
           "KABATI ATC"
          ],
          [
           "Kanyangi"
          ],
          [
           "KITHUKI ATC"
          ],
          [
           "Kyatune"
          ],
          [
           "Maili Tisa"
          ],
          [
           "NGOMENI ATC"
          ],
          [
           "Muambwani"
          ],
          [
           "Nunguni ATC"
          ],
          [
           "Kyongwani"
          ],
          [
           "SHIMONI EXCHANGE ATC"
          ],
          [
           "MIASENYI ATC"
          ],
          [
           "MESISITA_KERINA"
          ],
          [
           "KEBAROTI PRIMARY SCHOOL"
          ],
          [
           "Nyansiongo Gesima"
          ],
          [
           "Miruka ATC"
          ],
          [
           "Stellah Market"
          ],
          [
           "Pan African Industries"
          ],
          [
           "Ruaraka_Business_Park"
          ],
          [
           "Atioch_Church_Gatongora"
          ],
          [
           "General_Waruingi_Street"
          ],
          [
           "Kiambu_Primary"
          ],
          [
           "ATC_Luckysummer_JJC_Road"
          ],
          [
           "Mathare_KCA"
          ],
          [
           "BULLA_GOLOL"
          ],
          [
           "Kakulit"
          ],
          [
           "Mombasa_Arm_Kaloleni_Relocation"
          ],
          [
           "Garissa_Ngulet"
          ],
          [
           "Kulan ATC"
          ],
          [
           "Entarara"
          ],
          [
           "KMTC Kitui"
          ],
          [
           "Kitui Kalundu Safcom"
          ],
          [
           "Kitui Town ATC"
          ],
          [
           "Lukenya University ATC"
          ],
          [
           "Kitui Kilonzo"
          ],
          [
           "NGIINI ATC"
          ],
          [
           "Satao_Elerai"
          ],
          [
           "Bura East ATC"
          ],
          [
           "Lamu Shela ATC"
          ],
          [
           "NDAU Islands"
          ],
          [
           "Kutima Ranch"
          ],
          [
           "Ngombeni_ATC"
          ],
          [
           "Takaungu ATC"
          ],
          [
           "Voi_Sofia"
          ],
          [
           "Magongo_Bokole_2"
          ],
          [
           "LANDI ATC"
          ],
          [
           "Mwamosioma ATC"
          ],
          [
           "Rabuor Forest ATC"
          ],
          [
           "Enchoro ATC"
          ],
          [
           "AWENDO TOWN"
          ],
          [
           "Olmekenyu ATC"
          ],
          [
           "Luanda Konyango"
          ],
          [
           "Chemuswo"
          ],
          [
           "Garage"
          ],
          [
           "Bayete"
          ],
          [
           "GATERO"
          ],
          [
           "NKANG’A"
          ],
          [
           "Katilu ATC"
          ],
          [
           "Kabomoi"
          ],
          [
           "Sururu ATC"
          ],
          [
           "Kipsimu_Ndaptabwa"
          ],
          [
           "Rwando"
          ],
          [
           "Mwen Nyaru"
          ],
          [
           "Kuresoi Ngariet"
          ],
          [
           "Aror ATC"
          ],
          [
           "Kolowa ATC"
          ],
          [
           "Chebukaka"
          ],
          [
           "Ndivisi"
          ],
          [
           "Nangili_Market"
          ],
          [
           "Mukhonje"
          ],
          [
           "Chepyuk ATC"
          ],
          [
           "Masogo Market"
          ],
          [
           "Nyamaseka"
          ],
          [
           "Mageta Island"
          ],
          [
           "Jera ATC"
          ],
          [
           "Karare ATC"
          ],
          [
           "Waititi Hill"
          ],
          [
           "Outspan Hospital Nyeri"
          ],
          [
           "Mamboleo_Jakisii_Stage"
          ],
          [
           "Maliku ATC"
          ],
          [
           "BUNGOMA SIKATA"
          ],
          [
           "Rimpa Road New"
          ],
          [
           "Katoloni ATC"
          ],
          [
           "Joska Junction"
          ],
          [
           "Mlolongo Phase III ATC"
          ],
          [
           "Kilimambogo ATC"
          ],
          [
           "Kisumu_Tido_new"
          ],
          [
           "Methodist University Meru"
          ],
          [
           "Meru_Town_Center"
          ],
          [
           "Mihango Kibiko Road"
          ],
          [
           "Mihango Karangita"
          ],
          [
           "Utawala Zebra"
          ],
          [
           "Ruai_Tamu Tamu"
          ],
          [
           "Uthiru Gichagi"
          ],
          [
           "Ruai police station"
          ],
          [
           "Consolata Hospital Mathari"
          ],
          [
           "Syokimau_Kings_Gate"
          ],
          [
           "Maliki"
          ],
          [
           "Ekitale"
          ],
          [
           "Kingoti"
          ],
          [
           "Heho"
          ],
          [
           "Kariru"
          ],
          [
           "Ruungu"
          ],
          [
           "Tinet"
          ],
          [
           "Ngamwa"
          ],
          [
           "Koshin"
          ],
          [
           "Mundoro"
          ],
          [
           "Kaptele"
          ],
          [
           "Kapkondot ATC"
          ],
          [
           "Cheplanget"
          ],
          [
           "Masinga Town ATC"
          ],
          [
           "Kathonzweni ATC"
          ],
          [
           "Enkorika ATC"
          ],
          [
           "ATC_Esulu_Hill Loreng"
          ],
          [
           "ATC_Loritit_Moru_Amoja"
          ],
          [
           "ATC_Puch_Tepekeny_Hill"
          ],
          [
           "NANAM_NATAPAR"
          ],
          [
           "ATC_Loremeit_Hill"
          ],
          [
           "Kangetulai_Hill Loitanit"
          ],
          [
           "Todonyang"
          ],
          [
           "Wakanda_Hill Kataboi"
          ],
          [
           "ATC_Lorengelup_Primary"
          ],
          [
           "Narok_Enturoto"
          ],
          [
           "Eldoret Polytechnic"
          ],
          [
           "Khalaba"
          ],
          [
           "Rironi ATC"
          ],
          [
           "Kikuyu Ondiri"
          ],
          [
           "Kenol Muranga"
          ],
          [
           "Karuguru"
          ],
          [
           "Nakuru_Makao"
          ],
          [
           "Barnabas_Highway"
          ],
          [
           "Chwele Namwela"
          ],
          [
           "Kaptama"
          ],
          [
           "Siruti"
          ],
          [
           "Gikuni"
          ],
          [
           "Kiangochi"
          ],
          [
           "KAVANI HILL MALILI"
          ],
          [
           "Hifadhi House_ICDL"
          ],
          [
           "MAHI MAHIU TOWN"
          ],
          [
           "Kamobo"
          ],
          [
           "Nyahururu Kigumo"
          ],
          [
           "KTUNTICH HILL"
          ],
          [
           "Kisumu Kanyawegi"
          ],
          [
           "Nyandema"
          ],
          [
           "Namoruputh"
          ],
          [
           "Katiko_Primary _School"
          ],
          [
           "Krich"
          ],
          [
           "Sirwach"
          ],
          [
           "Kiwawa_High_Ground"
          ],
          [
           "Kisamis-Corner"
          ],
          [
           "MURKAN"
          ],
          [
           "Rigogo_Chonjo"
          ],
          [
           "Salgaa_Waldai"
          ],
          [
           "Maua_Town"
          ],
          [
           "Katieno"
          ],
          [
           "Kwangamor"
          ],
          [
           "Matawa Mumias"
          ],
          [
           "Webuye Town ATC"
          ],
          [
           "SIAYA BANANA"
          ],
          [
           "Milimani Valley Court-Kitengela"
          ],
          [
           "KIKUYU KANYARIRI"
          ],
          [
           "Kiambaa ATC"
          ],
          [
           "Naivasha Kinamba"
          ],
          [
           "Nakuru Ngata"
          ],
          [
           "Ngiiri Market"
          ],
          [
           "Kalalu ATC"
          ],
          [
           "Garbatulla"
          ],
          [
           "Longewan"
          ],
          [
           "Kibiku ATC"
          ],
          [
           "Homabay Kumuinda"
          ],
          [
           "Chepkemel"
          ],
          [
           "Ruai Green Springs"
          ],
          [
           "Kiserian Dam"
          ],
          [
           "Rongai SGR"
          ],
          [
           "RTI South B"
          ],
          [
           "Kibera Ayany"
          ],
          [
           "Utawala Githunguri"
          ],
          [
           "Isiolo Kiwanjani 2"
          ],
          [
           "Kitengela_New Valley"
          ],
          [
           "Garissa KWS Quarters"
          ],
          [
           "Karangatha"
          ],
          [
           "Nyeri National polytechnic"
          ],
          [
           "Nadeng Hill"
          ],
          [
           "Kaplelach"
          ],
          [
           "Kibera_Inner"
          ],
          [
           "Kiambere Hill"
          ],
          [
           "Mfangano Islands-Sena"
          ],
          [
           "Alliance Boys"
          ],
          [
           "Kerugoya Boys ATC"
          ],
          [
           "Gathirioni"
          ],
          [
           "Kisumu_East"
          ],
          [
           "Kisumu_CarWash_1"
          ],
          [
           "Racecourse Apartments"
          ],
          [
           "Section 58 ATC"
          ],
          [
           "Homabay Makongeni_Midlands"
          ],
          [
           "ATC_ADADIJOLE_Hill"
          ],
          [
           "Machakos ATC"
          ],
          [
           "Kakamega Furaha house"
          ],
          [
           "Nanyuki KWS"
          ],
          [
           "Mombasa_Kibokoni"
          ],
          [
           "Naaro ATC"
          ],
          [
           "Karumo ATC"
          ],
          [
           "KNAA ATC"
          ],
          [
           "Tuuru Hill"
          ],
          [
           "Kiguchwa"
          ],
          [
           "Ngoingwa Kisiwa"
          ],
          [
           "Ruaka Mesan"
          ],
          [
           "Murera Darasha"
          ],
          [
           "Thika Kimuchu"
          ],
          [
           "Kahawa Sukari PCEA"
          ],
          [
           "Thika_1 ATC"
          ],
          [
           "Kirigiti South"
          ],
          [
           "Ruiru Kwihota"
          ],
          [
           "Juja Mucatha"
          ],
          [
           "Mirema_Treat"
          ],
          [
           "Rurii_ Githurai_44"
          ],
          [
           "Saika ATC"
          ],
          [
           "Githurai Mwihoko_2"
          ],
          [
           "Kisumu_Nyamasaria ATC"
          ],
          [
           "Nakuru Mangu"
          ],
          [
           "Kisii Jogoo"
          ],
          [
           "GTC_Towers_IBS"
          ],
          [
           "Bungoma Cereals"
          ],
          [
           "Bibirioni ATC"
          ],
          [
           "Kakamega_Matende"
          ],
          [
           "Thika Emco Plaza"
          ],
          [
           "Kilifi_Kiwandani"
          ],
          [
           "Migori_Wasweta_Creadex"
          ],
          [
           "Oriang ATC"
          ],
          [
           "Siaya Southlands"
          ],
          [
           "Rotian ATC  "
          ],
          [
           "Kabianga_Market"
          ],
          [
           "Nakuru Rhonda Sewage "
          ],
          [
           "Kilifi_Charo_Wa_Mae"
          ],
          [
           "Mombasa Makande ATC    "
          ],
          [
           "RONGAI BROOKLAND SCHOOL "
          ],
          [
           "Githurai PCEA    "
          ],
          [
           "Eastleigh Al-Kelem Heights    "
          ],
          [
           "Roysambu Primary ATC"
          ],
          [
           "Dandora Phase III"
          ],
          [
           "Njiru_Chokaa_View"
          ],
          [
           "Oyugis Town ATC  "
          ],
          [
           "KAG University "
          ],
          [
           "Kaptagat Road Strawberg"
          ],
          [
           "Kimuchi ATC    "
          ],
          [
           "Kisumu_Nyalunya    "
          ],
          [
           "Bamburi Fisheries   "
          ],
          [
           "Mariakani Mkwajuni  "
          ],
          [
           "Joska_3"
          ],
          [
           "Kaumoni ATC"
          ],
          [
           "Kayole_5"
          ],
          [
           "Kitale Matisi    "
          ],
          [
           "Oloitoktok_new"
          ],
          [
           "Amalemba ATC "
          ],
          [
           "Gatundu Gituamba    "
          ],
          [
           "Ngondi_Naivasha  "
          ],
          [
           "RIRUTA-KABIRIA_ATC"
          ],
          [
           "Kaplong New ATC   "
          ],
          [
           "Lelaitich ATC    "
          ],
          [
           "Kanyakwar_Riat  "
          ],
          [
           "Wiyumiririe ATC   "
          ],
          [
           "Chemalal Farm-Moi Barracks    "
          ],
          [
           "MAUA Shopping Centre"
          ],
          [
           "Malindi Majivuni"
          ],
          [
           "Eastleigh_Captain_Mungai Relocation"
          ],
          [
           "Likoni Vyemani    "
          ]
         ],
         "hovertemplate": "Latitude=%{lat}<br>Longitude=%{lon}<br>Site Name=%{customdata[0]}<extra></extra>",
         "lat": [
          0.591345,
          0.558877,
          0.459231,
          -4.27827,
          -4.303082,
          -4.479872,
          -4.5597,
          -4.271608,
          -4.315773,
          -4.281229,
          -0.534481,
          -0.420284,
          0.482392,
          0.502002,
          0.518013,
          0.516572,
          0.534255,
          0.533865,
          0.548367,
          0.531458,
          0.521698,
          0.509877,
          0.568198,
          0.559867,
          0.528998,
          0.541247,
          0.518947,
          0.548983,
          0.52284,
          0.529227,
          0.508125,
          0.521365,
          0.519562,
          0.502697,
          0.509507,
          0.50636,
          0.48234,
          0.477217,
          0.483698,
          0.473678,
          0.449162,
          0.294455,
          0.39297,
          0.67083,
          0.55491,
          0.488303,
          0.470643,
          1.255858,
          0.642613,
          0.65892,
          0.976122,
          0.493137,
          0.627933,
          0.623288,
          0.603593,
          1.168885,
          0.842573,
          0.788238,
          0.553838,
          0.676688,
          0.795157,
          0.88066,
          0.634218,
          0.562948,
          0.566957,
          0.635498,
          0.635125,
          0.61921,
          0.816827,
          2.3776,
          0.199843,
          0.09782,
          0.209987,
          0.225065,
          0.072914,
          0.253562,
          0.075095,
          0.499802,
          3.124565,
          4.206263,
          0.012992,
          0.120872,
          0.24213,
          0.2902,
          0.426947,
          0.089298,
          0.274043,
          0.724817,
          2.278233,
          3.670873,
          1.29454,
          3.253417,
          2.791435,
          3.655448,
          4.05425,
          1.841107,
          1.574195,
          0.682445,
          -0.307423,
          -0.379273,
          -0.45398,
          -0.464267,
          -0.767365,
          -0.733293,
          -0.561648,
          -0.09845,
          0.055268,
          -1.183732,
          -1.495775,
          -0.755621,
          0.481388,
          -0.359727,
          -0.367287,
          -0.672295,
          -0.692988,
          -0.680587,
          -0.677572,
          0.269415,
          0.286182,
          0.279587,
          1.021228,
          1.004215,
          0.897715,
          -0.125948,
          -0.11539,
          -0.103483,
          -0.104477,
          -0.091933,
          -0.080977,
          -0.091352,
          -0.116595,
          -0.088257,
          -0.095817,
          -0.108127,
          -0.086908,
          -0.117083,
          -0.098523,
          -0.1099,
          -0.007775,
          -0.005018,
          -0.002462,
          -0.102172,
          0.036552,
          0.052547,
          0.060433,
          0.086157,
          0.117633,
          0.293857,
          0.460982,
          0.330405,
          0.338939,
          0.235363,
          0.311082,
          0.279305,
          -0.025978,
          0.006041,
          0.42882,
          0.336007,
          -0.064245,
          0.214002,
          -0.6805,
          -0.655887,
          -0.556782,
          -0.781522,
          -0.677482,
          -0.601642,
          -0.446425,
          -0.500267,
          -0.788914,
          -0.726498,
          -0.541062,
          -0.699089,
          -0.596125,
          -0.431664,
          -0.513413,
          -0.369685,
          -0.54893,
          -1.047928,
          -0.85879,
          -0.761505,
          -0.385615,
          -0.445835,
          -0.486067,
          -0.661455,
          -0.916753,
          -0.898523,
          -0.823793,
          -0.098308,
          -0.106938,
          -0.013573,
          -0.174365,
          -0.530257,
          -2.27625,
          -2.054912,
          -2.269205,
          -2.204902,
          -2.38558,
          -2.177332,
          4.205748,
          -1.51815,
          -1.536447,
          -1.50698,
          -1.271292,
          -1.404437,
          -1.367447,
          -3.258604,
          -3.238884,
          -3.213778,
          -3.222638,
          -3.168034,
          -3.237432,
          -3.247288,
          -2.270452,
          -2.79754,
          -3.119293,
          -2.485504,
          0.048622,
          0.056723,
          0.039703,
          -0.06577,
          -0.119615,
          -0.33306,
          0.35539,
          0.23367,
          0.336874,
          -0.07477,
          0.226878,
          -4.110232,
          -4.083929,
          -4.072965,
          -4.063853,
          -4.062517,
          -4.04975,
          -4.050463,
          -4.091992,
          -4.039643,
          -4.037717,
          -4.039353,
          -4.028058,
          -4.027732,
          -4.028029,
          -4.01495,
          -4.016722,
          -3.991365,
          -3.985852,
          -3.96604,
          -4.074907,
          -4.060258,
          -4.056247,
          -4.049867,
          -4.062547,
          -4.056177,
          -4.055035,
          -4.046738,
          -4.045733,
          -4.045607,
          -4.034505,
          -4.02735,
          -4.017713,
          -4.005822,
          -4.023217,
          -4.004958,
          -4.071672,
          -4.069132,
          -4.004887,
          -4.049485,
          -4.021,
          -4.047213,
          -4.366595,
          -3.947838,
          -3.889558,
          -3.633593,
          -3.54045,
          -3.396404,
          -3.301057,
          -3.361257,
          -3.918133,
          -2.78398,
          -3.082023,
          -3.239402,
          -3.372637,
          -3.560432,
          -3.77443,
          -3.796178,
          -3.96889,
          -3.153828,
          -4.045117,
          -3.49003,
          -3.363358,
          -3.395898,
          -3.991821,
          -4.045199,
          -3.209837,
          -1.364452,
          -1.244732,
          -1.311498,
          -1.26492,
          -1.21442,
          -1.432198,
          -1.33705,
          -1.286765,
          -1.311888,
          -1.409435,
          -1.287653,
          -1.240585,
          -1.191075,
          -1.30592,
          -1.264077,
          -1.21435,
          -1.354925,
          -1.176553,
          -1.30383,
          -1.396593,
          -1.287887,
          -1.319457,
          -1.263013,
          -1.215558,
          -1.27545,
          -1.30114,
          -1.287805,
          -1.236803,
          -1.191423,
          -1.335998,
          -1.263338,
          -1.32119,
          -1.262793,
          -1.238742,
          -1.26579,
          -1.31418,
          -1.301789,
          -1.311887,
          -1.261322,
          -1.215787,
          -1.276725,
          -1.28717,
          -1.305388,
          -1.269265,
          -1.313592,
          -1.322366,
          -1.287685,
          -1.23646,
          -1.277027,
          -1.314352,
          -1.263637,
          -1.167268,
          -1.335042,
          -1.288347,
          -1.239187,
          -1.191063,
          -1.318015,
          -1.265045,
          -1.215253,
          -1.238255,
          -1.18477,
          -1.36057,
          -1.215572,
          -1.166658,
          -1.249685,
          -1.19352,
          -1.147783,
          -1.409612,
          -1.451927,
          -1.271325,
          -1.265505,
          -1.270344,
          -1.390138,
          -1.279917,
          -1.320342,
          -1.290797,
          -1.30794,
          -1.294703,
          -1.286255,
          -1.283552,
          -1.28202,
          -1.284552,
          -1.292242,
          -1.28751,
          -1.266277,
          -1.331952,
          -1.293237,
          -1.275013,
          -1.255743,
          -1.305568,
          -1.272338,
          -1.30819,
          -1.277212,
          -1.2633,
          -1.259365,
          -1.318825,
          -1.256882,
          -1.322672,
          -1.246017,
          -1.294567,
          -1.111695,
          -1.22512,
          -1.29433,
          -1.287048,
          -1.286593,
          -1.297112,
          -1.286409,
          -1.2888,
          -1.284535,
          -1.282737,
          -1.271473,
          -1.21022,
          -1.201692,
          -1.208832,
          -1.290872,
          -1.055612,
          -1.294837,
          -1.401662,
          -1.301626,
          -1.28098,
          -1.28471,
          -1.181787,
          -1.372273,
          -1.276642,
          -1.253548,
          -1.230508,
          -1.202215,
          -1.152315,
          -1.161958,
          -1.165118,
          -1.142168,
          -1.127805,
          -1.10129,
          -1.26878,
          -1.306803,
          -1.257748,
          -1.264342,
          -1.232265,
          -1.255608,
          -1.300855,
          -1.327275,
          -1.322272,
          -1.334848,
          -1.355973,
          -1.278835,
          -1.279675,
          -1.305889,
          -1.290067,
          -1.321615,
          -1.29786,
          -1.306623,
          -1.395321,
          -1.373292,
          -1.295978,
          -1.279442,
          -1.270787,
          -1.277022,
          -1.284373,
          -1.307867,
          -1.283185,
          -1.28737,
          -1.270203,
          -1.257082,
          -1.310237,
          -1.336915,
          -1.32218,
          -1.30888,
          -1.29475,
          -1.303123,
          -1.302292,
          -1.564119,
          -1.947337,
          -1.806505,
          -2.157037,
          -2.376723,
          -2.409427,
          -2.595945,
          -2.668785,
          -2.736883,
          -1.320432,
          -1.314878,
          -2.017435,
          -2.689163,
          -1.922747,
          -1.263615,
          -1.205638,
          -2.92842,
          -2.550905,
          -2.502187,
          -2.182172,
          -1.807338,
          -1.67986,
          -1.154017,
          -1.094705,
          -1.17627,
          -1.051,
          -0.941637,
          -0.861643,
          -0.77462,
          -1.229372,
          -1.208117,
          -1.255032,
          -1.261435,
          -1.341877,
          -1.236542,
          -1.027313,
          -1.324447,
          -1.273998,
          -1.186317,
          -1.188645,
          -1.233252,
          -1.26709,
          -1.223452,
          -1.723592,
          -1.264863,
          -1.845738,
          -2.59,
          -1.286123,
          0.038868,
          0.047902,
          -0.246257,
          -0.286223,
          -0.285993,
          -0.284881,
          -0.288053,
          -0.30455,
          -0.273735,
          -0.269275,
          -0.285672,
          -0.313083,
          -0.267793,
          -0.298195,
          -0.293358,
          -0.29396,
          -0.296295,
          -0.302645,
          -0.307505,
          -0.288848,
          -0.27785,
          -0.265817,
          -0.290579,
          -0.273805,
          -0.278382,
          -0.317586,
          -0.293084,
          -0.286427,
          -0.28948,
          -0.280354,
          -0.27466,
          -0.299106,
          -0.307223,
          -0.28047,
          -0.291173,
          -0.342753,
          -0.167958,
          -1.243586,
          -0.685398,
          -1.08558,
          -1.085575,
          -1.074688,
          -0.713085,
          -0.65728,
          -0.635007,
          -0.499765,
          -0.34487,
          -0.832375,
          -0.266152,
          -0.602255,
          -0.205657,
          -0.112152,
          -0.054468,
          -0.177327,
          -0.232733,
          -0.274048,
          -0.371078,
          -0.308525,
          -0.216167,
          -0.143363,
          -0.152955,
          -0.4161,
          -0.777278,
          -0.62708,
          0.047696,
          -0.615862,
          -0.78698,
          -0.158495,
          -0.253468,
          -0.156118,
          -0.286828,
          -0.741502,
          -0.410097,
          -1.01807,
          -1.053963,
          -1.100653,
          -1.094285,
          -1.10304,
          -1.090835,
          -1.113582,
          -1.087698,
          -0.239818,
          -0.122834,
          -1.232503,
          -1.349693,
          -1.402228,
          -1.539467,
          -1.587943,
          -1.597022,
          -1.44247,
          -1.574718,
          -1.401978,
          -1.297578,
          -1.21459,
          -1.173178,
          -1.227537,
          -0.936931,
          0.032789,
          -0.86774,
          -0.59312,
          -1.27494,
          -1.42451,
          -0.724878,
          -0.714516,
          -0.81624,
          -0.432968,
          -0.421658,
          -0.425907,
          -0.41103,
          -0.40944,
          -0.382937,
          -0.550794,
          -0.71816,
          0.022237,
          -1.013218,
          -1.105455,
          -1.037137,
          -0.93895,
          -0.874947,
          -0.764352,
          -0.67001,
          -0.55111,
          -0.48123,
          -0.446702,
          -0.561215,
          -0.549158,
          -0.556151,
          -0.561124,
          -1.140057,
          -0.960925,
          -0.170432,
          -0.49852,
          -0.789945,
          -0.727903,
          -0.6814,
          -0.85022,
          -0.78512,
          -0.940193,
          3.503563,
          2.33443,
          3.9392,
          1.748354,
          1.099662,
          0.995008,
          1.513892,
          0.211579,
          2.654057,
          3.311177,
          -0.554678,
          0.733347,
          3.934893,
          2.811425,
          3.397769,
          3.88864,
          2.20717,
          3.17898,
          3.093025,
          0.596765,
          3.523128,
          -0.031308,
          1.139946,
          1.456427,
          2.27039,
          3.91913,
          0.352035,
          -1.044868,
          -1.058778,
          -1.069308,
          -1.06139,
          -0.967925,
          -0.935465,
          -3.393335,
          0.530103,
          0.849395,
          0.685382,
          -1.003022,
          -1.307637,
          -0.050003,
          0.553555,
          0.720033,
          -0.39374,
          0.543247,
          0.23503,
          0.610085,
          -0.14747,
          0.054262,
          0.75323,
          0.624172,
          -0.52059,
          0.780308,
          0.696872,
          0.169922,
          -0.172385,
          -0.114657,
          -0.131145,
          -1.165426,
          0.082571,
          -2.419481,
          -1.193148,
          -2.26596,
          -1.691705,
          -1.497959,
          -1.357668,
          -3.785837,
          -3.86562,
          -3.38544,
          -3.732207,
          -3.9144,
          -3.643918,
          -3.53418,
          -3.778877,
          -3.545375,
          -3.6052,
          -3.947405,
          -3.902093,
          -3.873875,
          -3.811725,
          -3.706216,
          -3.78052,
          -3.630561,
          -3.5775,
          -3.531825,
          -3.47705,
          -3.25692,
          -3.628227,
          -3.545602,
          -4.65948,
          -4.462126,
          -4.225756,
          -4.607937,
          -4.5359,
          -4.132715,
          -4.174692,
          -4.356583,
          -4.545967,
          -4.3769,
          -4.280619,
          -4.411787,
          -4.41103,
          -4.314453,
          -4.285989,
          -4.139212,
          -4.339213,
          -2.384628,
          -2.276429,
          -2.98493,
          -3.198327,
          -3.218992,
          -3.35182,
          -3.199138,
          -3.310971,
          -3.300965,
          -3.254886,
          -3.240067,
          -3.21897,
          -3.180687,
          -3.11756,
          -3.012378,
          -2.701073,
          -3.22318,
          -3.239066,
          -3.2074,
          -4.031807,
          -4.035029,
          -4.057458,
          -4.07469,
          -4.04479,
          -4.004353,
          -4.09665,
          -4.010222,
          -4.009185,
          -4.052023,
          -4.0217,
          -4.00458,
          -4.036132,
          -3.970152,
          -4.035472,
          -4.045007,
          -4.06913,
          -4.046412,
          -4.035014,
          -4.023217,
          -4.002857,
          -3.988387,
          -3.968855,
          -3.945731,
          -4.0292,
          -3.99779,
          -4.099488,
          -4.05971,
          -4.014208,
          -4.087874,
          -3.614737,
          -4.085232,
          -4.062572,
          -4.05355,
          -4.04978,
          -4.05992,
          -4.052427,
          -4.063715,
          -4.054275,
          -4.070022,
          -4.05845,
          -4.058291,
          -4.05341,
          -4.046922,
          -4.04585,
          -4.041757,
          -4.0351,
          -4.030908,
          -4.022176,
          -4.0631,
          -4.05704,
          -4.019294,
          -4.02516,
          -3.984323,
          -4.050975,
          -4.062656,
          -1.468347,
          -2.181805,
          -1.500931,
          -2.07595,
          -2.07595,
          -1.691389,
          -1.774213,
          -1.840028,
          -2.051835,
          -1.633804,
          -1.472572,
          -1.516478,
          -1.47074,
          -1.475068,
          -2.512647,
          -1.890515,
          -1.47793,
          -2.551872,
          -1.406202,
          -2.927302,
          -1.722913,
          -1.560553,
          -1.482528,
          -3.065695,
          -1.964348,
          -1.79387,
          -1.523125,
          -2.06381,
          -1.487575,
          -1.369755,
          -1.343549,
          -1.365954,
          -1.44212,
          -1.384376,
          -1.607453,
          -1.053293,
          -1.240301,
          -1.84603,
          -1.628227,
          -1.196505,
          -3.774004,
          -1.451538,
          -1.464133,
          -1.4374,
          -1.444562,
          -0.987317,
          -2.389763,
          -1.525911,
          -1.280868,
          -1.492282,
          -1.31436,
          -1.351012,
          -1.237631,
          -0.755641,
          -1.312095,
          -1.405394,
          -2.619672,
          -1.190231,
          -1.195373,
          -1.269852,
          -1.448255,
          -1.512958,
          -1.517078,
          -1.427047,
          -1.520987,
          -1.461197,
          -1.515698,
          -1.500578,
          -1.537147,
          -1.149485,
          -1.372572,
          -1.65006,
          -1.39231,
          -1.494216,
          -0.73887,
          -1.436183,
          -1.284652,
          -1.070782,
          -1.139845,
          -1.37132,
          -1.248302,
          -1.563783,
          -0.96405,
          -1.41178,
          -1.607952,
          -1.558378,
          -2.596007,
          -1.94902,
          -2.26815,
          -2.40746,
          -1.808421,
          -2.055442,
          -1.8341,
          -2.520154,
          -2.27579,
          -2.210852,
          -2.375223,
          -1.713162,
          -1.831335,
          -2.009473,
          -1.948972,
          -1.81623,
          -1.673457,
          -2.667993,
          -1.803982,
          -1.947352,
          -2.016922,
          -2.906437,
          -2.6905,
          -0.884813,
          -0.595977,
          -0.969212,
          -0.644038,
          -1.082048,
          -0.288228,
          -0.87572,
          -0.933245,
          -0.943985,
          -0.771763,
          -0.791502,
          -1.068568,
          -1.054362,
          -0.804557,
          -0.800721,
          -2.100131,
          -3.239482,
          -3.441295,
          -2.935015,
          -3.082068,
          -3.563264,
          -3.398103,
          -3.33327,
          -3.396468,
          -3.372816,
          -3.41874,
          -0.678358,
          -0.44268,
          -0.561915,
          -0.4669,
          -0.428424,
          -0.47521,
          -0.445808,
          -0.622472,
          -0.505962,
          -0.430265,
          -0.477605,
          -0.558102,
          -0.4434,
          -0.494872,
          -0.56621,
          -0.539931,
          -0.497658,
          -0.686512,
          -0.573232,
          -1.115983,
          -1.09149,
          -1.123813,
          -1.270538,
          -1.249358,
          -1.018143,
          -0.857513,
          -1.273652,
          -1.21358,
          -1.208668,
          -1.151803,
          -1.201267,
          -1.230617,
          -1.133312,
          -1.100268,
          -1.068908,
          -0.883238,
          -1.130072,
          -1.017628,
          -1.004988,
          -1.051248,
          -1.187837,
          -1.193913,
          -0.93014,
          -1.099712,
          -1.160008,
          -1.194948,
          -1.178827,
          -1.242512,
          -1.238413,
          -1.22969,
          -1.219373,
          -1.2182,
          -1.217453,
          -1.21423,
          -1.19442,
          -1.177863,
          -1.169813,
          -1.160443,
          -1.159623,
          -1.111617,
          -1.059,
          -1.050845,
          -0.954362,
          -1.229623,
          -1.20679,
          -1.155583,
          -1.139448,
          -1.16555,
          -1.1739,
          -1.227213,
          -1.161962,
          -1.19995,
          -1.217,
          -1.228907,
          -1.163988,
          -1.2172,
          -1.172883,
          -1.155457,
          -1.086905,
          -1.028772,
          -1.17652,
          -1.20146,
          -1.228962,
          -1.129047,
          -1.140218,
          -1.2094,
          -1.11855,
          -1.111922,
          -1.173,
          -1.10295,
          -1.29192,
          -1.15195,
          -1.16901,
          -1.171372,
          -1.037216,
          -0.728057,
          -0.521243,
          -0.68369,
          -0.728738,
          -0.727165,
          -0.807435,
          -0.60504,
          -0.645035,
          -0.650774,
          -0.717858,
          -0.63381,
          -0.74731,
          -0.813277,
          -0.94057,
          -0.897088,
          -0.845573,
          -0.852997,
          -0.84981,
          -0.910585,
          -0.876528,
          -0.81057,
          -0.879165,
          -0.964022,
          -0.801273,
          -0.785597,
          -0.676478,
          -0.636928,
          -0.600165,
          -1.147975,
          -1.10009,
          -1.00314,
          -0.964405,
          -1.075252,
          -1.162812,
          -1.06303,
          -1.067675,
          -0.996737,
          -1.215457,
          -0.977603,
          -0.997687,
          -1.057571,
          -1.088562,
          -1.190065,
          -1.113318,
          -1.126342,
          -1.047288,
          -1.039435,
          -0.944478,
          -0.940642,
          -0.932912,
          -0.88237,
          -1.037283,
          -1.046565,
          -1.025382,
          -1.035832,
          -1.097308,
          -1.037209,
          -1.040855,
          -0.41681,
          -0.540597,
          -0.574468,
          -0.45113,
          -0.466335,
          -0.681403,
          -0.51027,
          -0.77621,
          -0.532801,
          -0.502012,
          -0.45936,
          -0.40388,
          -0.40058,
          -0.419127,
          -0.43001,
          -0.461413,
          -0.770472,
          -0.534641,
          -0.965158,
          0.354572,
          0.056947,
          -0.37986,
          -1.966705,
          0.050888,
          0.28537,
          -0.755145,
          -0.562518,
          -0.005618,
          -0.473718,
          -0.4577,
          -0.439933,
          0.352543,
          0.637732,
          2.808583,
          3.932667,
          2.40752,
          3.935924,
          2.798197,
          3.858783,
          3.520828,
          0.132915,
          0.097051,
          -0.059201,
          -0.24827,
          0.000252,
          -0.01485,
          0.206947,
          -0.22202,
          0.0368,
          0.162508,
          0.233551,
          0.368562,
          0.343937,
          0.16795,
          0.21937,
          0.057923,
          -0.170618,
          0.127571,
          -0.153663,
          0.088042,
          0.32228,
          -0.070634,
          0.01853,
          0.034425,
          0.26846,
          0.129275,
          -0.0925,
          -0.2304,
          -0.143422,
          0.03676,
          0.048116,
          0.0575,
          -0.109097,
          0.280972,
          0.284426,
          0.297949,
          -0.371398,
          -0.355443,
          -0.30132,
          -0.124712,
          -0.04008,
          0.0274,
          0.0504,
          0.154718,
          0.191932,
          0.046442,
          -0.33331,
          0.015439,
          0.387238,
          -0.0752,
          -0.023121,
          -0.332148,
          -0.57829,
          -0.205091,
          -0.457244,
          -0.432602,
          -0.438543,
          -0.505877,
          -0.28215,
          -0.427402,
          -0.417193,
          -0.591908,
          -0.548051,
          -0.50425,
          -0.487592,
          -0.442424,
          -0.42959,
          -0.421672,
          -0.414394,
          -0.41101,
          -0.40526,
          -0.353464,
          -0.295017,
          -0.266803,
          -0.165496,
          -0.43366,
          -0.426313,
          -0.551225,
          -0.48135,
          -0.422952,
          0.728563,
          1.013342,
          0.636002,
          0.46964,
          0.287137,
          -0.38037,
          -0.395695,
          -0.22014,
          -0.370237,
          -0.42624,
          -0.36766,
          -0.319932,
          -0.597545,
          -0.566318,
          -0.499013,
          -0.436467,
          -0.370797,
          -0.350509,
          -0.308442,
          -0.214447,
          -0.132092,
          -0.79579,
          -0.775092,
          0.01764,
          -0.295825,
          -0.333455,
          -0.178438,
          -0.348153,
          -0.303905,
          -0.27095,
          -0.304931,
          -0.294477,
          -0.526083,
          -0.294,
          -0.304448,
          -0.280298,
          -0.727448,
          0.050977,
          -0.305097,
          -0.04563,
          -0.713938,
          -0.292778,
          -0.287717,
          -0.145427,
          -0.795012,
          -0.254563,
          -0.833158,
          -0.58511,
          -0.656902,
          -0.26483,
          -0.290663,
          -0.072933,
          -0.15822,
          -0.261081,
          -0.3768,
          -0.309472,
          -0.230017,
          -0.280828,
          -0.722618,
          0.00596,
          -0.292465,
          -0.30858,
          -0.242407,
          -0.25875,
          -0.681688,
          -0.667673,
          -0.50097,
          -0.431117,
          -0.424205,
          -0.363075,
          -0.330549,
          -0.298593,
          -0.283728,
          -0.275915,
          -0.270408,
          -0.24049,
          -0.203187,
          -0.11176,
          -0.254718,
          -0.022202,
          -0.187832,
          -0.27174,
          -0.30964,
          -0.888375,
          -0.364758,
          -0.311582,
          -0.245445,
          -0.20667,
          -0.2855,
          0.263465,
          -0.000932,
          0.194867,
          0.429605,
          0.037887,
          -0.609607,
          -0.232285,
          0.032815,
          -0.72323,
          -0.39819,
          -0.058728,
          -0.37817,
          -0.089291,
          -0.105398,
          -0.241872,
          -0.78306,
          -0.311367,
          -0.202093,
          -0.492819,
          0.836145,
          -0.555533,
          0.028012,
          0.36308,
          -0.42255,
          -0.27191,
          -0.122538,
          0.028683,
          -0.00574,
          0.783213,
          0.789843,
          0.461663,
          0.841143,
          0.805115,
          0.76321,
          0.765777,
          0.792325,
          0.803147,
          0.71567,
          0.88093,
          0.550378,
          0.513677,
          0.41669,
          0.556435,
          0.851707,
          0.603032,
          0.486842,
          0.68499,
          0.359377,
          0.559033,
          0.409465,
          0.507507,
          0.500785,
          0.516927,
          0.508488,
          0.522672,
          0.289582,
          0.458092,
          0.464105,
          0.507443,
          0.516578,
          0.520557,
          0.5322,
          0.544387,
          0.565855,
          0.5803,
          0.013997,
          0.182948,
          0.55222,
          0.4772,
          0.50234,
          -0.296088,
          0.509567,
          0.534942,
          0.420363,
          0.84305,
          0.51569,
          0.51432,
          0.522806,
          0.62892,
          0.325305,
          0.65954,
          0.356193,
          0.377942,
          0.980712,
          1.20215,
          0.5897,
          0.43654,
          0.24904,
          0.99483,
          0.19554,
          0.817818,
          0.191827,
          0.242718,
          0.201395,
          0.31591,
          0.074398,
          0.07,
          0.054885,
          0.316143,
          0.057975,
          0.100425,
          0.414667,
          0.42846,
          0.000191,
          0.209983,
          1.370162,
          1.483,
          1.402888,
          1.086138,
          1.496427,
          1.619062,
          0.877955,
          1.2551,
          1.393995,
          0.890822,
          1.064467,
          0.980025,
          0.85199,
          0.9413,
          0.780587,
          1.308155,
          0.98152,
          1.133468,
          1.033,
          1.21056,
          1.015928,
          0.967953,
          1.03306,
          1.157328,
          1.157588,
          1.018242,
          1.238302,
          0.7124,
          3.708625,
          0.1404,
          0.051962,
          -0.695747,
          -0.78065,
          -0.986127,
          -0.732877,
          -0.673195,
          -0.917412,
          -0.576657,
          -0.679237,
          -0.619302,
          -0.842255,
          -0.72288,
          -0.92393,
          -0.896955,
          -0.627118,
          -0.863631,
          -0.865261,
          -0.882244,
          -0.948143,
          -0.9172,
          -0.539505,
          -0.625089,
          -0.618578,
          -0.497331,
          -0.78172,
          -0.63566,
          -0.436467,
          -1.185316,
          -1.057205,
          -1.344677,
          -1.277965,
          -1.182365,
          -0.680513,
          -0.789305,
          -0.737527,
          -0.742507,
          -0.606429,
          -0.596674,
          -0.715094,
          -0.8154,
          -0.92977,
          -0.729995,
          -0.85918,
          -0.757209,
          -0.99435,
          -0.82739,
          -0.930629,
          -0.900405,
          -1.071337,
          -0.655707,
          -0.521461,
          -0.510752,
          -0.8375,
          -0.54971,
          -0.62266,
          -0.305102,
          -0.513766,
          -0.535732,
          -0.431766,
          -0.360892,
          -0.400095,
          -0.733077,
          -0.96036,
          -1.02152,
          -0.63177,
          -0.416488,
          -0.500337,
          -1.156725,
          -0.686033,
          -0.668748,
          -0.661807,
          -0.827292,
          -0.914947,
          -0.60177,
          -0.69177,
          -1.242045,
          -1.07877,
          -1.048422,
          -0.98797,
          -0.954715,
          -0.898728,
          -0.870837,
          -0.84317,
          -0.814447,
          -0.78585,
          -0.736752,
          -0.710495,
          -0.663439,
          -0.658242,
          -0.622012,
          -0.555822,
          -0.451468,
          -0.401724,
          -0.387362,
          -0.385557,
          -0.335285,
          -0.68767,
          -1.239259,
          -0.27217,
          -0.77431,
          -0.678612,
          -1.097612,
          -1.19632,
          -0.382052,
          -0.431391,
          -0.41597,
          -0.71111,
          -0.465339,
          -0.570496,
          -0.460407,
          -0.686748,
          -0.680691,
          -0.673806,
          -0.92242,
          -1.597021,
          -1.17725,
          -1.016515,
          -1.538557,
          -1.587795,
          -1.226773,
          -1.261238,
          -1.085665,
          -1.455628,
          -1.411567,
          -1.153973,
          -1.097105,
          -1.09693,
          -1.011432,
          -1.193013,
          -0.78931,
          -1.402017,
          -1.29781,
          -1.349765,
          -1.415503,
          0.68564,
          0.5649,
          0.743647,
          0.636157,
          0.58591,
          0.595995,
          0.690435,
          0.683687,
          0.59639,
          0.733642,
          0.516473,
          0.696532,
          0.637263,
          0.544782,
          0.646525,
          0.682617,
          0.630928,
          0.416065,
          0.418247,
          0.52181,
          0.55993,
          0.543335,
          0.5728,
          0.719863,
          0.618107,
          0.461208,
          0.448107,
          0.132951,
          0.43291,
          0.337276,
          0.365544,
          0.095812,
          0.517907,
          0.275307,
          0.302777,
          0.463552,
          0.149625,
          0.210019,
          0.133422,
          0.139358,
          0.417215,
          0.218958,
          0.205718,
          0.196867,
          0.354979,
          0.255805,
          0.312247,
          0.35473,
          0.741915,
          0.631465,
          0.280102,
          0.223097,
          0.446395,
          0.17019,
          0.375057,
          0.618048,
          0.284275,
          0.029482,
          -0.210227,
          -0.199997,
          -0.088073,
          -0.117208,
          -0.053947,
          -0.05469,
          -0.04336,
          -0.07609,
          -0.14109,
          0.028458,
          -0.0883,
          -0.1046,
          0.039608,
          0.025814,
          0.056332,
          0.078653,
          0.12828,
          0.033729,
          -0.100775,
          -0.077457,
          -0.1548,
          -0.110548,
          -0.086405,
          -0.096155,
          0.0064,
          -0.100697,
          -0.085808,
          -0.075277,
          -0.10103,
          -0.095602,
          -0.030458,
          -0.11097,
          -0.06968,
          0.108546,
          -0.20304,
          -0.081731,
          -0.22991,
          -0.174843,
          -0.129787,
          -0.110763,
          -0.078248,
          -0.06443,
          -0.00942,
          0.114012,
          -0.095367,
          -0.06121,
          -0.127403,
          -0.113225,
          -0.095017,
          -0.159208,
          -0.04055,
          -0.085647,
          -0.104317,
          -0.098657,
          -0.171242,
          -0.055433,
          0.226161,
          0.233492,
          0.117807,
          0.31965,
          0.439442,
          0.108177,
          0.254969,
          0.33539,
          0.482583,
          0.34224,
          0.361322,
          0.399737,
          0.217357,
          -0.144477,
          -0.103144,
          -0.206918,
          -0.056047,
          -0.26812,
          -0.095214,
          0.102488,
          0.177408,
          0.191905,
          0.153177,
          -0.173231,
          -0.004571,
          0.09035,
          0.038833,
          -0.292221,
          -0.167418,
          -0.095042,
          -0.090707,
          -0.066319,
          0.055148,
          0.09099,
          -0.106192,
          -0.102303,
          0.017197,
          -0.987272,
          -0.861868,
          -1.283503,
          -1.362815,
          -1.35467,
          -1.284525,
          -1.27635,
          -1.321805,
          -1.324792,
          -1.299057,
          -1.287877,
          -1.29034,
          -1.284928,
          -1.339573,
          -1.277233,
          -1.291097,
          -1.25753,
          -1.230297,
          -1.292857,
          -1.174273,
          -1.31216,
          -1.346617,
          -1.221225,
          -1.213722,
          -1.316152,
          -0.96063,
          -1.3811,
          -1.33596,
          -1.390848,
          -1.392098,
          -1.344801,
          -1.26453,
          -1.29554,
          -1.306344,
          -1.25691,
          -1.243663,
          -1.27756,
          -1.284855,
          -1.250963,
          -1.249897,
          -1.270692,
          -1.324447,
          -1.282372,
          -1.255717,
          -1.33386,
          -1.29261,
          -1.325357,
          -1.183983,
          -1.199547,
          -1.246482,
          -1.323969,
          -1.280472,
          -1.30554,
          -1.355075,
          -1.203573,
          -1.30502,
          -1.423525,
          -1.39817,
          -1.395363,
          -1.387548,
          -1.36666,
          -1.353123,
          -1.343302,
          -1.339135,
          -1.33789,
          -1.399347,
          -1.328208,
          -1.32257,
          -1.200806,
          -1.278657,
          -1.318597,
          -1.313522,
          -1.396539,
          -1.309897,
          -1.30886,
          -1.30635,
          -1.364351,
          -1.307603,
          -1.305688,
          -1.2989,
          -1.298875,
          -1.29812,
          -1.29643,
          -1.294763,
          -1.287776,
          -1.287498,
          -1.28633,
          -1.285092,
          -1.325916,
          -1.280938,
          -1.27846,
          -1.278363,
          -1.304002,
          -1.271795,
          -1.26806,
          -1.26596,
          -1.26359,
          -1.26758,
          -1.260488,
          -1.255278,
          -1.25486,
          -1.25121,
          -1.2459,
          -1.24316,
          -1.230163,
          -1.230042,
          -1.213892,
          -1.197757,
          -1.261988,
          -1.26788,
          -1.30799,
          -1.266493,
          -1.263442,
          -1.251418,
          -1.2306,
          -1.259557,
          -1.361443,
          -1.202112,
          -1.302683,
          -1.307855,
          -1.263645,
          -1.386556,
          -1.205383,
          -1.288685,
          -1.276123,
          -1.260712,
          -1.268613,
          -1.354357,
          -1.400442,
          -1.397825,
          -1.329,
          -1.292957,
          -1.372127,
          -1.27437,
          -1.277322,
          -1.325649,
          -1.270731,
          -1.25926,
          -1.2744,
          -1.35972,
          -1.272815,
          -1.3917,
          -1.3685,
          -1.275582,
          -1.279667,
          -1.288792,
          -1.251868,
          -1.302448,
          -1.307669,
          -1.289865,
          -1.26562,
          -1.292095,
          -1.276732,
          -1.281105,
          -1.208152,
          -1.24048,
          -1.274623,
          -1.25185,
          -1.185905,
          -1.314278,
          -1.1779,
          -1.308725,
          -1.316299,
          -1.26099,
          -1.31898,
          -1.21885,
          -1.2416,
          -1.195428,
          -1.411973,
          -1.25616,
          -1.2463,
          -1.373507,
          -1.4454,
          -1.35616,
          -1.26703,
          -1.36295,
          -1.28542,
          -1.193887,
          -1.261165,
          -1.24271,
          -1.230412,
          -1.253007,
          -1.323498,
          -1.265953,
          -1.293525,
          -1.260117,
          -1.289543,
          -1.276732,
          -1.28771,
          -1.28418,
          -1.28472,
          -1.290805,
          -1.28612,
          -1.26233,
          -1.256998,
          -1.31249,
          -1.27316,
          -1.314459,
          -1.268613,
          -1.278875,
          -1.28244,
          -1.208971,
          -1.293959,
          -1.335388,
          -1.33754,
          -1.32147,
          -1.2827,
          -1.31607,
          -1.3145,
          -1.307235,
          -1.3065,
          -1.305511,
          -1.301877,
          -1.300217,
          -1.29847,
          -1.29544,
          -1.294192,
          -1.29256,
          -1.29218,
          -1.28934,
          -1.288452,
          -1.28743,
          -1.286803,
          -1.285832,
          -1.285542,
          -1.284551,
          -1.28414,
          -1.284044,
          -1.28391,
          -1.283469,
          -1.28108,
          -1.280727,
          -1.277907,
          -1.26637,
          -1.259278,
          -1.25793,
          -1.297057,
          -1.282562,
          -1.27145,
          -1.303698,
          -1.254682,
          -1.308672,
          -1.31594,
          -1.2174,
          -1.254678,
          -1.302189,
          -1.2826,
          -1.323062,
          -1.267,
          -1.270822,
          -1.296903,
          -1.284058,
          -1.335175,
          -1.328105,
          -1.323738,
          -1.291473,
          -1.354308,
          -1.3247,
          -1.3351,
          -1.239512,
          -1.267,
          -1.305526,
          -1.329276,
          -1.26153,
          -1.31927,
          -1.32382,
          -1.293827,
          -1.257628,
          -1.282125,
          -1.328503,
          -1.299941,
          -1.28328,
          -1.25736,
          -1.306242,
          -1.285598,
          -1.272193,
          -1.284731,
          -1.2186,
          -1.288735,
          -1.26117,
          -1.2868,
          -1.3293,
          -1.303157,
          -1.26024,
          -1.272417,
          -1.219493,
          -1.290545,
          -1.280403,
          -0.379422,
          -0.668331,
          -1.264702,
          -1.296232,
          -1.417407,
          -1.258732,
          -1.258263,
          -1.091073,
          -1.27727,
          0.581222,
          -1.262007,
          -0.056915,
          -1.150642,
          -1.316005,
          -1.312353,
          -0.954847,
          -1.303248,
          0.65675,
          0.720627,
          -1.392617,
          -2.334395,
          -1.28381,
          -0.751394,
          0.556347,
          -1.211582,
          -1.311155,
          -1.264305,
          -0.298662,
          0.556193,
          -1.22814,
          -1.262845,
          -1.09647,
          -0.30548,
          -1.29131,
          -1.311455,
          -1.24217,
          -1.246837,
          -0.286765,
          -1.219178,
          0.582403,
          0.542309,
          -1.106613,
          -0.302155,
          -1.172133,
          -1.280735,
          -0.039272,
          -1.069488,
          -0.25229,
          -1.395513,
          -1.203807,
          0.325022,
          -1.03833,
          -1.421942,
          -1.476174,
          -1.060237,
          -1.238608,
          -0.243122,
          0.593872,
          -0.310563,
          -1.168203,
          -0.101678,
          -0.10125,
          -1.29772,
          -1.275025,
          -1.21422,
          -1.242218,
          -0.28907,
          -1.18749,
          -1.286837,
          -1.081827,
          -1.066288,
          -1.124533,
          -1.274966,
          -1.053702,
          -1.053623,
          -1.184032,
          -0.271222,
          0.301657,
          -1.32293,
          -1.20785,
          -0.079153,
          -1.309153,
          -1.25471,
          -1.290758,
          -1.248768,
          -0.528325,
          0.057787,
          -0.341735,
          -0.67065,
          -0.202642,
          1.624868,
          -0.11736,
          -0.12712,
          -0.358365,
          0.19843,
          0.633032,
          0.367175,
          0.816768,
          -1.324712,
          1.155397,
          0.597078,
          0.053553,
          -0.006854,
          -1.11451,
          -0.43952,
          0.78363,
          -0.219957,
          0.48084,
          -0.191467,
          0.01558,
          0.670585,
          -1.4789,
          -0.50165,
          -0.358865,
          -0.621643,
          -0.306955,
          -0.030429,
          -0.345988,
          0.148519,
          0.041485,
          0.165972,
          -0.592083,
          -0.276117,
          -0.476306,
          0.151372,
          0.048907,
          -0.26534,
          -1.32581,
          -1.283858,
          -0.10477,
          0.96161,
          -0.275845,
          0.13067,
          0.022483,
          -0.287412,
          -1.148278,
          -0.084398,
          0.363862,
          0.150297,
          2.8803,
          1.97703,
          3.618284,
          -0.520348,
          3.45304,
          0.03047,
          0.96539,
          -0.58782,
          -0.770011,
          -1.14458,
          -0.801998,
          -0.74739,
          0.138462,
          -0.607247,
          0.109585,
          1.022145,
          0.67713,
          0.499483,
          -0.249087,
          -0.80036,
          -1.9909,
          -1.255775,
          -1.77599,
          -1.26586,
          -4.60358,
          -1.207358,
          -1.94691,
          -1.279912,
          -1.302138,
          -1.490248,
          -1.178303,
          -1.315957,
          -1.166047,
          -1.838506,
          -1.26414,
          -1.570145,
          -1.365767,
          -0.56707,
          -0.070552,
          -0.374245,
          -0.450084,
          0.60727,
          0.575,
          0.431407,
          -0.39425,
          -0.20764,
          -1.399329,
          -1.597151,
          -1.544822,
          0.330405,
          0.960532,
          -0.5584,
          -0.131407,
          -0.74942,
          -0.732003,
          -0.334595,
          0.839937,
          0.073092,
          0.568692,
          -0.647243,
          0.102738,
          -0.574718,
          -0.053237,
          -0.6558,
          -0.147565,
          0.857492,
          0.456457,
          0.90882,
          -0.763782,
          -0.11522,
          -0.779662,
          -0.037189,
          -0.492879,
          0.619187,
          1.045205,
          -0.12991,
          0.01777,
          -0.84632,
          0.292517,
          0.986025,
          -0.728755,
          0.249847,
          -0.013224,
          -0.312865,
          1.116122,
          0.48123,
          1.219273,
          -1.00748,
          -1.06946,
          0.46083,
          0.767987,
          -0.032787,
          1.028697,
          0.28908,
          0.788675,
          -0.563062,
          -0.627597,
          3.693884,
          0.0679,
          0.54412,
          0.132483,
          4.016982,
          3.561732,
          2.016732,
          4.23857,
          4.51425,
          3.139511,
          3.322682,
          0.107366,
          0.120346,
          -1.35409,
          0.264838,
          -0.365758,
          -0.57783,
          0.005626,
          -0.392291,
          0.177276,
          0.390812,
          0.362465,
          0.489023,
          0.757647,
          0.166892,
          0.735843,
          0.840325,
          0.152778,
          0.470617,
          0.497973,
          0.544562,
          0.78865,
          0.701905,
          -1.475011,
          -1.140387,
          -1.464392,
          -1.489812,
          -1.483785,
          -1.36778,
          -1.584777,
          -0.893819,
          -1.408987,
          -0.667508,
          -0.368585,
          -0.54434,
          -0.62025,
          -1.019279,
          -0.146598,
          -0.20011,
          -0.492607,
          -0.82306,
          -0.698797,
          -0.11163,
          -0.462931,
          -0.568072,
          -1.10108,
          -0.997215,
          -0.61823,
          0.89621,
          -0.43706,
          -0.494508,
          -0.739301,
          0.494897,
          0.679713,
          -0.081247,
          -0.23233,
          -1.051342,
          -0.09023,
          -0.786023,
          -1.013517,
          -0.540225,
          -0.403935,
          -0.363047,
          0.015297,
          1.038502,
          0.23515,
          0.00713,
          0.06232,
          -0.44388,
          -0.306212,
          0.312845,
          -0.54512,
          -0.27556,
          0.085803,
          0.199645,
          -0.041698,
          0.03424,
          -0.000776,
          0.454606,
          0.295847,
          0.6498,
          0.333305,
          0.843532,
          0.405005,
          0.305976,
          0.568227,
          0.72341,
          -0.693291,
          -0.661354,
          -0.055923,
          0.141307,
          0.130255,
          0.011059,
          0.366177,
          -0.172431,
          1.22747,
          0.521022,
          -0.73462,
          -1.209894,
          -0.819115,
          0.32084,
          1.02585,
          1.473452,
          3.507829,
          2.756059,
          3.06398,
          0.068282,
          0.41939,
          0.7354,
          0.15221,
          0.603162,
          0.47621,
          -0.779644,
          0.08923,
          0.195103,
          -0.07733,
          0.116821,
          0.52301,
          0.448255,
          0.78566,
          0.25537,
          -0.17607,
          -0.169191,
          0.379957,
          -0.36558,
          1.25163,
          -1.56065,
          -0.679078,
          -0.015967,
          0.096932,
          -0.212813,
          -0.21775,
          -0.68882,
          0.619418,
          -0.962568,
          -0.82087,
          -0.4207,
          -0.98559,
          0.007093,
          -0.72171,
          -0.78577,
          -0.415415,
          -1.488687,
          0.075952,
          -0.616374,
          0.30369,
          0.435332,
          -0.471733,
          -0.859517,
          0.639355,
          0.330861,
          -1.371574,
          -0.543781,
          0.283909,
          2.707266,
          -1.260078,
          -1.330075,
          -4.106205,
          -4.304644,
          -1.401744,
          -1.231392,
          -1.204435,
          -1.248028,
          -1.28005,
          -1.301282,
          -1.411305,
          -2.90031,
          -3.97718,
          0.7043,
          0.705045,
          -0.334011,
          -0.43367,
          0.46428,
          -0.43623,
          -0.350755,
          -0.43744,
          0.04592,
          -1.7365,
          -0.192412,
          -0.14572,
          -0.224678,
          -0.27765,
          -0.33759,
          -0.89805,
          1.011622,
          -1.316907,
          -1.266238,
          -1.430995,
          -4.155832,
          -0.073272,
          -0.77611,
          -0.603078,
          -0.88886,
          -0.648292,
          -0.49993,
          0.416498,
          0.572238,
          0.04054,
          1.32634,
          3.514728,
          1.784213,
          4.328482,
          2.92761,
          2.01738,
          3.75421,
          -0.527403,
          0.76005,
          1.217645,
          -0.344386,
          1.01556,
          -0.475322,
          -1.353287,
          -2.007392,
          -4.0622,
          -4.107096,
          -3.216865,
          -4.093075,
          -4.012248,
          -3.225948,
          -4.009028,
          -4.033693,
          -3.951032,
          -4.060125,
          -3.172969,
          -2.85561,
          -4.226122,
          -4.332962,
          -4.26722,
          -3.611225,
          -3.980905,
          -4.45062,
          -2.856024,
          -3.142032,
          -3.430562,
          -3.018349,
          -4.480206,
          -3.71242,
          -3.1878,
          -3.91557,
          -3.35952,
          -4.512372,
          -3.2568,
          -3.81458,
          -3.03904,
          -3.702869,
          -3.663517,
          -4.584237,
          3.487383,
          1.589513,
          1.9384,
          1.78052,
          2.349628,
          -0.48146,
          0.76105,
          -3.93153,
          -1.264412,
          -4.012748,
          -3.118452,
          0.624,
          0.676308,
          0.367045,
          -1.219767,
          -1.32177,
          -4.002074,
          -4.00648,
          -1.215337,
          -4.43826,
          -1.29465,
          -1.27746,
          -1.46034,
          -1.31709,
          -1.27622,
          -1.30919,
          -1.315635,
          -1.220483,
          -1.304905,
          -1.308052,
          -1.30595,
          -4.002626,
          4.240697,
          -1.25922,
          1.773878,
          0.139,
          3.399594,
          -0.360215,
          -4.06081,
          -1.23271,
          -1.283618,
          -1.390752,
          -1.25933,
          -1.31449,
          -3.837312,
          2.31731,
          0.849535,
          -1.28101,
          -1.283313,
          -4.07729,
          -1.223773,
          -0.320555,
          -0.707115,
          -0.390772,
          0.546232,
          0.71779,
          -0.126343,
          0.150797,
          0.19843,
          -0.352058,
          -4.058404,
          -1.298995,
          1.16751,
          -3.804608,
          -1.210008,
          -0.343167,
          -0.74163,
          0.378749,
          -0.32894,
          -1.326443,
          -0.760453,
          -2.707677,
          -0.70641,
          -3.453534,
          -0.713687,
          0.210461,
          -0.893912,
          -0.576693,
          -4.040757,
          -3.99799,
          2.50949,
          -2.338211,
          -1.20652,
          -1.29074,
          -1.369494,
          -1.750683,
          -0.678157,
          -0.690107,
          -0.765476,
          -1.172287,
          -0.585981,
          -0.405187,
          -0.263068,
          -0.27352,
          0.793374,
          -0.007286,
          2.00868,
          1.23511,
          1.615603,
          2.114525,
          1.62485,
          -1.778165,
          -1.83683,
          -1.14856,
          -1.87658,
          -1.119253,
          0.053234,
          -1.20912,
          -1.154552,
          -1.297477,
          -1.21271,
          -1.205796,
          -1.23709,
          -1.16697,
          -1.226972,
          -1.162703,
          3.520345,
          3.9436,
          0.112525,
          0.002062,
          0.124916,
          -2.357331,
          -4.321978,
          -3.339007,
          -1.34307,
          -1.43844,
          -1.462985,
          -0.00806,
          -0.23375,
          -0.039312,
          -0.317238,
          -0.2163,
          -0.3836,
          -1.120333,
          -0.138466,
          -0.277178,
          -1.525042,
          0.509335,
          -3.590567,
          -4.022135,
          -1.201125,
          1.9823,
          0.609337,
          3.922302,
          3.49867,
          1.125919,
          3.519879,
          3.94209,
          -1.237037,
          -1.21684,
          -1.23806,
          3.10853,
          -0.415455,
          -2.37337,
          -3.556737,
          -4.008252,
          -0.62196,
          -1.916305,
          -1.32561,
          -0.716613,
          -0.428885,
          0.350294,
          -0.001675,
          0.006691,
          -0.45789,
          0.456626,
          -2.802322,
          -1.85151,
          -3.9593,
          -3.60303,
          -3.93288,
          -0.8825,
          -0.671772,
          -0.69119,
          -0.70737,
          -1.16355,
          -1.358507,
          -1.33556,
          -1.28284,
          -1.939318,
          -1.94182,
          -1.152923,
          -1.701835,
          -4.090004,
          -4.3461,
          -2.068227,
          -2.52246,
          -1.650408,
          -1.851505,
          -2.554972,
          -1.746317,
          -2.061937,
          -1.754022,
          -1.05422,
          -0.95356,
          -1.257557,
          -1.23482,
          -0.96885,
          -0.964012,
          -1.37691,
          -1.072647,
          -0.85064,
          -1.199506,
          -0.591145,
          -0.83366,
          -1.524422,
          -0.959,
          -3.367542,
          -3.48681,
          -3.29389,
          -1.793897,
          -0.29886,
          0.62806,
          -1.78834,
          0.4849,
          -0.30818,
          -0.748458,
          -4.020849,
          -4.000713,
          -0.68298,
          -1.319631,
          -0.468519,
          -1.029615,
          -3.623578,
          -2.32565,
          -3.41802,
          -4.269464,
          -1.276727,
          -3.16749,
          -1.622641,
          -2.05253,
          -1.68224,
          -1.06406,
          -4.237244,
          1.430182,
          1.67505,
          0.408152,
          -1.01682,
          -2.96134,
          -1.677997,
          -3.48166,
          -2.266048,
          -1.815128,
          -2.233315,
          -1.096525,
          -2.706207,
          -0.948292,
          -2.59687,
          -1.07166,
          -1.225327,
          -1.67321,
          -0.877078,
          -1.101603,
          -0.92777,
          -0.985675,
          -4.295898,
          -3.89861,
          0.327,
          -1.08354,
          -1.02498,
          3.029452,
          -0.43376,
          0.1157,
          0.187945,
          0.195458,
          -2.282445,
          -2.41368,
          -1.234252,
          -1.764489,
          -1.981041,
          -1.766017,
          -2.435943,
          -1.991303,
          -1.9279,
          -1.79085,
          -1.90907,
          -4.643277,
          -3.650817,
          -0.705531,
          -1.31676,
          -0.788339,
          -0.49445,
          -1.000293,
          -1.296173,
          -1.24083,
          -1.157719,
          -1.278992,
          -1.169147,
          -1.238517,
          -1.25519,
          -1.050695,
          1.68212,
          -3.849115,
          -0.44849,
          0.217224,
          -3.00374,
          -1.374771,
          -1.35433,
          -1.376832,
          -2.3334,
          -1.403878,
          -1.74578,
          -2.80939,
          -1.09532,
          -2.293415,
          -2.013848,
          -3.68462,
          -4.115417,
          -3.684655,
          -3.3855,
          -4.027019,
          -3.462893,
          -0.651283,
          -0.889456,
          -0.675152,
          -0.9088,
          -0.84592,
          -0.8569,
          0.347352,
          0.765532,
          0.269955,
          0.18384,
          -0.41723,
          2.27453,
          0.879632,
          -0.57688,
          0.28026,
          0.11391,
          0.322442,
          -0.361282,
          0.947695,
          1.23034,
          0.757603,
          0.717513,
          0.74643,
          0.242143,
          0.87357,
          -0.095212,
          -0.82393,
          -0.12909,
          0.28653,
          2.194298,
          3.42309,
          -0.428318,
          -0.053337,
          -1.59146,
          0.59395,
          -1.420576,
          -1.542,
          -1.31408,
          -1.390614,
          -1.06249,
          -0.089542,
          0.085957,
          0.04153,
          -1.273653,
          -1.283978,
          -1.30315,
          -1.294627,
          -1.25475,
          -1.276868,
          -0.416582,
          -1.358584,
          0.797097,
          0.55506,
          -1.226464,
          -0.840282,
          -0.981228,
          -0.07385,
          -0.483294,
          -0.627577,
          0.549415,
          -0.950767,
          -0.59997,
          1.137242,
          -0.641752,
          -0.975619,
          -1.91407,
          -1.972176,
          3.592843,
          3.395485,
          2.979847,
          4.3377,
          4.0781,
          4.642572,
          4.455282,
          3.649087,
          3.05033,
          -1.569222,
          0.47478,
          0.44459,
          -1.16357,
          -1.251022,
          -0.93569,
          -1.177472,
          -0.273218,
          -0.331194,
          0.76172,
          0.891988,
          -0.860998,
          -1.198025,
          -0.76248,
          -1.685016,
          -1.337535,
          -0.982693,
          0.193265,
          0.015111,
          1.394745,
          -0.109942,
          -1.00525,
          2.83141,
          3.80082,
          1.695972,
          1.907215,
          2.01053,
          -1.4456,
          -1.0807,
          -0.157158,
          -0.249841,
          -0.32099,
          -0.868257,
          0.534291,
          0.32174,
          0.60772,
          0.069317,
          -1.490616,
          -1.243953,
          -1.16144,
          -0.72435,
          -0.325558,
          -0.620749,
          0.05468,
          0.53206,
          0.858771,
          -1.211133,
          -0.640567,
          -0.38217,
          -1.288635,
          -1.44986,
          -1.412829,
          -1.31453,
          -1.310563,
          -1.28921,
          0.353843,
          -1.48878,
          -0.47168,
          -0.78865,
          -0.42868,
          0.993665,
          0.663422,
          -1.314609,
          -0.6911,
          -0.47527,
          -1.256595,
          -0.509788,
          -1.025465,
          -1.284978,
          -0.08309,
          -1.298683,
          -0.28528,
          -0.52215,
          3.334815,
          -1.530175,
          0.28544,
          -0.014562,
          -4.060814,
          -0.93598,
          0.210461,
          0.376358,
          0.25495,
          0.17343,
          -1.041937,
          -1.202925,
          -1.162408,
          -1.081762,
          -1.19523,
          -1.050688,
          -1.17875,
          -1.16046,
          -1.11153,
          -1.20549,
          -1.203705,
          -1.2531,
          -1.226848,
          -0.10602,
          -0.2184,
          -0.67745,
          -1.270825,
          0.57194,
          -1.07774,
          0.262289,
          -1.04326,
          -3.60309,
          -1.062465,
          -0.40369,
          0.0486,
          -0.96766,
          -0.44677,
          -0.316907,
          -3.6263,
          -4.039097,
          -1.401756,
          -1.218404,
          -1.269896,
          -1.206277,
          -1.248031,
          -1.256909,
          -0.506388,
          -1.589314,
          0.44158,
          0.637218,
          -0.11823,
          -4.00045,
          -3.87704,
          -1.300271,
          -1.733254,
          -1.27033,
          1.039056,
          -2.92569,
          0.266499,
          -0.905503,
          -0.822698,
          -1.28815,
          -0.67586,
          -0.945256,
          -0.04826,
          -0.09737,
          0.6441,
          0.23004,
          -3.20251,
          -1.27173,
          -4.09935
         ],
         "legendgroup": "",
         "lon": [
          34.552905,
          34.560273,
          34.11786,
          39.590513,
          39.579153,
          39.482115,
          39.129315,
          39.594932,
          39.573173,
          39.591964,
          37.450065,
          37.524577,
          35.255608,
          35.300918,
          35.257315,
          35.27506,
          35.281835,
          35.304002,
          35.237095,
          35.243297,
          35.264757,
          35.266535,
          35.234947,
          35.24203,
          35.252792,
          35.239255,
          35.271212,
          35.245822,
          35.274582,
          35.261022,
          35.309,
          35.311675,
          35.281368,
          35.275303,
          35.273562,
          35.294032,
          35.344123,
          35.301073,
          35.270158,
          35.256287,
          35.240775,
          35.326117,
          35.329772,
          35.509823,
          35.32119,
          35.28648,
          35.984632,
          35.09239,
          35.39245,
          35.504137,
          35.565837,
          35.744322,
          35.79417,
          35.310628,
          34.77464,
          34.787332,
          34.714678,
          34.713157,
          34.928948,
          35.155628,
          35.140998,
          35.119833,
          35.049892,
          34.389592,
          34.560117,
          34.269735,
          34.287072,
          34.34282,
          34.852562,
          35.650782,
          35.096592,
          35.170583,
          35.304803,
          34.81599,
          34.795411,
          35.081633,
          34.858567,
          35.147048,
          35.588858,
          34.342665,
          35.523283,
          35.466572,
          35.416288,
          35.29838,
          35.295057,
          35.517703,
          35.389992,
          35.838793,
          35.584982,
          35.021943,
          35.109405,
          35.478358,
          35.631425,
          35.503752,
          34.516782,
          35.578247,
          35.416352,
          35.183482,
          35.808837,
          39.713563,
          39.642925,
          39.641798,
          38.401895,
          38.80989,
          39.392974,
          39.983898,
          40.308217,
          39.837825,
          40.027062,
          39.653311,
          35.751155,
          35.295948,
          35.284258,
          34.770962,
          34.774803,
          34.775198,
          34.772207,
          34.752624,
          34.75218,
          34.7398,
          34.999923,
          35.020707,
          34.922833,
          34.752655,
          34.773443,
          34.75329,
          34.779478,
          34.759277,
          34.78077,
          34.785447,
          34.784818,
          34.77649,
          34.764253,
          34.749512,
          34.7682,
          34.761222,
          34.772432,
          34.762638,
          34.593497,
          34.599243,
          34.607853,
          34.772468,
          34.569357,
          34.437875,
          34.286033,
          34.567855,
          34.443185,
          34.13788,
          34.107605,
          34.356627,
          34.494028,
          34.555333,
          34.626569,
          34.75266,
          34.744075,
          34.683556,
          34.398273,
          34.814359,
          34.774993,
          34.497412,
          34.752002,
          34.876323,
          34.92685,
          34.756771,
          34.802432,
          34.956915,
          35.206033,
          34.216378,
          34.94418,
          34.637216,
          34.454048,
          34.548233,
          34.744828,
          34.690503,
          34.730715,
          34.64808,
          34.737333,
          34.46745,
          34.565408,
          34.607607,
          35.00331,
          34.890277,
          34.810863,
          34.743998,
          34.832948,
          34.86454,
          34.946033,
          34.762738,
          34.77,
          34.609867,
          34.920188,
          34.457392,
          40.904663,
          41.112734,
          40.900583,
          40.707845,
          40.443597,
          40.815277,
          34.36546,
          37.267358,
          37.265024,
          37.265315,
          37.37351,
          37.685238,
          38.01254,
          40.118436,
          40.117188,
          40.118032,
          40.108957,
          40.109474,
          40.126247,
          40.122887,
          40.110395,
          40.14768,
          40.145082,
          40.118254,
          37.650625,
          37.640592,
          37.649283,
          37.66271,
          37.59837,
          37.645988,
          37.586068,
          37.875953,
          37.934721,
          37.613692,
          37.940856,
          39.642667,
          39.659601,
          39.665537,
          39.657068,
          39.670385,
          39.651258,
          39.662277,
          39.649772,
          39.656553,
          39.685392,
          39.697421,
          39.6354,
          39.678187,
          39.690404,
          39.590692,
          39.696027,
          39.710403,
          39.736817,
          39.745933,
          39.637068,
          39.678127,
          39.674387,
          39.671518,
          39.663747,
          39.659708,
          39.669375,
          39.657417,
          39.649568,
          39.66563,
          39.663097,
          39.618655,
          39.630055,
          39.59967,
          39.70656,
          39.689178,
          39.672965,
          39.676237,
          39.726382,
          39.685508,
          39.617805,
          39.663218,
          39.413973,
          39.746815,
          39.774893,
          39.851827,
          39.877758,
          39.958782,
          40.011992,
          40.006533,
          39.527252,
          38.28108,
          38.492512,
          38.500778,
          38.564254,
          38.749243,
          39.120285,
          39.262405,
          39.556818,
          38.496673,
          39.697988,
          38.34597,
          37.73216,
          37.675845,
          39.734569,
          39.701906,
          37.711485,
          36.657492,
          36.663105,
          36.684935,
          36.68433,
          36.685832,
          36.685265,
          36.699937,
          36.699152,
          36.703043,
          36.712885,
          36.726755,
          36.727805,
          36.726907,
          36.73845,
          36.739852,
          36.74097,
          36.742652,
          36.751213,
          36.752522,
          36.7528,
          36.754677,
          36.773992,
          36.765688,
          36.768783,
          36.772777,
          36.77377,
          36.780486,
          36.781648,
          36.781963,
          36.726125,
          36.796828,
          36.78961,
          36.803582,
          36.811355,
          36.813168,
          36.815863,
          36.819291,
          36.837578,
          36.821667,
          36.82398,
          36.82784,
          36.8377,
          36.837316,
          36.85008,
          36.851965,
          36.865714,
          36.867127,
          36.866668,
          36.87812,
          36.881073,
          36.881427,
          36.88017,
          36.893603,
          36.895703,
          36.89317,
          36.895267,
          36.904317,
          36.90799,
          36.908083,
          36.922272,
          36.925338,
          36.9348,
          36.93605,
          36.936102,
          36.94253,
          36.950522,
          36.960208,
          36.964182,
          36.980416,
          36.990012,
          36.920275,
          36.893145,
          36.637983,
          36.892148,
          36.705185,
          36.880213,
          36.897988,
          36.805167,
          36.82315,
          36.817963,
          36.828072,
          36.82632,
          36.820812,
          36.828548,
          36.839675,
          36.85706,
          36.78774,
          36.845877,
          36.87436,
          36.827565,
          36.91227,
          36.864899,
          36.821112,
          36.789173,
          36.773898,
          36.842973,
          36.923707,
          36.80097,
          36.79209,
          36.812848,
          36.63912,
          36.786105,
          36.854652,
          36.81886,
          36.813367,
          36.761655,
          36.855472,
          36.823098,
          36.82061,
          36.820198,
          36.818692,
          36.965307,
          36.927757,
          36.894038,
          36.792638,
          36.781545,
          36.839308,
          36.788353,
          36.89238,
          36.822892,
          36.834063,
          36.904352,
          36.767267,
          36.608822,
          36.69082,
          36.681265,
          36.596838,
          36.668203,
          36.840318,
          36.788762,
          36.753733,
          36.812647,
          36.7974,
          36.80617,
          36.802055,
          36.891403,
          36.78111,
          36.800042,
          36.75166,
          36.846187,
          36.686985,
          36.717523,
          36.742397,
          36.760097,
          36.784455,
          36.883238,
          36.87593,
          36.903517,
          36.680998,
          36.813642,
          36.706855,
          36.745958,
          36.737892,
          36.77906,
          36.849772,
          36.8419,
          36.788728,
          36.789952,
          36.822598,
          36.766123,
          36.88624,
          36.799173,
          36.78724,
          36.845025,
          36.780227,
          36.832078,
          36.825678,
          36.89116,
          36.80465,
          36.828435,
          37.162902,
          37.324672,
          37.329188,
          37.588317,
          37.908935,
          37.968398,
          38.077052,
          38.137177,
          38.224342,
          36.850522,
          36.896015,
          37.37621,
          38.164982,
          36.285985,
          36.929795,
          36.91849,
          37.507572,
          36.796681,
          36.844322,
          36.85223,
          37.619825,
          36.848257,
          36.928725,
          37.0202,
          36.934788,
          36.623668,
          36.620738,
          36.552685,
          36.42874,
          36.818708,
          36.850468,
          36.725217,
          36.842342,
          36.710965,
          36.875087,
          37.067072,
          36.779635,
          36.85107,
          36.7716,
          36.79409,
          36.747035,
          36.748112,
          36.663967,
          36.696027,
          36.754217,
          38.213918,
          37.372767,
          36.82526,
          36.365328,
          36.376897,
          36.08653,
          36.050333,
          36.070566,
          36.099275,
          36.152057,
          36.059503,
          36.086253,
          36.102285,
          36.075318,
          36.061562,
          36.030428,
          36.04999,
          36.062757,
          36.07358,
          36.069367,
          36.067806,
          36.070885,
          36.062147,
          36.114078,
          36.113986,
          36.112697,
          36.162628,
          36.132743,
          36.14431,
          36.081924,
          36.089525,
          36.084452,
          36.086829,
          36.073147,
          36.057386,
          36.052335,
          36.053852,
          36.056327,
          36.147995,
          35.963581,
          34.875995,
          35.904982,
          35.866319,
          35.877945,
          35.864637,
          36.43058,
          36.335388,
          36.265138,
          36.323053,
          36.174312,
          36.309852,
          36.379738,
          36.577632,
          35.8655,
          35.72799,
          35.640768,
          35.61956,
          35.526828,
          35.418675,
          35.282727,
          35.196063,
          35.148377,
          35.0202,
          34.866088,
          35.3072,
          35.401205,
          35.390423,
          35.72627,
          35.259515,
          35.243647,
          35.690948,
          35.737955,
          35.577087,
          35.166057,
          35.186315,
          35.065452,
          36.497145,
          36.351198,
          36.220328,
          36.121895,
          36.004312,
          35.914342,
          36.049458,
          36.289745,
          36.113047,
          36.236087,
          35.774253,
          35.624953,
          35.468108,
          35.307475,
          35.234688,
          35.40379,
          35.213848,
          35.097315,
          35.024502,
          35.039843,
          35.05005,
          35.24704,
          34.809338,
          35.43077,
          36.264374,
          36.1095,
          35.684152,
          34.967335,
          35.195562,
          36.436152,
          36.439897,
          36.39551,
          36.96912,
          36.948509,
          36.95518,
          36.903862,
          36.983123,
          37.002632,
          36.941426,
          37.159163,
          37.064809,
          36.905467,
          37.016373,
          37.075642,
          37.126277,
          37.239573,
          37.27688,
          37.206253,
          37.1857,
          37.127883,
          36.98652,
          37.231525,
          37.015299,
          36.950109,
          37.05159,
          37.25746,
          36.994818,
          37.022352,
          37.2797,
          37.129997,
          37.156215,
          37.355022,
          36.993968,
          36.86813,
          36.816136,
          39.024703,
          37.975105,
          41.859578,
          40.05896,
          36.684853,
          37.36205,
          37.751583,
          37.151224,
          36.934863,
          38.384968,
          37.241783,
          39.170842,
          41.2159,
          40.928973,
          40.911269,
          41.67896,
          40.116425,
          40.865963,
          38.252272,
          38.834605,
          39.053178,
          39.497747,
          39.657958,
          39.905658,
          40.271612,
          41.330065,
          39.353578,
          37.095972,
          37.107518,
          37.099915,
          37.149562,
          37.982257,
          38.061282,
          38.561911,
          38.518373,
          37.562275,
          35.822827,
          35.664302,
          36.903528,
          34.798467,
          34.549272,
          34.572493,
          35.15849,
          34.557973,
          34.23124,
          34.238507,
          34.38632,
          34.749158,
          34.503748,
          34.693003,
          35.20817,
          34.45382,
          34.862343,
          33.999379,
          34.933507,
          34.789012,
          34.745348,
          34.445908,
          34.720335,
          40.19123,
          39.8382,
          40.107537,
          40.16929,
          40.024922,
          39.917163,
          39.822131,
          39.474903,
          39.927743,
          39.689205,
          39.7616,
          39.737964,
          39.87791,
          39.693232,
          39.692277,
          39.8766,
          39.746003,
          39.785432,
          39.58744,
          39.633788,
          39.823124,
          39.442637,
          39.847956,
          39.872,
          39.530447,
          39.89748,
          39.720773,
          39.861697,
          39.521617,
          39.216785,
          39.482858,
          39.579598,
          39.382263,
          39.32123,
          39.624718,
          39.453525,
          39.558965,
          39.12107,
          39.40402,
          39.565323,
          39.498142,
          39.12672,
          39.574357,
          39.590056,
          39.31476,
          39.565998,
          40.697549,
          40.904511,
          40.140894,
          40.11613,
          40.11977,
          40.016265,
          39.995921,
          40.077607,
          40.011897,
          40.061027,
          40.121911,
          40.12447,
          40.110784,
          40.148712,
          39.96121,
          40.142145,
          40.10494,
          40.095373,
          40.1168,
          39.666407,
          39.68534,
          39.700482,
          39.63799,
          39.68606,
          39.580938,
          39.668387,
          39.590922,
          39.624398,
          39.67414,
          39.6271,
          39.71307,
          39.668448,
          39.72036,
          39.711445,
          39.661322,
          39.668682,
          39.697933,
          39.620474,
          39.704838,
          39.701039,
          39.737264,
          39.747908,
          39.734366,
          39.7136,
          39.62019,
          39.658664,
          39.694297,
          39.703107,
          39.668476,
          39.864273,
          39.652874,
          39.665979,
          39.689598,
          39.65764,
          39.655768,
          39.666642,
          39.658205,
          39.660717,
          39.676557,
          39.67705,
          39.671211,
          39.65192,
          39.665682,
          39.64972,
          39.658441,
          39.6628,
          39.632212,
          39.688566,
          39.67407,
          39.668738,
          39.721289,
          39.68293,
          39.699482,
          39.688693,
          39.671864,
          36.972512,
          36.849229,
          36.652895,
          37.412217,
          37.412217,
          36.850445,
          36.824638,
          36.792437,
          37.421422,
          36.886725,
          36.96839,
          36.951942,
          36.947135,
          36.96029,
          36.851792,
          36.290604,
          36.73964,
          36.795992,
          36.706618,
          37.506077,
          36.695787,
          36.917123,
          36.95868,
          37.698568,
          36.725158,
          37.209897,
          38.023642,
          38.17845,
          37.946767,
          38.003827,
          37.983977,
          38.014595,
          37.84424,
          37.986739,
          38.09702,
          38.196097,
          38.220149,
          38.213691,
          37.836892,
          37.96672,
          39.120164,
          36.987598,
          36.97974,
          36.967372,
          37.046135,
          37.474092,
          37.539772,
          37.654954,
          37.649253,
          37.330412,
          37.45791,
          37.349188,
          37.490843,
          37.680146,
          37.346709,
          37.68697,
          38.13229,
          37.81924,
          37.444783,
          37.1518,
          37.280007,
          37.267867,
          37.269222,
          37.317615,
          37.267699,
          37.423783,
          37.251083,
          37.261514,
          37.266258,
          37.550248,
          37.249785,
          37.289613,
          36.939493,
          37.524652,
          37.81332,
          37.21376,
          37.276802,
          37.706227,
          37.257297,
          36.947768,
          37.290712,
          37.163006,
          37.681682,
          37.547964,
          37.687823,
          37.446373,
          38.074687,
          37.78042,
          37.961082,
          37.967382,
          37.328385,
          37.87977,
          37.418818,
          38.037082,
          37.82566,
          37.720138,
          37.909912,
          37.452595,
          37.559613,
          37.456555,
          37.532285,
          37.788628,
          37.45247,
          38.136883,
          37.396392,
          37.324598,
          37.373155,
          38.06101,
          38.167527,
          37.919749,
          38.174278,
          37.982617,
          38.408478,
          38.04207,
          38.252958,
          38.180013,
          38.055293,
          38.065793,
          38.374592,
          38.282598,
          37.869188,
          38.36437,
          38.529901,
          38.086427,
          36.790578,
          38.500875,
          37.73386,
          38.409772,
          38.49253,
          38.748771,
          38.319887,
          38.42485,
          37.676083,
          38.564365,
          38.369227,
          37.357517,
          37.40819,
          37.369275,
          37.38723,
          37.308437,
          37.2348,
          37.346552,
          37.365143,
          37.277936,
          37.166758,
          37.178515,
          37.328327,
          37.195188,
          37.352927,
          37.46524,
          37.241439,
          37.280308,
          37.352707,
          37.325682,
          36.672057,
          36.865087,
          36.720972,
          36.675403,
          36.698365,
          36.827133,
          36.626347,
          36.619237,
          36.675922,
          36.776047,
          36.668968,
          36.597085,
          36.682657,
          36.593078,
          36.787107,
          36.716055,
          36.796088,
          36.806455,
          36.62426,
          36.739862,
          36.868637,
          36.686637,
          36.778222,
          36.616638,
          36.820713,
          36.74393,
          36.729655,
          36.891212,
          36.66328,
          36.728233,
          36.81879,
          36.778362,
          36.8273,
          36.71073,
          36.80707,
          36.651217,
          36.750028,
          36.702853,
          36.781167,
          36.820275,
          36.63431,
          36.777298,
          36.6242,
          36.635857,
          36.845732,
          36.83445,
          36.946863,
          36.973718,
          36.978712,
          36.7574,
          36.728985,
          36.936638,
          36.824432,
          36.76144,
          36.864652,
          36.961608,
          36.7342,
          36.916817,
          36.83136,
          36.627437,
          36.786407,
          36.77705,
          36.760912,
          36.698115,
          36.899608,
          36.911218,
          36.8715,
          36.676345,
          36.649102,
          36.8309,
          37.01039,
          36.75639,
          36.80531,
          36.82692,
          36.828725,
          37.073717,
          37.155765,
          37.197248,
          36.96281,
          37.033813,
          37.110165,
          36.978817,
          37.018508,
          37.092467,
          36.866418,
          36.877203,
          36.93279,
          36.97772,
          36.899256,
          37.12553,
          37.003717,
          36.83911,
          37.087702,
          36.963732,
          37.071081,
          37.224032,
          37.024297,
          37.137812,
          37.296967,
          37.136238,
          36.868315,
          37.14474,
          37.21627,
          36.902665,
          36.95799,
          37.01621,
          36.903338,
          37.012907,
          37.048542,
          37.080722,
          37.150888,
          37.080515,
          36.851433,
          36.968358,
          36.96219,
          37.071795,
          37.105321,
          36.920115,
          36.931035,
          36.955443,
          37.00671,
          37.088333,
          37.072655,
          36.88803,
          36.955695,
          36.80329,
          36.90443,
          37.046582,
          37.099118,
          37.061547,
          37.076798,
          37.332178,
          37.065089,
          37.080978,
          37.523413,
          37.453042,
          37.646743,
          37.78952,
          37.715935,
          37.613357,
          37.52013,
          37.2789,
          37.450363,
          37.46026,
          37.60891,
          37.50383,
          37.594515,
          37.446763,
          37.47845,
          37.5397,
          37.365998,
          37.462044,
          39.74573,
          40.87345,
          40.305985,
          39.712958,
          40.206397,
          39.654598,
          39.79972,
          39.653333,
          39.394658,
          39.463243,
          39.605611,
          39.65165,
          39.641143,
          37.584698,
          37.666477,
          40.926842,
          41.220253,
          40.59617,
          41.857022,
          40.935635,
          40.266832,
          39.057778,
          37.294405,
          37.548902,
          37.632745,
          37.65018,
          37.592548,
          37.6594,
          37.528983,
          37.612138,
          37.72983,
          37.74639,
          37.944845,
          37.988512,
          37.947282,
          37.94163,
          37.97248,
          37.642343,
          37.828522,
          37.849672,
          37.621784,
          37.661682,
          37.94063,
          37.667583,
          37.60642,
          37.109254,
          37.936,
          37.818024,
          37.761017,
          37.73057,
          37.980246,
          37.653798,
          37.667264,
          37.633055,
          38.161892,
          37.88105,
          37.998731,
          37.910389,
          37.678471,
          37.62348,
          37.84612,
          37.672494,
          37.59438,
          37.65666,
          37.64098,
          37.64158,
          37.942764,
          37.655848,
          37.64427,
          37.073901,
          37.18751,
          36.9906,
          37.119195,
          37.00197,
          36.9277,
          36.731431,
          37.002505,
          36.96853,
          36.959665,
          37.012652,
          36.75887,
          36.960528,
          36.932802,
          37.119896,
          37.090856,
          36.869078,
          37.12697,
          37.112146,
          36.93863,
          36.947405,
          36.95912,
          36.90234,
          37.05739,
          36.884129,
          37.117404,
          37.01581,
          37.019523,
          36.950937,
          36.96816,
          36.944519,
          37.12381,
          36.954187,
          39.170632,
          39.490333,
          36.005747,
          35.98231,
          36.040915,
          35.12775,
          35.034751,
          35.55442,
          35.281515,
          35.28372,
          35.24465,
          35.240762,
          35.357903,
          35.287607,
          35.097802,
          35.209752,
          35.286606,
          35.278181,
          35.19584,
          35.213757,
          35.583495,
          36.24819,
          36.429242,
          36.10545,
          35.80374,
          35.941747,
          35.976515,
          35.663341,
          35.53979,
          35.757137,
          36.059455,
          36.043562,
          35.970885,
          36.0778,
          36.07709,
          36.056115,
          36.445937,
          36.222175,
          36.0493,
          35.835042,
          36.43616,
          36.056953,
          36.106238,
          35.685157,
          36.42916,
          36.089003,
          36.30982,
          35.666477,
          36.335287,
          36.115698,
          36.09119,
          36.118801,
          36.146932,
          35.97987,
          35.93364,
          36.07092,
          35.884748,
          36.121352,
          36.44372,
          36.22768,
          36.062917,
          36.05984,
          36.113282,
          36.107779,
          35.918638,
          36.468512,
          36.32354,
          36.260755,
          35.690543,
          36.181935,
          36.144065,
          36.137294,
          36.06865,
          36.084395,
          36.181352,
          35.728377,
          36.257078,
          35.727985,
          36.233813,
          35.963515,
          36.123473,
          36.06753,
          36.038132,
          36.58511,
          36.230875,
          35.992362,
          35.941555,
          35.847449,
          36.07363,
          36.537915,
          36.420018,
          36.36745,
          36.348852,
          36.363397,
          36.560617,
          36.363468,
          36.264475,
          36.63192,
          36.49447,
          36.508103,
          36.56059,
          36.349775,
          36.27631,
          36.278052,
          36.593414,
          36.440727,
          36.501925,
          36.45297,
          36.693767,
          36.537728,
          36.401409,
          36.31477,
          36.34579,
          36.375253,
          36.235832,
          36.359423,
          36.359182,
          34.64072,
          34.378912,
          34.757357,
          34.71346,
          34.62266,
          34.78912,
          34.498678,
          34.709282,
          34.462895,
          34.755595,
          34.81776,
          35.306847,
          35.427835,
          35.46705,
          35.335517,
          35.115903,
          35.178695,
          35.262572,
          35.150998,
          35.354863,
          34.925288,
          35.232975,
          35.297112,
          35.283743,
          35.284955,
          35.275367,
          35.275807,
          35.291987,
          35.294693,
          35.260348,
          35.310593,
          35.263045,
          35.311928,
          35.263038,
          35.243863,
          35.281372,
          34.7759,
          35.51971,
          35.45294,
          35.23625,
          35.2564,
          35.23261,
          35.27891,
          35.286735,
          35.238645,
          35.317047,
          34.998348,
          35.27318,
          35.29102,
          35.275611,
          35.79558,
          35.79844,
          35.50354,
          35.558538,
          35.490807,
          35.554262,
          35.65742,
          35.484587,
          35.781665,
          36.33661,
          35.459642,
          35.564817,
          35.383403,
          35.120522,
          35.119398,
          34.988952,
          35.17815,
          35.271878,
          35.069,
          34.977021,
          35.033162,
          34.901605,
          35.174517,
          35.092647,
          35.00441,
          35.340355,
          35.303957,
          35.689197,
          35.4711,
          35.57217,
          35.603145,
          35.010707,
          35.256965,
          35.513465,
          35.23815,
          35.401602,
          34.926208,
          34.856041,
          35.220362,
          35.246518,
          34.836798,
          35.009508,
          35.221962,
          35.033207,
          35.1422,
          34.97405,
          34.79872,
          35.006573,
          34.980203,
          35.030535,
          35.110873,
          35.02914,
          35.000752,
          35.121367,
          35.10785,
          34.861667,
          35.598365,
          35.727022,
          35.072273,
          35.337348,
          35.216787,
          35.345378,
          35.360362,
          35.206025,
          35.189473,
          35.123163,
          35.331312,
          35.113783,
          35.23447,
          35.29942,
          35.06756,
          35.193307,
          35.379879,
          34.687503,
          34.765136,
          34.695408,
          34.832845,
          34.45581,
          34.502092,
          34.651753,
          34.535259,
          34.2784,
          34.351948,
          34.899723,
          34.608621,
          34.598585,
          34.687602,
          34.585333,
          34.458701,
          34.753917,
          34.943823,
          34.773703,
          35.013355,
          34.75496,
          34.839387,
          34.796084,
          34.6616,
          34.66153,
          34.64537,
          34.56543,
          34.600436,
          34.09957,
          34.156437,
          34.452907,
          34.512686,
          34.47791,
          34.874598,
          34.993517,
          34.904359,
          35.0206,
          35.02662,
          34.916853,
          34.919827,
          34.730856,
          34.82688,
          34.690633,
          34.61361,
          34.76956,
          34.373358,
          34.94051,
          34.90146,
          34.39913,
          34.155863,
          34.216385,
          34.522028,
          34.77298,
          34.78314,
          34.767444,
          34.840739,
          34.355095,
          34.95477,
          34.85513,
          34.477828,
          34.345838,
          34.46759,
          34.816352,
          34.507965,
          34.864577,
          34.925408,
          34.79885,
          34.856982,
          34.71309,
          34.871059,
          34.734497,
          34.108447,
          34.650241,
          35.030313,
          34.926877,
          34.971214,
          34.208323,
          34.962258,
          34.998517,
          34.851875,
          34.7807,
          34.478349,
          34.97064,
          34.94526,
          34.707053,
          34.455431,
          34.55834,
          34.478058,
          34.554803,
          34.4802,
          34.97873,
          35.028429,
          34.644855,
          34.647172,
          34.594867,
          34.754131,
          34.771066,
          35.41252,
          35.403946,
          35.248022,
          35.650318,
          35.857938,
          35.23467,
          34.809112,
          34.970918,
          35.88447,
          35.265373,
          35.466067,
          35.75612,
          36.082235,
          35.859965,
          36.137473,
          35.039812,
          35.39861,
          35.024375,
          35.040222,
          35.624777,
          35.110452,
          34.55149,
          34.560377,
          34.561195,
          34.568792,
          34.37259,
          34.551052,
          34.623103,
          34.877818,
          34.61842,
          34.674727,
          34.592263,
          34.364703,
          34.276972,
          34.214153,
          34.521077,
          34.409512,
          34.64167,
          34.45403,
          34.145897,
          34.6516,
          34.422288,
          34.552577,
          34.274175,
          34.396185,
          34.525618,
          34.111933,
          34.264247,
          34.103635,
          34.2016,
          34.258683,
          34.164779,
          33.977251,
          34.153402,
          34.109923,
          34.200583,
          34.102268,
          34.052929,
          34.041033,
          34.106233,
          34.535775,
          34.857473,
          34.613824,
          34.77129,
          34.659698,
          34.833424,
          34.687193,
          34.632514,
          34.7216,
          34.899468,
          34.956953,
          34.676187,
          34.813992,
          34.85664,
          34.596456,
          34.910962,
          34.899637,
          34.751574,
          34.822972,
          35.146632,
          35.457963,
          34.76587,
          34.75003,
          34.450622,
          34.635,
          34.8097,
          34.674972,
          34.73708,
          34.528987,
          34.7784,
          34.77924,
          34.627122,
          34.583808,
          34.773395,
          34.828147,
          34.86021,
          34.708532,
          35.173002,
          34.971222,
          34.829098,
          34.952897,
          34.739607,
          34.754257,
          34.6839,
          34.773802,
          34.771353,
          34.797818,
          34.596703,
          34.764182,
          34.748038,
          34.768368,
          34.85841,
          34.281925,
          35.304028,
          34.487952,
          35.34068,
          34.920938,
          34.793518,
          34.756027,
          34.777523,
          34.775075,
          34.59255,
          34.700816,
          34.786757,
          34.804927,
          34.749827,
          34.79813,
          34.777718,
          35.074343,
          34.79187,
          34.80098,
          34.753787,
          34.751835,
          34.881952,
          34.788052,
          34.441889,
          34.556893,
          34.599699,
          34.5744,
          34.513352,
          34.573772,
          34.445808,
          34.488925,
          34.528158,
          34.3393,
          34.505345,
          34.6629,
          34.498422,
          34.456517,
          34.419637,
          34.254262,
          34.158168,
          34.365482,
          34.2647,
          34.511001,
          34.298928,
          34.190028,
          34.390537,
          34.366425,
          34.294094,
          34.206417,
          34.374457,
          34.338207,
          34.170413,
          34.327912,
          34.224726,
          34.049649,
          34.300227,
          34.53494,
          34.527625,
          34.275641,
          34.178835,
          36.576885,
          36.552272,
          36.736842,
          36.742183,
          36.726068,
          36.891693,
          36.87764,
          36.778045,
          36.83043,
          36.77054,
          36.780412,
          36.749145,
          36.996683,
          36.735247,
          36.80418,
          36.828897,
          36.894578,
          36.932747,
          36.849818,
          36.929813,
          36.78822,
          36.72347,
          36.908958,
          36.888985,
          36.842294,
          36.60471,
          36.670352,
          36.673765,
          36.750087,
          36.76925,
          36.987369,
          36.91593,
          36.8013,
          36.800722,
          36.791045,
          36.909182,
          36.886022,
          36.862642,
          36.758607,
          36.942705,
          36.743265,
          36.887117,
          36.814427,
          36.86698,
          36.863585,
          36.69089,
          36.679292,
          36.90953,
          36.873962,
          36.794858,
          36.774182,
          36.70711,
          36.69366,
          36.74917,
          36.939982,
          36.87726,
          36.695935,
          36.76028,
          36.730178,
          36.763895,
          36.727645,
          36.666103,
          36.71263,
          36.695577,
          36.763092,
          36.802021,
          36.786638,
          36.871873,
          36.907853,
          36.966472,
          36.899648,
          36.861683,
          36.943956,
          36.84925,
          36.91025,
          36.732453,
          36.920066,
          36.762415,
          36.787193,
          36.839798,
          36.816827,
          36.753517,
          36.7916,
          36.89167,
          36.770618,
          36.805583,
          36.75736,
          36.787263,
          36.867263,
          36.792977,
          36.78455,
          36.818225,
          36.84238,
          36.817852,
          36.882075,
          36.796202,
          36.72081,
          36.973677,
          36.762977,
          36.859462,
          36.80788,
          36.8409,
          36.871895,
          36.8891,
          36.755998,
          36.876925,
          36.924832,
          36.901652,
          36.824552,
          36.817532,
          36.866607,
          36.83836,
          36.750318,
          36.926253,
          36.9212,
          36.908965,
          36.655238,
          36.915752,
          36.743097,
          36.881852,
          36.857823,
          36.94092,
          36.96888,
          36.977367,
          36.950558,
          36.995073,
          36.757817,
          36.652032,
          36.773445,
          36.745348,
          36.7486,
          36.719182,
          36.650367,
          36.83446,
          36.869425,
          36.728583,
          36.788998,
          36.711037,
          36.712,
          36.95335,
          36.645848,
          36.6817,
          36.6746,
          36.91636,
          36.898222,
          36.911395,
          36.878538,
          36.809238,
          36.856886,
          36.765112,
          36.79141,
          36.734255,
          36.750458,
          36.915323,
          36.922005,
          36.786828,
          37.010403,
          36.95067,
          36.905235,
          36.80213,
          36.8705,
          36.896783,
          36.869705,
          36.80913,
          36.87025,
          36.86136,
          36.6788,
          36.945328,
          36.731533,
          36.83285,
          36.92152,
          36.737903,
          36.672198,
          36.6409,
          36.694475,
          36.650535,
          36.91373,
          36.937015,
          36.787725,
          36.75103,
          36.755948,
          36.82749,
          36.7166,
          36.850844,
          36.87122,
          36.864592,
          36.891317,
          36.822219,
          36.825538,
          36.83822,
          36.82632,
          36.822021,
          36.82141,
          36.804225,
          36.87729,
          36.837112,
          36.8271,
          36.848263,
          36.809967,
          36.85149,
          36.84745,
          36.894293,
          36.80949,
          36.882807,
          36.89342,
          36.78959,
          36.825593,
          36.92251,
          36.816255,
          36.819064,
          36.7775,
          36.82761,
          36.88947,
          36.792303,
          36.811301,
          36.86119,
          36.835248,
          36.81318,
          36.820998,
          36.809,
          36.818069,
          36.82871,
          36.880388,
          36.853135,
          36.880289,
          36.817776,
          36.8183,
          36.823335,
          36.83012,
          36.820101,
          36.8209,
          36.824848,
          36.830868,
          36.804147,
          36.776078,
          36.8183,
          36.888365,
          36.885147,
          36.84917,
          36.90108,
          36.920118,
          36.825087,
          36.905867,
          36.9,
          36.82362,
          36.817418,
          36.9012,
          36.805881,
          36.897409,
          36.832887,
          36.874918,
          36.827512,
          36.917455,
          36.892628,
          36.784058,
          36.886397,
          36.90708,
          36.838342,
          36.9172,
          36.899232,
          36.844,
          36.834183,
          36.827284,
          36.78483,
          36.84855,
          36.894702,
          36.908977,
          36.811748,
          36.832,
          36.890755,
          36.812992,
          36.8178,
          36.80072,
          36.77338,
          36.954282,
          36.845208,
          36.817657,
          36.8558,
          36.755913,
          36.747147,
          36.8807,
          36.8816,
          36.843332,
          36.80176,
          36.80229,
          36.87904,
          36.823869,
          36.743587,
          34.65246,
          34.792869,
          36.813516,
          36.78615,
          36.953156,
          36.870923,
          36.92742,
          37.073807,
          37.120158,
          35.039257,
          36.9209,
          37.705882,
          36.994922,
          36.89212,
          36.898382,
          37.110417,
          37.992987,
          34.756595,
          35.302438,
          36.944118,
          37.878735,
          36.777082,
          36.473352,
          35.242642,
          36.917552,
          36.892848,
          36.882115,
          36.084179,
          34.555433,
          36.927735,
          36.931897,
          37.024912,
          36.067638,
          36.727637,
          36.795157,
          36.904268,
          36.879118,
          36.050985,
          36.77015,
          34.557353,
          35.298727,
          37.017817,
          36.054997,
          36.998673,
          36.875213,
          34.75919,
          37.05638,
          35.72569,
          36.779628,
          36.780615,
          34.503087,
          37.078437,
          36.761892,
          36.954495,
          37.173607,
          36.601658,
          36.007518,
          34.771772,
          36.054805,
          36.811728,
          34.767733,
          34.751495,
          36.892805,
          36.850093,
          36.895023,
          36.915547,
          36.069012,
          36.894487,
          36.97013,
          37.001152,
          37.124552,
          36.956858,
          36.820738,
          37.095833,
          37.076013,
          36.89968,
          36.100967,
          34.765465,
          36.877708,
          36.902835,
          34.784178,
          36.831895,
          36.815695,
          36.825298,
          36.862493,
          37.143348,
          36.438175,
          36.370737,
          36.5555,
          37.101894,
          35.428692,
          35.40887,
          36.379688,
          35.17586,
          34.73187,
          34.33062,
          35.155482,
          35.06452,
          37.295513,
          35.337648,
          34.444508,
          34.27722,
          37.065767,
          37.20866,
          36.908882,
          34.964668,
          36.160237,
          34.222923,
          37.073335,
          35.83072,
          34.814397,
          36.96474,
          36.598767,
          34.540324,
          34.621526,
          36.791143,
          37.067779,
          34.797245,
          34.664197,
          37.223645,
          34.240807,
          36.490385,
          37.646747,
          36.93165,
          34.338847,
          35.904505,
          35.234223,
          36.898123,
          36.843212,
          34.759387,
          35.38328,
          35.337988,
          37.02506,
          35.021832,
          35.664693,
          36.498163,
          35.122448,
          34.407296,
          35.14409,
          35.25023,
          36.08166,
          37.362833,
          34.604358,
          38.51825,
          35.77708,
          37.28548,
          35.23684,
          36.934517,
          37.305638,
          35.441865,
          36.90502,
          37.466587,
          36.859137,
          37.144128,
          34.810982,
          34.68246,
          34.267547,
          35.520657,
          37.37175,
          37.8565,
          36.91484,
          37.63228,
          36.71486,
          39.35007,
          36.769745,
          37.09205,
          37.010307,
          37.369387,
          37.214091,
          38.121562,
          36.776103,
          36.84008,
          36.785718,
          36.88592,
          37.699607,
          37.538858,
          35.732291,
          36.560906,
          35.673885,
          36.418701,
          34.85602,
          34.828057,
          34.915662,
          34.53085,
          36.3189,
          37.177352,
          37.263094,
          37.570888,
          35.469127,
          34.929705,
          35.09049,
          36.313355,
          36.829425,
          34.456254,
          34.318501,
          34.934592,
          37.779158,
          35.76723,
          35.633315,
          36.248042,
          35.610051,
          35.194643,
          35.24234,
          34.523007,
          35.331412,
          34.60875,
          35.277,
          35.088522,
          36.46953,
          34.103713,
          34.105474,
          35.699519,
          35.310958,
          35.417498,
          35.491245,
          36.48784,
          35.19498,
          35.497835,
          35.288428,
          36.537033,
          37.731107,
          37.776569,
          36.267753,
          34.79147,
          34.39213,
          34.965147,
          37.77897,
          37.520836,
          35.89459,
          35.298235,
          35.621772,
          35.317922,
          36.21916,
          35.59073,
          36.111188,
          36.13306,
          35.019075,
          36.54883,
          36.472028,
          35.899295,
          34.558268,
          38.640741,
          37.497044,
          35.13814,
          35.41108,
          37.419702,
          37.068033,
          34.831869,
          34.740365,
          37.44567,
          34.503502,
          37.04351,
          34.53996,
          34.481313,
          37.147104,
          34.478352,
          34.757268,
          34.622578,
          34.83745,
          34.445512,
          34.83026,
          34.837487,
          34.789692,
          34.754632,
          34.318865,
          34.45658,
          34.731278,
          35.133048,
          34.983528,
          37.1911,
          37.495358,
          37.597036,
          37.16032,
          37.267503,
          37.39466,
          37.213092,
          37.366846,
          37.472602,
          37.29186,
          37.096478,
          37.40282,
          37.30089,
          37.37919,
          36.687107,
          36.81163,
          37.270443,
          37.23146,
          37.253173,
          37.028468,
          37.038724,
          36.993312,
          36.88113,
          37.148398,
          35.267957,
          34.997767,
          35.133965,
          35.16328,
          35.381604,
          34.949115,
          35.691023,
          36.62091,
          35.76381,
          36.331757,
          35.67504,
          35.297998,
          36.484453,
          35.176723,
          36.149378,
          35.268087,
          37.060528,
          34.991178,
          35.26068,
          34.93483,
          35.6587,
          36.035553,
          35.395032,
          35.381545,
          35.140902,
          35.16549,
          34.090915,
          34.388574,
          34.347557,
          34.237032,
          34.405766,
          34.128833,
          34.071893,
          34.46449,
          34.111037,
          34.436733,
          34.805502,
          34.398378,
          34.173228,
          34.94028,
          37.40479,
          36.615825,
          36.26135,
          37.716555,
          37.55804,
          37.94658,
          37.592068,
          36.34169,
          36.60383,
          35.50958,
          37.324167,
          37.244846,
          37.371522,
          38.20313,
          36.58704,
          36.718723,
          38.644315,
          36.715188,
          36.824218,
          35.134935,
          35.14905,
          34.83653,
          35.22436,
          35.106873,
          35.133,
          35.473848,
          35.53773,
          35.22635,
          35.28106,
          35.809594,
          35.059092,
          35.614127,
          35.90229,
          35.07454,
          35.59787,
          35.8527,
          35.0412,
          35.28316,
          35.090648,
          36.79156,
          35.299223,
          35.699716,
          35.483333,
          35.687813,
          35.04527,
          34.43623,
          34.381793,
          37.182131,
          37.17965,
          37.25854,
          37.33788,
          36.363636,
          37.16027,
          37.19014,
          37.633677,
          37.382294,
          37.309765,
          37.505138,
          37.530083,
          37.600523,
          37.464288,
          37.724889,
          37.7132,
          37.574185,
          36.938434,
          37.45917,
          34.78533,
          38.095271,
          36.815907,
          36.881507,
          39.648074,
          39.551981,
          36.944738,
          36.918338,
          36.894055,
          36.87892,
          36.74622,
          36.911807,
          36.757177,
          37.7559,
          39.712738,
          35.51639,
          35.222935,
          35.692498,
          35.55791,
          35.55723,
          35.06536,
          35.77422,
          35.97617,
          37.80719,
          37.16633,
          37.668372,
          37.89705,
          34.209532,
          34.2829,
          36.50874,
          37.18719,
          34.919727,
          37.335473,
          37.020757,
          36.978914,
          38.703332,
          34.788485,
          37.06678,
          36.95729,
          36.838298,
          37.01526,
          37.07536,
          37.6287,
          38.200677,
          37.85536,
          36.631,
          35.22622,
          36.78653,
          35.58808,
          38.17029,
          35.487858,
          34.827645,
          36.024415,
          35.45633,
          34.87782,
          36.122399,
          34.98963,
          36.348743,
          36.71305,
          36.789857,
          39.661882,
          39.652564,
          40.109755,
          39.661243,
          39.690634,
          40.12227,
          39.699488,
          39.65864,
          39.74472,
          39.673795,
          39.861112,
          39.996386,
          39.36756,
          39.252885,
          39.31133,
          39.627483,
          39.433078,
          39.30852,
          40.151016,
          39.777377,
          39.604665,
          39.794453,
          39.197321,
          39.5822,
          39.90905,
          39.05936,
          39.71032,
          39.195248,
          40.12725,
          39.428938,
          40.13571,
          39.712117,
          39.788849,
          39.108353,
          38.802437,
          37.803109,
          37.851045,
          35.06258,
          35.05055,
          37.1354,
          35.09655,
          39.74588,
          36.807038,
          39.67018,
          39.627378,
          35.394888,
          35.392822,
          35.197137,
          36.909112,
          36.88486,
          39.703067,
          39.70616,
          36.902965,
          39.26712,
          36.902315,
          36.897267,
          36.97177,
          36.89729,
          36.847338,
          36.791378,
          36.900177,
          36.894815,
          36.898567,
          36.893487,
          36.90169,
          39.595667,
          35.77929,
          36.827255,
          35.501182,
          36.388,
          37.746921,
          34.302937,
          39.66908,
          36.8062,
          36.828375,
          36.7746,
          36.84404,
          36.83609,
          39.54616,
          37.96203,
          37.561609,
          36.905118,
          36.978136,
          39.67136,
          36.753233,
          37.658445,
          36.429732,
          35.014355,
          35.824417,
          35.83592,
          35.957727,
          34.016294,
          34.09574,
          34.959993,
          39.686503,
          36.799858,
          35.453,
          39.783102,
          36.795635,
          36.3233,
          37.43304,
          35.792654,
          36.04457,
          36.729403,
          37.279325,
          37.2662,
          34.070299,
          39.286289,
          36.30165,
          37.776734,
          36.182836,
          37.813991,
          39.682052,
          39.7034,
          37.57242,
          40.211262,
          36.84488,
          36.883182,
          37.979872,
          37.67281,
          34.740307,
          34.772781,
          34.929615,
          36.823813,
          36.579031,
          35.22759,
          36.10657,
          36.051263,
          39.975523,
          40.364525,
          35.051873,
          35.32249,
          35.738445,
          35.015462,
          35.59725,
          37.355025,
          37.92616,
          37.95146,
          37.52123,
          38.208637,
          36.628422,
          36.7132,
          37.029453,
          36.718887,
          36.889547,
          36.897532,
          36.90214,
          36.98356,
          36.710968,
          36.825195,
          39.046306,
          41.8167,
          40.322137,
          40.371213,
          40.323264,
          40.570125,
          39.381302,
          40.037208,
          37.639448,
          37.04397,
          36.881645,
          35.58501,
          36.14602,
          36.222874,
          36.157923,
          36.13131,
          35.93631,
          36.647722,
          36.495007,
          36.002327,
          36.895014,
          35.259303,
          39.847297,
          39.605923,
          36.836323,
          36.873465,
          36.625415,
          41.836048,
          39.062795,
          36.558397,
          39.069799,
          41.4768,
          36.67334,
          36.66311,
          36.661882,
          35.6303,
          37.36507,
          38.14149,
          39.754955,
          39.681632,
          36.248158,
          37.599919,
          36.63644,
          36.438675,
          39.651425,
          40.11471,
          40.371697,
          40.379638,
          39.662052,
          39.735512,
          37.537597,
          36.77637,
          39.71289,
          39.836478,
          39.76683,
          34.97646,
          34.760679,
          34.76319,
          34.772198,
          38.0244,
          37.924473,
          38.05701,
          37.9342,
          38.28306,
          38.19555,
          37.896456,
          38.06194,
          39.635668,
          39.534978,
          41.111092,
          40.52686,
          37.700882,
          37.254052,
          38.192148,
          37.72259,
          37.779016,
          37.35116,
          34.486927,
          34.13315,
          34.652326,
          34.60061,
          36.1314,
          35.730105,
          34.777837,
          36.239023,
          35.523665,
          36.171397,
          35.840503,
          35.583445,
          35.364973,
          35.438077,
          38.365835,
          38.57941,
          37.73308,
          40.106707,
          39.55827,
          39.710018,
          36.61241,
          35.7446,
          36.07459,
          36.461132,
          39.720268,
          39.686412,
          34.787727,
          36.99488,
          34.897486,
          34.438661,
          39.857976,
          40.650965,
          38.49641,
          39.570602,
          38.031052,
          37.73347,
          37.400562,
          37.60058,
          37.62177,
          34.47589,
          39.563241,
          35.944925,
          36.29647,
          40.984687,
          35.10078,
          37.56649,
          37.922283,
          37.67949,
          40.899663,
          37.47003,
          40.850988,
          35.82798,
          38.04819,
          34.220475,
          37.99476,
          34.45424,
          38.035759,
          38.32045,
          36.107662,
          35.852867,
          35.688018,
          35.549347,
          39.55842,
          39.73325,
          40.5251,
          34.263067,
          34.332324,
          38.954821,
          39.66554,
          40.3103,
          40.286842,
          40.2835,
          36.805705,
          38.089824,
          37.91413,
          37.904743,
          37.873852,
          38.102718,
          36.848528,
          37.75481,
          37.44301,
          37.36087,
          37.30509,
          39.382343,
          38.907555,
          34.656935,
          34.625148,
          35.004513,
          34.872335,
          34.481596,
          36.830607,
          36.87906,
          36.974231,
          36.845188,
          36.828892,
          36.89666,
          36.86226,
          40.95182,
          35.77728,
          39.635135,
          39.6421,
          40.641379,
          37.621985,
          38.012973,
          38.00991,
          37.996628,
          38.19,
          38.054112,
          37.24527,
          37.414663,
          39.94259,
          40.914902,
          41.21131,
          38.35477,
          39.634746,
          39.856145,
          38.574906,
          39.609767,
          38.428908,
          34.755123,
          34.58605,
          35.017495,
          34.53075,
          35.66588,
          34.2122,
          35.112552,
          35.388282,
          35.392815,
          36.340003,
          37.9493,
          35.43179,
          35.374228,
          36.032415,
          35.1413,
          34.95173,
          35.575137,
          35.512785,
          35.613507,
          35.766842,
          34.60835,
          34.798847,
          35.14436,
          34.749698,
          34.589805,
          35.005562,
          34.95554,
          34.00197,
          34.26354,
          37.884523,
          39.29922,
          36.924827,
          34.791868,
          37.91444,
          34.57069,
          36.708121,
          37.262,
          37.094127,
          36.948398,
          37.257863,
          34.801987,
          37.651433,
          37.652878,
          36.959372,
          36.9453,
          36.9959,
          37.032908,
          36.714473,
          36.997169,
          36.914082,
          36.924162,
          34.842283,
          34.615,
          37.351268,
          37.125067,
          36.786958,
          37.917218,
          35.613318,
          37.135393,
          35.383875,
          36.764317,
          35.12368,
          35.648382,
          35.1514,
          37.60472,
          37.732908,
          36.932499,
          34.536795,
          34.754632,
          34.954135,
          34.74916,
          34.33246,
          35.408572,
          35.9287,
          35.802415,
          35.93774,
          35.750732,
          35.27172,
          34.558207,
          36.63629,
          36.642523,
          37.12108,
          36.986801,
          36.116114,
          36.161714,
          34.53646,
          34.762513,
          34.500291,
          36.697943,
          37.12727,
          37.208186,
          36.876248,
          36.587445,
          35.073188,
          36.310808,
          35.30966,
          34.631545,
          34.24579,
          35.043625,
          35.839022,
          35.3418,
          35.315938,
          35.02082,
          36.630036,
          35.0452,
          36.02818,
          35.830105,
          37.619609,
          34.398117,
          34.323138,
          34.44798,
          34.76012,
          34.290337,
          36.93574,
          36.688392,
          36.76441,
          36.474308,
          35.943075,
          37.879274,
          37.17223,
          38.51413,
          36.542149,
          36.722175,
          34.082588,
          35.069383,
          37.014465,
          36.70284,
          36.750628,
          36.84816,
          36.774388,
          36.99075,
          37.594405,
          36.96774,
          39.64579,
          36.63134,
          36.9549,
          36.203209,
          35.260642,
          36.791613,
          37.810002,
          34.04575,
          36.663935,
          37.2846,
          36.650603,
          37.176923,
          34.77543,
          36.746357,
          36.097118,
          34.46486,
          39.442285,
          37.264855,
          34.75304,
          37.09189,
          39.677586,
          37.03562,
          37.776734,
          37.95008,
          37.89029,
          37.85814,
          37.036638,
          36.770228,
          37.01748,
          37.106532,
          36.9549,
          37.113548,
          36.83954,
          36.98733,
          37.02994,
          36.88685,
          36.904295,
          36.91177,
          36.970318,
          34.78883,
          35.97169,
          34.78335,
          36.808752,
          34.56237,
          36.63395,
          34.754912,
          37.06674,
          39.85611,
          34.474079,
          34.62583,
          34.28721,
          35.89959,
          35.14828,
          36.054486,
          39.85065,
          39.654154,
          36.765307,
          36.931306,
          36.846872,
          36.896246,
          36.907078,
          36.942733,
          34.734486,
          36.922385,
          35.43209,
          35.453235,
          34.81223,
          39.70864,
          39.48676,
          37.079318,
          37.573589,
          36.92091,
          34.981987,
          37.512411,
          34.760333,
          36.857638,
          36.204086,
          36.73792,
          35.138255,
          35.331979,
          34.75311,
          36.62055,
          35.16791,
          37.94095,
          40.09872,
          36.847818,
          39.63647
         ],
         "marker": {
          "color": "#636efa"
         },
         "mode": "markers",
         "name": "",
         "showlegend": false,
         "subplot": "mapbox",
         "type": "scattermapbox"
        }
       ],
       "layout": {
        "legend": {
         "tracegroupgap": 0
        },
        "mapbox": {
         "center": {
          "lat": -0.8260595501797974,
          "lon": 36.671848316770195
         },
         "domain": {
          "x": [
           0,
           1
          ],
          "y": [
           0,
           1
          ]
         },
         "style": "open-street-map",
         "zoom": 8
        },
        "margin": {
         "t": 60
        },
        "template": {
         "data": {
          "bar": [
           {
            "error_x": {
             "color": "#2a3f5f"
            },
            "error_y": {
             "color": "#2a3f5f"
            },
            "marker": {
             "line": {
              "color": "#E5ECF6",
              "width": 0.5
             },
             "pattern": {
              "fillmode": "overlay",
              "size": 10,
              "solidity": 0.2
             }
            },
            "type": "bar"
           }
          ],
          "barpolar": [
           {
            "marker": {
             "line": {
              "color": "#E5ECF6",
              "width": 0.5
             },
             "pattern": {
              "fillmode": "overlay",
              "size": 10,
              "solidity": 0.2
             }
            },
            "type": "barpolar"
           }
          ],
          "carpet": [
           {
            "aaxis": {
             "endlinecolor": "#2a3f5f",
             "gridcolor": "white",
             "linecolor": "white",
             "minorgridcolor": "white",
             "startlinecolor": "#2a3f5f"
            },
            "baxis": {
             "endlinecolor": "#2a3f5f",
             "gridcolor": "white",
             "linecolor": "white",
             "minorgridcolor": "white",
             "startlinecolor": "#2a3f5f"
            },
            "type": "carpet"
           }
          ],
          "choropleth": [
           {
            "colorbar": {
             "outlinewidth": 0,
             "ticks": ""
            },
            "type": "choropleth"
           }
          ],
          "contour": [
           {
            "colorbar": {
             "outlinewidth": 0,
             "ticks": ""
            },
            "colorscale": [
             [
              0,
              "#0d0887"
             ],
             [
              0.1111111111111111,
              "#46039f"
             ],
             [
              0.2222222222222222,
              "#7201a8"
             ],
             [
              0.3333333333333333,
              "#9c179e"
             ],
             [
              0.4444444444444444,
              "#bd3786"
             ],
             [
              0.5555555555555556,
              "#d8576b"
             ],
             [
              0.6666666666666666,
              "#ed7953"
             ],
             [
              0.7777777777777778,
              "#fb9f3a"
             ],
             [
              0.8888888888888888,
              "#fdca26"
             ],
             [
              1,
              "#f0f921"
             ]
            ],
            "type": "contour"
           }
          ],
          "contourcarpet": [
           {
            "colorbar": {
             "outlinewidth": 0,
             "ticks": ""
            },
            "type": "contourcarpet"
           }
          ],
          "heatmap": [
           {
            "colorbar": {
             "outlinewidth": 0,
             "ticks": ""
            },
            "colorscale": [
             [
              0,
              "#0d0887"
             ],
             [
              0.1111111111111111,
              "#46039f"
             ],
             [
              0.2222222222222222,
              "#7201a8"
             ],
             [
              0.3333333333333333,
              "#9c179e"
             ],
             [
              0.4444444444444444,
              "#bd3786"
             ],
             [
              0.5555555555555556,
              "#d8576b"
             ],
             [
              0.6666666666666666,
              "#ed7953"
             ],
             [
              0.7777777777777778,
              "#fb9f3a"
             ],
             [
              0.8888888888888888,
              "#fdca26"
             ],
             [
              1,
              "#f0f921"
             ]
            ],
            "type": "heatmap"
           }
          ],
          "heatmapgl": [
           {
            "colorbar": {
             "outlinewidth": 0,
             "ticks": ""
            },
            "colorscale": [
             [
              0,
              "#0d0887"
             ],
             [
              0.1111111111111111,
              "#46039f"
             ],
             [
              0.2222222222222222,
              "#7201a8"
             ],
             [
              0.3333333333333333,
              "#9c179e"
             ],
             [
              0.4444444444444444,
              "#bd3786"
             ],
             [
              0.5555555555555556,
              "#d8576b"
             ],
             [
              0.6666666666666666,
              "#ed7953"
             ],
             [
              0.7777777777777778,
              "#fb9f3a"
             ],
             [
              0.8888888888888888,
              "#fdca26"
             ],
             [
              1,
              "#f0f921"
             ]
            ],
            "type": "heatmapgl"
           }
          ],
          "histogram": [
           {
            "marker": {
             "pattern": {
              "fillmode": "overlay",
              "size": 10,
              "solidity": 0.2
             }
            },
            "type": "histogram"
           }
          ],
          "histogram2d": [
           {
            "colorbar": {
             "outlinewidth": 0,
             "ticks": ""
            },
            "colorscale": [
             [
              0,
              "#0d0887"
             ],
             [
              0.1111111111111111,
              "#46039f"
             ],
             [
              0.2222222222222222,
              "#7201a8"
             ],
             [
              0.3333333333333333,
              "#9c179e"
             ],
             [
              0.4444444444444444,
              "#bd3786"
             ],
             [
              0.5555555555555556,
              "#d8576b"
             ],
             [
              0.6666666666666666,
              "#ed7953"
             ],
             [
              0.7777777777777778,
              "#fb9f3a"
             ],
             [
              0.8888888888888888,
              "#fdca26"
             ],
             [
              1,
              "#f0f921"
             ]
            ],
            "type": "histogram2d"
           }
          ],
          "histogram2dcontour": [
           {
            "colorbar": {
             "outlinewidth": 0,
             "ticks": ""
            },
            "colorscale": [
             [
              0,
              "#0d0887"
             ],
             [
              0.1111111111111111,
              "#46039f"
             ],
             [
              0.2222222222222222,
              "#7201a8"
             ],
             [
              0.3333333333333333,
              "#9c179e"
             ],
             [
              0.4444444444444444,
              "#bd3786"
             ],
             [
              0.5555555555555556,
              "#d8576b"
             ],
             [
              0.6666666666666666,
              "#ed7953"
             ],
             [
              0.7777777777777778,
              "#fb9f3a"
             ],
             [
              0.8888888888888888,
              "#fdca26"
             ],
             [
              1,
              "#f0f921"
             ]
            ],
            "type": "histogram2dcontour"
           }
          ],
          "mesh3d": [
           {
            "colorbar": {
             "outlinewidth": 0,
             "ticks": ""
            },
            "type": "mesh3d"
           }
          ],
          "parcoords": [
           {
            "line": {
             "colorbar": {
              "outlinewidth": 0,
              "ticks": ""
             }
            },
            "type": "parcoords"
           }
          ],
          "pie": [
           {
            "automargin": true,
            "type": "pie"
           }
          ],
          "scatter": [
           {
            "fillpattern": {
             "fillmode": "overlay",
             "size": 10,
             "solidity": 0.2
            },
            "type": "scatter"
           }
          ],
          "scatter3d": [
           {
            "line": {
             "colorbar": {
              "outlinewidth": 0,
              "ticks": ""
             }
            },
            "marker": {
             "colorbar": {
              "outlinewidth": 0,
              "ticks": ""
             }
            },
            "type": "scatter3d"
           }
          ],
          "scattercarpet": [
           {
            "marker": {
             "colorbar": {
              "outlinewidth": 0,
              "ticks": ""
             }
            },
            "type": "scattercarpet"
           }
          ],
          "scattergeo": [
           {
            "marker": {
             "colorbar": {
              "outlinewidth": 0,
              "ticks": ""
             }
            },
            "type": "scattergeo"
           }
          ],
          "scattergl": [
           {
            "marker": {
             "colorbar": {
              "outlinewidth": 0,
              "ticks": ""
             }
            },
            "type": "scattergl"
           }
          ],
          "scattermapbox": [
           {
            "marker": {
             "colorbar": {
              "outlinewidth": 0,
              "ticks": ""
             }
            },
            "type": "scattermapbox"
           }
          ],
          "scatterpolar": [
           {
            "marker": {
             "colorbar": {
              "outlinewidth": 0,
              "ticks": ""
             }
            },
            "type": "scatterpolar"
           }
          ],
          "scatterpolargl": [
           {
            "marker": {
             "colorbar": {
              "outlinewidth": 0,
              "ticks": ""
             }
            },
            "type": "scatterpolargl"
           }
          ],
          "scatterternary": [
           {
            "marker": {
             "colorbar": {
              "outlinewidth": 0,
              "ticks": ""
             }
            },
            "type": "scatterternary"
           }
          ],
          "surface": [
           {
            "colorbar": {
             "outlinewidth": 0,
             "ticks": ""
            },
            "colorscale": [
             [
              0,
              "#0d0887"
             ],
             [
              0.1111111111111111,
              "#46039f"
             ],
             [
              0.2222222222222222,
              "#7201a8"
             ],
             [
              0.3333333333333333,
              "#9c179e"
             ],
             [
              0.4444444444444444,
              "#bd3786"
             ],
             [
              0.5555555555555556,
              "#d8576b"
             ],
             [
              0.6666666666666666,
              "#ed7953"
             ],
             [
              0.7777777777777778,
              "#fb9f3a"
             ],
             [
              0.8888888888888888,
              "#fdca26"
             ],
             [
              1,
              "#f0f921"
             ]
            ],
            "type": "surface"
           }
          ],
          "table": [
           {
            "cells": {
             "fill": {
              "color": "#EBF0F8"
             },
             "line": {
              "color": "white"
             }
            },
            "header": {
             "fill": {
              "color": "#C8D4E3"
             },
             "line": {
              "color": "white"
             }
            },
            "type": "table"
           }
          ]
         },
         "layout": {
          "annotationdefaults": {
           "arrowcolor": "#2a3f5f",
           "arrowhead": 0,
           "arrowwidth": 1
          },
          "autotypenumbers": "strict",
          "coloraxis": {
           "colorbar": {
            "outlinewidth": 0,
            "ticks": ""
           }
          },
          "colorscale": {
           "diverging": [
            [
             0,
             "#8e0152"
            ],
            [
             0.1,
             "#c51b7d"
            ],
            [
             0.2,
             "#de77ae"
            ],
            [
             0.3,
             "#f1b6da"
            ],
            [
             0.4,
             "#fde0ef"
            ],
            [
             0.5,
             "#f7f7f7"
            ],
            [
             0.6,
             "#e6f5d0"
            ],
            [
             0.7,
             "#b8e186"
            ],
            [
             0.8,
             "#7fbc41"
            ],
            [
             0.9,
             "#4d9221"
            ],
            [
             1,
             "#276419"
            ]
           ],
           "sequential": [
            [
             0,
             "#0d0887"
            ],
            [
             0.1111111111111111,
             "#46039f"
            ],
            [
             0.2222222222222222,
             "#7201a8"
            ],
            [
             0.3333333333333333,
             "#9c179e"
            ],
            [
             0.4444444444444444,
             "#bd3786"
            ],
            [
             0.5555555555555556,
             "#d8576b"
            ],
            [
             0.6666666666666666,
             "#ed7953"
            ],
            [
             0.7777777777777778,
             "#fb9f3a"
            ],
            [
             0.8888888888888888,
             "#fdca26"
            ],
            [
             1,
             "#f0f921"
            ]
           ],
           "sequentialminus": [
            [
             0,
             "#0d0887"
            ],
            [
             0.1111111111111111,
             "#46039f"
            ],
            [
             0.2222222222222222,
             "#7201a8"
            ],
            [
             0.3333333333333333,
             "#9c179e"
            ],
            [
             0.4444444444444444,
             "#bd3786"
            ],
            [
             0.5555555555555556,
             "#d8576b"
            ],
            [
             0.6666666666666666,
             "#ed7953"
            ],
            [
             0.7777777777777778,
             "#fb9f3a"
            ],
            [
             0.8888888888888888,
             "#fdca26"
            ],
            [
             1,
             "#f0f921"
            ]
           ]
          },
          "colorway": [
           "#636efa",
           "#EF553B",
           "#00cc96",
           "#ab63fa",
           "#FFA15A",
           "#19d3f3",
           "#FF6692",
           "#B6E880",
           "#FF97FF",
           "#FECB52"
          ],
          "font": {
           "color": "#2a3f5f"
          },
          "geo": {
           "bgcolor": "white",
           "lakecolor": "white",
           "landcolor": "#E5ECF6",
           "showlakes": true,
           "showland": true,
           "subunitcolor": "white"
          },
          "hoverlabel": {
           "align": "left"
          },
          "hovermode": "closest",
          "mapbox": {
           "style": "light"
          },
          "paper_bgcolor": "white",
          "plot_bgcolor": "#E5ECF6",
          "polar": {
           "angularaxis": {
            "gridcolor": "white",
            "linecolor": "white",
            "ticks": ""
           },
           "bgcolor": "#E5ECF6",
           "radialaxis": {
            "gridcolor": "white",
            "linecolor": "white",
            "ticks": ""
           }
          },
          "scene": {
           "xaxis": {
            "backgroundcolor": "#E5ECF6",
            "gridcolor": "white",
            "gridwidth": 2,
            "linecolor": "white",
            "showbackground": true,
            "ticks": "",
            "zerolinecolor": "white"
           },
           "yaxis": {
            "backgroundcolor": "#E5ECF6",
            "gridcolor": "white",
            "gridwidth": 2,
            "linecolor": "white",
            "showbackground": true,
            "ticks": "",
            "zerolinecolor": "white"
           },
           "zaxis": {
            "backgroundcolor": "#E5ECF6",
            "gridcolor": "white",
            "gridwidth": 2,
            "linecolor": "white",
            "showbackground": true,
            "ticks": "",
            "zerolinecolor": "white"
           }
          },
          "shapedefaults": {
           "line": {
            "color": "#2a3f5f"
           }
          },
          "ternary": {
           "aaxis": {
            "gridcolor": "white",
            "linecolor": "white",
            "ticks": ""
           },
           "baxis": {
            "gridcolor": "white",
            "linecolor": "white",
            "ticks": ""
           },
           "bgcolor": "#E5ECF6",
           "caxis": {
            "gridcolor": "white",
            "linecolor": "white",
            "ticks": ""
           }
          },
          "title": {
           "x": 0.05
          },
          "xaxis": {
           "automargin": true,
           "gridcolor": "white",
           "linecolor": "white",
           "ticks": "",
           "title": {
            "standoff": 15
           },
           "zerolinecolor": "white",
           "zerolinewidth": 2
          },
          "yaxis": {
           "automargin": true,
           "gridcolor": "white",
           "linecolor": "white",
           "ticks": "",
           "title": {
            "standoff": 15
           },
           "zerolinecolor": "white",
           "zerolinewidth": 2
          }
         }
        }
       }
      },
      "text/html": [
       "<div>                            <div id=\"6835ace6-894e-4726-b551-8169fe2d2547\" class=\"plotly-graph-div\" style=\"height:525px; width:100%;\"></div>            <script type=\"text/javascript\">                require([\"plotly\"], function(Plotly) {                    window.PLOTLYENV=window.PLOTLYENV || {};                                    if (document.getElementById(\"6835ace6-894e-4726-b551-8169fe2d2547\")) {                    Plotly.newPlot(                        \"6835ace6-894e-4726-b551-8169fe2d2547\",                        [{\"customdata\":[[\"Bungoma Stadium\"],[\"Bungoma South\"],[\"Busia Lwero\"],[\"Leisure Lodge\"],[\"Diani Exchange\"],[\"Msambweni Exc\"],[\"Lunga Lunga Eackelberg\"],[\"Reef Hotel\"],[\"Diani Sea Resort\"],[\"Leisure Lodge2\"],[\"Embu\"],[\"Kamugere\"],[\"Langas\"],[\"Broadway Industries\"],[\"West Indies\"],[\"Eldoret TKL HSE\"],[\"Eldoret Hill\"],[\"Mwitirithia\"],[\"Kahoya\"],[\"DC Office\"],[\"KFS\"],[\"Saleyard\"],[\"Kipsona Estate\"],[\"Eldoret West Campus\"],[\"African Holy Ghost Church\"],[\"Goodnews Kahoya\"],[\"Kogo Plaza\"],[\"Road Block\"],[\"Railways Eldoret\"],[\"Eldoret-R\"],[\"IPCH church\"],[\"Munyaka Police Station\"],[\"Central Primary School\"],[\"Elgon View Estate\"],[\"Kisumu Road Garage\"],[\"Little Lambs School\"],[\"Longonot Center\"],[\"Moi University Annex-GF\"],[\"Church Of Jesus Eldoret\"],[\"Eldoret Langas 2\"],[\"Kapseret\"],[\"Kesses-GF1\"],[\"Ngeria Shopping Center\"],[\"Kamogich Plaza\"],[\"Inabtich Primary School\"],[\"Plateau\"],[\"Marigat\"],[\"Makutano UXD KEEP\"],[\"Sergoit\"],[\"Kamorin\"],[\"Kapsowar\"],[\"Kabarnet\"],[\"Kabartonjo\"],[\"Kuinet\"],[\"Webuye\"],[\"Cherubei\"],[\"Kapsokwony\"],[\"Kimilili\"],[\"Sirungai\"],[\"Soy\"],[\"Kongoni\"],[\"Heys Bridge\"],[\"Turbo\"],[\"Myanga\"],[\"Bungoma town\"],[\"Malaba Customs\"],[\"Malaba\"],[\"Kocholya\"],[\"Sikhendu\"],[\"Lokichar\"],[\"Kapsabet\"],[\"Nandi hills\"],[\"Lessos Hilltop\"],[\"Shinyalu\"],[\"Chebunaywa\"],[\"Baraton University\"],[\"Serem\"],[\"Ndalat\"],[\"Lodwar Hill\"],[\"Lokichogio\"],[\"Timboroa Hill\"],[\"Nabkoi forest\"],[\"Burnt Forest\"],[\"Moi University\"],[\"Eldoret Outspan\"],[\"Matharu\"],[\"Tarakwa\"],[\"Kipsarman\"],[\"Nakobothan\"],[\"Peleketch\"],[\"Mnagei\"],[\"Garitei\"],[\"Luterere\"],[\"Morua Dou\"],[\"Songot Hill\"],[\"Lokwamur\"],[\"Marichipass\"],[\"Soy CDMA\"],[\"Elburgon CDMA\"],[\"Modicar_TKL\"],[\"Garissa province estate\"],[\"Garissa Provincial Hospital\"],[\"Mbuvu\"],[\"Katumba\"],[\"Madogo\"],[\"Alangor Arbu\"],[\"Dadaab\"],[\"Bura TKL\"],[\"HolaTown\"],[\"Tula\"],[\"Kabarnet Hill\"],[\"Kericho_Hospital\"],[\"TeaLand\"],[\"Kisii Town\"],[\"Kisii Milimani\"],[\"Kisii Vet clinic\"],[\"Kisii Exchange\"],[\"Kakamega_South\"],[\"Muliro Gardens\"],[\"Kakamega west\"],[\"Police Line\"],[\"Masaba Estate\"],[\"Kiminini\"],[\"Nyalenda\"],[\"Kassagem\"],[\"Kisumu TKL hse\"],[\"Auji\"],[\"Kisumu Mosque\"],[\"Kondele\"],[\"Manyatta\"],[\"KSM Nyamasaria\"],[\"Kisumu Hospital\"],[\"Kisumu police line\"],[\"Statehouse KR\"],[\"Tom Mboya Estate\"],[\"Kisumu Ring\"],[\"Ubinju\"],[\"Grace Ogot\"],[\"Maseno College Campus\"],[\"Maseno Magistrates Court\"],[\"East of Maseno University\"],[\"Kisumu Polytechnic\"],[\"Maseno\"],[\"Wagai\"],[\"Siaya\"],[\"Luanda\"],[\"Mutumbu\"],[\"Samia Hill\"],[\"Busia\"],[\"Butula Kalalani\"],[\"Mumias\"],[\"Sabatia Lunza\"],[\"Shianda-After\"],[\"Kakamega\"],[\"Kiboswa\"],[\"Maragoli forest\"],[\"Lunganyiro\"],[\"Shikusa\"],[\"KSM Mambolelo\"],[\"Butere\"],[\"Nyanchwa HILL\"],[\"Tombe\"],[\"Nyamira\"],[\"Sameta Hills\"],[\"Kisii_Road\"],[\"Kibiringo\"],[\"Cheromit\"],[\"Gembe Hill\"],[\"Nyambunwa\"],[\"Kamagambo\"],[\"Homabay show\"],[\"Onapo\"],[\"Mosocho\"],[\"Doho kosele\"],[\"Oyugis\"],[\"Kindu bay\"],[\"Ruga\"],[\"Migori - Exchange\"],[\"Ranen Highway\"],[\"Rongo\"],[\"Sondu\"],[\"Kadongo\"],[\"Ober\"],[\"Kisii Gesonso\"],[\"Nyangusu\"],[\"Nyacheki\"],[\"Nyamasimba\"],[\"United mall\"],[\"Nakumatt\"],[\"Maseno CDMA\"],[\"Ahero\"],[\"Homa Bay UXD\"],[\"Lamu\"],[\"Faza\"],[\"Lamu CBD\"],[\"Milhoi\"],[\"Witu\"],[\"Hindi\"],[\"Lokichogio centre\"],[\"Machakos\"],[\"Machakos Eastliegh\"],[\"Machakos Mutituni\"],[\"Kikambuani\"],[\"Katangi- CDMA\"],[\"Kitui TKL Exchange\"],[\"Mwanashungi\"],[\"Muyeye\"],[\"Malindi TKL hse\"],[\"Kisumu Ndogo (Malindi) port)\"],[\"Kibokoni\"],[\"Tropical Village\"],[\"White Elephant\"],[\"Garsen\"],[\"Msumarini\"],[\"Mambrui Radio Station\"],[\"Karengethe\"],[\"Meru Exchange\"],[\"Meru Timber\"],[\"Gatimbine\"],[\"Nkubu\"],[\"Kionyo\"],[\"Chuka\"],[\"Isiolo\"],[\"Nyambene\"],[\"Laare\"],[\"Nkuene\"],[\"Maua TKL\"],[\"Shika Adabu Likoni\"],[\"Likoni\"],[\"Baraki\"],[\"Ganjoni\"],[\"MSA TKL House\"],[\"KPA mombasa\"],[\"Majengo\"],[\"KIDUNGUNI-MT. SINAI\"],[\"Tudor\"],[\"Kongowea Market\"],[\"Nyali Link farm\"],[\"Changamwe SDA\"],[\"Mshomoroni Kisauni\"],[\"V.O.K Kisauni\"],[\"Miritini Vikombani\"],[\"Mbungoni Kisauni\"],[\"Bamburi Utange\"],[\"Bamburi\"],[\"Shimo La Tewa\"],[\"Mtongwe_2\"],[\"OLD Mombasa town\"],[\"Old Mombasa Town 2\"],[\"Madaraka\"],[\"Mnazini\"],[\"Swami\"],[\"Mombasa Jomo Kenyatta\"],[\"Lumumba\"],[\"Shimanzi\"],[\"Mombasa stadium\"],[\"Mombasa Tudor\"],[\"Mombasa magongo 1\"],[\"Mombasa magongo 2\"],[\"Jomvi\"],[\"Nakumatt Nyali 2 RT Building\"],[\"Mwandoni bamburi\"],[\"Mbaraki\"],[\"Kizingo white wall\"],[\"Pirates Beach\"],[\"Nakumat Nyali Cinemax\"],[\"West Changamwe\"],[\"Makupa\"],[\"Shimba Hills\"],[\"Mtwapa GSM\"],[\"Kikambala TKLexch\"],[\"Kilifi TKLexch\"],[\"Tezo\"],[\"Uyombo\"],[\"Gede junction\"],[\"Hemingways Resort\"],[\"Kokotoni\"],[\"Kenani\"],[\"Manyani\"],[\"Ndi Tsavo\"],[\"Voi hill\"],[\"Maungu (CDMA)\"],[\"Taru\"],[\"Samburu\"],[\"Mazeras (CDMA)\"],[\"Manyani Rd\"],[\"Nyali Exchange\"],[\"Mwatate/Chawia\"],[\"Kidong\"],[\"Taveta_TKL\"],[\"Sarova Whitesands Hotel\"],[\"Mbuni Road\"],[\"Chumvini\"],[\"Ngong Exchange\"],[\"Kikuyu\"],[\"Karen Rhino park\"],[\"Muthiga\"],[\"Kahuho\"],[\"Kiserian\"],[\"Karen Accacia\"],[\"Kirigu Waithaka\"],[\"Karen Miotoni\"],[\"Nkoroi\"],[\"Kabiria\"],[\"Lower Kabete\"],[\"Karura\"],[\"Riruta\"],[\"Kangemi\"],[\"Gathiga\"],[\"Langata\"],[\"Karuri\"],[\"Ngong_Sport_Club\"],[\"Ongata_Rongai\"],[\"Kawangware\"],[\"Rowallan camp\"],[\"Lavington\"],[\"Gachie\"],[\"Muthangari\"],[\"Jamhuri\"],[\"Kilimani Galana\"],[\"Peponi Rd\"],[\"Mucatha\"],[\"Karen Hospital\"],[\"Westlands Exch\"],[\"Kibera Malezi Sch\"],[\"Reliance Centre\"],[\"KTTC Gigiri\"],[\"Parklands_Exchange\"],[\"Nairobi_West\"],[\"South_Hill\"],[\"South B\"],[\"Parklands\"],[\"Runda\"],[\"Ngara\"],[\"Muthurwa\"],[\"Major_Works\"],[\"Eastleigh_THse\"],[\"Mogandishu rd\"],[\"Highway Exchange\"],[\"Kimathi Estate\"],[\"Thome Muthaiga north\"],[\"Kariobangi\"],[\"Embakasi mukuru\"],[\"Kariobangi South\"],[\"Mugomo\"],[\"Steel Makers\"],[\"Tena Estate\"],[\"Lucky Summer\"],[\"Kiamumbi\"],[\"Embakasi\"],[\"Komarock Infill\"],[\"Kasarani Clayworks\"],[\"Dandora\"],[\"Kahawa barracks\"],[\"Syokimau\"],[\"Githurai langata\"],[\"Ruiru membley\"],[\"Njiru\"],[\"Kahawa Sukari\"],[\"Ruiru\"],[\"Mavoko\"],[\"Athi_River\"],[\"TKL Ruai Club\"],[\"Kayole phase 1\"],[\"Mowlem\"],[\"Ngong hills\"],[\"Umoja innercore\"],[\"Karen Exchange\"],[\"Buru Buru Phase 3\"],[\"Tassia Estate\"],[\"Landmark Plaza\"],[\"St.Ellis House\"],[\"Loita house\"],[\"Hirani Building\"],[\"Rura Urban Credit Finance\"],[\"Ukulima Co-op Hse\"],[\"RELI CO-OP HSE\"],[\"Pangani Bujumbura Rd\"],[\"Panari\"],[\"Yaya Center\"],[\"KIRONGOTHI STREET\"],[\"Huruma\"],[\"BRUNEI HSE\"],[\"Kayole Phase III\"],[\"Lungalunga\"],[\"Paramount Plaza\"],[\"Church Rd\"],[\"ABC Place\"],[\"Plainsview\"],[\"Kayole Juakali\"],[\"Carnivore\"],[\"Spring valley\"],[\"NHIF Building\"],[\"Limuru Town\"],[\"Nyari Estate\"],[\"Likoni Rd\"],[\"Nairobi TKL hse\"],[\"CFC - Building\"],[\"Riara Road\"],[\"Pumwani\"],[\"KICC Macro\"],[\"Hughes House\"],[\"Nakumatt lifestyle\"],[\"Keiyo road\"],[\"Mwihoko GF\"],[\"kahawa Wendani\"],[\"Zimmerman\"],[\"Lenana Rd\"],[\"Githunguri CDMA\"],[\"TKL Pemba Road\"],[\"Nazarene University\"],[\"Savanna\"],[\"Sunrays\"],[\"Kamukunji Trade Center\"],[\"Kahawa west\"],[\"Mukoma road\"],[\"Lusiget\"],[\"Kinoo\"],[\"Gitaru\"],[\"Thigio\"],[\"Kabuku\"],[\"Kiambu North\"],[\"Kanunga\"],[\"Kawaida\"],[\"Tinganga\"],[\"Ikinu\"],[\"Eden Square\"],[\"Ngumo\"],[\"Dandora Phase 1\"],[\"Andrews Apartments\"],[\"Gigiri Exchange\"],[\"Loresho South\"],[\"Industrial Area - RT Building\"],[\"Ngong View\"],[\"Karen mother land\"],[\"Near Hillcrest Road\"],[\"Magadi Road\"],[\"Siaya Road\"],[\"Umoja Phase 2 Plot No J185\"],[\"Nanyuki Road\"],[\"Donholm Road\"],[\"Muteero Drop\"],[\"British American Insurance\"],[\"Karen Warai Road\"],[\"Magadi Road Greenfield\"],[\"Homestead Hosting Tower\"],[\"Muringa Road\"],[\"Pumwani Road\"],[\"K. Manyimbu\"],[\"Mandera OAD\"],[\"Iran Embassy\"],[\"Haridge INN\"],[\"Kiddyvilla Kindergaten\"],[\"Umoja 1N\"],[\"Riverside KR\"],[\"Brookside Drive\"],[\"Busia Road\"],[\"KWS Nairobi National Park\"],[\"weights and measures gf\"],[\"Niamey Lane\"],[\"Sunrise Estate 2\"],[\"KMTC\"],[\"Marak Limited\"],[\"Theke\"],[\"Kiou\"],[\"Kinyunyini\"],[\"Simba\"],[\"Mbui Nzau\"],[\"Kibwezi\"],[\"Kambu\"],[\"Nthawe\"],[\"Mtito Andei\"],[\"Diamond Estate GF\"],[\"Fedha Godowns\"],[\"Sultan Hamud\"],[\"Mtito Andei EXCH\"],[\"Magadi Radio\"],[\"Kayole5\"],[\"Githurai Akida Bakery\"],[\"Oloitoktok\"],[\"Namanga_Town\"],[\"Namanga Road\"],[\"Maparasha Hill\"],[\"Makueni Hill - TKL CMDA\"],[\"Isinya Polytechnic\"],[\"Ruiru Mahetero\"],[\"JKUAT Kiongo Hostel\"],[\"KU Central Stores\"],[\"Gitithia\"],[\"Lari/Kijabe\"],[\"Susian\"],[\"Karangita\"],[\"United Nations Gigiri\"],[\"Windsor Golf Club\"],[\"Upper Kabete Campus Entrance\"],[\"Cool Breeze Gardens\"],[\"Karen Country Club - Forest Road GF\"],[\"Ruaraka Exch\"],[\"Jogoo kimakia\"],[\"Otiende_GF\"],[\"6th Street Eastleigh\"],[\"Kibutu 1\"],[\"Gathanga\"],[\"Kwa Gathoni Mui-Muto\"],[\"Kangemi Hinga drive\"],[\"Crosby Shelters\"],[\"Oleserewa\"],[\"Fairmile School\"],[\"Mutomo\"],[\"Iremito\"],[\"Kencom House\"],[\"Thomson falls\"],[\"Nyahururu Hill\"],[\"Menengai\"],[\"Bangladesh\"],[\"Nakuru TKL hse\"],[\"Nakuru Celtel Highway\"],[\"Lanet\"],[\"Stima_Line\"],[\"Nakuru PC\"],[\"Nakuru TC\"],[\"Le rhino hotel\"],[\"Nwarik Farm\"],[\"Nakuru Eden\"],[\"Kipsigis Tugen\"],[\"Nakuru Shabab\"],[\"Ngala Flats\"],[\"Kasarani Police Line\"],[\"Mother Teresa Hotel\"],[\"Langa Langa\"],[\"Marshalls Garage\"],[\"Nakuru East\"],[\"Mawanga\"],[\"Highway\"],[\"Umoja Nakuru\"],[\"Kiamunyeki\"],[\"Mbaruk Road\"],[\"ACK Bondeni\"],[\"Naivas1\"],[\"Maasai Road\"],[\"Victonel Milimani\"],[\"KMTC Nakuru\"],[\"Shabaab Friend Church Quakers\"],[\"Nakuru_Rhonda\"],[\"Industrial Zone Naks\"],[\"PCEA Nakuru West Parish\"],[\"Pipeline\"],[\"Kabarak University\"],[\"Olorien\"],[\"Enengetia\"],[\"Narok TKL hse\"],[\"Narok Majengo\"],[\"Kenya Farmers Ass\"],[\"Naivasha\"],[\"IIKek\"],[\"Eburru(TKL Site)\"],[\"Gilgil Town\"],[\"Mbaruku\"],[\"Oserian\"],[\"Ol Kalou\"],[\"North kinangop\"],[\"Salgaa\"],[\"Londiani hill\"],[\"Makutano\"],[\"Londiani junction\"],[\"Kedowa\"],[\"Chepsir\"],[\"Kericho TKL HSE\"],[\"Sitotwet\"],[\"Kericho Kipsitet\"],[\"Nyando_Wangaya\"],[\"Nyando Kochieng\"],[\"Saosa\"],[\"Merigi\"],[\"Bosta hill\"],[\"Eldama Ravine\"],[\"Koiwa\"],[\"Mutarakwa Hill\"],[\"Kiboko Farm\"],[\"Molo town\"],[\"Londiani Town\"],[\"Koituiy\"],[\"Kamureito\"],[\"Sigowet\"],[\"Longonot Earth Station\"],[\"Mau Suswa\"],[\"Naire Enkare/Olasiti\"],[\"Ntulele\"],[\"Eorkule\"],[\"IL Mashariani\"],[\"Koitiko\"],[\"Bogoria\"],[\"Kiamaina\"],[\"Nyandundo\"],[\"Oldonyo Rasha\"],[\"Ngoswani\"],[\"Kaitapini\"],[\"Ngama hill\"],[\"Keekorok Hotel\"],[\"Lenganishu\"],[\"Talek market\"],[\"Mara bridge\"],[\"Mara Serena Lodge\"],[\"Governor Camp\"],[\"Marariada\"],[\"Aerosport Nanyuki\"],[\"Lolgorian\"],[\"Mulot\"],[\"Laikipia university\"],[\"Olesituo\"],[\"Olenguruone\"],[\"Olkuruk TKL\"],[\"Fig mara station\"],[\"Naivasha Flower farm\"],[\"Naivasha Military\"],[\"Kedong Ranch\"],[\"Skuta Trading Centre\"],[\"Nyeri Exchange\"],[\"Paresia\"],[\"Nyeri hills\"],[\"Pamki\"],[\"Kiganjo Post office\"],[\"Othaya Exchange\"],[\"Muranga_2\"],[\"Aerosport Nanyuki\"],[\"Gatundu\"],[\"Juja\"],[\"Thika\"],[\"Kenol\"],[\"Makuyu\"],[\"Merila Barrage\"],[\"Sagana Exch\"],[\"Kibingoti\"],[\"Karatina\"],[\"Wambugu farm\"],[\"Mwirua\"],[\"Kanunga\"],[\"Othaya\"],[\"Mukurweni\"],[\"Ol Donyo Sabuk\"],[\"Gatunyu\"],[\"Naromoru\"],[\"Kerugoya\"],[\"Maragwa\"],[\"Muranga\"],[\"Wanguru\"],[\"Kirirwa\"],[\"Kangari\"],[\"Karatu\"],[\"Moyale Hill\"],[\"Marsabit RPT\"],[\"Mandera\"],[\"Wajir Town\"],[\"Marallal KWS\"],[\"Wamba\"],[\"Laisamis\"],[\"Loldaika Hill\"],[\"Mt Kulal\"],[\"Turbi\"],[\"Baricho CDMA\"],[\"Madogashe\"],[\"Rhamu\"],[\"Elwak\"],[\"Sukela Tinfu\"],[\"Karo\"],[\"Tarbaj\"],[\"Wargadud\"],[\"Dida Galgalo\"],[\"Eldera\"],[\"Moyale Town\"],[\"Shimbiri\"],[\"Kanchara\"],[\"Boji Plains\"],[\"Affat\"],[\"Awal Abdulla\"],[\"Afwein KEEP\"],[\"Stema Relax\"],[\"Thika Makongeni\"],[\"Kiganjo Thika\"],[\"Thika Landless\"],[\"Upatia/Mbondoni\"],[\"Mwingi\"],[\"Voi TKL hse\"],[\"Garbatulla\"],[\"Telkom_Ol_Donyo_Sabach_Hill\"],[\"Telkom_Bartolimo\"],[\"Orange_Ololulunga\"],[\"Nyayo Embakasi\"],[\"Wathorego\"],[\"Bungoma Musikoma\"],[\"Musese\"],[\"Kaborok\"],[\"Bungoma Kewa\"],[\"Ligosi\"],[\"Amoni\"],[\"Nyilima Market\"],[\"Gisambai\"],[\"Sirisia\"],[\"Webuye Matisi\"],[\"Chemalal\"],[\"Tulienge\"],[\"Kibisi\"],[\"Busembe\"],[\"Ahero Junction\"],[\"Nyamasaria Dubai Complex\"],[\"Kisumu Nanga\"],[\"Mabera Town\"],[\"Mbale South\"],[\"Ngao\"],[\"Bura\"],[\"Garsen\"],[\"Masalani\"],[\"Hola\"],[\"Kamor Jila\"],[\"Vipingo\"],[\"Mariakani\"],[\"Roka\"],[\"Kinarani\"],[\"Kanamai_Majengo\"],[\"Jaribuni\"],[\"Tezo\"],[\"Chonyi\"],[\"Ganze\"],[\"Kilifi_Beach_Area\"],[\"Mtwapa\"],[\"Kikambala\"],[\"Kilifi_Ruruma\"],[\"Kaloleni\"],[\"Kibaoni\"],[\"Tsangatsini\"],[\"Kilifi_Town\"],[\"Kilifi_Bofa\"],[\"Bamba\"],[\"Sokoke\"],[\"Mwangea\"],[\"Kilifi_Town_2\"],[\"Bamba Zowerani\"],[\"Vanga_Town\"],[\"Msambweni\"],[\"Tiwi\"],[\"Shimoni\"],[\"Ramisi\"],[\"Ngombeni\"],[\"Kwale_Town\"],[\"Diani_South\"],[\"Lunga_Lunga\"],[\"Shimba_Hills\"],[\"Kwale_Ukunda\"],[\"Kwale_Makongeni\"],[\"Mwangulu_Town\"],[\"Diani_Center\"],[\"Mombasa_Diani_North\"],[\"Kinango\"],[\"Baobab Beach Resort\"],[\"Mpeketoni\"],[\"Lamu_Town\"],[\"Ngomeni\"],[\"Malindi_Casaurina\"],[\"Malindi Cbd\"],[\"Watamu_East\"],[\"Madunguni\"],[\"Malindi_Chembe\"],[\"Gede\"],[\"Msabaha\"],[\"Shella\"],[\"Malindi_Tourist_Market\"],[\"Kibokoni\"],[\"Mambrui\"],[\"Marafa\"],[\"Mwenda_Pole\"],[\"Malindi Kisumu Ndogo\"],[\"Malindi_Airport_2\"],[\"Malindi_Complex\"],[\"Tudor Sea View Academy\"],[\"Mombasa_Makaburini\"],[\"Mombasa_Nyali_Beach\"],[\"Mtongwe\"],[\"Kongowea\"],[\"Mombasa_Miritini\"],[\"Mombasa_Shelly_Beach\"],[\"Mombasa_Jomvu\"],[\"Mombasa_Changamwe\"],[\"Mombasa_Nasser\"],[\"Mombasa_Magongo\"],[\"Mombasa_Bamburi_Cement\"],[\"Mombasa_Polytechnic\"],[\"Mombasa_Utangu\"],[\"Mombasa_Voyager\"],[\"Mombasa_Sabasaba\"],[\"Mombasa_Mbaraki_Sports_Club\"],[\"Mombasa_Nyali_Centre\"],[\"Mombasa_Chaani\"],[\"Mombasa_Bombolulu\"],[\"Mombasa_Mto_Panga\"],[\"Mombasa_Bamburi\"],[\"Mombasa_Shanzu\"],[\"Mtwapa_Mtomodoni\"],[\"Nyali-Links\"],[\"Aldina_Mkindani\"],[\"Likoni_346\"],[\"English_Point\"],[\"Mombasa Mtopanga 2\"],[\"Mombasa_Shelly_Beach_2\"],[\"Kilifi_Kiwanjani\"],[\"Mombasa_Likoni_New\"],[\"Mombasa_Mnazi\"],[\"Mombasa_Nyali_South\"],[\"Mombasa_Lumumba\"],[\"Mombasa_Kilindini_New\"],[\"Mombasa_Jomo_Kenyatta\"],[\"Mombasa_Ganjoni\"],[\"Mombasa_Majengo\"],[\"Kizingo\"],[\"Mombasa_Old_Town\"],[\"Mombasa_Digo\"],[\"Mombasa_Industrial_Area\"],[\"Mombasa_Stadium\"],[\"Mombasa_Shimanzi_Port_Gate\"],[\"Mombasa_Makupa\"],[\"Mombasa_Tudor\"],[\"Mombasa_Kipevu\"],[\"Mombasa_Mwandoni\"],[\"Mombasa_Makadara_New\"],[\"Mombasa_Mwembe_Tayari\"],[\"Mombasa_City_Mall\"],[\"Mlaleo_Kisauni\"],[\"Kiembeni Blue Estate\"],[\"Kiun\"],[\"TSS\"],[\"Athi River\"],[\"Ilbsil\"],[\"Ilmasin\"],[\"Iltoroto\"],[\"Iltoroto_Easement and Right of Access\"],[\"Isinya\"],[\"Isinya New\"],[\"Kajiado_Town\"],[\"Emali Makutano\"],[\"Kisaju\"],[\"Kitengela\"],[\"Kitengela_Muigai\"],[\"Kitengela_Prisons\"],[\"Kitengela_Town\"],[\"Lukuny\"],[\"Magadi_Town\"],[\"Mpayeei_Stage\"],[\"Namanga\"],[\"Nkoroi\"],[\"Oloitokitok\"],[\"Olsirua_Hill\"],[\"Ostrich_Farm\"],[\"Pcea_Kitengela\"],[\"Rombo\"],[\"Tata Kajiado\"],[\"Wilson_Kilima_Kiu\"],[\"Kisasi\"],[\"Ikutha\"],[\"Katulani\"],[\"Kitui Muslim\"],[\"Kitui_Majengo\"],[\"Kitui_Town\"],[\"Ksyusiani\"],[\"Kyangwithya\"],[\"Mbitini\"],[\"Mui\"],[\"Mutito\"],[\"Mutomo\"],[\"Nthongoni\"],[\"Tulia\"],[\"Taru\"],[\"Athi_River_Kmc\"],[\"Athi_River_Ngei\"],[\"Athi_River_Portland\"],[\"Daystar_Athi_River\"],[\"Ekalakala\"],[\"Simba Cement\"],[\"Ikalaasa\"],[\"Ikombe\"],[\"Kaani\"],[\"Kabaa\"],[\"Kakuyuni\"],[\"Kalukuni\"],[\"Kamburu\"],[\"Kangundo\"],[\"Katangi\"],[\"Kathekani\"],[\"Katutu\"],[\"Kithimani\"],[\"Kongoni\"],[\"Lita\"],[\"Machakos Garden Hotel\"],[\"Machakos_Centre\"],[\"Machakos_Kathiani\"],[\"Machakos_Market\"],[\"Machakos_Masii\"],[\"Machakos_Miwani_Estate\"],[\"Machakos_St.Valentines\"],[\"Machakos_Town\"],[\"Matuu\"],[\"Mitaboni\"],[\"Mbevo Hill\"],[\"Mlolongo\"],[\"Muthetheni\"],[\"Mutuobane_Market\"],[\"Ngelani\"],[\"Nguluni\"],[\"Ngungi\"],[\"Ol_Donyo_Sabuk\"],[\"Syokimau\"],[\"Tala\"],[\"Theke_Hill\"],[\"Ulutya_Hill\"],[\"Wamunyu\"],[\"Kalawa\"],[\"Kalawani\"],[\"Kambu\"],[\"Kathonzweni\"],[\"Kathyaka\"],[\"Kibwezi_2\"],[\"Kinyunyini\"],[\"Kitise\"],[\"Kyakituku\"],[\"Machinery\"],[\"Makindu\"],[\"Makueni_Kiboko\"],[\"Makueni_Mbui _Nzau\"],[\"Makuyuni\"],[\"Malooi_Hills\"],[\"Masue_Hill\"],[\"Matiliku\"],[\"Mavindini\"],[\"Mbooni\"],[\"Nthawe\"],[\"Kikoko_Hill\"],[\"Salama\"],[\"Sultan Hamud 1\"],[\"Kilanguni_New\"],[\"Mtito Andei\"],[\"Kairungu\"],[\"Kyuso\"],[\"Mbondoni\"],[\"Mbuvu\"],[\"Migwani\"],[\"Musavani\"],[\"Mutwangombe\"],[\"Mwingi_Pcea\"],[\"Mwingi_Town\"],[\"Ngiluni\"],[\"Nguni\"],[\"Nguutani\"],[\"Nuu\"],[\"Ukasi\"],[\"Waita\"],[\"Ilbisil_Centre\"],[\"Ghazi\"],[\"Grogon_Hill\"],[\"Kyulu_Hill\"],[\"Manyani\"],[\"Maungu\"],[\"Mgange_Mwanda\"],[\"Mwatongo_Hill\"],[\"Taveta_Town\"],[\"Voi\"],[\"Wundanyi\"],[\"Mwea Wanguru\"],[\"Kiamutugu\"],[\"Kutus\"],[\"Kiamutugu_Shopping_Centre\"],[\"Kimunye\"],[\"Kagumo\"],[\"Karumandi\"],[\"Kimbimbi\"],[\"Kerogoya_Town\"],[\"Ihwagi\"],[\"Kiangai\"],[\"Kutus_Market\"],[\"Kiagatha\"],[\"Kianyaga\"],[\"Murinduko\"],[\"Baricho_Ndia\"],[\"Kerugoya_Kongo_Estate\"],[\"Mwea Town\"],[\"Kutus Mjini\"],[\"Tigoni\"],[\"Kwamaiko\"],[\"Nazareth\"],[\"Thogoto\"],[\"Kinoo\"],[\"Kiratina\"],[\"Kamae\"],[\"Karai\"],[\"Kahuho\"],[\"Ruaka\"],[\"Gichuru\"],[\"Thigio_Kiambu\"],[\"Gitaru\"],[\"Ndeiya\"],[\"Ikinu\"],[\"Kambaa\"],[\"Gakoe\"],[\"Tinganga_Safcom\"],[\"Rukuma\"],[\"Kagwe\"],[\"Kibichoi\"],[\"Nyathuna\"],[\"Muchatha_Village_Safcom\"],[\"Kinale\"],[\"Ting'ang'a\"],[\"Kiambaa_Centre\"],[\"Karura\"],[\"Kiambu_Kamiti\"],[\"Kikuyu_2\"],[\"Wangige\"],[\"Nairobi_UNEP\"],[\"Kihara_Redhill_Road\"],[\"Nairobi_Runda_Police\"],[\"Wangige_Market\"],[\"Nairobi_Runda\"],[\"Muguga\"],[\"Kiambaa\"],[\"Kianjogu\"],[\"Kanunga_Kiambu\"],[\"Kiambu_Town\"],[\"Limuru\"],[\"Githunguri\"],[\"Gitithia\"],[\"Lari\"],[\"Nairobi_Ridgeways_New\"],[\"Kiambu_Thembigua\"],[\"Ruiru_Mow\"],[\"Ruiru Kimbo\"],[\"Ruiru Kamakis\"],[\"Banana Hills\"],[\"Wangige_Kibichiko\"],[\"Membley\"],[\"Kiambu_Kasarini\"],[\"Kihara_Gachie Area\"],[\"Ridgeways\"],[\"Ruiru _Murera Area\"],[\"Tigoni_2\"],[\"Ku Teaching Refferal\"],[\"Kiambu Ruabai\"],[\"Ngarariga\"],[\"Kagwe_New\"],[\"Wanguthu_Banana\"],[\"Kiambu_Rumenye\"],[\"Giraru Rikubi\"],[\"Water Tower (Cow)\"],[\"Tatu Industrial Cow\"],[\"Windsor Marurui\"],[\"Brackenhurst\"],[\"Limuru_2\"],[\"Kiambu_Law_Courts\"],[\"Juja Mucatha\"],[\"Crystal Spring Apartments\"],[\"Ndumberi\"],[\"Reymark Hotel(Kiambu Town)\"],[\"Kiambu-Mapa House\"],[\"Thika Arcade\"],[\"Murang'A_Town\"],[\"Kibirigwi\"],[\"Kangema\"],[\"Gatuya\"],[\"Mugoiri\"],[\"Ngonda\"],[\"Kiambugi\"],[\"Mugeka\"],[\"Nyakianga\"],[\"Gatara\"],[\"Gikoe\"],[\"Muriranja\"],[\"Githumu\"],[\"Kenol\"],[\"Kandara\"],[\"Gatura\"],[\"Gakuyu\"],[\"Gacharage\"],[\"Kimorori_North\"],[\"Ciumbu\"],[\"Kirere\"],[\"Sabasaba\"],[\"Kakuzi\"],[\"Maragua_Town\"],[\"Kangare\"],[\"Muranga_North\"],[\"Sagana\"],[\"Gichichi\"],[\"Ruiru\"],[\"Juja\"],[\"Gatundu\"],[\"Zena_Roses\"],[\"Mangu\"],[\"Juja_Farm\"],[\"Thika_Landless_Estate\"],[\"Thika_Kyanjau\"],[\"Kiganjo_Gatundu\"],[\"Githurai_Mwihoko\"],[\"Gatukuyu\"],[\"Thika_Highlevel\"],[\"Thika_Makongeni\"],[\"Ruiru_Mills\"],[\"Kahawa\"],[\"Murera\"],[\"Kalimoni_Kenyatta_Road\"],[\"Thika_Industrial_Area\"],[\"Thika_Town\"],[\"Gatundu_North\"],[\"Gatanga\"],[\"Mururia\"],[\"Thare_Kandara\"],[\"Thika_Riverside\"],[\"Thika_Makongeni_2\"],[\"Thika_Maki\"],[\"Thika_Haile_Selassie\"],[\"Sabuk 2\"],[\"Thika Cemetry\"],[\"Thika_Kilifi\"],[\"Kamugere\"],[\"Embu_Kimathi\"],[\"Siakago\"],[\"Ishiara\"],[\"Kanyuambora\"],[\"Kianjiru_Hills\"],[\"Githimu\"],[\"Makutano\"],[\"Embu_Town\"],[\"Embu_Kari\"],[\"Runyenjes_Improvement\"],[\"Kianjokoma\"],[\"Mufu\"],[\"Embu_Nguviu\"],[\"Manyata\"],[\"Nkarue_Hill\"],[\"Gachoka\"],[\"Embu_Ngariama\"],[\"Naningi\"],[\"Liboi\"],[\"Daadab\"],[\"Modicar\"],[\"Haraa\"],[\"Abed_Samwet\"],[\"Dertu\"],[\"Tula\"],[\"Madogo\"],[\"Shimbiri\"],[\"Madogo Town\"],[\"Garissa Iftin\"],[\"Garissa_Technical\"],[\"Isiolo_Town\"],[\"Archers_Post\"],[\"Elwak\"],[\"Rhamu\"],[\"Kutulo\"],[\"Mandera_Town\"],[\"Elhache\"],[\"Derkale\"],[\"Al Yusra Hotel Moyale\"],[\"Timau\"],[\"Nkoriga\"],[\"Nkubu\"],[\"Mwimbi\"],[\"Githongo\"],[\"Katimbi\"],[\"Nthumburi\"],[\"Chogoria\"],[\"Thuura\"],[\"Kianjai\"],[\"Maua\"],[\"Mutuati\"],[\"Laare\"],[\"Kirindine\"],[\"Athiru\"],[\"Meru_Makutano\"],[\"Ntunyai\"],[\"Mikinduri\"],[\"Kinoro_Mugae\"],[\"Kiathandi_Hill\"],[\"Laare_Town\"],[\"Nkubu_Town\"],[\"Mpuri\"],[\"Sheki\"],[\"Karema_Maili_Tatu\"],[\"Kithiru\"],[\"Mitunguu_Kiija\"],[\"Magutuni\"],[\"Marimanti\"],[\"Meru_Kiriine\"],[\"Meru_Gikoromone\"],[\"Meru_Timber\"],[\"Kathangacini\"],[\"Kangeta\"],[\"Kawiru\"],[\"Kathelwa\"],[\"Chera\"],[\"Ikuu\"],[\"Kajiampau\"],[\"Kenyakine\"],[\"Rubiri\"],[\"Gikumeene\"],[\"Meru_Town\"],[\"Ruiri\"],[\"Anchenge\"],[\"Meru_East\"],[\"Chuka\"],[\"Nanyuki\"],[\"Doldol\"],[\"Berguret\"],[\"Mount_Kenya_Safari_Club\"],[\"Chaka_Muthaiga\"],[\"Kagongo\"],[\"Endarasha\"],[\"Gatitu\"],[\"Nyeri_Sikuta\"],[\"Nyeri_Ruringu\"],[\"Muthinga\"],[\"Watuka\"],[\"Nyeri_St_Marys\"],[\"Nyeri_Gichanga\"],[\"Kangurwe\"],[\"Kanunga\"],[\"Munyange\"],[\"Karatina\"],[\"Gathumbi\"],[\"Nyeri_East\"],[\"Nyeri_North\"],[\"Kingongo\"],[\"Nyeri_Hill\"],[\"Ngandu\"],[\"Mweiga\"],[\"Kimahuri\"],[\"Loisoi\"],[\"Naru_Moru\"],[\"Nyeri Thegenge\"],[\"Nyeri Provincial_Hospital\"],[\"Othaya _Town\"],[\"Karatina_Minju_Plaza\"],[\"Nyeri _Cbd\"],[\"Moda_Gashe\"],[\"Habaswein\"],[\"Kampi_Ya_Samaki\"],[\"Marigat\"],[\"Maji_Moto\"],[\"Kiptere\"],[\"Sigowet\"],[\"Kedowa\"],[\"Kericho_Town_Improvement\"],[\"James_Finlay\"],[\"Kericho_Kapsuser\"],[\"Kapsoit\"],[\"Cheptalal\"],[\"Kiptiget\"],[\"Roret\"],[\"Chebowen\"],[\"Kericho_Town\"],[\"Kipchimchim\"],[\"Sitotwet\"],[\"Koyabei\"],[\"Londiani\"],[\"Naivasha Crater Lake\"],[\"Enashipae Karagita\"],[\"Mogotio\"],[\"Elburgon\"],[\"Njoro\"],[\"Kabarak\"],[\"Thigio\"],[\"Kerisoi\"],[\"Turi\"],[\"Nakuru_Stima_Line\"],[\"Nakuru_Kaptembwa\"],[\"Likia\"],[\"Nakuru_Bondeni\"],[\"Nakuru_Pangani\"],[\"Nakuru_Unga_Estate\"],[\"Naivasha_Kenyatta_Avenue\"],[\"Nakuru_Wei_Wei\"],[\"Nakuru_Rhonda_West\"],[\"Esageri\"],[\"Naivasha\"],[\"Nakuru_Koinange\"],[\"Nakuru_Naka\"],[\"Mau_Summit\"],[\"Naivasha_South\"],[\"Menengai\"],[\"Oserian\"],[\"Olenguruone\"],[\"Naivasha_North_Lake_Road\"],[\"Nakuru_Mawaka\"],[\"Nakuru_Fifty_Eight\"],[\"Solai_Arutani\"],[\"Nakuru_Bahati\"],[\"Nakuru_Ngata\"],[\"Njoro_Campus\"],[\"Nakuru_Racetrack\"],[\"Rongai_Salgaa\"],[\"Nakuru Ttc/Industries\"],[\"Naivasha_Kabati\"],[\"Subukia_Moro/Oljoro_Orok_2\"],[\"Nakuru_Ngei_Estate\"],[\"Nakuru_Rhonda_East\"],[\"Heshima_ Centre\"],[\"Engoshura_ Jandu\"],[\"Enengetia\"],[\"Macha\"],[\"Gilgil\"],[\"Elementaita\"],[\"Keringet_North_Olen\"],[\"Mbaruk\"],[\"Nakuru_Pipeline\"],[\"Nakuru_Lanet\"],[\"Nakuru_Railway_Station\"],[\"Nakuru_Milimani\"],[\"Nakuru_Barracks\"],[\"Molo\"],[\"Dundori\"],[\"Londiani_Hill\"],[\"Dundori_Primary\"],[\"Mogotio_2\"],[\"Nakuru_ Bahati_ Road\"],[\"Nakuru_Golf\"],[\"Nakuru_Kapkures\"],[\"Soko Mjinga\\u00a0\"],[\"Mbaruku_2\"],[\"Njoro Road\"],[\"Sobea\"],[\"Salgaa\"],[\"Nakuru_Gusii_Road\"],[\"Rumuruti\"],[\"Mairo_Inya\"],[\"Marmanet_Ol_Jabet\"],[\"Ndindika\"],[\"Nyahururu\"],[\"North_Kinangop\"],[\"Olkalou\"],[\"Laikipia_Campus\"],[\"Njabini\"],[\"Kipipiri\"],[\"Ndaragwa\"],[\"Aberdare_Mikeu\"],[\"Oljoroorok\"],[\"Ngano\"],[\"Tumaini\"],[\"South_Kinangop\"],[\"Ndemi\"],[\"Shamata\"],[\"Turasha\"],[\"Suguta_Marmar\"],[\"Ndunyu_Njeru\"],[\"Mairo_Inya_Ziwani\"],[\"Ngarua\"],[\"Cokereria\"],[\"Olkalau\"],[\"Nyandundo\"],[\"Nyahururu_Muthaiga\"],[\"Primarosa\"],[\"Kimalewa\"],[\"Lwakhakha\"],[\"Samitsi\"],[\"Kapsakwony\"],[\"Kapkateny\"],[\"Kamukuywa\"],[\"Sirisia\"],[\"Kimilili_Town\"],[\"Cheptais\"],[\"Misikhu\"],[\"Machewa\"],[\"Eldoret_Kimumu\"],[\"Elgeyo_Border_Centre\"],[\"Kaptagat_Cheptigit\"],[\"Chepkoilel\"],[\"Matunda\"],[\"Leseru\"],[\"Eldoret_Polytechnic\"],[\"Soy\"],[\"Eldoret_Cheptiret\"],[\"Sirungai_Hill\"],[\"Eldoret_Airport\"],[\"Eldoret_East\"],[\"Eldoret_Testmony\"],[\"Eldoret_Raymond\"],[\"Eldoret_Sosiani\"],[\"Eldoret_Rail_Station\"],[\"Moi_University\"],[\"Eldoret_Annex\"],[\"Eldoret_Langas\"],[\"Eldoret Eatech\"],[\"Eldoret_West_Indies\"],[\"Eldoret_Kapsoya\"],[\"Eldoret_Kidiwa\"],[\"Eldoret_Huruma\"],[\"Eldoret_Hill\"],[\"Webuye_Paper_Mills\"],[\"Timboroa_2\"],[\"Kondoo\"],[\"Eldoret North West\"],[\"Eldoret-Langas\"],[\"Yamumbi\"],[\"Ainamoi\"],[\"Eldoret Nandi Road\"],[\"Eldoret_Huruma_King'Ong'O\"],[\"Eldoret Outspan\"],[\"Ndalu\"],[\"Eldoret_Bus_Park\"],[\"Rupa_Mall_Ibs\"],[\"Eldoret-Kvda Plaza\"],[\"Kabartonjo\"],[\"Tenges\"],[\"Iten\"],[\"Chepkorio\"],[\"Flax_Koibarak\"],[\"Kapsowar\"],[\"Tot\"],[\"Chelingwa\"],[\"Timboiwo\"],[\"Ngarua_Kinamba_1\"],[\"Kuserua_Hills\"],[\"Kamwosor\"],[\"Moiben\"],[\"Kapsabet\"],[\"Baraton\"],[\"Tindinya\"],[\"Musoriot\"],[\"Koisagat\"],[\"Kaptumo\"],[\"Kobujoi\"],[\"Kapkoriot\"],[\"Kipchekwen\"],[\"Nandi_Hills\"],[\"Kabiyet\"],[\"Kapkoros\"],[\"Diguna\"],[\"Lesos\"],[\"Cheptulel\"],[\"Sigor_West_Pokot\"],[\"Lomut\"],[\"Chesoi\"],[\"Kacheliba\"],[\"Chepnyal\"],[\"Chebara\"],[\"Chepkono\"],[\"Ortum\"],[\"Kiminini\"],[\"Endebess\"],[\"Cheranganyi\"],[\"Ziwa Sirikwa\"],[\"Saboti\"],[\"Tongareni\"],[\"Chepararia\"],[\"Kitale_Waitaluk\"],[\"Sitatunga\"],[\"Matisi\"],[\"Mount_Elgon_Orchards\"],[\"Kitale_East\"],[\"Kitale_Wamuini\"],[\"Kitale_Namawanga\"],[\"Kipsaina\"],[\"Kwanza\"],[\"Kitale_Cbd\"],[\"Kapenguria County Offices\"],[\"Lukuyani\"],[\"Kakuma\"],[\"By_Kwen\"],[\"Eldama_Ravine\"],[\"Chepilat\"],[\"Bomet_Town\"],[\"Kaboson\"],[\"Silibwet\"],[\"Kapnariet\"],[\"Siongiroi\"],[\"Litein\"],[\"Sotik\"],[\"Koiwa\"],[\"Ndanai\"],[\"Chebango\"],[\"Sigor\"],[\"Gorgor\"],[\"Kapkatet\"],[\"Longisa\"],[\"Ibencho\"],[\"Igorera\"],[\"Nyamondo\"],[\"Nyaronge\"],[\"Homabay_Town\"],[\"Rodi\"],[\"Asumbi\"],[\"Olare\"],[\"Mikumi_Hills\"],[\"Ruma\"],[\"Kadongo_New\"],[\"Kehancha\"],[\"Luoro\"],[\"Ntimaru\"],[\"Getambwega\"],[\"Mabera_Thagare\"],[\"Kisii_Hill\"],[\"Keroka\"],[\"Kiogoro\"],[\"Nyansiongor\"],[\"Mosocho\"],[\"Nyamira_Manga\"],[\"Bobaracho\"],[\"Nyamarambe\"],[\"Etago\"],[\"Kamagambo\"],[\"Ranen\"],[\"Rongo\"],[\"Muhuru_Bay\"],[\"Sori\"],[\"Kawere\"],[\"Awendo\"],[\"Migori_Ombo\"],[\"Tombe\"],[\"Gikendu\"],[\"Nyamaiya\"],[\"Manga\"],[\"Menyenya_Hills\"],[\"Kionyomo\"],[\"Pap_Onditi\"],[\"Oyugis\"],[\"Kadongo\"],[\"Kosele\"],[\"Ongalo\"],[\"Mawego\"],[\"Ndhiwa\"],[\"Kilgoris_Shartuka\"],[\"Kilgoris\"],[\"Kanyamwa_Komungu\"],[\"Rusinga_Kaswanga\"],[\"Gembe_Hill\"],[\"Masaba_Getonganya\"],[\"Kisii_Milimani\"],[\"Kisii_Nyakongo\"],[\"Kisii_Nyamataro\"],[\"Emenwa\"],[\"Gogo\"],[\"Kibirigo\"],[\"Mokwerero\"],[\"Isebania\"],[\"Nyasoko_Hill\"],[\"Migori_Town\"],[\"Endoinyo-Nkopit\"],[\"Uriri\"],[\"Nyacheki\"],[\"Kiomiti\"],[\"Kiobegi\"],[\"Kiamokama\"],[\"Ogembo\"],[\"Keumbu\"],[\"Suneka_Nyangiti\"],[\"Kisaku\"],[\"Omwari \"],[\"Mokomoni\"],[\"Nyamira_Town\"],[\"Komala\"],[\"Kiwegi\"],[\"Nyabondo\"],[\"Sondu\"],[\"Kusa\"],[\"Kisii Univerity\"],[\"Isebania_2\"],[\"Katito\"],[\"Keroka_Town\"],[\"Suneka\"],[\"Migori_Namba\"],[\"Ikerege\"],[\"Wst_New_Site(Kenyago)\"],[\"Kandienge\"],[\"Homaline Market\"],[\"Gesima\"],[\"Magwagwa\"],[\"Nyawita\"],[\"Oyombe\"],[\"Ndege Oriedo\"],[\"Kisii-Ekerore\"],[\"Kisii_Town\"],[\"Mulot\"],[\"Oloolaimutia\"],[\"Aitong\"],[\"Ololulunga\"],[\"Naroosura\"],[\"Keekorok_Lodge\"],[\"Lolgorian_1\"],[\"Olkurruk\"],[\"London__Estate\"],[\"Talek\"],[\"Kaitapini\"],[\"Ewaso_Ngiro\"],[\"Ntulelei\"],[\"Narok_Town\"],[\"Nairegenkare\"],[\"Mpata_Club\"],[\"Merigi\"],[\"Mara_ Serena\"],[\"Mara_Musiara\"],[\"Maji_Moto_Hill\"],[\"Mara_Intrepid\"],[\"Sikusi\"],[\"Bungoma_Town\"],[\"Chwele \"],[\"Chebukwa\"],[\"Tulukuyi\"],[\"Kanduyi\"],[\"Khachonge\"],[\"Kibisi\"],[\"Mabanga\"],[\"Bokoli\"],[\"Sangalo\"],[\"Angurai\"],[\"Malaba\"],[\"Alupe\"],[\"Amagoro\"],[\"Malakisi\"],[\"Kiboochi_Centre\"],[\"Ejinja\"],[\"Mundika\"],[\"Mutomolo_Centre\"],[\"Bumula\"],[\"Bungoma_Hill\"],[\"Amukura\"],[\"Kolanya\"],[\"Kibabil_University\"],[\"Busia_Town\"],[\"Nambale\"],[\"Ruambwa\"],[\"Busibwabo\"],[\"Murumba\"],[\"Matayos\"],[\"Port_Victoria\"],[\"Andungosi\"],[\"Funyula\"],[\"Bumala\"],[\"Busia Town Improvement\"],[\"Budalangi\"],[\"Sio_Port\"],[\"Ruambwa_2\"],[\"Namasoli\"],[\"Malava\"],[\"Bukura\"],[\"Khayega\"],[\"Musoli\"],[\"Bukhaywa\"],[\"Shimanyiro\"],[\"Shikomari\"],[\"Eshironyangah\"],[\"Lugari\"],[\"Lumakanda\"],[\"Eshisiru_Centre\"],[\"Shinyalu\"],[\"Malava_2\"],[\"Khwisero_2\"],[\"Kambiri\"],[\"Chekalini\"],[\"Kakamega_Cannon_Awori_Street\"],[\"Banja\"],[\"Kipsitet\"],[\"Kipkelion\"],[\"Kisumu_Mountain_View\"],[\"Kisumu_Tom_Mboya_College\"],[\"Akala\"],[\"Daraja Mbili\"],[\"Kajulu_Got_Nyabondo\"],[\"Kisumu_Kemri\"],[\"Kisumu_Dunga_Beach_1\"],[\"Lihanda_West_Gem\"],[\"Kisumu_Manyatta_Skyway\"],[\"Kisumu_Auji\"],[\"Emuhaya\"],[\"Luanda\"],[\"Mbale\"],[\"Serem\"],[\"Kaimosi\"],[\"Majengo\"],[\"Tamu\"],[\"Miwani\"],[\"Rabour\"],[\"Ombeyi\"],[\"Kisumu_Airport\"],[\"Kisumu_Industrial_Area\"],[\"Maragoli_Forest\"],[\"Kisumu_Stadium\"],[\"Kisumu_Nyawita\"],[\"Kisumu_Elgons_Estate\"],[\"Pau_Akuche\"],[\"Ksm_Patel_Junction\"],[\"Kisumu_Kiboswa\"],[\"Kisumu_Nyalenda\"],[\"Kisumu_Chiga\"],[\"Ndere\"],[\"Kandege\"],[\"Nyawanga\"],[\"Fort_Tenan\"],[\"Ahero\"],[\"Kisumu_Mowlem\"],[\"Kisumu_Milimani\"],[\"Migosi\"],[\"Kisumu_Mamboleo\"],[\"Maseno\"],[\"Viyalo\"],[\"Kisumu_Manyatta_2\"],[\"Wathorego\"],[\"Nyalenda_B\"],[\"Kisumu_Kolwa\"],[\"Kisumu_Manyatta _B\"],[\"Awasi\"],[\"Kajulu_Osiepe\"],[\"Kisumu_Tido\"],[\"Kisumu_Al_Miran_Plaza\"],[\"Kisumu_Swami_Center\"],[\"Ahero New\"],[\"Kisumu_Obwolo_Junction\"],[\"Musanda\"],[\"Lunza\"],[\"Khwisero\"],[\"Shianda\"],[\"Bulimbo\"],[\"Khumusalaba\"],[\"Buhuru\"],[\"Mumias_Town\"],[\"Kabula_Market\"],[\"Butula\"],[\"Mumias_Sugar\"],[\"Mumias_West\"],[\"Butere\"],[\"Ngere\"],[\"Nyilima_Kandaria\"],[\"Got_Kachieng\"],[\"Nyamonye\"],[\"Ragegni\"],[\"Bondo_TTC\"],[\"Muhanda\"],[\"Ugunja\"],[\"Ukwala\"],[\"Sidindi\"],[\"Kandindi/Kalandini\"],[\"Ting'Wang'I\"],[\"Unyolo\"],[\"Ng'iya\"],[\"Madiany\"],[\"Nyangoma\"],[\"Gobei\"],[\"Bondo_Town\"],[\"Usenge\"],[\"Siaya_East\"],[\"Yala_Town\"],[\"Kombewa_2\"],[\"Bondo_Guba\"],[\"Kadenge\"],[\"Mai_Mahiu\"],[\"Susian_Hill\"],[\"Nairobi_Kawangware\"],[\"Nairobi_Parkview\"],[\"Nairobi_Bogani\"],[\"Nairobi_Innercore\"],[\"Nairobi_Outerring\"],[\"Nairobi_Otiende_Estate\"],[\"Nairobi_Kim_South_C\"],[\"Nairobi_Ole_Odume_Kilimani\"],[\"Nairobi_Kileleshwa_Suguta_Road\"],[\"Nairobi_Kikuyu_Road\"],[\"Nairobi_Githunguri_Ruai\"],[\"Nairobi_Mamba_Village\"],[\"Nairobi_Arboretum\"],[\"Nairobi_Railways_Headquarters\"],[\"Nairobi_Dandora_Phase_Ii\"],[\"Nairobi_Mwiki\"],[\"Nairobi_Shaurimoyo\"],[\"Nairobi_Kiwanja\"],[\"Nairobi_Kibera_Kampi_Muru\"],[\"Nairobi_Ndege_Road\"],[\"Nairobi_Kasarani_Warren\"],[\"Nairobi_Mirema_Drive\"],[\"Nairobi_Golden_Gate_Close\"],[\"Kijabe\"],[\"Ngong_Olkeri\"],[\"Ngong_Bulbul\"],[\"Ongata_Rongai_Quarry\"],[\"Rongai_Ole_Road\"],[\"Katani\"],[\"Nairobi_Komarock\"],[\"Nairobi_Hurlinghum\"],[\"Nairobi_Ngummo\"],[\"Nairobi_Brookside\"],[\"Nairobi_Dandora\"],[\"Nairobi_Umoja\"],[\"Nairobi_Jerusalem\"],[\"Nairobi_Loresho_Kcct\"],[\"Nairobi_Njiru\"],[\"Nairobi_Mountain_View\"],[\"Nairobi_Airport_North_Road\"],[\"Nairobi_Nyerere_Road\"],[\"Nairobi_Mathare\"],[\"Nairobi_Bobmil\"],[\"Nairobi_Mutuini\"],[\"Nairobi_Mwitu_Estate\"],[\"Nairobi_Kahawa_West\"],[\"Nairobi_Njathaini_Road\"],[\"Nairobi_Baptist_Peponi_Close\"],[\"Nairobi_St_Mary'S_Hospital\"],[\"Nairobi_Waithaka\"],[\"Nairobi_Karen_Bible_School\"],[\"Nairobi_Jkuat_Karen_Campus\"],[\"Nairobi_Githurai_Kimbo\"],[\"Nairobi_Nanyuki_Road\"],[\"Kiserian\"],[\"Ongata_Rongai\"],[\"Rongai_Laser_Academy\"],[\"Mayor_Road_Ongata_Rongai\"],[\"Nairobi_Corperative_College\"],[\"Ngong\"],[\"Nairobi_Karen_Club\"],[\"Nairobi_Kephis\"],[\"Nairobi_Kuwinda\"],[\"Tuala Market\"],[\"Nairobi_Rubia_Estate\"],[\"Nairobi_Sameer\"],[\"Githurai 44\"],[\"Utawala_Shopping_Centre\"],[\"Nairobi_Tel_Aviv\"],[\"Nairobi_Express\"],[\"Mololongo_Ngata\"],[\"Nairobi_Kampala_Rd\"],[\"Nairobi_Embakasi\"],[\"Nairobi_Racecourse\"],[\"Kapa\"],[\"Nairobi_Jamhuri_Showground\"],[\"Nairobi_Moi_Girls_Kibera\"],[\"Nairobi_Machakos_Road\"],[\"Nairobi_Kilimanjaro_Road\"],[\"Nairobi_Dagoretti_Corner\"],[\"Nairobi_Marcus_Gavey_Road\"],[\"Nairobi_Greenfield\"],[\"Nairobi_Thomsons\"],[\"Nairobi_Milimani\"],[\"Nairobi_Amboseli_Road\"],[\"Nairobi_Jabavu_Road\"],[\"Nairobi_Sameer_Park\"],[\"Nairobi_Kileleshwa\"],[\"Nairobi_Jacaranda_Mental\"],[\"Nairobi_Kijabe_Street\"],[\"Nairobi _Industrial Area\"],[\"Nairobi_Museum_Hill\"],[\"Nairobi_Kariobangi\"],[\"Nairobi_Urban_Ring_Rd_Westlands\"],[\"Nairobi_Uthiru\"],[\"Nairobi_Ruai\"],[\"Nairobi_School\"],[\"Nairobi_Utalii\"],[\"Nairobi_Parklands\"],[\"Nairobi_Forestry_Hq\"],[\"Nairobi_Ruaraka\"],[\"Nairobi_Ngumba\"],[\"Nairobi_Kitisuru\"],[\"Nairobi_Safari_Park_Thika_Road\"],[\"Nairobi_Githurai\"],[\"Nairobi_Zimmerman\"],[\"Nairobi_Aga_Khan_Premises\"],[\"Nairobi_Forest_Rd_New\"],[\"Nairobi_Lunga_Lunga_New\"],[\"Nairobi_Pangani_New\"],[\"Nairobi_Loresho_New\"],[\"Kayole_Juakali\"],[\"Nairobi_Njiru_Maji_Mazuri\"],[\"Nairobi_Komarock_Imp\"],[\"Ngong_Kibiko\"],[\"Nairobi_Githurai_Market\"],[\"Nairobi_Ngando_Estate\"],[\"Sinai Slums\"],[\"Mathare_River\"],[\"Beijing Rd\"],[\"Kahawa Sukari\"],[\"Utawala Maisha Bora\"],[\"Utawala_Mihango\"],[\"Ruai_Pcea\"],[\"Kangemi\"],[\"Ngong_Cherry Hill\"],[\"Ongata_Rongai_Olekasasi\"],[\"Ongata_Rongai_Catholic\"],[\"Karen_Kuwinda Rd\"],[\"Waithaka_Kibiria\"],[\"Ngong_Gichagi\"],[\"Pangani_Park Road\"],[\"Moi Air Base\"],[\"Karen_Forest View\"],[\"Nairobi_Upper_Riverside\"],[\"Uthiru_Area\"],[\"Dagoretti Boys\"],[\"Syokimau Katani\"],[\"Thogoto_Gikambura\"],[\"Matasia\"],[\"Ngong Ololua\"],[\"Kayole African Church\"],[\"Umoja 2 Muchai\"],[\"Kayole Soweto\"],[\"Outering Faith Homes\"],[\"Public Service Club Knh\"],[\"Sda Ea Limited-Likoni Road\"],[\"Lavington Amecea\"],[\"Westlands\"],[\"Satelite Off Kabiria Road\"],[\"Kawangware Gitau\"],[\"Peter Kiberu-Kayole Soweto\"],[\"Githurai 45 Railway\"],[\"Bendera Lane\"],[\"Ruai Area\"],[\"Buruburu Farm Njiru\"],[\"Kahawa_West_Market\"],[\"Nairobi_Forces _Memorial\"],[\"Waverly\"],[\"Tassia Kware\"],[\"Mukuru Kwa Ruben\"],[\"Nairobi_Mpaka Road\"],[\"Mukuru Ricky Road\"],[\"Nairobi_Garden_New\"],[\"Gitaru_New\"],[\"Kahawa Sukari\"],[\"Rimpa_Road\"],[\"Nairobi_New_Site_1(Muthaiga Getrudes)\"],[\"Dandora Shilanga\"],[\"Karen_Homesteads\"],[\"Olepolos_1\"],[\"Ngong Kibiko\"],[\"Uthiru_Kagondo\"],[\"Ngong Lemiso Road\"],[\"Kayole Soweto_2\"],[\"Kahawa Sukari/Barracks_2\"],[\"Aacc\"],[\"Kabete Springs\"],[\"Tate-Close Kitisuru\"],[\"Triad\"],[\"World Vision\"],[\"Nairobi_Eastleigh\"],[\"Nairobi_Lumumba\"],[\"Nairobi_Mab_Eastleigh\"],[\"Nairobi_Tena\"],[\"Nairobi_Desai_Estate\"],[\"Nairobi_Electricity_House\"],[\"Nairobi_Gikomba\"],[\"Nairobi_Archives\"],[\"Nairobi_Harambee\"],[\"Nairobi_Wabera\"],[\"Nairobi_Corner_Plaza\"],[\"Nairobi_Huruma\"],[\"Nairobi_South_B\"],[\"Nairobi_Muranga_Road\"],[\"Nairobi_Likoni_Road\"],[\"Nairobi_Muthithi\"],[\"Nairobi_Eastleigh_Section_2\"],[\"Nairobi_Pumwani_Estate\"],[\"Nairobi_Zimmerman_Base\"],[\"Nairobi_3Rd_Ngong_Avenue\"],[\"Nairobi Maassai Village\"],[\"Nairobi_Imara_Daima\"],[\"Nairobi_Jonathan_Ngeno\"],[\"Nairobi_Sirikwa _House\"],[\"Nairobi_Kenya_Airways_Hq\"],[\"Nairobi_Madaraka\"],[\"Nrb_Madaraka_Shopping_Centre\"],[\"Nairobi_Kibera\"],[\"Nairobi_Nyayo_Stadium\"],[\"Nairobi_Doonholm_Caltex\"],[\"Nairobi_Upperhill\"],[\"Nairobi_Kma_Plaza\"],[\"Nairobi_Mbotela\"],[\"Nairobi_Factory\"],[\"Nairobi_Community\"],[\"Nairobi_Ukulima_House\"],[\"Nairobi_Sda_Valley_Road\"],[\"Nairobi_Intercontinental\"],[\"Nairobi_Temples\"],[\"Nairobi_Buruburu_Phase_Ii\"],[\"Nairobi_California\"],[\"Nairobi_Buruburu\"],[\"Nairobi_Barclays_Plaza\"],[\"Nairobi_Loita\"],[\"Nairobi_Kimathi_House\"],[\"Nairobi_Ngala\"],[\"Nairobi_Market_2\"],[\"Nairobi_Meridian\"],[\"Nairobi_Keekorok_Road\"],[\"Nairobi_Ngara\"],[\"Nairobi_Westlands\"],[\"Nairobi_Waiyaki_Way\"],[\"Nairobi_Highridge\"],[\"Nbi_Old_Donholm\"],[\"Nairobi_Umoja_Improvement_2\"],[\"Nairobi_Kma_Garrisa__Lodge\"],[\"Masai_Fedha_Estate\"],[\"Nairobi_Saika_Estate\"],[\"Nairobi_West\"],[\"Embakasi_Kirinyaga\"],[\"Kasarani_Sportsview\"],[\"Sixth Parklands\"],[\"Radisson Blue\"],[\"Umoja 2-B-Centre_Kayole\"],[\"Wilson Airport\"],[\"Dandora_Mowlem\"],[\"Guru Nanak\"],[\"Buruburu Phase V\"],[\"Luthuli_House\"],[\"Nairobi_Sunripe\"],[\"North_Airport_ Road\"],[\"Langata Old Uchumi\"],[\"Outering Road\"],[\"Hilton Garden Inn Hotel_Ibs\"],[\"Nairobi_Highway_Estate\"],[\"Four Seasons Plaza_Ibs\"],[\"Baba Dogo Lucky Summer\"],[\"Juja Road\"],[\"Mater Hospital\"],[\"Ridgeview\"],[\"Catholic_Mission_Waiyaki_Way\"],[\"Likoni_Road\"],[\"Jamel_Future_College\"],[\"Embakasi River Bank\"],[\"Parklands 3Rd Avenue\"],[\"Mtindwa Micro New\"],[\"South Field Mall _Ibs\"],[\"Britam Towers\"],[\"Koinange_New\"],[\"Pullmans Hotel(Ibs)\"],[\"Jamuhuri_South\"],[\"Utawala_2\"],[\"Eastleigh\"],[\"Barclays Plaza\"],[\"Braeburn College\"],[\"Braeburn School\"],[\"Coopers Kenya\"],[\"Kagina\"],[\"Liberty Plaza\"],[\"Unga-Farm Care Ltd\"],[\"Sarit Centre\"],[\"Nairobi_Daphton_Court\"],[\"Nairobi_Usiu\"],[\"Times Tower (Kra) \"],[\"Kawangware Bethel\"],[\"Gendia\"],[\"Kisii Getare\"],[\"Nairobi_Ojijo_2\"],[\"Nairobi_Yaya_Ushuru\"],[\"Signature Mall\"],[\"Huruma Ngei\"],[\"Kayole_Juakali_2\"],[\"Maraba_Witheithie\"],[\"Malaa_Kamulu\"],[\"Cheplaskei\"],[\"Kayole_phase_1\"],[\"Igane\"],[\"Murera_new\"],[\"Pipeline Micro_2\"],[\"Solidarity Street\"],[\"KABATI_KENOL\"],[\"Matinyani\"],[\"Lughulu\"],[\"Merewet\"],[\"Mlolongo_East\"],[\"Kiundani Musamba\"],[\"Mageta Road-Lavington Kauria Close\"],[\"Naivasha Maroro\"],[\"Eldoret West_ATC\"],[\"Githurai Mosque\"],[\"Tassia_Pines_Makuti\"],[\"Kariobangi South_New\"],[\"Nakuru Kivumbini\"],[\"Bungoma South_ATC\"],[\"Mwiki Maji Mazuri\"],[\"Kayole Matopeni\"],[\"JKUAT_Kiongo_Hostel_New\"],[\"Nakuru Satellite\"],[\"Kabiria_ATC\"],[\"KIBERA _CATHOLIC_ATC\"],[\"DANDORA PHASE 4\"],[\"Babadogo ATC\"],[\"Nakuru_Bangladesh_New\"],[\"Gachie New\"],[\"Bungoma Marrel\"],[\"KAPSOYA_ESTATE\"],[\"Juja Menja\"],[\"Nakuru Gikomba\"],[\"Gatongora\"],[\"Harambee Estate\"],[\"Kajulu_Mwembe_Mmoja\"],[\"Witeithie_Center\"],[\"Molo Tembea Na Yesu\"],[\"Rongai Olekasasi\"],[\"Ruaka Murugu Groove\"],[\"Mumias_Ekero Market\"],[\"THIKA STADIUM\"],[\"Rangau - Ongata Rongai SGR Station\"],[\"Kitengela Ashutosh\"],[\"Gatuanyaga_Garissa Road\"],[\"Kamangu ATC\"],[\"Nakuru Mercy Njeri\"],[\"Webuye GSM Hub\"],[\"Nakuru_ Rhonda Primary\"],[\"Kangoya\"],[\"Kisumu Day\"],[\"Kisumu CBD\"],[\"Donholm Savanna\"],[\"Eastleigh 1st street 2\"],[\"Soweto_Zimmerman\"],[\"Dandora New_Phase V\"],[\"Nakuru_Resma\"],[\"Kiamumbi New\"],[\"Utawala Fagilia\"],[\"Kalimoni Kenyatta Rd\"],[\"Kisii Estate Thika\"],[\"Murera 2\"],[\"Ngara Road\"],[\"Thika Primerose\"],[\"Kiandutu Slums\"],[\"Kahawa West New\"],[\"Kiti Nakuru\"],[\"Kakamega_Lurambi\"],[\"Riara Springs Imara Daima\"],[\"Zimmerman Kiwanjani\"],[\"Kisumu_Carwash_Migosi\"],[\"Mariakani Estate South B\"],[\"Wangapala Road-Concorde\"],[\"Nairobi_City Square\"],[\"GSU HQ_Thika Road\"],[\"Gakuyu ATC\"],[\"Leshau Pondo\"],[\"Kapten\"],[\"Gwathukia_Weru\"],[\"Kamburaini Primary\"],[\"Sekerr\"],[\"Nyairobi\"],[\"Kasuku\"],[\"Sosiot Girls\"],[\"Malinya\"],[\"Amagoro_ATC\"],[\"Itigo ATC\"],[\"Matunda_Binyenya\"],[\"Kathaana Market\"],[\"Kapsait\"],[\"Kimwaga\"],[\"Siaya Awelo\"],[\"Nanyuki Equator Road_ATC\"],[\"Kyeleni\"],[\"Kigogoini_Tetu\"],[\"Tongaren Primary\"],[\"Kabatini Nakuru\"],[\"Nambale ATC\"],[\"Gitinga_ATC\"],[\"Esageri Town Center\"],[\"Lutacho 2\"],[\"Kitengela Kyang'ombe\"],[\"Nandarasi\"],[\"Kakoth\"],[\"Asumbi ATC\"],[\"Endarasha ATC\"],[\"Ragati ATC\"],[\"Miriu Nyakwere\"],[\"Misango Hill\"],[\"Sirimon\"],[\"Ambira ATC\"],[\"Murungaru\"],[\"Marima ATC\"],[\"Wamagana_ATC\"],[\"Rang'ala ATC\"],[\"Ngubereti\"],[\"Kenegut\"],[\"Nairobi_Bolore\"],[\"Pumwani_Gikomba\"],[\"Kisumu Nzoia Road\"],[\"Chebororwa ATC\"],[\"Kapkiam\"],[\"Nanyuki Jua kali\"],[\"Ndurio\"],[\"Molo Bygum\"],[\"Ewaso Kedong\"],[\"Chemelil Sugar_new\"],[\"Buhuyi Secondary School\"],[\"Kipsigak_ATC\"],[\"Lorghum\"],[\"Murelum Irrigation Scheme.\"],[\"Balesa\"],[\"God Puro\"],[\"Walda\"],[\"Kabimoi\"],[\"Wamba_Samburu\"],[\"Boito\"],[\"Kamukabi\"],[\"Kwa Mwaura\"],[\"Kembu\"],[\"Gatanga ATC\"],[\"Subuiga\"],[\"Kairu\"],[\"Umande\"],[\"Cheptantan Kostoi\"],[\"Miendo\"],[\"Segero New\"],[\"Sitian\"],[\"Wango\"],[\"Yikithuki\"],[\"ACK St.James Saika\"],[\"Wote_Slaughter\"],[\"Uthiru_Muthua\"],[\"Tswaka\"],[\"Ruaka Kahingo\"],[\"Imaroro_Town_Center\"],[\"Kamulu_Deliverance\"],[\"Kangundo Kikambuani\"],[\"Katheka Kai\"],[\"Kitui Kanzau\"],[\"Kibra Soweto Academy\"],[\"Riabai\"],[\"Kajiado_Majengo\"],[\"Kariobangi Baptist\"],[\"Tulila\"],[\"Kilembwa\"],[\"Olengape\"],[\"Mutara\"],[\"Seguton\"],[\"Kahiga\"],[\"Lwandeti\"],[\"Chimoi\"],[\"Kimang'eti\"],[\"God Oyaro\"],[\"Pasenga\"],[\"Muthwani\"],[\"Kimutwa\"],[\"Iani Market\"],[\"Waunifor\"],[\"Birunda\"],[\"Tebesonik\"],[\"Gichaka\"],[\"Kinyona\"],[\"Ombo Market\"],[\"Ndigwa\"],[\"Kiminini Ndalu\"],[\"Kagaene\"],[\"Pemwai\"],[\"Kaplamai Nukiat\"],[\"Ol Manyatta\"],[\"Kiptagich\"],[\"Songhol Hill\"],[\"Chebirbelek ATC\"],[\"Bodi Hill\"],[\"Lemoru\"],[\"Dorofu\"],[\"Segero\"],[\"Tembwo\"],[\"KANYAGIA\"],[\"God Oloo\"],[\"Usigu\"],[\"Tendwet\"],[\"Kuinet ATC\"],[\"Kaisungur ATC\"],[\"Barsiele\"],[\"GWA KUNG\\u2019U\"],[\"Makimenyi\"],[\"Kipkabus\"],[\"Riwo Milimani\"],[\"Koinange Nyandarua\"],[\"Laciathuriu\"],[\"Gakuri ATC\"],[\"Kirathimo\"],[\"Kimwondo\"],[\"Buyofu\"],[\"Kolongolo Market\"],[\"Thatha\"],[\"Ikatini\"],[\"Kimalel\"],[\"Kabenes\"],[\"Mlango Mmoja Market\"],[\"Kiptoror\"],[\"Kabel\"],[\"Kabulwo\\u00a0 ATC\"],[\"Kiptangwany\"],[\"Kahuho New ATC\"],[\"Lokare\"],[\"Lower Pesi\"],[\"Ol Moran\"],[\"Emining\"],[\"Lokadule\"],[\"SOLOLO Town\"],[\"KORR\"],[\"Koksen\"],[\"Kairor\"],[\"KALACHA\"],[\"NORTH HORR\"],[\"Shamakhokho\"],[\"Chavakali ATC\"],[\"Mwala ATC\"],[\"Shitsitswi\"],[\"Maragima\"],[\"Imbo Hill\"],[\"Gombe\"],[\"Karatina University\"],[\"Shiatsala\"],[\"Lukume\"],[\"Malaha Market\"],[\"Butali\"],[\"Machakha\"],[\"Isikhi\"],[\"Makunga\"],[\"Chesamisi\"],[\"Ivonda\"],[\"Mungatsi\"],[\"Kimatuni\"],[\"Webuye_Milo\"],[\"Kongoni\"],[\"Turbo_Endebess Road\"],[\"Mua Radar\"],[\"SOFIA ATC\"],[\"Yathui ATC\"],[\"Mua Kathimani\"],[\"Mung'ala\"],[\"Kivaani\"],[\"Vota\"],[\"MILAANI\"],[\"Makutano Mwala\"],[\"Kadongu\"],[\"Kiaihuru\"],[\"Difathas ATC\"],[\"Karii ATC\"],[\"Ngaatho\"],[\"KAMIRURI\"],[\"Kiawara\"],[\"Kanyotu Estate\"],[\"Kambiti ATC\"],[\"Riandira Rukanga\"],[\"Gakawa_Kiririshwa\"],[\"Marua_ATC\"],[\"Kanunga_Hub_ATC\"],[\"IHURIRIO\"],[\"Gikono\"],[\"Mogogosiek\"],[\"Big Tree\"],[\"Kabianga\"],[\"Chemasit\"],[\"Motigo ATC\"],[\"Kimng'oror\"],[\"Kono\"],[\"Wiyumiririe\"],[\"Molo Kimugul-Sachangwany\"],[\"Suswa ATC\"],[\"Kamara Primary School\"],[\"Kapkwen\"],[\"Olongonot Satelite\"],[\"Chelilis\"],[\"Mzee wa Nyama\"],[\"Nyagacho ATC\"],[\"Thingithu Nanyuki ATC\"],[\"Kitale Lessos\"],[\"Songoliet\"],[\"Maraba_Hill\"],[\"POROR ARAMA\"],[\"Rare-Naishi\"],[\"Kericho_Chagaik\"],[\"Kerita\"],[\"Tepkutwet\"],[\"Kaitui\"],[\"Sidundo\"],[\"Madungu ATC\"],[\"Abom\"],[\"Madede\"],[\"DIENYA\"],[\"Busia Airstrip\"],[\"Nyakwakwa\"],[\"Netima_Musakasa\"],[\"Busibi\"],[\"Cheptais_Chepkube\"],[\"Mahira\"],[\"Indangalasia\"],[\"Aludeka\"],[\"Marakusi_Makutano\"],[\"GK Mwea Prison\"],[\"Kanamba\"],[\"Kahuruko Centre\"],[\"Mascani\"],[\"Kirua Hill_ATC\"],[\"Mukothima Market\"],[\"Isiolo Checheles\"],[\"Nyairoko\"],[\"Poro Lamaret\"],[\"Kapkoi ATC\"],[\"Mutithi\"],[\"Matuu Ma Mwiitu\"],[\"Riakanau ATC\"],[\"Kinna\"],[\"Loosuk Market\"],[\"Marti Primary School\"],[\"SOLOLO MAKUTANO\"],[\"LOIYANGALANI\"],[\"GAS Primary School\"],[\"Ndulele Farm\"],[\"Sigot ATC\"],[\"Makunga Forest\"],[\"Chepkunyuk\"],[\"Mimosa ATC\"],[\"Cheptil ATC\"],[\"Kiramrok\"],[\"TIMBOROA_ATC\"],[\"Oldoldol _Kipsergech\"],[\"Cheptonon\"],[\"Saos ATC\"],[\"Kipkaren Salient\"],[\"Cheptebo\"],[\"Yatya\"],[\"Nukiat_Baraton\"],[\"Londiani Forest\"],[\"Nakuru Rongai ATC/Gogar Farms\"],[\"Kebulonik\"],[\"Kericho Shivling\"],[\"Makutano Kapenguria_ATC\"],[\"Ololoitikosh Birika\"],[\"KIMARGIS_KAPKOROS\"],[\"MAJI MAZURI\"],[\"Matharu new\"],[\"Nakuru Baraka\"],[\"Katolo\"],[\"Kajwang Okok\"],[\"Bitobo\"],[\"Mitumbiri\"],[\"Gikiro\"],[\"Kangaita ATC\"],[\"Ithanga ATC\"],[\"Nyandarua Runda\"],[\"Muranga Town ATC\"],[\"Maragua Ridge ATC\"],[\"Kigumo ATC\"],[\"Kithangaini\"],[\"Ngusishi\"],[\"Rwika\"],[\"KDF School Of Infantry\"],[\"KIWANJA ISIOLO\"],[\"Gatunduri ATC\"],[\"Kivaa Hill\"],[\"Sarova Shaba\"],[\"Isiolo Keracha\"],[\"Syokimau Wazuli Suites\"],[\"Embu_Matakari\"],[\"Mukulusu ATC\"],[\"Bubisa\"],[\"CITAM Parklands\"],[\"Canin Aluminium\"],[\"Likoni_Inuka_Grounds\"],[\"Shamu\"],[\"Mlolongo South\"],[\"Sunton_Mradi\"],[\"Zimmerman_PCEA\"],[\"Riverside Oaks\"],[\"Kawangware Muslim\"],[\"Monabel Apartments\"],[\"Kandisi_Fifth_Avenue\"],[\"Kuku\"],[\"St Elizabeth Utange\"],[\"Singore\"],[\"Sinonin\"],[\"Muchorwi\"],[\"Barao ATC\"],[\"Kaptarakwa\"],[\"Kebeneti\"],[\"Kapsita\"],[\"Kihingo ATC\"],[\"Kibuline\"],[\"Konza Malili ATC\"],[\"Igoji new ATC\"],[\"Gantari\"],[\"Uhendo\"],[\"Kokwiri\"],[\"Wanjohi Center\"],[\"Makuyu Town ATC\"],[\"Kitalale\"],[\"Kangundo Matetani\"],[\"Ruai_Gituamba\"],[\"Mavuno Great Wall Gardens\"],[\"Kuranze\"],[\"Ezra Gumbe\"],[\"KAMAGUTA\"],[\"Kiriaini ATC\"],[\"Gituamba\"],[\"Gitugi Girls Secondary\"],[\"PCEA TumuTumu\"],[\"Camp ya Chumvi\"],[\"Isiolo KULA MAWE\"],[\"MULIKA MARKET\"],[\"Morijo Catholic Church\"],[\"Makutano Junction ATC\"],[\"Baragoi ATC\"],[\"Kaaling\"],[\"TURBI KAMPI NYOKA\"],[\"KAKONG\"],[\"Kakuma 2 Refugee camp\"],[\"Bagaria ATC\"],[\"Karuna\"],[\"Kitale Kaptega\"],[\"Sarova Lion Hill game lodge\"],[\"Kitale Chetoto Primary\"],[\"KARUNGA\"],[\"Karen Blixen Museum\"],[\"Kajiado South\"],[\"Mnazini\"],[\"LIKONI_ISTQAMA\"],[\"Malindi_Vofea\"],[\"Likoni_Maweni\"],[\"Mtopanga_ATC\"],[\"Coral Key\"],[\"Mafisini_Mtopanga\"],[\"Mombasa Tudor ATC\"],[\"Mtwapa Town GSM\"],[\"Old Mombasa Town ATC\"],[\"Gede_Junction\"],[\"MWIJO\"],[\"Mwaluphamba\"],[\"TIRIBE\"],[\"KIREWE\"],[\"PALAKUMI\"],[\"BOFU\"],[\"KIKONENI\"],[\"Marereni\"],[\"LANGOBAYA\"],[\"MIRITINI KILIFI\"],[\"DAKACHA\"],[\"MENZAMWENYE\"],[\"KINARANI\"],[\"JILORE\"],[\"Busho\"],[\"VITENGENI\"],[\"Mareje Bando\"],[\"Malindi Marine Park\"],[\"Mariakani-School of Rifles\"],[\"GONGONI\"],[\"Chivarai\"],[\"Mavueni Majajani\"],[\"Lunga Lunga Mpakani\"],[\"Dambala Fachana\"],[\"Nanyinyirokwe_Hill\"],[\"LogoLogo\"],[\"Konyao\"],[\"Alale_Kalapata\"],[\"Iriaini_Karatina\"],[\"Sango_Mawe tatu\"],[\"Mtwapa Mzambarauni\"],[\"Westpark Suites\"],[\"Mitchel_Junda\"],[\"Chakama\"],[\"Kaptuli\"],[\"Tugen Estate\"],[\"Ndonyongaria\"],[\"Kasarani Mwirigo\"],[\"Imara Easy Plaza\"],[\"Bamburi Naivas\"],[\"Denel House\"],[\"Kasarani PCEA\"],[\"Mwananyamala\"],[\"Donholm phase 8\"],[\"Umoja kwa chief\"],[\"Athi River Zillion Plaza\"],[\"Fedha Bilson\"],[\"Eastleigh_Sgt_Kahande_St\"],[\"Kibera Mashimoni Primary\"],[\"Fedha Dawn Apartments\"],[\"Kasarani Springs Estate\"],[\"Tassia Hill\"],[\"Tassia Kijiji\"],[\"Tassia Kwa Ndege\"],[\"Miritini-Jomvu\"],[\"Lokitaung_Nakalale\"],[\"Agan_khan\"],[\"Kainuk\"],[\"Siron-Thiiru\"],[\"Hurr Hill\"],[\"KOTIENO-NAYA\"],[\"Mombasa Corronet\"],[\"Nairobi_Gigiri_New\\u00a0\\u00a0\"],[\"Kamae_road\"],[\"Rongai_Kanari_Apartments\"],[\"Muthaiga Police Station\"],[\"South B Mubiru\"],[\"Kilifi Ngala\"],[\"Marsabit Hill\"],[\"Oldonyo_Sabach\"],[\"Kayole_Walletshop\"],[\"Utawala Corner Stone \"],[\"Aga Khan(Msa Golf) (Inactive)\"],[\"Kitusuru County Homes\"],[\"Chuka_University\"],[\"Naivasha Viwandani\"],[\"Sondu_Town\"],[\"Sogon\"],[\"Kipsarman\"],[\"Kambi Moto Morop\"],[\"Mundere\"],[\"Ganga_Rumbiye\"],[\"Sigoti\"],[\"Mombasa_Show Ground\"],[\"Mombasa_Show Ground\"],[\"Kipyego\"],[\"VIPINGO_RIDGE\"],[\"Two rivers\"],[\"Mawingu Relocation\"],[\"Gategi\"],[\"Sacho\"],[\"Baruti-kigonori\"],[\"Karen Forest View Relocation\"],[\"Makutano Mwea Relocation\"],[\"Amboseli N.P.Serena\"],[\"Kikubi\"],[\"Gede Town USF\"],[\"Kasarani Naivasha\"],[\"Kasarani Naivasha\"],[\"Maiella\"],[\"IRIAITUNE\"],[\"Kongowea ATC\"],[\"Mwembe Legeza New\"],[\"Kargi\"],[\"Galili primary school\"],[\"Thindigua Laureate\"],[\"Theophilus_Church_Njathaini\"],[\"ACK Ithookwe\"],[\"Uviluni Primary School\"],[\"Kisii Nyaura\"],[\"Kisii_Nyaura_MGF\"],[\"Amabuko\"],[\"Thindigua_Laureate\"],[\"Engineer_Kwa_Waithaka\"],[\"Kapsuser_Market\"],[\"Nakuru_Dominion\"],[\"Nakuru Hilton\"],[\"Abore_Primary\"],[\"Hargaderra_X\"],[\"USF_Kiwawa \"],[\"USF_Meshau \"],[\"USF_Amaler\"],[\"USF_Kases \"],[\"USF_Akiramet \"],[\"Kilungu_Lawcourts\"],[\"Kanyongonyo\"],[\"Kakeani\"],[\"Kalamba_Market\"],[\"Mui_Secondary_School\"],[\"Kiamariga\"],[\"Aberdares_Kihara\"],[\"Darasha\"],[\"Heshima-Macro\"],[\"Mirema Rosemark\"],[\"Roysambu_Primary_School\"],[\"ATC_Landmark_Luckysummer_MRT\"],[\"Devine_Estate_Kamakis_MGF\"],[\"Kingeero_Whitehouse_MGF\"],[\"ATC_Kiambu_Uhai_Sanctuary_MRT\"],[\"Moyale_Sessi\"],[\"Mandera_Busli_B\"],[\"Ifo_Central\"],[\"Hargaderra_Y\"],[\"Ifo_X\"],[\"Pangani Mambosasa\"],[\"Kidongo\"],[\"Kanani_Road_Watamu\"],[\"Kinyaata\"],[\"Daystar Monique court\"],[\"Empakasi\"],[\"Mumberes\"],[\"Bahati_Kwa_Amos\"],[\"Mathare_Tetu/Kahiga\"],[\"Barnabas_Baraka\"],[\"Kiamunyi_Baraka/Bahati_Nyathuna\"],[\"Njokerio\"],[\"Limuru_ECD_College\"],[\"Simbara_Kwa_Mika \"],[\"ATC _Kabasis\"],[\"Kitengela_Olerai\"],[\"Eldoret_Unclekim\"],[\"Basi Primary\"],[\"Bokole Magongo\"],[\"Thindigua_Dainty\"],[\"Samburu Loruko\"],[\"Posta\"],[\"Mandera_Sunnah_Mosque\"],[\"Moyale_Boys_Secondary\"],[\"Loibor_Ngare\"],[\"Moyale_Girls_Secondary\"],[\"Hareri\"],[\"Gitaru Mlango Soko\"],[\"Zambezi Kwa Msikiti\"],[\"Kikuyu_Township_Secondary_MGF\"],[\"Lodwar Napur\"],[\"Kamugunda\"],[\"kibwezi _Masaku_Ndogo\"],[\"Mtsanganyiko\"],[\"Kadzodzo Ndogo\"],[\"Songoroi\"],[\"Kilili Wee\"],[\"Kibiko Forest ATC\"],[\"Naivasha Site Service\"],[\"GARISSA BULLA MADINA\"],[\"Sabuli\"],[\"Hargaderra B3\"],[\"Hargaderra G3\"],[\"Garissa Bulla Mzuri\"],[\"GOREALE ATC\"],[\"Kimana\"],[\"Kajiado Kwa DC\"],[\"MAJAONI_MSIKITINI\"],[\"KILIFI_MDZONGOLONI\"],[\"Barahoyo\"],[\"GETUNO ATC\"],[\"Kisii_Masjid\"],[\"Nyanchwa ATC\"],[\"Meyinkwa ATC\"],[\"Kangondi ATC\"],[\"Masimbani ATC\"],[\"Museve ATC\"],[\"Kathivo ATC\"],[\"Muthue_Hill ATC\"],[\"Kyoani ATC\"],[\"IIANI_ATC\"],[\"IKANGA ATC\"],[\"MIHONGANI ATC\"],[\"MWABUNGO ATC\"],[\"FAZA ATC\"],[\"Kipini ATC\"],[\"Kalawa ATC\"],[\"Salama ATC\"],[\"MISUUNI ATC\"],[\"KATANGINI ATC\"],[\"KIANGINI ATC-\"],[\"KWALULI ATC\"],[\"WASWETA  ATC\"],[\"ANEKO_NYATHIKA\"],[\"KEGONGA ATC\"],[\"TARANGANYA ATC\"],[\"Kojonga ATC\"],[\"Eroret ATC\"],[\"Angata Barrikoi Primary\"],[\"Olasisiti ATC\"],[\"Ng\\u2019aram ATC\"],[\"Tikako ATC\"],[\"Olkurto ATC\"],[\"Sogoo Primary \"],[\"Sekenani Gate ATC\"],[\"SOIN ATC\"],[\"Wundanyi Mghambonyi\"],[\"SAGALLA ATC\"],[\"CHALLA ATC\"],[\"Wenje ATC\"],[\"Sankuri ATC\"],[\"Abakore ATC\"],[\"Kilonito_Kajiado\"],[\"Kabarnet_Kapsesat\"],[\"Nakuru Lakeview\"],[\"Naivasha_Kayole_Roho_Safi \"],[\"Nakumatt_Nyali_Relocation\"],[\"Vikwatani_Store\"],[\"Kisii_KARI\"],[\"Katani_Brighton_School\"],[\"Adega\"],[\"Otacho\"],[\"Kilifi_CBD_New\"],[\"MKUNUBI ATC\"],[\"MRABENYI ATC\"],[\"UKUNDA_GOMBATO_ATC\"],[\"KASYALA ATC\"],[\"Njukini ATC\"],[\"Mbooni_ Ngunduni Forest\"],[\"ITHUMBA HILL ATC\"],[\"MBA ATC\"],[\"Migori_County_Referral_Hospital \"],[\"Tiwi_Swamp\"],[\"ROTU_Primary_School\"],[\"KAMUGE\"],[\"Harehare\"],[\"Emurua Dikirr ATC\"],[\"Laset-ATC\"],[\"KAVISUNI\"],[\"ELDORO ATC\"],[\"Lamu CBD_ATC\"],[\"Makuli forest ATC\"],[\"Mokowe ATC\"],[\"Narok-Bomet Road (New)\"],[\"NTHONGONI ATC\"],[\"ONGER ATC\"],[\"NZEVENI ATC\"],[\"ORUBA ATC\"],[\"Vui Shopping Centre\"],[\"Voo ATC\"],[\"Wafoo (New)\"],[\"Narok Pulonga\"],[\"Ololulunga_New\"],[\"ROTIRI\"],[\"Ukunda Village ATC\"],[\"Mtepeni ATC\"],[\"Dadajabulla\"],[\"Ochuna ATC\"],[\"Masara ATC\"],[\"Laaqi_School\"],[\"Garissa_Bulla_Quba\"],[\"Ifo D2\"],[\"Dagahaley C1\"],[\"Dagahaley Health Post 4\"],[\"Bartimaro\"],[\"Chumani Kibwezi ATC\"],[\"KABATI ATC\"],[\"Kanyangi\"],[\"KITHUKI ATC\"],[\"Kyatune\"],[\"Maili Tisa\"],[\"NGOMENI ATC\"],[\"Muambwani\"],[\"Nunguni ATC\"],[\"Kyongwani\"],[\"SHIMONI EXCHANGE ATC\"],[\"MIASENYI ATC\"],[\"MESISITA_KERINA\"],[\"KEBAROTI PRIMARY SCHOOL\"],[\"Nyansiongo Gesima\"],[\"Miruka ATC\"],[\"Stellah Market\"],[\"Pan African Industries\"],[\"Ruaraka_Business_Park\"],[\"Atioch_Church_Gatongora\"],[\"General_Waruingi_Street\"],[\"Kiambu_Primary\"],[\"ATC_Luckysummer_JJC_Road\"],[\"Mathare_KCA\"],[\"BULLA_GOLOL\"],[\"Kakulit\"],[\"Mombasa_Arm_Kaloleni_Relocation\"],[\"Garissa_Ngulet\"],[\"Kulan ATC\"],[\"Entarara\"],[\"KMTC Kitui\"],[\"Kitui Kalundu Safcom\"],[\"Kitui Town ATC\"],[\"Lukenya University ATC\"],[\"Kitui Kilonzo\"],[\"NGIINI ATC\"],[\"Satao_Elerai\"],[\"Bura East ATC\"],[\"Lamu Shela ATC\"],[\"NDAU Islands\"],[\"Kutima Ranch\"],[\"Ngombeni_ATC\"],[\"Takaungu ATC\"],[\"Voi_Sofia\"],[\"Magongo_Bokole_2\"],[\"LANDI ATC\"],[\"Mwamosioma ATC\"],[\"Rabuor Forest ATC\"],[\"Enchoro ATC\"],[\"AWENDO TOWN\"],[\"Olmekenyu ATC\"],[\"Luanda Konyango\"],[\"Chemuswo\"],[\"Garage\"],[\"Bayete\"],[\"GATERO\"],[\"NKANG\\u2019A\"],[\"Katilu ATC\"],[\"Kabomoi\"],[\"Sururu ATC\"],[\"Kipsimu_Ndaptabwa\"],[\"Rwando\"],[\"Mwen Nyaru\"],[\"Kuresoi Ngariet\"],[\"Aror ATC\"],[\"Kolowa ATC\"],[\"Chebukaka\"],[\"Ndivisi\"],[\"Nangili_Market\"],[\"Mukhonje\"],[\"Chepyuk ATC\"],[\"Masogo Market\"],[\"Nyamaseka\"],[\"Mageta Island\"],[\"Jera ATC\"],[\"Karare ATC\"],[\"Waititi Hill\"],[\"Outspan Hospital Nyeri\"],[\"Mamboleo_Jakisii_Stage\"],[\"Maliku ATC\"],[\"BUNGOMA SIKATA\"],[\"Rimpa Road New\"],[\"Katoloni ATC\"],[\"Joska Junction\"],[\"Mlolongo Phase III ATC\"],[\"Kilimambogo ATC\"],[\"Kisumu_Tido_new\"],[\"Methodist University Meru\"],[\"Meru_Town_Center\"],[\"Mihango Kibiko Road\"],[\"Mihango Karangita\"],[\"Utawala Zebra\"],[\"Ruai_Tamu Tamu\"],[\"Uthiru Gichagi\"],[\"Ruai police station\"],[\"Consolata Hospital Mathari\"],[\"Syokimau_Kings_Gate\"],[\"Maliki\"],[\"Ekitale\"],[\"Kingoti\"],[\"Heho\"],[\"Kariru\"],[\"Ruungu\"],[\"Tinet\"],[\"Ngamwa\"],[\"Koshin\"],[\"Mundoro\"],[\"Kaptele\"],[\"Kapkondot ATC\"],[\"Cheplanget\"],[\"Masinga Town ATC\"],[\"Kathonzweni ATC\"],[\"Enkorika ATC\"],[\"ATC_Esulu_Hill Loreng\"],[\"ATC_Loritit_Moru_Amoja\"],[\"ATC_Puch_Tepekeny_Hill\"],[\"NANAM_NATAPAR\"],[\"ATC_Loremeit_Hill\"],[\"Kangetulai_Hill Loitanit\"],[\"Todonyang\"],[\"Wakanda_Hill Kataboi\"],[\"ATC_Lorengelup_Primary\"],[\"Narok_Enturoto\"],[\"Eldoret Polytechnic\"],[\"Khalaba\"],[\"Rironi ATC\"],[\"Kikuyu Ondiri\"],[\"Kenol Muranga\"],[\"Karuguru\"],[\"Nakuru_Makao\"],[\"Barnabas_Highway\"],[\"Chwele Namwela\"],[\"Kaptama\"],[\"Siruti\"],[\"Gikuni\"],[\"Kiangochi\"],[\"KAVANI HILL MALILI\"],[\"Hifadhi House_ICDL\"],[\"MAHI MAHIU TOWN\"],[\"Kamobo\"],[\"Nyahururu Kigumo\"],[\"KTUNTICH HILL\"],[\"Kisumu Kanyawegi\"],[\"Nyandema\"],[\"Namoruputh\"],[\"Katiko_Primary _School\"],[\"Krich\"],[\"Sirwach\"],[\"Kiwawa_High_Ground\"],[\"Kisamis-Corner\"],[\"MURKAN\"],[\"Rigogo_Chonjo\"],[\"Salgaa_Waldai\"],[\"Maua_Town\"],[\"Katieno\"],[\"Kwangamor\"],[\"Matawa Mumias\"],[\"Webuye Town ATC\"],[\"SIAYA BANANA\"],[\"Milimani Valley Court-Kitengela\"],[\"KIKUYU KANYARIRI\"],[\"Kiambaa ATC\"],[\"Naivasha Kinamba\"],[\"Nakuru Ngata\"],[\"Ngiiri Market\"],[\"Kalalu ATC\"],[\"Garbatulla\"],[\"Longewan\"],[\"Kibiku ATC\"],[\"Homabay Kumuinda\"],[\"Chepkemel\"],[\"Ruai Green Springs\"],[\"Kiserian Dam\"],[\"Rongai SGR\"],[\"RTI South B\"],[\"Kibera Ayany\"],[\"Utawala Githunguri\"],[\"Isiolo Kiwanjani 2\"],[\"Kitengela_New Valley\"],[\"Garissa KWS Quarters\"],[\"Karangatha\"],[\"Nyeri National polytechnic\"],[\"Nadeng Hill\"],[\"Kaplelach\"],[\"Kibera_Inner\"],[\"Kiambere Hill\"],[\"Mfangano Islands-Sena\"],[\"Alliance Boys\"],[\"Kerugoya Boys ATC\"],[\"Gathirioni\"],[\"Kisumu_East\"],[\"Kisumu_CarWash_1\"],[\"Racecourse Apartments\"],[\"Section 58 ATC\"],[\"Homabay Makongeni_Midlands\"],[\"ATC_ADADIJOLE_Hill\"],[\"Machakos ATC\"],[\"Kakamega Furaha house\"],[\"Nanyuki KWS\"],[\"Mombasa_Kibokoni\"],[\"Naaro ATC\"],[\"Karumo ATC\"],[\"KNAA ATC\"],[\"Tuuru Hill\"],[\"Kiguchwa\"],[\"Ngoingwa Kisiwa\"],[\"Ruaka Mesan\"],[\"Murera Darasha\"],[\"Thika Kimuchu\"],[\"Kahawa Sukari PCEA\"],[\"Thika_1 ATC\"],[\"Kirigiti South\"],[\"Ruiru Kwihota\"],[\"Juja Mucatha\"],[\"Mirema_Treat\"],[\"Rurii_ Githurai_44\"],[\"Saika ATC\"],[\"Githurai Mwihoko_2\"],[\"Kisumu_Nyamasaria ATC\"],[\"Nakuru Mangu\"],[\"Kisii Jogoo\"],[\"GTC_Towers_IBS\"],[\"Bungoma Cereals\"],[\"Bibirioni ATC\"],[\"Kakamega_Matende\"],[\"Thika Emco Plaza\"],[\"Kilifi_Kiwandani\"],[\"Migori_Wasweta_Creadex\"],[\"Oriang ATC\"],[\"Siaya Southlands\"],[\"Rotian ATC\\u00a0\\u00a0\"],[\"Kabianga_Market\"],[\"Nakuru Rhonda Sewage\\u00a0\"],[\"Kilifi_Charo_Wa_Mae\"],[\"Mombasa Makande ATC\\u00a0\\u00a0 \\u00a0\"],[\"RONGAI BROOKLAND SCHOOL\\u00a0\"],[\"Githurai PCEA\\u00a0\\u00a0 \\u00a0\"],[\"Eastleigh Al-Kelem Heights\\u00a0\\u00a0 \\u00a0\"],[\"Roysambu Primary ATC\"],[\"Dandora Phase III\"],[\"Njiru_Chokaa_View\"],[\"Oyugis Town ATC\\u00a0\\u00a0\"],[\"KAG University\\u00a0\"],[\"Kaptagat Road Strawberg\"],[\"Kimuchi ATC\\u00a0\\u00a0 \\u00a0\"],[\"Kisumu_Nyalunya\\u00a0\\u00a0 \\u00a0\"],[\"Bamburi Fisheries\\u00a0\\u00a0\\u00a0\"],[\"Mariakani Mkwajuni\\u00a0\\u00a0\"],[\"Joska_3\"],[\"Kaumoni ATC\"],[\"Kayole_5\"],[\"Kitale Matisi\\u00a0\\u00a0 \\u00a0\"],[\"Oloitoktok_new\"],[\"Amalemba ATC\\u00a0\"],[\"Gatundu Gituamba\\u00a0\\u00a0 \\u00a0\"],[\"Ngondi_Naivasha\\u00a0\\u00a0\"],[\"RIRUTA-KABIRIA_ATC\"],[\"Kaplong New ATC\\u00a0\\u00a0\\u00a0\"],[\"Lelaitich ATC\\u00a0\\u00a0 \\u00a0\"],[\"Kanyakwar_Riat\\u00a0\\u00a0\"],[\"Wiyumiririe ATC\\u00a0\\u00a0\\u00a0\"],[\"Chemalal Farm-Moi Barracks\\u00a0\\u00a0 \\u00a0\"],[\"MAUA Shopping Centre\"],[\"Malindi Majivuni\"],[\"Eastleigh_Captain_Mungai Relocation\"],[\"Likoni Vyemani\\u00a0\\u00a0 \\u00a0\"]],\"hovertemplate\":\"Latitude=%{lat}<br>Longitude=%{lon}<br>Site Name=%{customdata[0]}<extra></extra>\",\"lat\":[0.591345,0.558877,0.459231,-4.27827,-4.303082,-4.479872,-4.5597,-4.271608,-4.315773,-4.281229,-0.534481,-0.420284,0.482392,0.502002,0.518013,0.516572,0.534255,0.533865,0.548367,0.531458,0.521698,0.509877,0.568198,0.559867,0.528998,0.541247,0.518947,0.548983,0.52284,0.529227,0.508125,0.521365,0.519562,0.502697,0.509507,0.50636,0.48234,0.477217,0.483698,0.473678,0.449162,0.294455,0.39297,0.67083,0.55491,0.488303,0.470643,1.255858,0.642613,0.65892,0.976122,0.493137,0.627933,0.623288,0.603593,1.168885,0.842573,0.788238,0.553838,0.676688,0.795157,0.88066,0.634218,0.562948,0.566957,0.635498,0.635125,0.61921,0.816827,2.3776,0.199843,0.09782,0.209987,0.225065,0.072914,0.253562,0.075095,0.499802,3.124565,4.206263,0.012992,0.120872,0.24213,0.2902,0.426947,0.089298,0.274043,0.724817,2.278233,3.670873,1.29454,3.253417,2.791435,3.655448,4.05425,1.841107,1.574195,0.682445,-0.307423,-0.379273,-0.45398,-0.464267,-0.767365,-0.733293,-0.561648,-0.09845,0.055268,-1.183732,-1.495775,-0.755621,0.481388,-0.359727,-0.367287,-0.672295,-0.692988,-0.680587,-0.677572,0.269415,0.286182,0.279587,1.021228,1.004215,0.897715,-0.125948,-0.11539,-0.103483,-0.104477,-0.091933,-0.080977,-0.091352,-0.116595,-0.088257,-0.095817,-0.108127,-0.086908,-0.117083,-0.098523,-0.1099,-0.007775,-0.005018,-0.002462,-0.102172,0.036552,0.052547,0.060433,0.086157,0.117633,0.293857,0.460982,0.330405,0.338939,0.235363,0.311082,0.279305,-0.025978,0.006041,0.42882,0.336007,-0.064245,0.214002,-0.6805,-0.655887,-0.556782,-0.781522,-0.677482,-0.601642,-0.446425,-0.500267,-0.788914,-0.726498,-0.541062,-0.699089,-0.596125,-0.431664,-0.513413,-0.369685,-0.54893,-1.047928,-0.85879,-0.761505,-0.385615,-0.445835,-0.486067,-0.661455,-0.916753,-0.898523,-0.823793,-0.098308,-0.106938,-0.013573,-0.174365,-0.530257,-2.27625,-2.054912,-2.269205,-2.204902,-2.38558,-2.177332,4.205748,-1.51815,-1.536447,-1.50698,-1.271292,-1.404437,-1.367447,-3.258604,-3.238884,-3.213778,-3.222638,-3.168034,-3.237432,-3.247288,-2.270452,-2.79754,-3.119293,-2.485504,0.048622,0.056723,0.039703,-0.06577,-0.119615,-0.33306,0.35539,0.23367,0.336874,-0.07477,0.226878,-4.110232,-4.083929,-4.072965,-4.063853,-4.062517,-4.04975,-4.050463,-4.091992,-4.039643,-4.037717,-4.039353,-4.028058,-4.027732,-4.028029,-4.01495,-4.016722,-3.991365,-3.985852,-3.96604,-4.074907,-4.060258,-4.056247,-4.049867,-4.062547,-4.056177,-4.055035,-4.046738,-4.045733,-4.045607,-4.034505,-4.02735,-4.017713,-4.005822,-4.023217,-4.004958,-4.071672,-4.069132,-4.004887,-4.049485,-4.021,-4.047213,-4.366595,-3.947838,-3.889558,-3.633593,-3.54045,-3.396404,-3.301057,-3.361257,-3.918133,-2.78398,-3.082023,-3.239402,-3.372637,-3.560432,-3.77443,-3.796178,-3.96889,-3.153828,-4.045117,-3.49003,-3.363358,-3.395898,-3.991821,-4.045199,-3.209837,-1.364452,-1.244732,-1.311498,-1.26492,-1.21442,-1.432198,-1.33705,-1.286765,-1.311888,-1.409435,-1.287653,-1.240585,-1.191075,-1.30592,-1.264077,-1.21435,-1.354925,-1.176553,-1.30383,-1.396593,-1.287887,-1.319457,-1.263013,-1.215558,-1.27545,-1.30114,-1.287805,-1.236803,-1.191423,-1.335998,-1.263338,-1.32119,-1.262793,-1.238742,-1.26579,-1.31418,-1.301789,-1.311887,-1.261322,-1.215787,-1.276725,-1.28717,-1.305388,-1.269265,-1.313592,-1.322366,-1.287685,-1.23646,-1.277027,-1.314352,-1.263637,-1.167268,-1.335042,-1.288347,-1.239187,-1.191063,-1.318015,-1.265045,-1.215253,-1.238255,-1.18477,-1.36057,-1.215572,-1.166658,-1.249685,-1.19352,-1.147783,-1.409612,-1.451927,-1.271325,-1.265505,-1.270344,-1.390138,-1.279917,-1.320342,-1.290797,-1.30794,-1.294703,-1.286255,-1.283552,-1.28202,-1.284552,-1.292242,-1.28751,-1.266277,-1.331952,-1.293237,-1.275013,-1.255743,-1.305568,-1.272338,-1.30819,-1.277212,-1.2633,-1.259365,-1.318825,-1.256882,-1.322672,-1.246017,-1.294567,-1.111695,-1.22512,-1.29433,-1.287048,-1.286593,-1.297112,-1.286409,-1.2888,-1.284535,-1.282737,-1.271473,-1.21022,-1.201692,-1.208832,-1.290872,-1.055612,-1.294837,-1.401662,-1.301626,-1.28098,-1.28471,-1.181787,-1.372273,-1.276642,-1.253548,-1.230508,-1.202215,-1.152315,-1.161958,-1.165118,-1.142168,-1.127805,-1.10129,-1.26878,-1.306803,-1.257748,-1.264342,-1.232265,-1.255608,-1.300855,-1.327275,-1.322272,-1.334848,-1.355973,-1.278835,-1.279675,-1.305889,-1.290067,-1.321615,-1.29786,-1.306623,-1.395321,-1.373292,-1.295978,-1.279442,-1.270787,-1.277022,-1.284373,-1.307867,-1.283185,-1.28737,-1.270203,-1.257082,-1.310237,-1.336915,-1.32218,-1.30888,-1.29475,-1.303123,-1.302292,-1.564119,-1.947337,-1.806505,-2.157037,-2.376723,-2.409427,-2.595945,-2.668785,-2.736883,-1.320432,-1.314878,-2.017435,-2.689163,-1.922747,-1.263615,-1.205638,-2.92842,-2.550905,-2.502187,-2.182172,-1.807338,-1.67986,-1.154017,-1.094705,-1.17627,-1.051,-0.941637,-0.861643,-0.77462,-1.229372,-1.208117,-1.255032,-1.261435,-1.341877,-1.236542,-1.027313,-1.324447,-1.273998,-1.186317,-1.188645,-1.233252,-1.26709,-1.223452,-1.723592,-1.264863,-1.845738,-2.59,-1.286123,0.038868,0.047902,-0.246257,-0.286223,-0.285993,-0.284881,-0.288053,-0.30455,-0.273735,-0.269275,-0.285672,-0.313083,-0.267793,-0.298195,-0.293358,-0.29396,-0.296295,-0.302645,-0.307505,-0.288848,-0.27785,-0.265817,-0.290579,-0.273805,-0.278382,-0.317586,-0.293084,-0.286427,-0.28948,-0.280354,-0.27466,-0.299106,-0.307223,-0.28047,-0.291173,-0.342753,-0.167958,-1.243586,-0.685398,-1.08558,-1.085575,-1.074688,-0.713085,-0.65728,-0.635007,-0.499765,-0.34487,-0.832375,-0.266152,-0.602255,-0.205657,-0.112152,-0.054468,-0.177327,-0.232733,-0.274048,-0.371078,-0.308525,-0.216167,-0.143363,-0.152955,-0.4161,-0.777278,-0.62708,0.047696,-0.615862,-0.78698,-0.158495,-0.253468,-0.156118,-0.286828,-0.741502,-0.410097,-1.01807,-1.053963,-1.100653,-1.094285,-1.10304,-1.090835,-1.113582,-1.087698,-0.239818,-0.122834,-1.232503,-1.349693,-1.402228,-1.539467,-1.587943,-1.597022,-1.44247,-1.574718,-1.401978,-1.297578,-1.21459,-1.173178,-1.227537,-0.936931,0.032789,-0.86774,-0.59312,-1.27494,-1.42451,-0.724878,-0.714516,-0.81624,-0.432968,-0.421658,-0.425907,-0.41103,-0.40944,-0.382937,-0.550794,-0.71816,0.022237,-1.013218,-1.105455,-1.037137,-0.93895,-0.874947,-0.764352,-0.67001,-0.55111,-0.48123,-0.446702,-0.561215,-0.549158,-0.556151,-0.561124,-1.140057,-0.960925,-0.170432,-0.49852,-0.789945,-0.727903,-0.6814,-0.85022,-0.78512,-0.940193,3.503563,2.33443,3.9392,1.748354,1.099662,0.995008,1.513892,0.211579,2.654057,3.311177,-0.554678,0.733347,3.934893,2.811425,3.397769,3.88864,2.20717,3.17898,3.093025,0.596765,3.523128,-0.031308,1.139946,1.456427,2.27039,3.91913,0.352035,-1.044868,-1.058778,-1.069308,-1.06139,-0.967925,-0.935465,-3.393335,0.530103,0.849395,0.685382,-1.003022,-1.307637,-0.050003,0.553555,0.720033,-0.39374,0.543247,0.23503,0.610085,-0.14747,0.054262,0.75323,0.624172,-0.52059,0.780308,0.696872,0.169922,-0.172385,-0.114657,-0.131145,-1.165426,0.082571,-2.419481,-1.193148,-2.26596,-1.691705,-1.497959,-1.357668,-3.785837,-3.86562,-3.38544,-3.732207,-3.9144,-3.643918,-3.53418,-3.778877,-3.545375,-3.6052,-3.947405,-3.902093,-3.873875,-3.811725,-3.706216,-3.78052,-3.630561,-3.5775,-3.531825,-3.47705,-3.25692,-3.628227,-3.545602,-4.65948,-4.462126,-4.225756,-4.607937,-4.5359,-4.132715,-4.174692,-4.356583,-4.545967,-4.3769,-4.280619,-4.411787,-4.41103,-4.314453,-4.285989,-4.139212,-4.339213,-2.384628,-2.276429,-2.98493,-3.198327,-3.218992,-3.35182,-3.199138,-3.310971,-3.300965,-3.254886,-3.240067,-3.21897,-3.180687,-3.11756,-3.012378,-2.701073,-3.22318,-3.239066,-3.2074,-4.031807,-4.035029,-4.057458,-4.07469,-4.04479,-4.004353,-4.09665,-4.010222,-4.009185,-4.052023,-4.0217,-4.00458,-4.036132,-3.970152,-4.035472,-4.045007,-4.06913,-4.046412,-4.035014,-4.023217,-4.002857,-3.988387,-3.968855,-3.945731,-4.0292,-3.99779,-4.099488,-4.05971,-4.014208,-4.087874,-3.614737,-4.085232,-4.062572,-4.05355,-4.04978,-4.05992,-4.052427,-4.063715,-4.054275,-4.070022,-4.05845,-4.058291,-4.05341,-4.046922,-4.04585,-4.041757,-4.0351,-4.030908,-4.022176,-4.0631,-4.05704,-4.019294,-4.02516,-3.984323,-4.050975,-4.062656,-1.468347,-2.181805,-1.500931,-2.07595,-2.07595,-1.691389,-1.774213,-1.840028,-2.051835,-1.633804,-1.472572,-1.516478,-1.47074,-1.475068,-2.512647,-1.890515,-1.47793,-2.551872,-1.406202,-2.927302,-1.722913,-1.560553,-1.482528,-3.065695,-1.964348,-1.79387,-1.523125,-2.06381,-1.487575,-1.369755,-1.343549,-1.365954,-1.44212,-1.384376,-1.607453,-1.053293,-1.240301,-1.84603,-1.628227,-1.196505,-3.774004,-1.451538,-1.464133,-1.4374,-1.444562,-0.987317,-2.389763,-1.525911,-1.280868,-1.492282,-1.31436,-1.351012,-1.237631,-0.755641,-1.312095,-1.405394,-2.619672,-1.190231,-1.195373,-1.269852,-1.448255,-1.512958,-1.517078,-1.427047,-1.520987,-1.461197,-1.515698,-1.500578,-1.537147,-1.149485,-1.372572,-1.65006,-1.39231,-1.494216,-0.73887,-1.436183,-1.284652,-1.070782,-1.139845,-1.37132,-1.248302,-1.563783,-0.96405,-1.41178,-1.607952,-1.558378,-2.596007,-1.94902,-2.26815,-2.40746,-1.808421,-2.055442,-1.8341,-2.520154,-2.27579,-2.210852,-2.375223,-1.713162,-1.831335,-2.009473,-1.948972,-1.81623,-1.673457,-2.667993,-1.803982,-1.947352,-2.016922,-2.906437,-2.6905,-0.884813,-0.595977,-0.969212,-0.644038,-1.082048,-0.288228,-0.87572,-0.933245,-0.943985,-0.771763,-0.791502,-1.068568,-1.054362,-0.804557,-0.800721,-2.100131,-3.239482,-3.441295,-2.935015,-3.082068,-3.563264,-3.398103,-3.33327,-3.396468,-3.372816,-3.41874,-0.678358,-0.44268,-0.561915,-0.4669,-0.428424,-0.47521,-0.445808,-0.622472,-0.505962,-0.430265,-0.477605,-0.558102,-0.4434,-0.494872,-0.56621,-0.539931,-0.497658,-0.686512,-0.573232,-1.115983,-1.09149,-1.123813,-1.270538,-1.249358,-1.018143,-0.857513,-1.273652,-1.21358,-1.208668,-1.151803,-1.201267,-1.230617,-1.133312,-1.100268,-1.068908,-0.883238,-1.130072,-1.017628,-1.004988,-1.051248,-1.187837,-1.193913,-0.93014,-1.099712,-1.160008,-1.194948,-1.178827,-1.242512,-1.238413,-1.22969,-1.219373,-1.2182,-1.217453,-1.21423,-1.19442,-1.177863,-1.169813,-1.160443,-1.159623,-1.111617,-1.059,-1.050845,-0.954362,-1.229623,-1.20679,-1.155583,-1.139448,-1.16555,-1.1739,-1.227213,-1.161962,-1.19995,-1.217,-1.228907,-1.163988,-1.2172,-1.172883,-1.155457,-1.086905,-1.028772,-1.17652,-1.20146,-1.228962,-1.129047,-1.140218,-1.2094,-1.11855,-1.111922,-1.173,-1.10295,-1.29192,-1.15195,-1.16901,-1.171372,-1.037216,-0.728057,-0.521243,-0.68369,-0.728738,-0.727165,-0.807435,-0.60504,-0.645035,-0.650774,-0.717858,-0.63381,-0.74731,-0.813277,-0.94057,-0.897088,-0.845573,-0.852997,-0.84981,-0.910585,-0.876528,-0.81057,-0.879165,-0.964022,-0.801273,-0.785597,-0.676478,-0.636928,-0.600165,-1.147975,-1.10009,-1.00314,-0.964405,-1.075252,-1.162812,-1.06303,-1.067675,-0.996737,-1.215457,-0.977603,-0.997687,-1.057571,-1.088562,-1.190065,-1.113318,-1.126342,-1.047288,-1.039435,-0.944478,-0.940642,-0.932912,-0.88237,-1.037283,-1.046565,-1.025382,-1.035832,-1.097308,-1.037209,-1.040855,-0.41681,-0.540597,-0.574468,-0.45113,-0.466335,-0.681403,-0.51027,-0.77621,-0.532801,-0.502012,-0.45936,-0.40388,-0.40058,-0.419127,-0.43001,-0.461413,-0.770472,-0.534641,-0.965158,0.354572,0.056947,-0.37986,-1.966705,0.050888,0.28537,-0.755145,-0.562518,-0.005618,-0.473718,-0.4577,-0.439933,0.352543,0.637732,2.808583,3.932667,2.40752,3.935924,2.798197,3.858783,3.520828,0.132915,0.097051,-0.059201,-0.24827,0.000252,-0.01485,0.206947,-0.22202,0.0368,0.162508,0.233551,0.368562,0.343937,0.16795,0.21937,0.057923,-0.170618,0.127571,-0.153663,0.088042,0.32228,-0.070634,0.01853,0.034425,0.26846,0.129275,-0.0925,-0.2304,-0.143422,0.03676,0.048116,0.0575,-0.109097,0.280972,0.284426,0.297949,-0.371398,-0.355443,-0.30132,-0.124712,-0.04008,0.0274,0.0504,0.154718,0.191932,0.046442,-0.33331,0.015439,0.387238,-0.0752,-0.023121,-0.332148,-0.57829,-0.205091,-0.457244,-0.432602,-0.438543,-0.505877,-0.28215,-0.427402,-0.417193,-0.591908,-0.548051,-0.50425,-0.487592,-0.442424,-0.42959,-0.421672,-0.414394,-0.41101,-0.40526,-0.353464,-0.295017,-0.266803,-0.165496,-0.43366,-0.426313,-0.551225,-0.48135,-0.422952,0.728563,1.013342,0.636002,0.46964,0.287137,-0.38037,-0.395695,-0.22014,-0.370237,-0.42624,-0.36766,-0.319932,-0.597545,-0.566318,-0.499013,-0.436467,-0.370797,-0.350509,-0.308442,-0.214447,-0.132092,-0.79579,-0.775092,0.01764,-0.295825,-0.333455,-0.178438,-0.348153,-0.303905,-0.27095,-0.304931,-0.294477,-0.526083,-0.294,-0.304448,-0.280298,-0.727448,0.050977,-0.305097,-0.04563,-0.713938,-0.292778,-0.287717,-0.145427,-0.795012,-0.254563,-0.833158,-0.58511,-0.656902,-0.26483,-0.290663,-0.072933,-0.15822,-0.261081,-0.3768,-0.309472,-0.230017,-0.280828,-0.722618,0.00596,-0.292465,-0.30858,-0.242407,-0.25875,-0.681688,-0.667673,-0.50097,-0.431117,-0.424205,-0.363075,-0.330549,-0.298593,-0.283728,-0.275915,-0.270408,-0.24049,-0.203187,-0.11176,-0.254718,-0.022202,-0.187832,-0.27174,-0.30964,-0.888375,-0.364758,-0.311582,-0.245445,-0.20667,-0.2855,0.263465,-0.000932,0.194867,0.429605,0.037887,-0.609607,-0.232285,0.032815,-0.72323,-0.39819,-0.058728,-0.37817,-0.089291,-0.105398,-0.241872,-0.78306,-0.311367,-0.202093,-0.492819,0.836145,-0.555533,0.028012,0.36308,-0.42255,-0.27191,-0.122538,0.028683,-0.00574,0.783213,0.789843,0.461663,0.841143,0.805115,0.76321,0.765777,0.792325,0.803147,0.71567,0.88093,0.550378,0.513677,0.41669,0.556435,0.851707,0.603032,0.486842,0.68499,0.359377,0.559033,0.409465,0.507507,0.500785,0.516927,0.508488,0.522672,0.289582,0.458092,0.464105,0.507443,0.516578,0.520557,0.5322,0.544387,0.565855,0.5803,0.013997,0.182948,0.55222,0.4772,0.50234,-0.296088,0.509567,0.534942,0.420363,0.84305,0.51569,0.51432,0.522806,0.62892,0.325305,0.65954,0.356193,0.377942,0.980712,1.20215,0.5897,0.43654,0.24904,0.99483,0.19554,0.817818,0.191827,0.242718,0.201395,0.31591,0.074398,0.07,0.054885,0.316143,0.057975,0.100425,0.414667,0.42846,0.000191,0.209983,1.370162,1.483,1.402888,1.086138,1.496427,1.619062,0.877955,1.2551,1.393995,0.890822,1.064467,0.980025,0.85199,0.9413,0.780587,1.308155,0.98152,1.133468,1.033,1.21056,1.015928,0.967953,1.03306,1.157328,1.157588,1.018242,1.238302,0.7124,3.708625,0.1404,0.051962,-0.695747,-0.78065,-0.986127,-0.732877,-0.673195,-0.917412,-0.576657,-0.679237,-0.619302,-0.842255,-0.72288,-0.92393,-0.896955,-0.627118,-0.863631,-0.865261,-0.882244,-0.948143,-0.9172,-0.539505,-0.625089,-0.618578,-0.497331,-0.78172,-0.63566,-0.436467,-1.185316,-1.057205,-1.344677,-1.277965,-1.182365,-0.680513,-0.789305,-0.737527,-0.742507,-0.606429,-0.596674,-0.715094,-0.8154,-0.92977,-0.729995,-0.85918,-0.757209,-0.99435,-0.82739,-0.930629,-0.900405,-1.071337,-0.655707,-0.521461,-0.510752,-0.8375,-0.54971,-0.62266,-0.305102,-0.513766,-0.535732,-0.431766,-0.360892,-0.400095,-0.733077,-0.96036,-1.02152,-0.63177,-0.416488,-0.500337,-1.156725,-0.686033,-0.668748,-0.661807,-0.827292,-0.914947,-0.60177,-0.69177,-1.242045,-1.07877,-1.048422,-0.98797,-0.954715,-0.898728,-0.870837,-0.84317,-0.814447,-0.78585,-0.736752,-0.710495,-0.663439,-0.658242,-0.622012,-0.555822,-0.451468,-0.401724,-0.387362,-0.385557,-0.335285,-0.68767,-1.239259,-0.27217,-0.77431,-0.678612,-1.097612,-1.19632,-0.382052,-0.431391,-0.41597,-0.71111,-0.465339,-0.570496,-0.460407,-0.686748,-0.680691,-0.673806,-0.92242,-1.597021,-1.17725,-1.016515,-1.538557,-1.587795,-1.226773,-1.261238,-1.085665,-1.455628,-1.411567,-1.153973,-1.097105,-1.09693,-1.011432,-1.193013,-0.78931,-1.402017,-1.29781,-1.349765,-1.415503,0.68564,0.5649,0.743647,0.636157,0.58591,0.595995,0.690435,0.683687,0.59639,0.733642,0.516473,0.696532,0.637263,0.544782,0.646525,0.682617,0.630928,0.416065,0.418247,0.52181,0.55993,0.543335,0.5728,0.719863,0.618107,0.461208,0.448107,0.132951,0.43291,0.337276,0.365544,0.095812,0.517907,0.275307,0.302777,0.463552,0.149625,0.210019,0.133422,0.139358,0.417215,0.218958,0.205718,0.196867,0.354979,0.255805,0.312247,0.35473,0.741915,0.631465,0.280102,0.223097,0.446395,0.17019,0.375057,0.618048,0.284275,0.029482,-0.210227,-0.199997,-0.088073,-0.117208,-0.053947,-0.05469,-0.04336,-0.07609,-0.14109,0.028458,-0.0883,-0.1046,0.039608,0.025814,0.056332,0.078653,0.12828,0.033729,-0.100775,-0.077457,-0.1548,-0.110548,-0.086405,-0.096155,0.0064,-0.100697,-0.085808,-0.075277,-0.10103,-0.095602,-0.030458,-0.11097,-0.06968,0.108546,-0.20304,-0.081731,-0.22991,-0.174843,-0.129787,-0.110763,-0.078248,-0.06443,-0.00942,0.114012,-0.095367,-0.06121,-0.127403,-0.113225,-0.095017,-0.159208,-0.04055,-0.085647,-0.104317,-0.098657,-0.171242,-0.055433,0.226161,0.233492,0.117807,0.31965,0.439442,0.108177,0.254969,0.33539,0.482583,0.34224,0.361322,0.399737,0.217357,-0.144477,-0.103144,-0.206918,-0.056047,-0.26812,-0.095214,0.102488,0.177408,0.191905,0.153177,-0.173231,-0.004571,0.09035,0.038833,-0.292221,-0.167418,-0.095042,-0.090707,-0.066319,0.055148,0.09099,-0.106192,-0.102303,0.017197,-0.987272,-0.861868,-1.283503,-1.362815,-1.35467,-1.284525,-1.27635,-1.321805,-1.324792,-1.299057,-1.287877,-1.29034,-1.284928,-1.339573,-1.277233,-1.291097,-1.25753,-1.230297,-1.292857,-1.174273,-1.31216,-1.346617,-1.221225,-1.213722,-1.316152,-0.96063,-1.3811,-1.33596,-1.390848,-1.392098,-1.344801,-1.26453,-1.29554,-1.306344,-1.25691,-1.243663,-1.27756,-1.284855,-1.250963,-1.249897,-1.270692,-1.324447,-1.282372,-1.255717,-1.33386,-1.29261,-1.325357,-1.183983,-1.199547,-1.246482,-1.323969,-1.280472,-1.30554,-1.355075,-1.203573,-1.30502,-1.423525,-1.39817,-1.395363,-1.387548,-1.36666,-1.353123,-1.343302,-1.339135,-1.33789,-1.399347,-1.328208,-1.32257,-1.200806,-1.278657,-1.318597,-1.313522,-1.396539,-1.309897,-1.30886,-1.30635,-1.364351,-1.307603,-1.305688,-1.2989,-1.298875,-1.29812,-1.29643,-1.294763,-1.287776,-1.287498,-1.28633,-1.285092,-1.325916,-1.280938,-1.27846,-1.278363,-1.304002,-1.271795,-1.26806,-1.26596,-1.26359,-1.26758,-1.260488,-1.255278,-1.25486,-1.25121,-1.2459,-1.24316,-1.230163,-1.230042,-1.213892,-1.197757,-1.261988,-1.26788,-1.30799,-1.266493,-1.263442,-1.251418,-1.2306,-1.259557,-1.361443,-1.202112,-1.302683,-1.307855,-1.263645,-1.386556,-1.205383,-1.288685,-1.276123,-1.260712,-1.268613,-1.354357,-1.400442,-1.397825,-1.329,-1.292957,-1.372127,-1.27437,-1.277322,-1.325649,-1.270731,-1.25926,-1.2744,-1.35972,-1.272815,-1.3917,-1.3685,-1.275582,-1.279667,-1.288792,-1.251868,-1.302448,-1.307669,-1.289865,-1.26562,-1.292095,-1.276732,-1.281105,-1.208152,-1.24048,-1.274623,-1.25185,-1.185905,-1.314278,-1.1779,-1.308725,-1.316299,-1.26099,-1.31898,-1.21885,-1.2416,-1.195428,-1.411973,-1.25616,-1.2463,-1.373507,-1.4454,-1.35616,-1.26703,-1.36295,-1.28542,-1.193887,-1.261165,-1.24271,-1.230412,-1.253007,-1.323498,-1.265953,-1.293525,-1.260117,-1.289543,-1.276732,-1.28771,-1.28418,-1.28472,-1.290805,-1.28612,-1.26233,-1.256998,-1.31249,-1.27316,-1.314459,-1.268613,-1.278875,-1.28244,-1.208971,-1.293959,-1.335388,-1.33754,-1.32147,-1.2827,-1.31607,-1.3145,-1.307235,-1.3065,-1.305511,-1.301877,-1.300217,-1.29847,-1.29544,-1.294192,-1.29256,-1.29218,-1.28934,-1.288452,-1.28743,-1.286803,-1.285832,-1.285542,-1.284551,-1.28414,-1.284044,-1.28391,-1.283469,-1.28108,-1.280727,-1.277907,-1.26637,-1.259278,-1.25793,-1.297057,-1.282562,-1.27145,-1.303698,-1.254682,-1.308672,-1.31594,-1.2174,-1.254678,-1.302189,-1.2826,-1.323062,-1.267,-1.270822,-1.296903,-1.284058,-1.335175,-1.328105,-1.323738,-1.291473,-1.354308,-1.3247,-1.3351,-1.239512,-1.267,-1.305526,-1.329276,-1.26153,-1.31927,-1.32382,-1.293827,-1.257628,-1.282125,-1.328503,-1.299941,-1.28328,-1.25736,-1.306242,-1.285598,-1.272193,-1.284731,-1.2186,-1.288735,-1.26117,-1.2868,-1.3293,-1.303157,-1.26024,-1.272417,-1.219493,-1.290545,-1.280403,-0.379422,-0.668331,-1.264702,-1.296232,-1.417407,-1.258732,-1.258263,-1.091073,-1.27727,0.581222,-1.262007,-0.056915,-1.150642,-1.316005,-1.312353,-0.954847,-1.303248,0.65675,0.720627,-1.392617,-2.334395,-1.28381,-0.751394,0.556347,-1.211582,-1.311155,-1.264305,-0.298662,0.556193,-1.22814,-1.262845,-1.09647,-0.30548,-1.29131,-1.311455,-1.24217,-1.246837,-0.286765,-1.219178,0.582403,0.542309,-1.106613,-0.302155,-1.172133,-1.280735,-0.039272,-1.069488,-0.25229,-1.395513,-1.203807,0.325022,-1.03833,-1.421942,-1.476174,-1.060237,-1.238608,-0.243122,0.593872,-0.310563,-1.168203,-0.101678,-0.10125,-1.29772,-1.275025,-1.21422,-1.242218,-0.28907,-1.18749,-1.286837,-1.081827,-1.066288,-1.124533,-1.274966,-1.053702,-1.053623,-1.184032,-0.271222,0.301657,-1.32293,-1.20785,-0.079153,-1.309153,-1.25471,-1.290758,-1.248768,-0.528325,0.057787,-0.341735,-0.67065,-0.202642,1.624868,-0.11736,-0.12712,-0.358365,0.19843,0.633032,0.367175,0.816768,-1.324712,1.155397,0.597078,0.053553,-0.006854,-1.11451,-0.43952,0.78363,-0.219957,0.48084,-0.191467,0.01558,0.670585,-1.4789,-0.50165,-0.358865,-0.621643,-0.306955,-0.030429,-0.345988,0.148519,0.041485,0.165972,-0.592083,-0.276117,-0.476306,0.151372,0.048907,-0.26534,-1.32581,-1.283858,-0.10477,0.96161,-0.275845,0.13067,0.022483,-0.287412,-1.148278,-0.084398,0.363862,0.150297,2.8803,1.97703,3.618284,-0.520348,3.45304,0.03047,0.96539,-0.58782,-0.770011,-1.14458,-0.801998,-0.74739,0.138462,-0.607247,0.109585,1.022145,0.67713,0.499483,-0.249087,-0.80036,-1.9909,-1.255775,-1.77599,-1.26586,-4.60358,-1.207358,-1.94691,-1.279912,-1.302138,-1.490248,-1.178303,-1.315957,-1.166047,-1.838506,-1.26414,-1.570145,-1.365767,-0.56707,-0.070552,-0.374245,-0.450084,0.60727,0.575,0.431407,-0.39425,-0.20764,-1.399329,-1.597151,-1.544822,0.330405,0.960532,-0.5584,-0.131407,-0.74942,-0.732003,-0.334595,0.839937,0.073092,0.568692,-0.647243,0.102738,-0.574718,-0.053237,-0.6558,-0.147565,0.857492,0.456457,0.90882,-0.763782,-0.11522,-0.779662,-0.037189,-0.492879,0.619187,1.045205,-0.12991,0.01777,-0.84632,0.292517,0.986025,-0.728755,0.249847,-0.013224,-0.312865,1.116122,0.48123,1.219273,-1.00748,-1.06946,0.46083,0.767987,-0.032787,1.028697,0.28908,0.788675,-0.563062,-0.627597,3.693884,0.0679,0.54412,0.132483,4.016982,3.561732,2.016732,4.23857,4.51425,3.139511,3.322682,0.107366,0.120346,-1.35409,0.264838,-0.365758,-0.57783,0.005626,-0.392291,0.177276,0.390812,0.362465,0.489023,0.757647,0.166892,0.735843,0.840325,0.152778,0.470617,0.497973,0.544562,0.78865,0.701905,-1.475011,-1.140387,-1.464392,-1.489812,-1.483785,-1.36778,-1.584777,-0.893819,-1.408987,-0.667508,-0.368585,-0.54434,-0.62025,-1.019279,-0.146598,-0.20011,-0.492607,-0.82306,-0.698797,-0.11163,-0.462931,-0.568072,-1.10108,-0.997215,-0.61823,0.89621,-0.43706,-0.494508,-0.739301,0.494897,0.679713,-0.081247,-0.23233,-1.051342,-0.09023,-0.786023,-1.013517,-0.540225,-0.403935,-0.363047,0.015297,1.038502,0.23515,0.00713,0.06232,-0.44388,-0.306212,0.312845,-0.54512,-0.27556,0.085803,0.199645,-0.041698,0.03424,-0.000776,0.454606,0.295847,0.6498,0.333305,0.843532,0.405005,0.305976,0.568227,0.72341,-0.693291,-0.661354,-0.055923,0.141307,0.130255,0.011059,0.366177,-0.172431,1.22747,0.521022,-0.73462,-1.209894,-0.819115,0.32084,1.02585,1.473452,3.507829,2.756059,3.06398,0.068282,0.41939,0.7354,0.15221,0.603162,0.47621,-0.779644,0.08923,0.195103,-0.07733,0.116821,0.52301,0.448255,0.78566,0.25537,-0.17607,-0.169191,0.379957,-0.36558,1.25163,-1.56065,-0.679078,-0.015967,0.096932,-0.212813,-0.21775,-0.68882,0.619418,-0.962568,-0.82087,-0.4207,-0.98559,0.007093,-0.72171,-0.78577,-0.415415,-1.488687,0.075952,-0.616374,0.30369,0.435332,-0.471733,-0.859517,0.639355,0.330861,-1.371574,-0.543781,0.283909,2.707266,-1.260078,-1.330075,-4.106205,-4.304644,-1.401744,-1.231392,-1.204435,-1.248028,-1.28005,-1.301282,-1.411305,-2.90031,-3.97718,0.7043,0.705045,-0.334011,-0.43367,0.46428,-0.43623,-0.350755,-0.43744,0.04592,-1.7365,-0.192412,-0.14572,-0.224678,-0.27765,-0.33759,-0.89805,1.011622,-1.316907,-1.266238,-1.430995,-4.155832,-0.073272,-0.77611,-0.603078,-0.88886,-0.648292,-0.49993,0.416498,0.572238,0.04054,1.32634,3.514728,1.784213,4.328482,2.92761,2.01738,3.75421,-0.527403,0.76005,1.217645,-0.344386,1.01556,-0.475322,-1.353287,-2.007392,-4.0622,-4.107096,-3.216865,-4.093075,-4.012248,-3.225948,-4.009028,-4.033693,-3.951032,-4.060125,-3.172969,-2.85561,-4.226122,-4.332962,-4.26722,-3.611225,-3.980905,-4.45062,-2.856024,-3.142032,-3.430562,-3.018349,-4.480206,-3.71242,-3.1878,-3.91557,-3.35952,-4.512372,-3.2568,-3.81458,-3.03904,-3.702869,-3.663517,-4.584237,3.487383,1.589513,1.9384,1.78052,2.349628,-0.48146,0.76105,-3.93153,-1.264412,-4.012748,-3.118452,0.624,0.676308,0.367045,-1.219767,-1.32177,-4.002074,-4.00648,-1.215337,-4.43826,-1.29465,-1.27746,-1.46034,-1.31709,-1.27622,-1.30919,-1.315635,-1.220483,-1.304905,-1.308052,-1.30595,-4.002626,4.240697,-1.25922,1.773878,0.139,3.399594,-0.360215,-4.06081,-1.23271,-1.283618,-1.390752,-1.25933,-1.31449,-3.837312,2.31731,0.849535,-1.28101,-1.283313,-4.07729,-1.223773,-0.320555,-0.707115,-0.390772,0.546232,0.71779,-0.126343,0.150797,0.19843,-0.352058,-4.058404,-1.298995,1.16751,-3.804608,-1.210008,-0.343167,-0.74163,0.378749,-0.32894,-1.326443,-0.760453,-2.707677,-0.70641,-3.453534,-0.713687,0.210461,-0.893912,-0.576693,-4.040757,-3.99799,2.50949,-2.338211,-1.20652,-1.29074,-1.369494,-1.750683,-0.678157,-0.690107,-0.765476,-1.172287,-0.585981,-0.405187,-0.263068,-0.27352,0.793374,-0.007286,2.00868,1.23511,1.615603,2.114525,1.62485,-1.778165,-1.83683,-1.14856,-1.87658,-1.119253,0.053234,-1.20912,-1.154552,-1.297477,-1.21271,-1.205796,-1.23709,-1.16697,-1.226972,-1.162703,3.520345,3.9436,0.112525,0.002062,0.124916,-2.357331,-4.321978,-3.339007,-1.34307,-1.43844,-1.462985,-0.00806,-0.23375,-0.039312,-0.317238,-0.2163,-0.3836,-1.120333,-0.138466,-0.277178,-1.525042,0.509335,-3.590567,-4.022135,-1.201125,1.9823,0.609337,3.922302,3.49867,1.125919,3.519879,3.94209,-1.237037,-1.21684,-1.23806,3.10853,-0.415455,-2.37337,-3.556737,-4.008252,-0.62196,-1.916305,-1.32561,-0.716613,-0.428885,0.350294,-0.001675,0.006691,-0.45789,0.456626,-2.802322,-1.85151,-3.9593,-3.60303,-3.93288,-0.8825,-0.671772,-0.69119,-0.70737,-1.16355,-1.358507,-1.33556,-1.28284,-1.939318,-1.94182,-1.152923,-1.701835,-4.090004,-4.3461,-2.068227,-2.52246,-1.650408,-1.851505,-2.554972,-1.746317,-2.061937,-1.754022,-1.05422,-0.95356,-1.257557,-1.23482,-0.96885,-0.964012,-1.37691,-1.072647,-0.85064,-1.199506,-0.591145,-0.83366,-1.524422,-0.959,-3.367542,-3.48681,-3.29389,-1.793897,-0.29886,0.62806,-1.78834,0.4849,-0.30818,-0.748458,-4.020849,-4.000713,-0.68298,-1.319631,-0.468519,-1.029615,-3.623578,-2.32565,-3.41802,-4.269464,-1.276727,-3.16749,-1.622641,-2.05253,-1.68224,-1.06406,-4.237244,1.430182,1.67505,0.408152,-1.01682,-2.96134,-1.677997,-3.48166,-2.266048,-1.815128,-2.233315,-1.096525,-2.706207,-0.948292,-2.59687,-1.07166,-1.225327,-1.67321,-0.877078,-1.101603,-0.92777,-0.985675,-4.295898,-3.89861,0.327,-1.08354,-1.02498,3.029452,-0.43376,0.1157,0.187945,0.195458,-2.282445,-2.41368,-1.234252,-1.764489,-1.981041,-1.766017,-2.435943,-1.991303,-1.9279,-1.79085,-1.90907,-4.643277,-3.650817,-0.705531,-1.31676,-0.788339,-0.49445,-1.000293,-1.296173,-1.24083,-1.157719,-1.278992,-1.169147,-1.238517,-1.25519,-1.050695,1.68212,-3.849115,-0.44849,0.217224,-3.00374,-1.374771,-1.35433,-1.376832,-2.3334,-1.403878,-1.74578,-2.80939,-1.09532,-2.293415,-2.013848,-3.68462,-4.115417,-3.684655,-3.3855,-4.027019,-3.462893,-0.651283,-0.889456,-0.675152,-0.9088,-0.84592,-0.8569,0.347352,0.765532,0.269955,0.18384,-0.41723,2.27453,0.879632,-0.57688,0.28026,0.11391,0.322442,-0.361282,0.947695,1.23034,0.757603,0.717513,0.74643,0.242143,0.87357,-0.095212,-0.82393,-0.12909,0.28653,2.194298,3.42309,-0.428318,-0.053337,-1.59146,0.59395,-1.420576,-1.542,-1.31408,-1.390614,-1.06249,-0.089542,0.085957,0.04153,-1.273653,-1.283978,-1.30315,-1.294627,-1.25475,-1.276868,-0.416582,-1.358584,0.797097,0.55506,-1.226464,-0.840282,-0.981228,-0.07385,-0.483294,-0.627577,0.549415,-0.950767,-0.59997,1.137242,-0.641752,-0.975619,-1.91407,-1.972176,3.592843,3.395485,2.979847,4.3377,4.0781,4.642572,4.455282,3.649087,3.05033,-1.569222,0.47478,0.44459,-1.16357,-1.251022,-0.93569,-1.177472,-0.273218,-0.331194,0.76172,0.891988,-0.860998,-1.198025,-0.76248,-1.685016,-1.337535,-0.982693,0.193265,0.015111,1.394745,-0.109942,-1.00525,2.83141,3.80082,1.695972,1.907215,2.01053,-1.4456,-1.0807,-0.157158,-0.249841,-0.32099,-0.868257,0.534291,0.32174,0.60772,0.069317,-1.490616,-1.243953,-1.16144,-0.72435,-0.325558,-0.620749,0.05468,0.53206,0.858771,-1.211133,-0.640567,-0.38217,-1.288635,-1.44986,-1.412829,-1.31453,-1.310563,-1.28921,0.353843,-1.48878,-0.47168,-0.78865,-0.42868,0.993665,0.663422,-1.314609,-0.6911,-0.47527,-1.256595,-0.509788,-1.025465,-1.284978,-0.08309,-1.298683,-0.28528,-0.52215,3.334815,-1.530175,0.28544,-0.014562,-4.060814,-0.93598,0.210461,0.376358,0.25495,0.17343,-1.041937,-1.202925,-1.162408,-1.081762,-1.19523,-1.050688,-1.17875,-1.16046,-1.11153,-1.20549,-1.203705,-1.2531,-1.226848,-0.10602,-0.2184,-0.67745,-1.270825,0.57194,-1.07774,0.262289,-1.04326,-3.60309,-1.062465,-0.40369,0.0486,-0.96766,-0.44677,-0.316907,-3.6263,-4.039097,-1.401756,-1.218404,-1.269896,-1.206277,-1.248031,-1.256909,-0.506388,-1.589314,0.44158,0.637218,-0.11823,-4.00045,-3.87704,-1.300271,-1.733254,-1.27033,1.039056,-2.92569,0.266499,-0.905503,-0.822698,-1.28815,-0.67586,-0.945256,-0.04826,-0.09737,0.6441,0.23004,-3.20251,-1.27173,-4.09935],\"legendgroup\":\"\",\"lon\":[34.552905,34.560273,34.11786,39.590513,39.579153,39.482115,39.129315,39.594932,39.573173,39.591964,37.450065,37.524577,35.255608,35.300918,35.257315,35.27506,35.281835,35.304002,35.237095,35.243297,35.264757,35.266535,35.234947,35.24203,35.252792,35.239255,35.271212,35.245822,35.274582,35.261022,35.309,35.311675,35.281368,35.275303,35.273562,35.294032,35.344123,35.301073,35.270158,35.256287,35.240775,35.326117,35.329772,35.509823,35.32119,35.28648,35.984632,35.09239,35.39245,35.504137,35.565837,35.744322,35.79417,35.310628,34.77464,34.787332,34.714678,34.713157,34.928948,35.155628,35.140998,35.119833,35.049892,34.389592,34.560117,34.269735,34.287072,34.34282,34.852562,35.650782,35.096592,35.170583,35.304803,34.81599,34.795411,35.081633,34.858567,35.147048,35.588858,34.342665,35.523283,35.466572,35.416288,35.29838,35.295057,35.517703,35.389992,35.838793,35.584982,35.021943,35.109405,35.478358,35.631425,35.503752,34.516782,35.578247,35.416352,35.183482,35.808837,39.713563,39.642925,39.641798,38.401895,38.80989,39.392974,39.983898,40.308217,39.837825,40.027062,39.653311,35.751155,35.295948,35.284258,34.770962,34.774803,34.775198,34.772207,34.752624,34.75218,34.7398,34.999923,35.020707,34.922833,34.752655,34.773443,34.75329,34.779478,34.759277,34.78077,34.785447,34.784818,34.77649,34.764253,34.749512,34.7682,34.761222,34.772432,34.762638,34.593497,34.599243,34.607853,34.772468,34.569357,34.437875,34.286033,34.567855,34.443185,34.13788,34.107605,34.356627,34.494028,34.555333,34.626569,34.75266,34.744075,34.683556,34.398273,34.814359,34.774993,34.497412,34.752002,34.876323,34.92685,34.756771,34.802432,34.956915,35.206033,34.216378,34.94418,34.637216,34.454048,34.548233,34.744828,34.690503,34.730715,34.64808,34.737333,34.46745,34.565408,34.607607,35.00331,34.890277,34.810863,34.743998,34.832948,34.86454,34.946033,34.762738,34.77,34.609867,34.920188,34.457392,40.904663,41.112734,40.900583,40.707845,40.443597,40.815277,34.36546,37.267358,37.265024,37.265315,37.37351,37.685238,38.01254,40.118436,40.117188,40.118032,40.108957,40.109474,40.126247,40.122887,40.110395,40.14768,40.145082,40.118254,37.650625,37.640592,37.649283,37.66271,37.59837,37.645988,37.586068,37.875953,37.934721,37.613692,37.940856,39.642667,39.659601,39.665537,39.657068,39.670385,39.651258,39.662277,39.649772,39.656553,39.685392,39.697421,39.6354,39.678187,39.690404,39.590692,39.696027,39.710403,39.736817,39.745933,39.637068,39.678127,39.674387,39.671518,39.663747,39.659708,39.669375,39.657417,39.649568,39.66563,39.663097,39.618655,39.630055,39.59967,39.70656,39.689178,39.672965,39.676237,39.726382,39.685508,39.617805,39.663218,39.413973,39.746815,39.774893,39.851827,39.877758,39.958782,40.011992,40.006533,39.527252,38.28108,38.492512,38.500778,38.564254,38.749243,39.120285,39.262405,39.556818,38.496673,39.697988,38.34597,37.73216,37.675845,39.734569,39.701906,37.711485,36.657492,36.663105,36.684935,36.68433,36.685832,36.685265,36.699937,36.699152,36.703043,36.712885,36.726755,36.727805,36.726907,36.73845,36.739852,36.74097,36.742652,36.751213,36.752522,36.7528,36.754677,36.773992,36.765688,36.768783,36.772777,36.77377,36.780486,36.781648,36.781963,36.726125,36.796828,36.78961,36.803582,36.811355,36.813168,36.815863,36.819291,36.837578,36.821667,36.82398,36.82784,36.8377,36.837316,36.85008,36.851965,36.865714,36.867127,36.866668,36.87812,36.881073,36.881427,36.88017,36.893603,36.895703,36.89317,36.895267,36.904317,36.90799,36.908083,36.922272,36.925338,36.9348,36.93605,36.936102,36.94253,36.950522,36.960208,36.964182,36.980416,36.990012,36.920275,36.893145,36.637983,36.892148,36.705185,36.880213,36.897988,36.805167,36.82315,36.817963,36.828072,36.82632,36.820812,36.828548,36.839675,36.85706,36.78774,36.845877,36.87436,36.827565,36.91227,36.864899,36.821112,36.789173,36.773898,36.842973,36.923707,36.80097,36.79209,36.812848,36.63912,36.786105,36.854652,36.81886,36.813367,36.761655,36.855472,36.823098,36.82061,36.820198,36.818692,36.965307,36.927757,36.894038,36.792638,36.781545,36.839308,36.788353,36.89238,36.822892,36.834063,36.904352,36.767267,36.608822,36.69082,36.681265,36.596838,36.668203,36.840318,36.788762,36.753733,36.812647,36.7974,36.80617,36.802055,36.891403,36.78111,36.800042,36.75166,36.846187,36.686985,36.717523,36.742397,36.760097,36.784455,36.883238,36.87593,36.903517,36.680998,36.813642,36.706855,36.745958,36.737892,36.77906,36.849772,36.8419,36.788728,36.789952,36.822598,36.766123,36.88624,36.799173,36.78724,36.845025,36.780227,36.832078,36.825678,36.89116,36.80465,36.828435,37.162902,37.324672,37.329188,37.588317,37.908935,37.968398,38.077052,38.137177,38.224342,36.850522,36.896015,37.37621,38.164982,36.285985,36.929795,36.91849,37.507572,36.796681,36.844322,36.85223,37.619825,36.848257,36.928725,37.0202,36.934788,36.623668,36.620738,36.552685,36.42874,36.818708,36.850468,36.725217,36.842342,36.710965,36.875087,37.067072,36.779635,36.85107,36.7716,36.79409,36.747035,36.748112,36.663967,36.696027,36.754217,38.213918,37.372767,36.82526,36.365328,36.376897,36.08653,36.050333,36.070566,36.099275,36.152057,36.059503,36.086253,36.102285,36.075318,36.061562,36.030428,36.04999,36.062757,36.07358,36.069367,36.067806,36.070885,36.062147,36.114078,36.113986,36.112697,36.162628,36.132743,36.14431,36.081924,36.089525,36.084452,36.086829,36.073147,36.057386,36.052335,36.053852,36.056327,36.147995,35.963581,34.875995,35.904982,35.866319,35.877945,35.864637,36.43058,36.335388,36.265138,36.323053,36.174312,36.309852,36.379738,36.577632,35.8655,35.72799,35.640768,35.61956,35.526828,35.418675,35.282727,35.196063,35.148377,35.0202,34.866088,35.3072,35.401205,35.390423,35.72627,35.259515,35.243647,35.690948,35.737955,35.577087,35.166057,35.186315,35.065452,36.497145,36.351198,36.220328,36.121895,36.004312,35.914342,36.049458,36.289745,36.113047,36.236087,35.774253,35.624953,35.468108,35.307475,35.234688,35.40379,35.213848,35.097315,35.024502,35.039843,35.05005,35.24704,34.809338,35.43077,36.264374,36.1095,35.684152,34.967335,35.195562,36.436152,36.439897,36.39551,36.96912,36.948509,36.95518,36.903862,36.983123,37.002632,36.941426,37.159163,37.064809,36.905467,37.016373,37.075642,37.126277,37.239573,37.27688,37.206253,37.1857,37.127883,36.98652,37.231525,37.015299,36.950109,37.05159,37.25746,36.994818,37.022352,37.2797,37.129997,37.156215,37.355022,36.993968,36.86813,36.816136,39.024703,37.975105,41.859578,40.05896,36.684853,37.36205,37.751583,37.151224,36.934863,38.384968,37.241783,39.170842,41.2159,40.928973,40.911269,41.67896,40.116425,40.865963,38.252272,38.834605,39.053178,39.497747,39.657958,39.905658,40.271612,41.330065,39.353578,37.095972,37.107518,37.099915,37.149562,37.982257,38.061282,38.561911,38.518373,37.562275,35.822827,35.664302,36.903528,34.798467,34.549272,34.572493,35.15849,34.557973,34.23124,34.238507,34.38632,34.749158,34.503748,34.693003,35.20817,34.45382,34.862343,33.999379,34.933507,34.789012,34.745348,34.445908,34.720335,40.19123,39.8382,40.107537,40.16929,40.024922,39.917163,39.822131,39.474903,39.927743,39.689205,39.7616,39.737964,39.87791,39.693232,39.692277,39.8766,39.746003,39.785432,39.58744,39.633788,39.823124,39.442637,39.847956,39.872,39.530447,39.89748,39.720773,39.861697,39.521617,39.216785,39.482858,39.579598,39.382263,39.32123,39.624718,39.453525,39.558965,39.12107,39.40402,39.565323,39.498142,39.12672,39.574357,39.590056,39.31476,39.565998,40.697549,40.904511,40.140894,40.11613,40.11977,40.016265,39.995921,40.077607,40.011897,40.061027,40.121911,40.12447,40.110784,40.148712,39.96121,40.142145,40.10494,40.095373,40.1168,39.666407,39.68534,39.700482,39.63799,39.68606,39.580938,39.668387,39.590922,39.624398,39.67414,39.6271,39.71307,39.668448,39.72036,39.711445,39.661322,39.668682,39.697933,39.620474,39.704838,39.701039,39.737264,39.747908,39.734366,39.7136,39.62019,39.658664,39.694297,39.703107,39.668476,39.864273,39.652874,39.665979,39.689598,39.65764,39.655768,39.666642,39.658205,39.660717,39.676557,39.67705,39.671211,39.65192,39.665682,39.64972,39.658441,39.6628,39.632212,39.688566,39.67407,39.668738,39.721289,39.68293,39.699482,39.688693,39.671864,36.972512,36.849229,36.652895,37.412217,37.412217,36.850445,36.824638,36.792437,37.421422,36.886725,36.96839,36.951942,36.947135,36.96029,36.851792,36.290604,36.73964,36.795992,36.706618,37.506077,36.695787,36.917123,36.95868,37.698568,36.725158,37.209897,38.023642,38.17845,37.946767,38.003827,37.983977,38.014595,37.84424,37.986739,38.09702,38.196097,38.220149,38.213691,37.836892,37.96672,39.120164,36.987598,36.97974,36.967372,37.046135,37.474092,37.539772,37.654954,37.649253,37.330412,37.45791,37.349188,37.490843,37.680146,37.346709,37.68697,38.13229,37.81924,37.444783,37.1518,37.280007,37.267867,37.269222,37.317615,37.267699,37.423783,37.251083,37.261514,37.266258,37.550248,37.249785,37.289613,36.939493,37.524652,37.81332,37.21376,37.276802,37.706227,37.257297,36.947768,37.290712,37.163006,37.681682,37.547964,37.687823,37.446373,38.074687,37.78042,37.961082,37.967382,37.328385,37.87977,37.418818,38.037082,37.82566,37.720138,37.909912,37.452595,37.559613,37.456555,37.532285,37.788628,37.45247,38.136883,37.396392,37.324598,37.373155,38.06101,38.167527,37.919749,38.174278,37.982617,38.408478,38.04207,38.252958,38.180013,38.055293,38.065793,38.374592,38.282598,37.869188,38.36437,38.529901,38.086427,36.790578,38.500875,37.73386,38.409772,38.49253,38.748771,38.319887,38.42485,37.676083,38.564365,38.369227,37.357517,37.40819,37.369275,37.38723,37.308437,37.2348,37.346552,37.365143,37.277936,37.166758,37.178515,37.328327,37.195188,37.352927,37.46524,37.241439,37.280308,37.352707,37.325682,36.672057,36.865087,36.720972,36.675403,36.698365,36.827133,36.626347,36.619237,36.675922,36.776047,36.668968,36.597085,36.682657,36.593078,36.787107,36.716055,36.796088,36.806455,36.62426,36.739862,36.868637,36.686637,36.778222,36.616638,36.820713,36.74393,36.729655,36.891212,36.66328,36.728233,36.81879,36.778362,36.8273,36.71073,36.80707,36.651217,36.750028,36.702853,36.781167,36.820275,36.63431,36.777298,36.6242,36.635857,36.845732,36.83445,36.946863,36.973718,36.978712,36.7574,36.728985,36.936638,36.824432,36.76144,36.864652,36.961608,36.7342,36.916817,36.83136,36.627437,36.786407,36.77705,36.760912,36.698115,36.899608,36.911218,36.8715,36.676345,36.649102,36.8309,37.01039,36.75639,36.80531,36.82692,36.828725,37.073717,37.155765,37.197248,36.96281,37.033813,37.110165,36.978817,37.018508,37.092467,36.866418,36.877203,36.93279,36.97772,36.899256,37.12553,37.003717,36.83911,37.087702,36.963732,37.071081,37.224032,37.024297,37.137812,37.296967,37.136238,36.868315,37.14474,37.21627,36.902665,36.95799,37.01621,36.903338,37.012907,37.048542,37.080722,37.150888,37.080515,36.851433,36.968358,36.96219,37.071795,37.105321,36.920115,36.931035,36.955443,37.00671,37.088333,37.072655,36.88803,36.955695,36.80329,36.90443,37.046582,37.099118,37.061547,37.076798,37.332178,37.065089,37.080978,37.523413,37.453042,37.646743,37.78952,37.715935,37.613357,37.52013,37.2789,37.450363,37.46026,37.60891,37.50383,37.594515,37.446763,37.47845,37.5397,37.365998,37.462044,39.74573,40.87345,40.305985,39.712958,40.206397,39.654598,39.79972,39.653333,39.394658,39.463243,39.605611,39.65165,39.641143,37.584698,37.666477,40.926842,41.220253,40.59617,41.857022,40.935635,40.266832,39.057778,37.294405,37.548902,37.632745,37.65018,37.592548,37.6594,37.528983,37.612138,37.72983,37.74639,37.944845,37.988512,37.947282,37.94163,37.97248,37.642343,37.828522,37.849672,37.621784,37.661682,37.94063,37.667583,37.60642,37.109254,37.936,37.818024,37.761017,37.73057,37.980246,37.653798,37.667264,37.633055,38.161892,37.88105,37.998731,37.910389,37.678471,37.62348,37.84612,37.672494,37.59438,37.65666,37.64098,37.64158,37.942764,37.655848,37.64427,37.073901,37.18751,36.9906,37.119195,37.00197,36.9277,36.731431,37.002505,36.96853,36.959665,37.012652,36.75887,36.960528,36.932802,37.119896,37.090856,36.869078,37.12697,37.112146,36.93863,36.947405,36.95912,36.90234,37.05739,36.884129,37.117404,37.01581,37.019523,36.950937,36.96816,36.944519,37.12381,36.954187,39.170632,39.490333,36.005747,35.98231,36.040915,35.12775,35.034751,35.55442,35.281515,35.28372,35.24465,35.240762,35.357903,35.287607,35.097802,35.209752,35.286606,35.278181,35.19584,35.213757,35.583495,36.24819,36.429242,36.10545,35.80374,35.941747,35.976515,35.663341,35.53979,35.757137,36.059455,36.043562,35.970885,36.0778,36.07709,36.056115,36.445937,36.222175,36.0493,35.835042,36.43616,36.056953,36.106238,35.685157,36.42916,36.089003,36.30982,35.666477,36.335287,36.115698,36.09119,36.118801,36.146932,35.97987,35.93364,36.07092,35.884748,36.121352,36.44372,36.22768,36.062917,36.05984,36.113282,36.107779,35.918638,36.468512,36.32354,36.260755,35.690543,36.181935,36.144065,36.137294,36.06865,36.084395,36.181352,35.728377,36.257078,35.727985,36.233813,35.963515,36.123473,36.06753,36.038132,36.58511,36.230875,35.992362,35.941555,35.847449,36.07363,36.537915,36.420018,36.36745,36.348852,36.363397,36.560617,36.363468,36.264475,36.63192,36.49447,36.508103,36.56059,36.349775,36.27631,36.278052,36.593414,36.440727,36.501925,36.45297,36.693767,36.537728,36.401409,36.31477,36.34579,36.375253,36.235832,36.359423,36.359182,34.64072,34.378912,34.757357,34.71346,34.62266,34.78912,34.498678,34.709282,34.462895,34.755595,34.81776,35.306847,35.427835,35.46705,35.335517,35.115903,35.178695,35.262572,35.150998,35.354863,34.925288,35.232975,35.297112,35.283743,35.284955,35.275367,35.275807,35.291987,35.294693,35.260348,35.310593,35.263045,35.311928,35.263038,35.243863,35.281372,34.7759,35.51971,35.45294,35.23625,35.2564,35.23261,35.27891,35.286735,35.238645,35.317047,34.998348,35.27318,35.29102,35.275611,35.79558,35.79844,35.50354,35.558538,35.490807,35.554262,35.65742,35.484587,35.781665,36.33661,35.459642,35.564817,35.383403,35.120522,35.119398,34.988952,35.17815,35.271878,35.069,34.977021,35.033162,34.901605,35.174517,35.092647,35.00441,35.340355,35.303957,35.689197,35.4711,35.57217,35.603145,35.010707,35.256965,35.513465,35.23815,35.401602,34.926208,34.856041,35.220362,35.246518,34.836798,35.009508,35.221962,35.033207,35.1422,34.97405,34.79872,35.006573,34.980203,35.030535,35.110873,35.02914,35.000752,35.121367,35.10785,34.861667,35.598365,35.727022,35.072273,35.337348,35.216787,35.345378,35.360362,35.206025,35.189473,35.123163,35.331312,35.113783,35.23447,35.29942,35.06756,35.193307,35.379879,34.687503,34.765136,34.695408,34.832845,34.45581,34.502092,34.651753,34.535259,34.2784,34.351948,34.899723,34.608621,34.598585,34.687602,34.585333,34.458701,34.753917,34.943823,34.773703,35.013355,34.75496,34.839387,34.796084,34.6616,34.66153,34.64537,34.56543,34.600436,34.09957,34.156437,34.452907,34.512686,34.47791,34.874598,34.993517,34.904359,35.0206,35.02662,34.916853,34.919827,34.730856,34.82688,34.690633,34.61361,34.76956,34.373358,34.94051,34.90146,34.39913,34.155863,34.216385,34.522028,34.77298,34.78314,34.767444,34.840739,34.355095,34.95477,34.85513,34.477828,34.345838,34.46759,34.816352,34.507965,34.864577,34.925408,34.79885,34.856982,34.71309,34.871059,34.734497,34.108447,34.650241,35.030313,34.926877,34.971214,34.208323,34.962258,34.998517,34.851875,34.7807,34.478349,34.97064,34.94526,34.707053,34.455431,34.55834,34.478058,34.554803,34.4802,34.97873,35.028429,34.644855,34.647172,34.594867,34.754131,34.771066,35.41252,35.403946,35.248022,35.650318,35.857938,35.23467,34.809112,34.970918,35.88447,35.265373,35.466067,35.75612,36.082235,35.859965,36.137473,35.039812,35.39861,35.024375,35.040222,35.624777,35.110452,34.55149,34.560377,34.561195,34.568792,34.37259,34.551052,34.623103,34.877818,34.61842,34.674727,34.592263,34.364703,34.276972,34.214153,34.521077,34.409512,34.64167,34.45403,34.145897,34.6516,34.422288,34.552577,34.274175,34.396185,34.525618,34.111933,34.264247,34.103635,34.2016,34.258683,34.164779,33.977251,34.153402,34.109923,34.200583,34.102268,34.052929,34.041033,34.106233,34.535775,34.857473,34.613824,34.77129,34.659698,34.833424,34.687193,34.632514,34.7216,34.899468,34.956953,34.676187,34.813992,34.85664,34.596456,34.910962,34.899637,34.751574,34.822972,35.146632,35.457963,34.76587,34.75003,34.450622,34.635,34.8097,34.674972,34.73708,34.528987,34.7784,34.77924,34.627122,34.583808,34.773395,34.828147,34.86021,34.708532,35.173002,34.971222,34.829098,34.952897,34.739607,34.754257,34.6839,34.773802,34.771353,34.797818,34.596703,34.764182,34.748038,34.768368,34.85841,34.281925,35.304028,34.487952,35.34068,34.920938,34.793518,34.756027,34.777523,34.775075,34.59255,34.700816,34.786757,34.804927,34.749827,34.79813,34.777718,35.074343,34.79187,34.80098,34.753787,34.751835,34.881952,34.788052,34.441889,34.556893,34.599699,34.5744,34.513352,34.573772,34.445808,34.488925,34.528158,34.3393,34.505345,34.6629,34.498422,34.456517,34.419637,34.254262,34.158168,34.365482,34.2647,34.511001,34.298928,34.190028,34.390537,34.366425,34.294094,34.206417,34.374457,34.338207,34.170413,34.327912,34.224726,34.049649,34.300227,34.53494,34.527625,34.275641,34.178835,36.576885,36.552272,36.736842,36.742183,36.726068,36.891693,36.87764,36.778045,36.83043,36.77054,36.780412,36.749145,36.996683,36.735247,36.80418,36.828897,36.894578,36.932747,36.849818,36.929813,36.78822,36.72347,36.908958,36.888985,36.842294,36.60471,36.670352,36.673765,36.750087,36.76925,36.987369,36.91593,36.8013,36.800722,36.791045,36.909182,36.886022,36.862642,36.758607,36.942705,36.743265,36.887117,36.814427,36.86698,36.863585,36.69089,36.679292,36.90953,36.873962,36.794858,36.774182,36.70711,36.69366,36.74917,36.939982,36.87726,36.695935,36.76028,36.730178,36.763895,36.727645,36.666103,36.71263,36.695577,36.763092,36.802021,36.786638,36.871873,36.907853,36.966472,36.899648,36.861683,36.943956,36.84925,36.91025,36.732453,36.920066,36.762415,36.787193,36.839798,36.816827,36.753517,36.7916,36.89167,36.770618,36.805583,36.75736,36.787263,36.867263,36.792977,36.78455,36.818225,36.84238,36.817852,36.882075,36.796202,36.72081,36.973677,36.762977,36.859462,36.80788,36.8409,36.871895,36.8891,36.755998,36.876925,36.924832,36.901652,36.824552,36.817532,36.866607,36.83836,36.750318,36.926253,36.9212,36.908965,36.655238,36.915752,36.743097,36.881852,36.857823,36.94092,36.96888,36.977367,36.950558,36.995073,36.757817,36.652032,36.773445,36.745348,36.7486,36.719182,36.650367,36.83446,36.869425,36.728583,36.788998,36.711037,36.712,36.95335,36.645848,36.6817,36.6746,36.91636,36.898222,36.911395,36.878538,36.809238,36.856886,36.765112,36.79141,36.734255,36.750458,36.915323,36.922005,36.786828,37.010403,36.95067,36.905235,36.80213,36.8705,36.896783,36.869705,36.80913,36.87025,36.86136,36.6788,36.945328,36.731533,36.83285,36.92152,36.737903,36.672198,36.6409,36.694475,36.650535,36.91373,36.937015,36.787725,36.75103,36.755948,36.82749,36.7166,36.850844,36.87122,36.864592,36.891317,36.822219,36.825538,36.83822,36.82632,36.822021,36.82141,36.804225,36.87729,36.837112,36.8271,36.848263,36.809967,36.85149,36.84745,36.894293,36.80949,36.882807,36.89342,36.78959,36.825593,36.92251,36.816255,36.819064,36.7775,36.82761,36.88947,36.792303,36.811301,36.86119,36.835248,36.81318,36.820998,36.809,36.818069,36.82871,36.880388,36.853135,36.880289,36.817776,36.8183,36.823335,36.83012,36.820101,36.8209,36.824848,36.830868,36.804147,36.776078,36.8183,36.888365,36.885147,36.84917,36.90108,36.920118,36.825087,36.905867,36.9,36.82362,36.817418,36.9012,36.805881,36.897409,36.832887,36.874918,36.827512,36.917455,36.892628,36.784058,36.886397,36.90708,36.838342,36.9172,36.899232,36.844,36.834183,36.827284,36.78483,36.84855,36.894702,36.908977,36.811748,36.832,36.890755,36.812992,36.8178,36.80072,36.77338,36.954282,36.845208,36.817657,36.8558,36.755913,36.747147,36.8807,36.8816,36.843332,36.80176,36.80229,36.87904,36.823869,36.743587,34.65246,34.792869,36.813516,36.78615,36.953156,36.870923,36.92742,37.073807,37.120158,35.039257,36.9209,37.705882,36.994922,36.89212,36.898382,37.110417,37.992987,34.756595,35.302438,36.944118,37.878735,36.777082,36.473352,35.242642,36.917552,36.892848,36.882115,36.084179,34.555433,36.927735,36.931897,37.024912,36.067638,36.727637,36.795157,36.904268,36.879118,36.050985,36.77015,34.557353,35.298727,37.017817,36.054997,36.998673,36.875213,34.75919,37.05638,35.72569,36.779628,36.780615,34.503087,37.078437,36.761892,36.954495,37.173607,36.601658,36.007518,34.771772,36.054805,36.811728,34.767733,34.751495,36.892805,36.850093,36.895023,36.915547,36.069012,36.894487,36.97013,37.001152,37.124552,36.956858,36.820738,37.095833,37.076013,36.89968,36.100967,34.765465,36.877708,36.902835,34.784178,36.831895,36.815695,36.825298,36.862493,37.143348,36.438175,36.370737,36.5555,37.101894,35.428692,35.40887,36.379688,35.17586,34.73187,34.33062,35.155482,35.06452,37.295513,35.337648,34.444508,34.27722,37.065767,37.20866,36.908882,34.964668,36.160237,34.222923,37.073335,35.83072,34.814397,36.96474,36.598767,34.540324,34.621526,36.791143,37.067779,34.797245,34.664197,37.223645,34.240807,36.490385,37.646747,36.93165,34.338847,35.904505,35.234223,36.898123,36.843212,34.759387,35.38328,35.337988,37.02506,35.021832,35.664693,36.498163,35.122448,34.407296,35.14409,35.25023,36.08166,37.362833,34.604358,38.51825,35.77708,37.28548,35.23684,36.934517,37.305638,35.441865,36.90502,37.466587,36.859137,37.144128,34.810982,34.68246,34.267547,35.520657,37.37175,37.8565,36.91484,37.63228,36.71486,39.35007,36.769745,37.09205,37.010307,37.369387,37.214091,38.121562,36.776103,36.84008,36.785718,36.88592,37.699607,37.538858,35.732291,36.560906,35.673885,36.418701,34.85602,34.828057,34.915662,34.53085,36.3189,37.177352,37.263094,37.570888,35.469127,34.929705,35.09049,36.313355,36.829425,34.456254,34.318501,34.934592,37.779158,35.76723,35.633315,36.248042,35.610051,35.194643,35.24234,34.523007,35.331412,34.60875,35.277,35.088522,36.46953,34.103713,34.105474,35.699519,35.310958,35.417498,35.491245,36.48784,35.19498,35.497835,35.288428,36.537033,37.731107,37.776569,36.267753,34.79147,34.39213,34.965147,37.77897,37.520836,35.89459,35.298235,35.621772,35.317922,36.21916,35.59073,36.111188,36.13306,35.019075,36.54883,36.472028,35.899295,34.558268,38.640741,37.497044,35.13814,35.41108,37.419702,37.068033,34.831869,34.740365,37.44567,34.503502,37.04351,34.53996,34.481313,37.147104,34.478352,34.757268,34.622578,34.83745,34.445512,34.83026,34.837487,34.789692,34.754632,34.318865,34.45658,34.731278,35.133048,34.983528,37.1911,37.495358,37.597036,37.16032,37.267503,37.39466,37.213092,37.366846,37.472602,37.29186,37.096478,37.40282,37.30089,37.37919,36.687107,36.81163,37.270443,37.23146,37.253173,37.028468,37.038724,36.993312,36.88113,37.148398,35.267957,34.997767,35.133965,35.16328,35.381604,34.949115,35.691023,36.62091,35.76381,36.331757,35.67504,35.297998,36.484453,35.176723,36.149378,35.268087,37.060528,34.991178,35.26068,34.93483,35.6587,36.035553,35.395032,35.381545,35.140902,35.16549,34.090915,34.388574,34.347557,34.237032,34.405766,34.128833,34.071893,34.46449,34.111037,34.436733,34.805502,34.398378,34.173228,34.94028,37.40479,36.615825,36.26135,37.716555,37.55804,37.94658,37.592068,36.34169,36.60383,35.50958,37.324167,37.244846,37.371522,38.20313,36.58704,36.718723,38.644315,36.715188,36.824218,35.134935,35.14905,34.83653,35.22436,35.106873,35.133,35.473848,35.53773,35.22635,35.28106,35.809594,35.059092,35.614127,35.90229,35.07454,35.59787,35.8527,35.0412,35.28316,35.090648,36.79156,35.299223,35.699716,35.483333,35.687813,35.04527,34.43623,34.381793,37.182131,37.17965,37.25854,37.33788,36.363636,37.16027,37.19014,37.633677,37.382294,37.309765,37.505138,37.530083,37.600523,37.464288,37.724889,37.7132,37.574185,36.938434,37.45917,34.78533,38.095271,36.815907,36.881507,39.648074,39.551981,36.944738,36.918338,36.894055,36.87892,36.74622,36.911807,36.757177,37.7559,39.712738,35.51639,35.222935,35.692498,35.55791,35.55723,35.06536,35.77422,35.97617,37.80719,37.16633,37.668372,37.89705,34.209532,34.2829,36.50874,37.18719,34.919727,37.335473,37.020757,36.978914,38.703332,34.788485,37.06678,36.95729,36.838298,37.01526,37.07536,37.6287,38.200677,37.85536,36.631,35.22622,36.78653,35.58808,38.17029,35.487858,34.827645,36.024415,35.45633,34.87782,36.122399,34.98963,36.348743,36.71305,36.789857,39.661882,39.652564,40.109755,39.661243,39.690634,40.12227,39.699488,39.65864,39.74472,39.673795,39.861112,39.996386,39.36756,39.252885,39.31133,39.627483,39.433078,39.30852,40.151016,39.777377,39.604665,39.794453,39.197321,39.5822,39.90905,39.05936,39.71032,39.195248,40.12725,39.428938,40.13571,39.712117,39.788849,39.108353,38.802437,37.803109,37.851045,35.06258,35.05055,37.1354,35.09655,39.74588,36.807038,39.67018,39.627378,35.394888,35.392822,35.197137,36.909112,36.88486,39.703067,39.70616,36.902965,39.26712,36.902315,36.897267,36.97177,36.89729,36.847338,36.791378,36.900177,36.894815,36.898567,36.893487,36.90169,39.595667,35.77929,36.827255,35.501182,36.388,37.746921,34.302937,39.66908,36.8062,36.828375,36.7746,36.84404,36.83609,39.54616,37.96203,37.561609,36.905118,36.978136,39.67136,36.753233,37.658445,36.429732,35.014355,35.824417,35.83592,35.957727,34.016294,34.09574,34.959993,39.686503,36.799858,35.453,39.783102,36.795635,36.3233,37.43304,35.792654,36.04457,36.729403,37.279325,37.2662,34.070299,39.286289,36.30165,37.776734,36.182836,37.813991,39.682052,39.7034,37.57242,40.211262,36.84488,36.883182,37.979872,37.67281,34.740307,34.772781,34.929615,36.823813,36.579031,35.22759,36.10657,36.051263,39.975523,40.364525,35.051873,35.32249,35.738445,35.015462,35.59725,37.355025,37.92616,37.95146,37.52123,38.208637,36.628422,36.7132,37.029453,36.718887,36.889547,36.897532,36.90214,36.98356,36.710968,36.825195,39.046306,41.8167,40.322137,40.371213,40.323264,40.570125,39.381302,40.037208,37.639448,37.04397,36.881645,35.58501,36.14602,36.222874,36.157923,36.13131,35.93631,36.647722,36.495007,36.002327,36.895014,35.259303,39.847297,39.605923,36.836323,36.873465,36.625415,41.836048,39.062795,36.558397,39.069799,41.4768,36.67334,36.66311,36.661882,35.6303,37.36507,38.14149,39.754955,39.681632,36.248158,37.599919,36.63644,36.438675,39.651425,40.11471,40.371697,40.379638,39.662052,39.735512,37.537597,36.77637,39.71289,39.836478,39.76683,34.97646,34.760679,34.76319,34.772198,38.0244,37.924473,38.05701,37.9342,38.28306,38.19555,37.896456,38.06194,39.635668,39.534978,41.111092,40.52686,37.700882,37.254052,38.192148,37.72259,37.779016,37.35116,34.486927,34.13315,34.652326,34.60061,36.1314,35.730105,34.777837,36.239023,35.523665,36.171397,35.840503,35.583445,35.364973,35.438077,38.365835,38.57941,37.73308,40.106707,39.55827,39.710018,36.61241,35.7446,36.07459,36.461132,39.720268,39.686412,34.787727,36.99488,34.897486,34.438661,39.857976,40.650965,38.49641,39.570602,38.031052,37.73347,37.400562,37.60058,37.62177,34.47589,39.563241,35.944925,36.29647,40.984687,35.10078,37.56649,37.922283,37.67949,40.899663,37.47003,40.850988,35.82798,38.04819,34.220475,37.99476,34.45424,38.035759,38.32045,36.107662,35.852867,35.688018,35.549347,39.55842,39.73325,40.5251,34.263067,34.332324,38.954821,39.66554,40.3103,40.286842,40.2835,36.805705,38.089824,37.91413,37.904743,37.873852,38.102718,36.848528,37.75481,37.44301,37.36087,37.30509,39.382343,38.907555,34.656935,34.625148,35.004513,34.872335,34.481596,36.830607,36.87906,36.974231,36.845188,36.828892,36.89666,36.86226,40.95182,35.77728,39.635135,39.6421,40.641379,37.621985,38.012973,38.00991,37.996628,38.19,38.054112,37.24527,37.414663,39.94259,40.914902,41.21131,38.35477,39.634746,39.856145,38.574906,39.609767,38.428908,34.755123,34.58605,35.017495,34.53075,35.66588,34.2122,35.112552,35.388282,35.392815,36.340003,37.9493,35.43179,35.374228,36.032415,35.1413,34.95173,35.575137,35.512785,35.613507,35.766842,34.60835,34.798847,35.14436,34.749698,34.589805,35.005562,34.95554,34.00197,34.26354,37.884523,39.29922,36.924827,34.791868,37.91444,34.57069,36.708121,37.262,37.094127,36.948398,37.257863,34.801987,37.651433,37.652878,36.959372,36.9453,36.9959,37.032908,36.714473,36.997169,36.914082,36.924162,34.842283,34.615,37.351268,37.125067,36.786958,37.917218,35.613318,37.135393,35.383875,36.764317,35.12368,35.648382,35.1514,37.60472,37.732908,36.932499,34.536795,34.754632,34.954135,34.74916,34.33246,35.408572,35.9287,35.802415,35.93774,35.750732,35.27172,34.558207,36.63629,36.642523,37.12108,36.986801,36.116114,36.161714,34.53646,34.762513,34.500291,36.697943,37.12727,37.208186,36.876248,36.587445,35.073188,36.310808,35.30966,34.631545,34.24579,35.043625,35.839022,35.3418,35.315938,35.02082,36.630036,35.0452,36.02818,35.830105,37.619609,34.398117,34.323138,34.44798,34.76012,34.290337,36.93574,36.688392,36.76441,36.474308,35.943075,37.879274,37.17223,38.51413,36.542149,36.722175,34.082588,35.069383,37.014465,36.70284,36.750628,36.84816,36.774388,36.99075,37.594405,36.96774,39.64579,36.63134,36.9549,36.203209,35.260642,36.791613,37.810002,34.04575,36.663935,37.2846,36.650603,37.176923,34.77543,36.746357,36.097118,34.46486,39.442285,37.264855,34.75304,37.09189,39.677586,37.03562,37.776734,37.95008,37.89029,37.85814,37.036638,36.770228,37.01748,37.106532,36.9549,37.113548,36.83954,36.98733,37.02994,36.88685,36.904295,36.91177,36.970318,34.78883,35.97169,34.78335,36.808752,34.56237,36.63395,34.754912,37.06674,39.85611,34.474079,34.62583,34.28721,35.89959,35.14828,36.054486,39.85065,39.654154,36.765307,36.931306,36.846872,36.896246,36.907078,36.942733,34.734486,36.922385,35.43209,35.453235,34.81223,39.70864,39.48676,37.079318,37.573589,36.92091,34.981987,37.512411,34.760333,36.857638,36.204086,36.73792,35.138255,35.331979,34.75311,36.62055,35.16791,37.94095,40.09872,36.847818,39.63647],\"marker\":{\"color\":\"#636efa\"},\"mode\":\"markers\",\"name\":\"\",\"showlegend\":false,\"subplot\":\"mapbox\",\"type\":\"scattermapbox\"}],                        {\"template\":{\"data\":{\"histogram2dcontour\":[{\"type\":\"histogram2dcontour\",\"colorbar\":{\"outlinewidth\":0,\"ticks\":\"\"},\"colorscale\":[[0.0,\"#0d0887\"],[0.1111111111111111,\"#46039f\"],[0.2222222222222222,\"#7201a8\"],[0.3333333333333333,\"#9c179e\"],[0.4444444444444444,\"#bd3786\"],[0.5555555555555556,\"#d8576b\"],[0.6666666666666666,\"#ed7953\"],[0.7777777777777778,\"#fb9f3a\"],[0.8888888888888888,\"#fdca26\"],[1.0,\"#f0f921\"]]}],\"choropleth\":[{\"type\":\"choropleth\",\"colorbar\":{\"outlinewidth\":0,\"ticks\":\"\"}}],\"histogram2d\":[{\"type\":\"histogram2d\",\"colorbar\":{\"outlinewidth\":0,\"ticks\":\"\"},\"colorscale\":[[0.0,\"#0d0887\"],[0.1111111111111111,\"#46039f\"],[0.2222222222222222,\"#7201a8\"],[0.3333333333333333,\"#9c179e\"],[0.4444444444444444,\"#bd3786\"],[0.5555555555555556,\"#d8576b\"],[0.6666666666666666,\"#ed7953\"],[0.7777777777777778,\"#fb9f3a\"],[0.8888888888888888,\"#fdca26\"],[1.0,\"#f0f921\"]]}],\"heatmap\":[{\"type\":\"heatmap\",\"colorbar\":{\"outlinewidth\":0,\"ticks\":\"\"},\"colorscale\":[[0.0,\"#0d0887\"],[0.1111111111111111,\"#46039f\"],[0.2222222222222222,\"#7201a8\"],[0.3333333333333333,\"#9c179e\"],[0.4444444444444444,\"#bd3786\"],[0.5555555555555556,\"#d8576b\"],[0.6666666666666666,\"#ed7953\"],[0.7777777777777778,\"#fb9f3a\"],[0.8888888888888888,\"#fdca26\"],[1.0,\"#f0f921\"]]}],\"heatmapgl\":[{\"type\":\"heatmapgl\",\"colorbar\":{\"outlinewidth\":0,\"ticks\":\"\"},\"colorscale\":[[0.0,\"#0d0887\"],[0.1111111111111111,\"#46039f\"],[0.2222222222222222,\"#7201a8\"],[0.3333333333333333,\"#9c179e\"],[0.4444444444444444,\"#bd3786\"],[0.5555555555555556,\"#d8576b\"],[0.6666666666666666,\"#ed7953\"],[0.7777777777777778,\"#fb9f3a\"],[0.8888888888888888,\"#fdca26\"],[1.0,\"#f0f921\"]]}],\"contourcarpet\":[{\"type\":\"contourcarpet\",\"colorbar\":{\"outlinewidth\":0,\"ticks\":\"\"}}],\"contour\":[{\"type\":\"contour\",\"colorbar\":{\"outlinewidth\":0,\"ticks\":\"\"},\"colorscale\":[[0.0,\"#0d0887\"],[0.1111111111111111,\"#46039f\"],[0.2222222222222222,\"#7201a8\"],[0.3333333333333333,\"#9c179e\"],[0.4444444444444444,\"#bd3786\"],[0.5555555555555556,\"#d8576b\"],[0.6666666666666666,\"#ed7953\"],[0.7777777777777778,\"#fb9f3a\"],[0.8888888888888888,\"#fdca26\"],[1.0,\"#f0f921\"]]}],\"surface\":[{\"type\":\"surface\",\"colorbar\":{\"outlinewidth\":0,\"ticks\":\"\"},\"colorscale\":[[0.0,\"#0d0887\"],[0.1111111111111111,\"#46039f\"],[0.2222222222222222,\"#7201a8\"],[0.3333333333333333,\"#9c179e\"],[0.4444444444444444,\"#bd3786\"],[0.5555555555555556,\"#d8576b\"],[0.6666666666666666,\"#ed7953\"],[0.7777777777777778,\"#fb9f3a\"],[0.8888888888888888,\"#fdca26\"],[1.0,\"#f0f921\"]]}],\"mesh3d\":[{\"type\":\"mesh3d\",\"colorbar\":{\"outlinewidth\":0,\"ticks\":\"\"}}],\"scatter\":[{\"fillpattern\":{\"fillmode\":\"overlay\",\"size\":10,\"solidity\":0.2},\"type\":\"scatter\"}],\"parcoords\":[{\"type\":\"parcoords\",\"line\":{\"colorbar\":{\"outlinewidth\":0,\"ticks\":\"\"}}}],\"scatterpolargl\":[{\"type\":\"scatterpolargl\",\"marker\":{\"colorbar\":{\"outlinewidth\":0,\"ticks\":\"\"}}}],\"bar\":[{\"error_x\":{\"color\":\"#2a3f5f\"},\"error_y\":{\"color\":\"#2a3f5f\"},\"marker\":{\"line\":{\"color\":\"#E5ECF6\",\"width\":0.5},\"pattern\":{\"fillmode\":\"overlay\",\"size\":10,\"solidity\":0.2}},\"type\":\"bar\"}],\"scattergeo\":[{\"type\":\"scattergeo\",\"marker\":{\"colorbar\":{\"outlinewidth\":0,\"ticks\":\"\"}}}],\"scatterpolar\":[{\"type\":\"scatterpolar\",\"marker\":{\"colorbar\":{\"outlinewidth\":0,\"ticks\":\"\"}}}],\"histogram\":[{\"marker\":{\"pattern\":{\"fillmode\":\"overlay\",\"size\":10,\"solidity\":0.2}},\"type\":\"histogram\"}],\"scattergl\":[{\"type\":\"scattergl\",\"marker\":{\"colorbar\":{\"outlinewidth\":0,\"ticks\":\"\"}}}],\"scatter3d\":[{\"type\":\"scatter3d\",\"line\":{\"colorbar\":{\"outlinewidth\":0,\"ticks\":\"\"}},\"marker\":{\"colorbar\":{\"outlinewidth\":0,\"ticks\":\"\"}}}],\"scattermapbox\":[{\"type\":\"scattermapbox\",\"marker\":{\"colorbar\":{\"outlinewidth\":0,\"ticks\":\"\"}}}],\"scatterternary\":[{\"type\":\"scatterternary\",\"marker\":{\"colorbar\":{\"outlinewidth\":0,\"ticks\":\"\"}}}],\"scattercarpet\":[{\"type\":\"scattercarpet\",\"marker\":{\"colorbar\":{\"outlinewidth\":0,\"ticks\":\"\"}}}],\"carpet\":[{\"aaxis\":{\"endlinecolor\":\"#2a3f5f\",\"gridcolor\":\"white\",\"linecolor\":\"white\",\"minorgridcolor\":\"white\",\"startlinecolor\":\"#2a3f5f\"},\"baxis\":{\"endlinecolor\":\"#2a3f5f\",\"gridcolor\":\"white\",\"linecolor\":\"white\",\"minorgridcolor\":\"white\",\"startlinecolor\":\"#2a3f5f\"},\"type\":\"carpet\"}],\"table\":[{\"cells\":{\"fill\":{\"color\":\"#EBF0F8\"},\"line\":{\"color\":\"white\"}},\"header\":{\"fill\":{\"color\":\"#C8D4E3\"},\"line\":{\"color\":\"white\"}},\"type\":\"table\"}],\"barpolar\":[{\"marker\":{\"line\":{\"color\":\"#E5ECF6\",\"width\":0.5},\"pattern\":{\"fillmode\":\"overlay\",\"size\":10,\"solidity\":0.2}},\"type\":\"barpolar\"}],\"pie\":[{\"automargin\":true,\"type\":\"pie\"}]},\"layout\":{\"autotypenumbers\":\"strict\",\"colorway\":[\"#636efa\",\"#EF553B\",\"#00cc96\",\"#ab63fa\",\"#FFA15A\",\"#19d3f3\",\"#FF6692\",\"#B6E880\",\"#FF97FF\",\"#FECB52\"],\"font\":{\"color\":\"#2a3f5f\"},\"hovermode\":\"closest\",\"hoverlabel\":{\"align\":\"left\"},\"paper_bgcolor\":\"white\",\"plot_bgcolor\":\"#E5ECF6\",\"polar\":{\"bgcolor\":\"#E5ECF6\",\"angularaxis\":{\"gridcolor\":\"white\",\"linecolor\":\"white\",\"ticks\":\"\"},\"radialaxis\":{\"gridcolor\":\"white\",\"linecolor\":\"white\",\"ticks\":\"\"}},\"ternary\":{\"bgcolor\":\"#E5ECF6\",\"aaxis\":{\"gridcolor\":\"white\",\"linecolor\":\"white\",\"ticks\":\"\"},\"baxis\":{\"gridcolor\":\"white\",\"linecolor\":\"white\",\"ticks\":\"\"},\"caxis\":{\"gridcolor\":\"white\",\"linecolor\":\"white\",\"ticks\":\"\"}},\"coloraxis\":{\"colorbar\":{\"outlinewidth\":0,\"ticks\":\"\"}},\"colorscale\":{\"sequential\":[[0.0,\"#0d0887\"],[0.1111111111111111,\"#46039f\"],[0.2222222222222222,\"#7201a8\"],[0.3333333333333333,\"#9c179e\"],[0.4444444444444444,\"#bd3786\"],[0.5555555555555556,\"#d8576b\"],[0.6666666666666666,\"#ed7953\"],[0.7777777777777778,\"#fb9f3a\"],[0.8888888888888888,\"#fdca26\"],[1.0,\"#f0f921\"]],\"sequentialminus\":[[0.0,\"#0d0887\"],[0.1111111111111111,\"#46039f\"],[0.2222222222222222,\"#7201a8\"],[0.3333333333333333,\"#9c179e\"],[0.4444444444444444,\"#bd3786\"],[0.5555555555555556,\"#d8576b\"],[0.6666666666666666,\"#ed7953\"],[0.7777777777777778,\"#fb9f3a\"],[0.8888888888888888,\"#fdca26\"],[1.0,\"#f0f921\"]],\"diverging\":[[0,\"#8e0152\"],[0.1,\"#c51b7d\"],[0.2,\"#de77ae\"],[0.3,\"#f1b6da\"],[0.4,\"#fde0ef\"],[0.5,\"#f7f7f7\"],[0.6,\"#e6f5d0\"],[0.7,\"#b8e186\"],[0.8,\"#7fbc41\"],[0.9,\"#4d9221\"],[1,\"#276419\"]]},\"xaxis\":{\"gridcolor\":\"white\",\"linecolor\":\"white\",\"ticks\":\"\",\"title\":{\"standoff\":15},\"zerolinecolor\":\"white\",\"automargin\":true,\"zerolinewidth\":2},\"yaxis\":{\"gridcolor\":\"white\",\"linecolor\":\"white\",\"ticks\":\"\",\"title\":{\"standoff\":15},\"zerolinecolor\":\"white\",\"automargin\":true,\"zerolinewidth\":2},\"scene\":{\"xaxis\":{\"backgroundcolor\":\"#E5ECF6\",\"gridcolor\":\"white\",\"linecolor\":\"white\",\"showbackground\":true,\"ticks\":\"\",\"zerolinecolor\":\"white\",\"gridwidth\":2},\"yaxis\":{\"backgroundcolor\":\"#E5ECF6\",\"gridcolor\":\"white\",\"linecolor\":\"white\",\"showbackground\":true,\"ticks\":\"\",\"zerolinecolor\":\"white\",\"gridwidth\":2},\"zaxis\":{\"backgroundcolor\":\"#E5ECF6\",\"gridcolor\":\"white\",\"linecolor\":\"white\",\"showbackground\":true,\"ticks\":\"\",\"zerolinecolor\":\"white\",\"gridwidth\":2}},\"shapedefaults\":{\"line\":{\"color\":\"#2a3f5f\"}},\"annotationdefaults\":{\"arrowcolor\":\"#2a3f5f\",\"arrowhead\":0,\"arrowwidth\":1},\"geo\":{\"bgcolor\":\"white\",\"landcolor\":\"#E5ECF6\",\"subunitcolor\":\"white\",\"showland\":true,\"showlakes\":true,\"lakecolor\":\"white\"},\"title\":{\"x\":0.05},\"mapbox\":{\"style\":\"light\"}}},\"mapbox\":{\"domain\":{\"x\":[0.0,1.0],\"y\":[0.0,1.0]},\"center\":{\"lat\":-0.8260595501797974,\"lon\":36.671848316770195},\"zoom\":8,\"style\":\"open-street-map\"},\"legend\":{\"tracegroupgap\":0},\"margin\":{\"t\":60}},                        {\"responsive\": true}                    ).then(function(){\n",
       "                            \n",
       "var gd = document.getElementById('6835ace6-894e-4726-b551-8169fe2d2547');\n",
       "var x = new MutationObserver(function (mutations, observer) {{\n",
       "        var display = window.getComputedStyle(gd).display;\n",
       "        if (!display || display === 'none') {{\n",
       "            console.log([gd, 'removed!']);\n",
       "            Plotly.purge(gd);\n",
       "            observer.disconnect();\n",
       "        }}\n",
       "}});\n",
       "\n",
       "// Listen for the removal of the full notebook cells\n",
       "var notebookContainer = gd.closest('#notebook-container');\n",
       "if (notebookContainer) {{\n",
       "    x.observe(notebookContainer, {childList: true});\n",
       "}}\n",
       "\n",
       "// Listen for the clearing of the current output cell\n",
       "var outputEl = gd.closest('.output');\n",
       "if (outputEl) {{\n",
       "    x.observe(outputEl, {childList: true});\n",
       "}}\n",
       "\n",
       "                        })                };                });            </script>        </div>"
      ]
     },
     "metadata": {},
     "output_type": "display_data"
    }
   ],
   "source": [
    "import plotly.express as px\n",
    "import geopandas as gpd\n",
    "import plotly.express as px\n",
    "import geopandas as gpd\n",
    "\n",
    "# geo_df = gpd.read_file(gpd.datasets.get_path('naturalearth_cities'))\n",
    "\n",
    "file_path = 'C:/Users/Betty.Ogato/OneDrive - American Tower/Betsy/Betty Ogato Files/Betsy Personal Work/Data Science Course/My_Final_Project.csv'\n",
    "df = pd.read_csv(file_path)\n",
    "df\n",
    "fig = px.scatter_mapbox(df, lat='Latitude', \n",
    "                        lon='Longitude', \n",
    "                        hover_data=['Site Name'],\n",
    "                        mapbox_style=\"open-street-map\")\n",
    "fig.show()\n"
   ]
  },
  {
   "cell_type": "markdown",
   "id": "a1dca636",
   "metadata": {},
   "source": [
    "## 6. Conclusion\n",
    "We can clearly see that telecommunication towers are concentrated in areas with high population density to create network for those persons.\n",
    "Hence, the more the population, the more the telecommunication tower and the higher the rent that is paid to the Landlord whose property the Telecommunication Tower is located."
   ]
  },
  {
   "cell_type": "markdown",
   "id": "f8d053b0",
   "metadata": {},
   "source": [
    "## 7. References\n",
    "\n",
    "https://geoportal.rcmrd.org/layers/servir%3Akenya_county_boundary\n",
    "\n",
    "https://datacatalog.worldbank.org/search/dataset/0063327/Kenya-Population-2019---Table-Extract"
   ]
  },
  {
   "cell_type": "code",
   "execution_count": null,
   "id": "58db0dc6",
   "metadata": {},
   "outputs": [],
   "source": []
  },
  {
   "cell_type": "code",
   "execution_count": null,
   "id": "59b124a4",
   "metadata": {},
   "outputs": [],
   "source": []
  }
 ],
 "metadata": {
  "kernelspec": {
   "display_name": "Python 3 (ipykernel)",
   "language": "python",
   "name": "python3"
  },
  "language_info": {
   "codemirror_mode": {
    "name": "ipython",
    "version": 3
   },
   "file_extension": ".py",
   "mimetype": "text/x-python",
   "name": "python",
   "nbconvert_exporter": "python",
   "pygments_lexer": "ipython3",
   "version": "3.10.9"
  }
 },
 "nbformat": 4,
 "nbformat_minor": 5
}
